{
  "cells": [
    {
      "cell_type": "markdown",
      "metadata": {
        "id": "CWKnLg859sQ_"
      },
      "source": [
        "**Tema: Valor de vida de los clientes de un negocio de ventas online**\n"
      ]
    },
    {
      "cell_type": "markdown",
      "metadata": {
        "id": "y_1uJ6ufxvLP"
      },
      "source": [
        "**Autor: Francisco Moyano Escalera**"
      ]
    },
    {
      "cell_type": "markdown",
      "metadata": {
        "id": "vNX2Mv60ev-1"
      },
      "source": [
        "![clv graphic.jpeg](data:image/jpeg;base64,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)"
      ]
    },
    {
      "cell_type": "markdown",
      "metadata": {
        "id": "Z0pwbqYtx0Ql"
      },
      "source": [
        "**1) Introducción**"
      ]
    },
    {
      "cell_type": "markdown",
      "metadata": {
        "id": "FRkrZSVH3Gj4"
      },
      "source": [
        "El valor de la vida del cliente o Customer Lifetime Value (CLV) es una métrica que indica los ingresos totales que una empresa puede esperar obtener de la cuenta de un cliente, dicho con otras palabras, representa el total de dinero que se espera que un cliente gaste en el negocio, a lo largo de su vida. El valor de cada cliente se calcula teniendo en cuenta el número de compras efectuadas, su valor o la media del mismo y tomando como referencia un periodo de tiempo.\n",
        "Esto es importante porque ayuda a tomar decisiones sobre cuánto invertir en la adquisición de nuevo clientes y en la retención de los existentes (los de mayor valor).\n"
      ]
    },
    {
      "cell_type": "markdown",
      "metadata": {
        "id": "IVEfTNVzx78Z"
      },
      "source": [
        "**2) Objetivo**"
      ]
    },
    {
      "cell_type": "markdown",
      "metadata": {
        "id": "FQ6wML5yaOhZ"
      },
      "source": [
        "Desarrollar modelos de machine learning para clasificar a los clientes en base a su a su valor de vida para la empresa."
      ]
    },
    {
      "cell_type": "markdown",
      "metadata": {
        "id": "SKds_R5-x-oj"
      },
      "source": [
        "**3) Fuente de datos**"
      ]
    },
    {
      "cell_type": "markdown",
      "metadata": {
        "id": "7kbA-xOaC4sU"
      },
      "source": [
        "La base de datos utilizada en el presente proyecto cuenta con las siguientes columnas/características:\n",
        "\n",
        "* N_Factura: número correspondiente a la factura de venta.\n",
        "* N_Stock: número de stock de los producto vendido.\n",
        "* Descripcion: descripción/nombre del producto vendido.\n",
        "* Cantidad: cantidad vendida del producto.\n",
        "* F_Factura: fecha de la factura.\n",
        "* Precio: precio unitario de los prudctos.\n",
        "* ID_Cliente: número identificatorio de cada cliente.\n",
        "* Pais: país de procedencia de los clientes."
      ]
    },
    {
      "cell_type": "markdown",
      "metadata": {
        "id": "7jSCu300yFtb"
      },
      "source": [
        "**4) Solución planteada**"
      ]
    },
    {
      "cell_type": "markdown",
      "source": [
        "Para el desarrollo de este proyecto se llevarán a cabo, en términos generales, los siguientes pasos:\n",
        "\n",
        "1) Se asignará a un segmento de valor (valor alto, medio y bajo) a cada cliente en base a sus puntajes de recencia, frecuencia e ingresos generados a la empresa, mediante el algoritmo de aprendizaje no supervisado K-medias, utilizando los datos de la base de datos con los clientes del Reino Unido en sus primeros 3 meses de actividad.\n",
        "\n",
        "2) Se clasificará a cada cliente de acuerdo a su valor de vida para la empresa (alto, medio, bajo), utilizando los datos de la base de datos con los 6 meses restantes de actividad, lo cual servirá como variable objetivo para el desarollo de los modelos.\n",
        "\n",
        "3) Se llevarán a cabo una serie de modelos de aprendizaje supervisado, utilizando algoritmos de clasificación, con el fin de predecir la clasificación del CLV de los clientes."
      ],
      "metadata": {
        "id": "RU-gFriK74HR"
      }
    },
    {
      "cell_type": "markdown",
      "metadata": {
        "id": "_-1lzZWvyItL"
      },
      "source": [
        "**5) Adquisición de datos**"
      ]
    },
    {
      "cell_type": "code",
      "execution_count": 1,
      "metadata": {
        "colab": {
          "base_uri": "https://localhost:8080/"
        },
        "id": "LbwKY-50flVZ",
        "outputId": "9606643a-d050-43e2-c52f-eb3ae4cc46f2"
      },
      "outputs": [
        {
          "output_type": "stream",
          "name": "stdout",
          "text": [
            "Mounted at /content/drive\n"
          ]
        }
      ],
      "source": [
        "# Se realiza la conexión con Google Drive, en donde se encuentra almacenada la base de datos:\n",
        "from google.colab import drive\n",
        "drive.mount(\"/content/drive\")"
      ]
    },
    {
      "cell_type": "code",
      "execution_count": 2,
      "metadata": {
        "colab": {
          "base_uri": "https://localhost:8080/"
        },
        "id": "YY35YUlk2xQY",
        "outputId": "31b5a893-024e-4d71-f9fd-1ab440458e96"
      },
      "outputs": [
        {
          "output_type": "stream",
          "name": "stdout",
          "text": [
            "Looking in indexes: https://pypi.org/simple, https://us-python.pkg.dev/colab-wheels/public/simple/\n",
            "Collecting chart_studio\n",
            "  Downloading chart_studio-1.1.0-py3-none-any.whl (64 kB)\n",
            "\u001b[?25l\r\u001b[K     |█████                           | 10 kB 20.1 MB/s eta 0:00:01\r\u001b[K     |██████████▏                     | 20 kB 6.3 MB/s eta 0:00:01\r\u001b[K     |███████████████▎                | 30 kB 8.9 MB/s eta 0:00:01\r\u001b[K     |████████████████████▍           | 40 kB 4.0 MB/s eta 0:00:01\r\u001b[K     |█████████████████████████▍      | 51 kB 4.1 MB/s eta 0:00:01\r\u001b[K     |██████████████████████████████▌ | 61 kB 4.8 MB/s eta 0:00:01\r\u001b[K     |████████████████████████████████| 64 kB 1.7 MB/s \n",
            "\u001b[?25hRequirement already satisfied: requests in /usr/local/lib/python3.8/dist-packages (from chart_studio) (2.23.0)\n",
            "Requirement already satisfied: plotly in /usr/local/lib/python3.8/dist-packages (from chart_studio) (5.5.0)\n",
            "Requirement already satisfied: six in /usr/local/lib/python3.8/dist-packages (from chart_studio) (1.15.0)\n",
            "Collecting retrying>=1.3.3\n",
            "  Downloading retrying-1.3.4-py3-none-any.whl (11 kB)\n",
            "Requirement already satisfied: tenacity>=6.2.0 in /usr/local/lib/python3.8/dist-packages (from plotly->chart_studio) (8.1.0)\n",
            "Requirement already satisfied: idna<3,>=2.5 in /usr/local/lib/python3.8/dist-packages (from requests->chart_studio) (2.10)\n",
            "Requirement already satisfied: urllib3!=1.25.0,!=1.25.1,<1.26,>=1.21.1 in /usr/local/lib/python3.8/dist-packages (from requests->chart_studio) (1.24.3)\n",
            "Requirement already satisfied: chardet<4,>=3.0.2 in /usr/local/lib/python3.8/dist-packages (from requests->chart_studio) (3.0.4)\n",
            "Requirement already satisfied: certifi>=2017.4.17 in /usr/local/lib/python3.8/dist-packages (from requests->chart_studio) (2022.12.7)\n",
            "Installing collected packages: retrying, chart-studio\n",
            "Successfully installed chart-studio-1.1.0 retrying-1.3.4\n"
          ]
        }
      ],
      "source": [
        "# Se importan las librerías a utilizar:\n",
        "# ============================================================================================================================================\n",
        "! pip install chart_studio\n",
        "import warnings\n",
        "warnings.filterwarnings(\"ignore\")\n",
        "# ============================================================================================================================================\n",
        "# Tratamiento y exploración de datos:\n",
        "from datetime import datetime, timedelta,date\n",
        "import pandas as pd\n",
        "import numpy as np\n",
        "import matplotlib.pyplot as plt\n",
        "import seaborn as sns\n",
        "from sklearn.cluster import KMeans\n",
        "# ============================================================================================================================================\n",
        "# Preprocesamiento y modelado\n",
        "from sklearn.model_selection import KFold, cross_val_score, train_test_split\n",
        "from sklearn.preprocessing import StandardScaler\n",
        "from sklearn.model_selection import GridSearchCV \n",
        "from sklearn.linear_model import LogisticRegression \n",
        "from sklearn.naive_bayes import GaussianNB \n",
        "from sklearn.tree import DecisionTreeClassifier \n",
        "from sklearn.ensemble import RandomForestClassifier \n",
        "from sklearn.neighbors import KNeighborsClassifier \n",
        "from sklearn.ensemble import VotingClassifier \n",
        "from sklearn.ensemble import BaggingClassifier \n",
        "from sklearn.ensemble import AdaBoostClassifier\n",
        "from sklearn.ensemble import GradientBoostingClassifier\n",
        "from sklearn.metrics import accuracy_score \n",
        "from sklearn.metrics import confusion_matrix, plot_confusion_matrix, classification_report \n"
      ]
    },
    {
      "cell_type": "code",
      "execution_count": 3,
      "metadata": {
        "id": "3Ba9wWSI247M"
      },
      "outputs": [],
      "source": [
        "# Se incorporan las siguientes las librerías:\n",
        "from __future__ import division\n",
        "import chart_studio.plotly \n",
        "import plotly.offline as pyoff\n",
        "import plotly.graph_objs as go"
      ]
    },
    {
      "cell_type": "code",
      "execution_count": 352,
      "metadata": {
        "id": "-pQI5FScjPeR"
      },
      "outputs": [],
      "source": [
        "# Se carga la base de datos en un dataframe:\n",
        "data = pd.read_excel(\"/content/drive/MyDrive/Proyectos/Marketing/Online Retail.xlsx\")\n"
      ]
    },
    {
      "cell_type": "code",
      "execution_count": 353,
      "metadata": {
        "colab": {
          "base_uri": "https://localhost:8080/",
          "height": 206
        },
        "id": "X-EvLIJfxExG",
        "outputId": "3ebb405a-2efe-4752-951b-125313c6b8aa"
      },
      "outputs": [
        {
          "output_type": "execute_result",
          "data": {
            "text/plain": [
              "  InvoiceNo StockCode                          Description  Quantity  \\\n",
              "0    536365    85123A   WHITE HANGING HEART T-LIGHT HOLDER         6   \n",
              "1    536365     71053                  WHITE METAL LANTERN         6   \n",
              "2    536365    84406B       CREAM CUPID HEARTS COAT HANGER         8   \n",
              "3    536365    84029G  KNITTED UNION FLAG HOT WATER BOTTLE         6   \n",
              "4    536365    84029E       RED WOOLLY HOTTIE WHITE HEART.         6   \n",
              "\n",
              "          InvoiceDate  UnitPrice  CustomerID         Country  \n",
              "0 2010-12-01 08:26:00       2.55     17850.0  United Kingdom  \n",
              "1 2010-12-01 08:26:00       3.39     17850.0  United Kingdom  \n",
              "2 2010-12-01 08:26:00       2.75     17850.0  United Kingdom  \n",
              "3 2010-12-01 08:26:00       3.39     17850.0  United Kingdom  \n",
              "4 2010-12-01 08:26:00       3.39     17850.0  United Kingdom  "
            ],
            "text/html": [
              "\n",
              "  <div id=\"df-06793d6a-3ec4-4244-9e19-4769b7838a6d\">\n",
              "    <div class=\"colab-df-container\">\n",
              "      <div>\n",
              "<style scoped>\n",
              "    .dataframe tbody tr th:only-of-type {\n",
              "        vertical-align: middle;\n",
              "    }\n",
              "\n",
              "    .dataframe tbody tr th {\n",
              "        vertical-align: top;\n",
              "    }\n",
              "\n",
              "    .dataframe thead th {\n",
              "        text-align: right;\n",
              "    }\n",
              "</style>\n",
              "<table border=\"1\" class=\"dataframe\">\n",
              "  <thead>\n",
              "    <tr style=\"text-align: right;\">\n",
              "      <th></th>\n",
              "      <th>InvoiceNo</th>\n",
              "      <th>StockCode</th>\n",
              "      <th>Description</th>\n",
              "      <th>Quantity</th>\n",
              "      <th>InvoiceDate</th>\n",
              "      <th>UnitPrice</th>\n",
              "      <th>CustomerID</th>\n",
              "      <th>Country</th>\n",
              "    </tr>\n",
              "  </thead>\n",
              "  <tbody>\n",
              "    <tr>\n",
              "      <th>0</th>\n",
              "      <td>536365</td>\n",
              "      <td>85123A</td>\n",
              "      <td>WHITE HANGING HEART T-LIGHT HOLDER</td>\n",
              "      <td>6</td>\n",
              "      <td>2010-12-01 08:26:00</td>\n",
              "      <td>2.55</td>\n",
              "      <td>17850.0</td>\n",
              "      <td>United Kingdom</td>\n",
              "    </tr>\n",
              "    <tr>\n",
              "      <th>1</th>\n",
              "      <td>536365</td>\n",
              "      <td>71053</td>\n",
              "      <td>WHITE METAL LANTERN</td>\n",
              "      <td>6</td>\n",
              "      <td>2010-12-01 08:26:00</td>\n",
              "      <td>3.39</td>\n",
              "      <td>17850.0</td>\n",
              "      <td>United Kingdom</td>\n",
              "    </tr>\n",
              "    <tr>\n",
              "      <th>2</th>\n",
              "      <td>536365</td>\n",
              "      <td>84406B</td>\n",
              "      <td>CREAM CUPID HEARTS COAT HANGER</td>\n",
              "      <td>8</td>\n",
              "      <td>2010-12-01 08:26:00</td>\n",
              "      <td>2.75</td>\n",
              "      <td>17850.0</td>\n",
              "      <td>United Kingdom</td>\n",
              "    </tr>\n",
              "    <tr>\n",
              "      <th>3</th>\n",
              "      <td>536365</td>\n",
              "      <td>84029G</td>\n",
              "      <td>KNITTED UNION FLAG HOT WATER BOTTLE</td>\n",
              "      <td>6</td>\n",
              "      <td>2010-12-01 08:26:00</td>\n",
              "      <td>3.39</td>\n",
              "      <td>17850.0</td>\n",
              "      <td>United Kingdom</td>\n",
              "    </tr>\n",
              "    <tr>\n",
              "      <th>4</th>\n",
              "      <td>536365</td>\n",
              "      <td>84029E</td>\n",
              "      <td>RED WOOLLY HOTTIE WHITE HEART.</td>\n",
              "      <td>6</td>\n",
              "      <td>2010-12-01 08:26:00</td>\n",
              "      <td>3.39</td>\n",
              "      <td>17850.0</td>\n",
              "      <td>United Kingdom</td>\n",
              "    </tr>\n",
              "  </tbody>\n",
              "</table>\n",
              "</div>\n",
              "      <button class=\"colab-df-convert\" onclick=\"convertToInteractive('df-06793d6a-3ec4-4244-9e19-4769b7838a6d')\"\n",
              "              title=\"Convert this dataframe to an interactive table.\"\n",
              "              style=\"display:none;\">\n",
              "        \n",
              "  <svg xmlns=\"http://www.w3.org/2000/svg\" height=\"24px\"viewBox=\"0 0 24 24\"\n",
              "       width=\"24px\">\n",
              "    <path d=\"M0 0h24v24H0V0z\" fill=\"none\"/>\n",
              "    <path d=\"M18.56 5.44l.94 2.06.94-2.06 2.06-.94-2.06-.94-.94-2.06-.94 2.06-2.06.94zm-11 1L8.5 8.5l.94-2.06 2.06-.94-2.06-.94L8.5 2.5l-.94 2.06-2.06.94zm10 10l.94 2.06.94-2.06 2.06-.94-2.06-.94-.94-2.06-.94 2.06-2.06.94z\"/><path d=\"M17.41 7.96l-1.37-1.37c-.4-.4-.92-.59-1.43-.59-.52 0-1.04.2-1.43.59L10.3 9.45l-7.72 7.72c-.78.78-.78 2.05 0 2.83L4 21.41c.39.39.9.59 1.41.59.51 0 1.02-.2 1.41-.59l7.78-7.78 2.81-2.81c.8-.78.8-2.07 0-2.86zM5.41 20L4 18.59l7.72-7.72 1.47 1.35L5.41 20z\"/>\n",
              "  </svg>\n",
              "      </button>\n",
              "      \n",
              "  <style>\n",
              "    .colab-df-container {\n",
              "      display:flex;\n",
              "      flex-wrap:wrap;\n",
              "      gap: 12px;\n",
              "    }\n",
              "\n",
              "    .colab-df-convert {\n",
              "      background-color: #E8F0FE;\n",
              "      border: none;\n",
              "      border-radius: 50%;\n",
              "      cursor: pointer;\n",
              "      display: none;\n",
              "      fill: #1967D2;\n",
              "      height: 32px;\n",
              "      padding: 0 0 0 0;\n",
              "      width: 32px;\n",
              "    }\n",
              "\n",
              "    .colab-df-convert:hover {\n",
              "      background-color: #E2EBFA;\n",
              "      box-shadow: 0px 1px 2px rgba(60, 64, 67, 0.3), 0px 1px 3px 1px rgba(60, 64, 67, 0.15);\n",
              "      fill: #174EA6;\n",
              "    }\n",
              "\n",
              "    [theme=dark] .colab-df-convert {\n",
              "      background-color: #3B4455;\n",
              "      fill: #D2E3FC;\n",
              "    }\n",
              "\n",
              "    [theme=dark] .colab-df-convert:hover {\n",
              "      background-color: #434B5C;\n",
              "      box-shadow: 0px 1px 3px 1px rgba(0, 0, 0, 0.15);\n",
              "      filter: drop-shadow(0px 1px 2px rgba(0, 0, 0, 0.3));\n",
              "      fill: #FFFFFF;\n",
              "    }\n",
              "  </style>\n",
              "\n",
              "      <script>\n",
              "        const buttonEl =\n",
              "          document.querySelector('#df-06793d6a-3ec4-4244-9e19-4769b7838a6d button.colab-df-convert');\n",
              "        buttonEl.style.display =\n",
              "          google.colab.kernel.accessAllowed ? 'block' : 'none';\n",
              "\n",
              "        async function convertToInteractive(key) {\n",
              "          const element = document.querySelector('#df-06793d6a-3ec4-4244-9e19-4769b7838a6d');\n",
              "          const dataTable =\n",
              "            await google.colab.kernel.invokeFunction('convertToInteractive',\n",
              "                                                     [key], {});\n",
              "          if (!dataTable) return;\n",
              "\n",
              "          const docLinkHtml = 'Like what you see? Visit the ' +\n",
              "            '<a target=\"_blank\" href=https://colab.research.google.com/notebooks/data_table.ipynb>data table notebook</a>'\n",
              "            + ' to learn more about interactive tables.';\n",
              "          element.innerHTML = '';\n",
              "          dataTable['output_type'] = 'display_data';\n",
              "          await google.colab.output.renderOutput(dataTable, element);\n",
              "          const docLink = document.createElement('div');\n",
              "          docLink.innerHTML = docLinkHtml;\n",
              "          element.appendChild(docLink);\n",
              "        }\n",
              "      </script>\n",
              "    </div>\n",
              "  </div>\n",
              "  "
            ]
          },
          "metadata": {},
          "execution_count": 353
        }
      ],
      "source": [
        "# Se imprime el encabezado del conjunto de datos:\n",
        "data.head()"
      ]
    },
    {
      "cell_type": "code",
      "execution_count": 354,
      "metadata": {
        "colab": {
          "base_uri": "https://localhost:8080/",
          "height": 0
        },
        "id": "P1tVKmGDnh76",
        "outputId": "abd51293-948b-403d-eb3d-4258dbc31561"
      },
      "outputs": [
        {
          "output_type": "stream",
          "name": "stdout",
          "text": [
            "<class 'pandas.core.frame.DataFrame'>\n",
            "RangeIndex: 541909 entries, 0 to 541908\n",
            "Data columns (total 8 columns):\n",
            " #   Column       Non-Null Count   Dtype         \n",
            "---  ------       --------------   -----         \n",
            " 0   InvoiceNo    541909 non-null  object        \n",
            " 1   StockCode    541909 non-null  object        \n",
            " 2   Description  540455 non-null  object        \n",
            " 3   Quantity     541909 non-null  int64         \n",
            " 4   InvoiceDate  541909 non-null  datetime64[ns]\n",
            " 5   UnitPrice    541909 non-null  float64       \n",
            " 6   CustomerID   406829 non-null  float64       \n",
            " 7   Country      541909 non-null  object        \n",
            "dtypes: datetime64[ns](1), float64(2), int64(1), object(4)\n",
            "memory usage: 33.1+ MB\n"
          ]
        }
      ],
      "source": [
        "# Se observa en detalle los nombres de las columnas y los tipos de datos:\n",
        "data.info()"
      ]
    },
    {
      "cell_type": "markdown",
      "metadata": {
        "id": "GBXy8jjWxOjm"
      },
      "source": [
        "El dataframe está compuesto por 541.909 filas y  8 columnas, de las cuales 3 son cuantitatitas (\"Quantity\", \"UnitPrice\" y \"CustomerID\"), 1 con datos de tipo date (\"InvoiceDate\") y las 4 restantes son cualitativas."
      ]
    },
    {
      "cell_type": "markdown",
      "metadata": {
        "id": "nD57_m5iGG5y"
      },
      "source": [
        "**6) Limpieza y transformación de datos (Data Wrangling)**"
      ]
    },
    {
      "cell_type": "code",
      "execution_count": 355,
      "metadata": {
        "colab": {
          "base_uri": "https://localhost:8080/",
          "height": 300
        },
        "id": "dkjLWrPGTX_J",
        "outputId": "31bec188-9645-488a-d7db-1e389337a581"
      },
      "outputs": [
        {
          "output_type": "execute_result",
          "data": {
            "text/plain": [
              "             Total Faltantes  Porcentaje\n",
              "CustomerID            135080   24.926694\n",
              "Description             1454    0.268311\n",
              "InvoiceNo                  0    0.000000\n",
              "StockCode                  0    0.000000\n",
              "Quantity                   0    0.000000\n",
              "InvoiceDate                0    0.000000\n",
              "UnitPrice                  0    0.000000\n",
              "Country                    0    0.000000"
            ],
            "text/html": [
              "\n",
              "  <div id=\"df-2f1a5d66-dc63-4ade-81f4-9bb219acbab2\">\n",
              "    <div class=\"colab-df-container\">\n",
              "      <div>\n",
              "<style scoped>\n",
              "    .dataframe tbody tr th:only-of-type {\n",
              "        vertical-align: middle;\n",
              "    }\n",
              "\n",
              "    .dataframe tbody tr th {\n",
              "        vertical-align: top;\n",
              "    }\n",
              "\n",
              "    .dataframe thead th {\n",
              "        text-align: right;\n",
              "    }\n",
              "</style>\n",
              "<table border=\"1\" class=\"dataframe\">\n",
              "  <thead>\n",
              "    <tr style=\"text-align: right;\">\n",
              "      <th></th>\n",
              "      <th>Total Faltantes</th>\n",
              "      <th>Porcentaje</th>\n",
              "    </tr>\n",
              "  </thead>\n",
              "  <tbody>\n",
              "    <tr>\n",
              "      <th>CustomerID</th>\n",
              "      <td>135080</td>\n",
              "      <td>24.926694</td>\n",
              "    </tr>\n",
              "    <tr>\n",
              "      <th>Description</th>\n",
              "      <td>1454</td>\n",
              "      <td>0.268311</td>\n",
              "    </tr>\n",
              "    <tr>\n",
              "      <th>InvoiceNo</th>\n",
              "      <td>0</td>\n",
              "      <td>0.000000</td>\n",
              "    </tr>\n",
              "    <tr>\n",
              "      <th>StockCode</th>\n",
              "      <td>0</td>\n",
              "      <td>0.000000</td>\n",
              "    </tr>\n",
              "    <tr>\n",
              "      <th>Quantity</th>\n",
              "      <td>0</td>\n",
              "      <td>0.000000</td>\n",
              "    </tr>\n",
              "    <tr>\n",
              "      <th>InvoiceDate</th>\n",
              "      <td>0</td>\n",
              "      <td>0.000000</td>\n",
              "    </tr>\n",
              "    <tr>\n",
              "      <th>UnitPrice</th>\n",
              "      <td>0</td>\n",
              "      <td>0.000000</td>\n",
              "    </tr>\n",
              "    <tr>\n",
              "      <th>Country</th>\n",
              "      <td>0</td>\n",
              "      <td>0.000000</td>\n",
              "    </tr>\n",
              "  </tbody>\n",
              "</table>\n",
              "</div>\n",
              "      <button class=\"colab-df-convert\" onclick=\"convertToInteractive('df-2f1a5d66-dc63-4ade-81f4-9bb219acbab2')\"\n",
              "              title=\"Convert this dataframe to an interactive table.\"\n",
              "              style=\"display:none;\">\n",
              "        \n",
              "  <svg xmlns=\"http://www.w3.org/2000/svg\" height=\"24px\"viewBox=\"0 0 24 24\"\n",
              "       width=\"24px\">\n",
              "    <path d=\"M0 0h24v24H0V0z\" fill=\"none\"/>\n",
              "    <path d=\"M18.56 5.44l.94 2.06.94-2.06 2.06-.94-2.06-.94-.94-2.06-.94 2.06-2.06.94zm-11 1L8.5 8.5l.94-2.06 2.06-.94-2.06-.94L8.5 2.5l-.94 2.06-2.06.94zm10 10l.94 2.06.94-2.06 2.06-.94-2.06-.94-.94-2.06-.94 2.06-2.06.94z\"/><path d=\"M17.41 7.96l-1.37-1.37c-.4-.4-.92-.59-1.43-.59-.52 0-1.04.2-1.43.59L10.3 9.45l-7.72 7.72c-.78.78-.78 2.05 0 2.83L4 21.41c.39.39.9.59 1.41.59.51 0 1.02-.2 1.41-.59l7.78-7.78 2.81-2.81c.8-.78.8-2.07 0-2.86zM5.41 20L4 18.59l7.72-7.72 1.47 1.35L5.41 20z\"/>\n",
              "  </svg>\n",
              "      </button>\n",
              "      \n",
              "  <style>\n",
              "    .colab-df-container {\n",
              "      display:flex;\n",
              "      flex-wrap:wrap;\n",
              "      gap: 12px;\n",
              "    }\n",
              "\n",
              "    .colab-df-convert {\n",
              "      background-color: #E8F0FE;\n",
              "      border: none;\n",
              "      border-radius: 50%;\n",
              "      cursor: pointer;\n",
              "      display: none;\n",
              "      fill: #1967D2;\n",
              "      height: 32px;\n",
              "      padding: 0 0 0 0;\n",
              "      width: 32px;\n",
              "    }\n",
              "\n",
              "    .colab-df-convert:hover {\n",
              "      background-color: #E2EBFA;\n",
              "      box-shadow: 0px 1px 2px rgba(60, 64, 67, 0.3), 0px 1px 3px 1px rgba(60, 64, 67, 0.15);\n",
              "      fill: #174EA6;\n",
              "    }\n",
              "\n",
              "    [theme=dark] .colab-df-convert {\n",
              "      background-color: #3B4455;\n",
              "      fill: #D2E3FC;\n",
              "    }\n",
              "\n",
              "    [theme=dark] .colab-df-convert:hover {\n",
              "      background-color: #434B5C;\n",
              "      box-shadow: 0px 1px 3px 1px rgba(0, 0, 0, 0.15);\n",
              "      filter: drop-shadow(0px 1px 2px rgba(0, 0, 0, 0.3));\n",
              "      fill: #FFFFFF;\n",
              "    }\n",
              "  </style>\n",
              "\n",
              "      <script>\n",
              "        const buttonEl =\n",
              "          document.querySelector('#df-2f1a5d66-dc63-4ade-81f4-9bb219acbab2 button.colab-df-convert');\n",
              "        buttonEl.style.display =\n",
              "          google.colab.kernel.accessAllowed ? 'block' : 'none';\n",
              "\n",
              "        async function convertToInteractive(key) {\n",
              "          const element = document.querySelector('#df-2f1a5d66-dc63-4ade-81f4-9bb219acbab2');\n",
              "          const dataTable =\n",
              "            await google.colab.kernel.invokeFunction('convertToInteractive',\n",
              "                                                     [key], {});\n",
              "          if (!dataTable) return;\n",
              "\n",
              "          const docLinkHtml = 'Like what you see? Visit the ' +\n",
              "            '<a target=\"_blank\" href=https://colab.research.google.com/notebooks/data_table.ipynb>data table notebook</a>'\n",
              "            + ' to learn more about interactive tables.';\n",
              "          element.innerHTML = '';\n",
              "          dataTable['output_type'] = 'display_data';\n",
              "          await google.colab.output.renderOutput(dataTable, element);\n",
              "          const docLink = document.createElement('div');\n",
              "          docLink.innerHTML = docLinkHtml;\n",
              "          element.appendChild(docLink);\n",
              "        }\n",
              "      </script>\n",
              "    </div>\n",
              "  </div>\n",
              "  "
            ]
          },
          "metadata": {},
          "execution_count": 355
        }
      ],
      "source": [
        "# Se determina si el dataframe tiene datos faltantes:\n",
        "total = data.isnull().sum().sort_values(ascending = False)\n",
        "percent = (data.isnull().sum() / data.isnull().count() * 100)\n",
        "percent.sort_values(ascending = False)\n",
        "missing_data = pd.concat([total, percent], axis = 1, keys = [\"Total Faltantes\", \"Porcentaje\"])\n",
        "missing_data"
      ]
    },
    {
      "cell_type": "markdown",
      "metadata": {
        "id": "nfJZ9aJ8VgM2"
      },
      "source": [
        "Existen dos columnas con valores nulos (NaN), sin embargo ninguna presenta un porcentaje alto de datos faltantes que obligue a eliminarlas."
      ]
    },
    {
      "cell_type": "code",
      "execution_count": 356,
      "metadata": {
        "colab": {
          "base_uri": "https://localhost:8080/",
          "height": 424
        },
        "id": "QH2cLEDKVjuV",
        "outputId": "f06b2cc9-7787-4763-d907-0509d94669ca"
      },
      "outputs": [
        {
          "output_type": "execute_result",
          "data": {
            "text/plain": [
              "       InvoiceNo StockCode                        Description  Quantity  \\\n",
              "395388    571034     23239  SET OF 4 KNICK KNACK TINS POPPIES         6   \n",
              "395410    571034     23239  SET OF 4 KNICK KNACK TINS POPPIES         6   \n",
              "395442    571034     23494   VINTAGE DOILY DELUXE SEWING KIT          3   \n",
              "395443    571034     23494   VINTAGE DOILY DELUXE SEWING KIT          3   \n",
              "395455    571034     23245         SET OF 3 REGENCY CAKE TINS         4   \n",
              "...          ...       ...                                ...       ...   \n",
              "424915    573290     23396  LE JARDIN BOTANIQUE CUSHION COVER         1   \n",
              "483004    577489     23221   REINDEER HEART DECORATION SILVER         1   \n",
              "483010    577489     23221   REINDEER HEART DECORATION SILVER         1   \n",
              "514740    579744     23010        CIRCUS PARADE BABY GIFT SET         1   \n",
              "514741    579744     23010        CIRCUS PARADE BABY GIFT SET         1   \n",
              "\n",
              "               InvoiceDate  UnitPrice  CustomerID         Country  \n",
              "395388 2011-10-13 12:47:00       4.15     12359.0          Cyprus  \n",
              "395410 2011-10-13 12:47:00       4.15     12359.0          Cyprus  \n",
              "395442 2011-10-13 12:47:00       5.95     12359.0          Cyprus  \n",
              "395443 2011-10-13 12:47:00       5.95     12359.0          Cyprus  \n",
              "395455 2011-10-13 12:47:00       4.95     12359.0          Cyprus  \n",
              "...                    ...        ...         ...             ...  \n",
              "424915 2011-10-28 14:51:00       3.75         NaN     Switzerland  \n",
              "483004 2011-11-20 12:07:00       0.83         NaN  United Kingdom  \n",
              "483010 2011-11-20 12:07:00       0.83         NaN  United Kingdom  \n",
              "514740 2011-11-30 14:38:00      16.95         NaN  United Kingdom  \n",
              "514741 2011-11-30 14:38:00      16.95         NaN  United Kingdom  \n",
              "\n",
              "[10147 rows x 8 columns]"
            ],
            "text/html": [
              "\n",
              "  <div id=\"df-1051d12b-e10d-4ce1-9224-8d1f51514456\">\n",
              "    <div class=\"colab-df-container\">\n",
              "      <div>\n",
              "<style scoped>\n",
              "    .dataframe tbody tr th:only-of-type {\n",
              "        vertical-align: middle;\n",
              "    }\n",
              "\n",
              "    .dataframe tbody tr th {\n",
              "        vertical-align: top;\n",
              "    }\n",
              "\n",
              "    .dataframe thead th {\n",
              "        text-align: right;\n",
              "    }\n",
              "</style>\n",
              "<table border=\"1\" class=\"dataframe\">\n",
              "  <thead>\n",
              "    <tr style=\"text-align: right;\">\n",
              "      <th></th>\n",
              "      <th>InvoiceNo</th>\n",
              "      <th>StockCode</th>\n",
              "      <th>Description</th>\n",
              "      <th>Quantity</th>\n",
              "      <th>InvoiceDate</th>\n",
              "      <th>UnitPrice</th>\n",
              "      <th>CustomerID</th>\n",
              "      <th>Country</th>\n",
              "    </tr>\n",
              "  </thead>\n",
              "  <tbody>\n",
              "    <tr>\n",
              "      <th>395388</th>\n",
              "      <td>571034</td>\n",
              "      <td>23239</td>\n",
              "      <td>SET OF 4 KNICK KNACK TINS POPPIES</td>\n",
              "      <td>6</td>\n",
              "      <td>2011-10-13 12:47:00</td>\n",
              "      <td>4.15</td>\n",
              "      <td>12359.0</td>\n",
              "      <td>Cyprus</td>\n",
              "    </tr>\n",
              "    <tr>\n",
              "      <th>395410</th>\n",
              "      <td>571034</td>\n",
              "      <td>23239</td>\n",
              "      <td>SET OF 4 KNICK KNACK TINS POPPIES</td>\n",
              "      <td>6</td>\n",
              "      <td>2011-10-13 12:47:00</td>\n",
              "      <td>4.15</td>\n",
              "      <td>12359.0</td>\n",
              "      <td>Cyprus</td>\n",
              "    </tr>\n",
              "    <tr>\n",
              "      <th>395442</th>\n",
              "      <td>571034</td>\n",
              "      <td>23494</td>\n",
              "      <td>VINTAGE DOILY DELUXE SEWING KIT</td>\n",
              "      <td>3</td>\n",
              "      <td>2011-10-13 12:47:00</td>\n",
              "      <td>5.95</td>\n",
              "      <td>12359.0</td>\n",
              "      <td>Cyprus</td>\n",
              "    </tr>\n",
              "    <tr>\n",
              "      <th>395443</th>\n",
              "      <td>571034</td>\n",
              "      <td>23494</td>\n",
              "      <td>VINTAGE DOILY DELUXE SEWING KIT</td>\n",
              "      <td>3</td>\n",
              "      <td>2011-10-13 12:47:00</td>\n",
              "      <td>5.95</td>\n",
              "      <td>12359.0</td>\n",
              "      <td>Cyprus</td>\n",
              "    </tr>\n",
              "    <tr>\n",
              "      <th>395455</th>\n",
              "      <td>571034</td>\n",
              "      <td>23245</td>\n",
              "      <td>SET OF 3 REGENCY CAKE TINS</td>\n",
              "      <td>4</td>\n",
              "      <td>2011-10-13 12:47:00</td>\n",
              "      <td>4.95</td>\n",
              "      <td>12359.0</td>\n",
              "      <td>Cyprus</td>\n",
              "    </tr>\n",
              "    <tr>\n",
              "      <th>...</th>\n",
              "      <td>...</td>\n",
              "      <td>...</td>\n",
              "      <td>...</td>\n",
              "      <td>...</td>\n",
              "      <td>...</td>\n",
              "      <td>...</td>\n",
              "      <td>...</td>\n",
              "      <td>...</td>\n",
              "    </tr>\n",
              "    <tr>\n",
              "      <th>424915</th>\n",
              "      <td>573290</td>\n",
              "      <td>23396</td>\n",
              "      <td>LE JARDIN BOTANIQUE CUSHION COVER</td>\n",
              "      <td>1</td>\n",
              "      <td>2011-10-28 14:51:00</td>\n",
              "      <td>3.75</td>\n",
              "      <td>NaN</td>\n",
              "      <td>Switzerland</td>\n",
              "    </tr>\n",
              "    <tr>\n",
              "      <th>483004</th>\n",
              "      <td>577489</td>\n",
              "      <td>23221</td>\n",
              "      <td>REINDEER HEART DECORATION SILVER</td>\n",
              "      <td>1</td>\n",
              "      <td>2011-11-20 12:07:00</td>\n",
              "      <td>0.83</td>\n",
              "      <td>NaN</td>\n",
              "      <td>United Kingdom</td>\n",
              "    </tr>\n",
              "    <tr>\n",
              "      <th>483010</th>\n",
              "      <td>577489</td>\n",
              "      <td>23221</td>\n",
              "      <td>REINDEER HEART DECORATION SILVER</td>\n",
              "      <td>1</td>\n",
              "      <td>2011-11-20 12:07:00</td>\n",
              "      <td>0.83</td>\n",
              "      <td>NaN</td>\n",
              "      <td>United Kingdom</td>\n",
              "    </tr>\n",
              "    <tr>\n",
              "      <th>514740</th>\n",
              "      <td>579744</td>\n",
              "      <td>23010</td>\n",
              "      <td>CIRCUS PARADE BABY GIFT SET</td>\n",
              "      <td>1</td>\n",
              "      <td>2011-11-30 14:38:00</td>\n",
              "      <td>16.95</td>\n",
              "      <td>NaN</td>\n",
              "      <td>United Kingdom</td>\n",
              "    </tr>\n",
              "    <tr>\n",
              "      <th>514741</th>\n",
              "      <td>579744</td>\n",
              "      <td>23010</td>\n",
              "      <td>CIRCUS PARADE BABY GIFT SET</td>\n",
              "      <td>1</td>\n",
              "      <td>2011-11-30 14:38:00</td>\n",
              "      <td>16.95</td>\n",
              "      <td>NaN</td>\n",
              "      <td>United Kingdom</td>\n",
              "    </tr>\n",
              "  </tbody>\n",
              "</table>\n",
              "<p>10147 rows × 8 columns</p>\n",
              "</div>\n",
              "      <button class=\"colab-df-convert\" onclick=\"convertToInteractive('df-1051d12b-e10d-4ce1-9224-8d1f51514456')\"\n",
              "              title=\"Convert this dataframe to an interactive table.\"\n",
              "              style=\"display:none;\">\n",
              "        \n",
              "  <svg xmlns=\"http://www.w3.org/2000/svg\" height=\"24px\"viewBox=\"0 0 24 24\"\n",
              "       width=\"24px\">\n",
              "    <path d=\"M0 0h24v24H0V0z\" fill=\"none\"/>\n",
              "    <path d=\"M18.56 5.44l.94 2.06.94-2.06 2.06-.94-2.06-.94-.94-2.06-.94 2.06-2.06.94zm-11 1L8.5 8.5l.94-2.06 2.06-.94-2.06-.94L8.5 2.5l-.94 2.06-2.06.94zm10 10l.94 2.06.94-2.06 2.06-.94-2.06-.94-.94-2.06-.94 2.06-2.06.94z\"/><path d=\"M17.41 7.96l-1.37-1.37c-.4-.4-.92-.59-1.43-.59-.52 0-1.04.2-1.43.59L10.3 9.45l-7.72 7.72c-.78.78-.78 2.05 0 2.83L4 21.41c.39.39.9.59 1.41.59.51 0 1.02-.2 1.41-.59l7.78-7.78 2.81-2.81c.8-.78.8-2.07 0-2.86zM5.41 20L4 18.59l7.72-7.72 1.47 1.35L5.41 20z\"/>\n",
              "  </svg>\n",
              "      </button>\n",
              "      \n",
              "  <style>\n",
              "    .colab-df-container {\n",
              "      display:flex;\n",
              "      flex-wrap:wrap;\n",
              "      gap: 12px;\n",
              "    }\n",
              "\n",
              "    .colab-df-convert {\n",
              "      background-color: #E8F0FE;\n",
              "      border: none;\n",
              "      border-radius: 50%;\n",
              "      cursor: pointer;\n",
              "      display: none;\n",
              "      fill: #1967D2;\n",
              "      height: 32px;\n",
              "      padding: 0 0 0 0;\n",
              "      width: 32px;\n",
              "    }\n",
              "\n",
              "    .colab-df-convert:hover {\n",
              "      background-color: #E2EBFA;\n",
              "      box-shadow: 0px 1px 2px rgba(60, 64, 67, 0.3), 0px 1px 3px 1px rgba(60, 64, 67, 0.15);\n",
              "      fill: #174EA6;\n",
              "    }\n",
              "\n",
              "    [theme=dark] .colab-df-convert {\n",
              "      background-color: #3B4455;\n",
              "      fill: #D2E3FC;\n",
              "    }\n",
              "\n",
              "    [theme=dark] .colab-df-convert:hover {\n",
              "      background-color: #434B5C;\n",
              "      box-shadow: 0px 1px 3px 1px rgba(0, 0, 0, 0.15);\n",
              "      filter: drop-shadow(0px 1px 2px rgba(0, 0, 0, 0.3));\n",
              "      fill: #FFFFFF;\n",
              "    }\n",
              "  </style>\n",
              "\n",
              "      <script>\n",
              "        const buttonEl =\n",
              "          document.querySelector('#df-1051d12b-e10d-4ce1-9224-8d1f51514456 button.colab-df-convert');\n",
              "        buttonEl.style.display =\n",
              "          google.colab.kernel.accessAllowed ? 'block' : 'none';\n",
              "\n",
              "        async function convertToInteractive(key) {\n",
              "          const element = document.querySelector('#df-1051d12b-e10d-4ce1-9224-8d1f51514456');\n",
              "          const dataTable =\n",
              "            await google.colab.kernel.invokeFunction('convertToInteractive',\n",
              "                                                     [key], {});\n",
              "          if (!dataTable) return;\n",
              "\n",
              "          const docLinkHtml = 'Like what you see? Visit the ' +\n",
              "            '<a target=\"_blank\" href=https://colab.research.google.com/notebooks/data_table.ipynb>data table notebook</a>'\n",
              "            + ' to learn more about interactive tables.';\n",
              "          element.innerHTML = '';\n",
              "          dataTable['output_type'] = 'display_data';\n",
              "          await google.colab.output.renderOutput(dataTable, element);\n",
              "          const docLink = document.createElement('div');\n",
              "          docLink.innerHTML = docLinkHtml;\n",
              "          element.appendChild(docLink);\n",
              "        }\n",
              "      </script>\n",
              "    </div>\n",
              "  </div>\n",
              "  "
            ]
          },
          "metadata": {},
          "execution_count": 356
        }
      ],
      "source": [
        "# Se analiza si el dataframe tiene datos duplicados:\n",
        "duplicados = data.duplicated(keep= False) # Con keep=False se mantienen todos los duplicados\n",
        "data[duplicados].sort_values(by=\"CustomerID\") # Se ordenan las filas por Id para visualizar bien los duplicados"
      ]
    },
    {
      "cell_type": "code",
      "execution_count": 357,
      "metadata": {
        "id": "jITPR_hUVmcw"
      },
      "outputs": [],
      "source": [
        "# Se eliminan los registros duplicados: \n",
        "data.drop_duplicates(inplace= True)"
      ]
    },
    {
      "cell_type": "code",
      "execution_count": 358,
      "metadata": {
        "colab": {
          "base_uri": "https://localhost:8080/",
          "height": 0
        },
        "id": "4RDMpEzQGaED",
        "outputId": "176003b7-2feb-45ad-a819-ce43cc70b9e3"
      },
      "outputs": [
        {
          "output_type": "execute_result",
          "data": {
            "text/plain": [
              "Index(['N_Factura', 'N_Stock', 'Descripcion', 'Cantidad', 'F_Factura',\n",
              "       'Precio', 'ID_Cliente', 'Pais'],\n",
              "      dtype='object')"
            ]
          },
          "metadata": {},
          "execution_count": 358
        }
      ],
      "source": [
        "# Se modifican los nombres de las variables originales para facilitar el análisis:\n",
        "data = data.rename(columns={\"InvoiceNo\": \"N_Factura\", \n",
        "                            \"StockCode\": \"N_Stock\",\n",
        "                            \"Description\": \"Descripcion\",\n",
        "                            \"Quantity\": \"Cantidad\",\n",
        "                            \"InvoiceDate\": \"F_Factura\",\n",
        "                            \"UnitPrice\": \"Precio\",\n",
        "                            \"CustomerID\": \"ID_Cliente\",\n",
        "                            \"Country\": \"Pais\"})\n",
        "data.columns"
      ]
    },
    {
      "cell_type": "code",
      "execution_count": 359,
      "metadata": {
        "id": "VvpP1VcjjUZn"
      },
      "outputs": [],
      "source": [
        "# Se crea un dataframe solo con los clientes del Reino Unido:\n",
        "data_uk = data.query(\"Pais=='United Kingdom'\").reset_index(drop=True)\n"
      ]
    },
    {
      "cell_type": "code",
      "execution_count": 360,
      "metadata": {
        "id": "yKKt8nO7jvM9"
      },
      "outputs": [],
      "source": [
        " # Se crea un dataframe con datos de los primer 3 meses y otro con datos de los últimos 6 meses:\n",
        "data_3m = data_uk[(data_uk.F_Factura < \"2011-6-1\") & (data_uk.F_Factura >= \"2011-3-1\")].reset_index(drop=True)\n",
        "data_6m = data_uk[(data_uk.F_Factura >= \"2011-6-1\") & (data_uk.F_Factura < \"2011-12-1\")].reset_index(drop=True)"
      ]
    },
    {
      "cell_type": "markdown",
      "metadata": {
        "id": "XIztKZAeoJhB"
      },
      "source": [
        "**7) Cálculo de la Recencia**"
      ]
    },
    {
      "cell_type": "markdown",
      "metadata": {
        "id": "-jKGrFxxeg6f"
      },
      "source": [
        "La recencia se refiere a la cantidad de días transcurridos desde la última compra, es decir, cual es en nivel de actividad de los clientes. Se tomará el dataframe de tres meses para este cálculo."
      ]
    },
    {
      "cell_type": "code",
      "execution_count": 361,
      "metadata": {
        "colab": {
          "base_uri": "https://localhost:8080/",
          "height": 206
        },
        "id": "x2qMB8fcmv_c",
        "outputId": "28939ab1-a884-4bbc-b911-dc1b682e6b3a"
      },
      "outputs": [
        {
          "output_type": "execute_result",
          "data": {
            "text/plain": [
              "   ID_Cliente\n",
              "0     14620.0\n",
              "1     14740.0\n",
              "2     13880.0\n",
              "3     16462.0\n",
              "4     17068.0"
            ],
            "text/html": [
              "\n",
              "  <div id=\"df-5c3096b3-2c35-43fd-8d2c-3316e5fe6f48\">\n",
              "    <div class=\"colab-df-container\">\n",
              "      <div>\n",
              "<style scoped>\n",
              "    .dataframe tbody tr th:only-of-type {\n",
              "        vertical-align: middle;\n",
              "    }\n",
              "\n",
              "    .dataframe tbody tr th {\n",
              "        vertical-align: top;\n",
              "    }\n",
              "\n",
              "    .dataframe thead th {\n",
              "        text-align: right;\n",
              "    }\n",
              "</style>\n",
              "<table border=\"1\" class=\"dataframe\">\n",
              "  <thead>\n",
              "    <tr style=\"text-align: right;\">\n",
              "      <th></th>\n",
              "      <th>ID_Cliente</th>\n",
              "    </tr>\n",
              "  </thead>\n",
              "  <tbody>\n",
              "    <tr>\n",
              "      <th>0</th>\n",
              "      <td>14620.0</td>\n",
              "    </tr>\n",
              "    <tr>\n",
              "      <th>1</th>\n",
              "      <td>14740.0</td>\n",
              "    </tr>\n",
              "    <tr>\n",
              "      <th>2</th>\n",
              "      <td>13880.0</td>\n",
              "    </tr>\n",
              "    <tr>\n",
              "      <th>3</th>\n",
              "      <td>16462.0</td>\n",
              "    </tr>\n",
              "    <tr>\n",
              "      <th>4</th>\n",
              "      <td>17068.0</td>\n",
              "    </tr>\n",
              "  </tbody>\n",
              "</table>\n",
              "</div>\n",
              "      <button class=\"colab-df-convert\" onclick=\"convertToInteractive('df-5c3096b3-2c35-43fd-8d2c-3316e5fe6f48')\"\n",
              "              title=\"Convert this dataframe to an interactive table.\"\n",
              "              style=\"display:none;\">\n",
              "        \n",
              "  <svg xmlns=\"http://www.w3.org/2000/svg\" height=\"24px\"viewBox=\"0 0 24 24\"\n",
              "       width=\"24px\">\n",
              "    <path d=\"M0 0h24v24H0V0z\" fill=\"none\"/>\n",
              "    <path d=\"M18.56 5.44l.94 2.06.94-2.06 2.06-.94-2.06-.94-.94-2.06-.94 2.06-2.06.94zm-11 1L8.5 8.5l.94-2.06 2.06-.94-2.06-.94L8.5 2.5l-.94 2.06-2.06.94zm10 10l.94 2.06.94-2.06 2.06-.94-2.06-.94-.94-2.06-.94 2.06-2.06.94z\"/><path d=\"M17.41 7.96l-1.37-1.37c-.4-.4-.92-.59-1.43-.59-.52 0-1.04.2-1.43.59L10.3 9.45l-7.72 7.72c-.78.78-.78 2.05 0 2.83L4 21.41c.39.39.9.59 1.41.59.51 0 1.02-.2 1.41-.59l7.78-7.78 2.81-2.81c.8-.78.8-2.07 0-2.86zM5.41 20L4 18.59l7.72-7.72 1.47 1.35L5.41 20z\"/>\n",
              "  </svg>\n",
              "      </button>\n",
              "      \n",
              "  <style>\n",
              "    .colab-df-container {\n",
              "      display:flex;\n",
              "      flex-wrap:wrap;\n",
              "      gap: 12px;\n",
              "    }\n",
              "\n",
              "    .colab-df-convert {\n",
              "      background-color: #E8F0FE;\n",
              "      border: none;\n",
              "      border-radius: 50%;\n",
              "      cursor: pointer;\n",
              "      display: none;\n",
              "      fill: #1967D2;\n",
              "      height: 32px;\n",
              "      padding: 0 0 0 0;\n",
              "      width: 32px;\n",
              "    }\n",
              "\n",
              "    .colab-df-convert:hover {\n",
              "      background-color: #E2EBFA;\n",
              "      box-shadow: 0px 1px 2px rgba(60, 64, 67, 0.3), 0px 1px 3px 1px rgba(60, 64, 67, 0.15);\n",
              "      fill: #174EA6;\n",
              "    }\n",
              "\n",
              "    [theme=dark] .colab-df-convert {\n",
              "      background-color: #3B4455;\n",
              "      fill: #D2E3FC;\n",
              "    }\n",
              "\n",
              "    [theme=dark] .colab-df-convert:hover {\n",
              "      background-color: #434B5C;\n",
              "      box-shadow: 0px 1px 3px 1px rgba(0, 0, 0, 0.15);\n",
              "      filter: drop-shadow(0px 1px 2px rgba(0, 0, 0, 0.3));\n",
              "      fill: #FFFFFF;\n",
              "    }\n",
              "  </style>\n",
              "\n",
              "      <script>\n",
              "        const buttonEl =\n",
              "          document.querySelector('#df-5c3096b3-2c35-43fd-8d2c-3316e5fe6f48 button.colab-df-convert');\n",
              "        buttonEl.style.display =\n",
              "          google.colab.kernel.accessAllowed ? 'block' : 'none';\n",
              "\n",
              "        async function convertToInteractive(key) {\n",
              "          const element = document.querySelector('#df-5c3096b3-2c35-43fd-8d2c-3316e5fe6f48');\n",
              "          const dataTable =\n",
              "            await google.colab.kernel.invokeFunction('convertToInteractive',\n",
              "                                                     [key], {});\n",
              "          if (!dataTable) return;\n",
              "\n",
              "          const docLinkHtml = 'Like what you see? Visit the ' +\n",
              "            '<a target=\"_blank\" href=https://colab.research.google.com/notebooks/data_table.ipynb>data table notebook</a>'\n",
              "            + ' to learn more about interactive tables.';\n",
              "          element.innerHTML = '';\n",
              "          dataTable['output_type'] = 'display_data';\n",
              "          await google.colab.output.renderOutput(dataTable, element);\n",
              "          const docLink = document.createElement('div');\n",
              "          docLink.innerHTML = docLinkHtml;\n",
              "          element.appendChild(docLink);\n",
              "        }\n",
              "      </script>\n",
              "    </div>\n",
              "  </div>\n",
              "  "
            ]
          },
          "metadata": {},
          "execution_count": 361
        }
      ],
      "source": [
        "# En primer lugar se crea un dataframe con cada uno de los Id de los clientes de data_3m:\n",
        "data_cliente = pd.DataFrame(data_3m[\"ID_Cliente\"].unique())\n",
        "data_cliente.columns = [\"ID_Cliente\"]\n",
        "data_cliente.head()"
      ]
    },
    {
      "cell_type": "code",
      "execution_count": 362,
      "metadata": {
        "colab": {
          "base_uri": "https://localhost:8080/",
          "height": 206
        },
        "id": "eQd6fDPxJQ-f",
        "outputId": "498b1514-7ada-457d-8673-46815d6c99f6"
      },
      "outputs": [
        {
          "output_type": "execute_result",
          "data": {
            "text/plain": [
              "   ID_Cliente  Recencia\n",
              "0     14620.0        12\n",
              "1     14740.0         4\n",
              "2     13880.0        25\n",
              "3     16462.0        91\n",
              "4     17068.0        11"
            ],
            "text/html": [
              "\n",
              "  <div id=\"df-2cb9a6b3-686b-4800-ac85-b7cb5af006f6\">\n",
              "    <div class=\"colab-df-container\">\n",
              "      <div>\n",
              "<style scoped>\n",
              "    .dataframe tbody tr th:only-of-type {\n",
              "        vertical-align: middle;\n",
              "    }\n",
              "\n",
              "    .dataframe tbody tr th {\n",
              "        vertical-align: top;\n",
              "    }\n",
              "\n",
              "    .dataframe thead th {\n",
              "        text-align: right;\n",
              "    }\n",
              "</style>\n",
              "<table border=\"1\" class=\"dataframe\">\n",
              "  <thead>\n",
              "    <tr style=\"text-align: right;\">\n",
              "      <th></th>\n",
              "      <th>ID_Cliente</th>\n",
              "      <th>Recencia</th>\n",
              "    </tr>\n",
              "  </thead>\n",
              "  <tbody>\n",
              "    <tr>\n",
              "      <th>0</th>\n",
              "      <td>14620.0</td>\n",
              "      <td>12</td>\n",
              "    </tr>\n",
              "    <tr>\n",
              "      <th>1</th>\n",
              "      <td>14740.0</td>\n",
              "      <td>4</td>\n",
              "    </tr>\n",
              "    <tr>\n",
              "      <th>2</th>\n",
              "      <td>13880.0</td>\n",
              "      <td>25</td>\n",
              "    </tr>\n",
              "    <tr>\n",
              "      <th>3</th>\n",
              "      <td>16462.0</td>\n",
              "      <td>91</td>\n",
              "    </tr>\n",
              "    <tr>\n",
              "      <th>4</th>\n",
              "      <td>17068.0</td>\n",
              "      <td>11</td>\n",
              "    </tr>\n",
              "  </tbody>\n",
              "</table>\n",
              "</div>\n",
              "      <button class=\"colab-df-convert\" onclick=\"convertToInteractive('df-2cb9a6b3-686b-4800-ac85-b7cb5af006f6')\"\n",
              "              title=\"Convert this dataframe to an interactive table.\"\n",
              "              style=\"display:none;\">\n",
              "        \n",
              "  <svg xmlns=\"http://www.w3.org/2000/svg\" height=\"24px\"viewBox=\"0 0 24 24\"\n",
              "       width=\"24px\">\n",
              "    <path d=\"M0 0h24v24H0V0z\" fill=\"none\"/>\n",
              "    <path d=\"M18.56 5.44l.94 2.06.94-2.06 2.06-.94-2.06-.94-.94-2.06-.94 2.06-2.06.94zm-11 1L8.5 8.5l.94-2.06 2.06-.94-2.06-.94L8.5 2.5l-.94 2.06-2.06.94zm10 10l.94 2.06.94-2.06 2.06-.94-2.06-.94-.94-2.06-.94 2.06-2.06.94z\"/><path d=\"M17.41 7.96l-1.37-1.37c-.4-.4-.92-.59-1.43-.59-.52 0-1.04.2-1.43.59L10.3 9.45l-7.72 7.72c-.78.78-.78 2.05 0 2.83L4 21.41c.39.39.9.59 1.41.59.51 0 1.02-.2 1.41-.59l7.78-7.78 2.81-2.81c.8-.78.8-2.07 0-2.86zM5.41 20L4 18.59l7.72-7.72 1.47 1.35L5.41 20z\"/>\n",
              "  </svg>\n",
              "      </button>\n",
              "      \n",
              "  <style>\n",
              "    .colab-df-container {\n",
              "      display:flex;\n",
              "      flex-wrap:wrap;\n",
              "      gap: 12px;\n",
              "    }\n",
              "\n",
              "    .colab-df-convert {\n",
              "      background-color: #E8F0FE;\n",
              "      border: none;\n",
              "      border-radius: 50%;\n",
              "      cursor: pointer;\n",
              "      display: none;\n",
              "      fill: #1967D2;\n",
              "      height: 32px;\n",
              "      padding: 0 0 0 0;\n",
              "      width: 32px;\n",
              "    }\n",
              "\n",
              "    .colab-df-convert:hover {\n",
              "      background-color: #E2EBFA;\n",
              "      box-shadow: 0px 1px 2px rgba(60, 64, 67, 0.3), 0px 1px 3px 1px rgba(60, 64, 67, 0.15);\n",
              "      fill: #174EA6;\n",
              "    }\n",
              "\n",
              "    [theme=dark] .colab-df-convert {\n",
              "      background-color: #3B4455;\n",
              "      fill: #D2E3FC;\n",
              "    }\n",
              "\n",
              "    [theme=dark] .colab-df-convert:hover {\n",
              "      background-color: #434B5C;\n",
              "      box-shadow: 0px 1px 3px 1px rgba(0, 0, 0, 0.15);\n",
              "      filter: drop-shadow(0px 1px 2px rgba(0, 0, 0, 0.3));\n",
              "      fill: #FFFFFF;\n",
              "    }\n",
              "  </style>\n",
              "\n",
              "      <script>\n",
              "        const buttonEl =\n",
              "          document.querySelector('#df-2cb9a6b3-686b-4800-ac85-b7cb5af006f6 button.colab-df-convert');\n",
              "        buttonEl.style.display =\n",
              "          google.colab.kernel.accessAllowed ? 'block' : 'none';\n",
              "\n",
              "        async function convertToInteractive(key) {\n",
              "          const element = document.querySelector('#df-2cb9a6b3-686b-4800-ac85-b7cb5af006f6');\n",
              "          const dataTable =\n",
              "            await google.colab.kernel.invokeFunction('convertToInteractive',\n",
              "                                                     [key], {});\n",
              "          if (!dataTable) return;\n",
              "\n",
              "          const docLinkHtml = 'Like what you see? Visit the ' +\n",
              "            '<a target=\"_blank\" href=https://colab.research.google.com/notebooks/data_table.ipynb>data table notebook</a>'\n",
              "            + ' to learn more about interactive tables.';\n",
              "          element.innerHTML = '';\n",
              "          dataTable['output_type'] = 'display_data';\n",
              "          await google.colab.output.renderOutput(dataTable, element);\n",
              "          const docLink = document.createElement('div');\n",
              "          docLink.innerHTML = docLinkHtml;\n",
              "          element.appendChild(docLink);\n",
              "        }\n",
              "      </script>\n",
              "    </div>\n",
              "  </div>\n",
              "  "
            ]
          },
          "metadata": {},
          "execution_count": 362
        }
      ],
      "source": [
        "# Se crea un dataframe con la última fecha de compra de cada cliente en el dataframe de los primeros tres meses:\n",
        "max_compra = data_3m.groupby(\"ID_Cliente\").F_Factura.max().reset_index()\n",
        "max_compra.columns = [\"ID_Cliente\",\"Ultima_Compra\"]\n",
        "# Se toma como punto de observación la fecha máxima de facturación en el conjunto de datos:\n",
        "max_compra[\"Recencia\"] = (max_compra[\"Ultima_Compra\"].max() - max_compra[\"Ultima_Compra\"]).dt.days\n",
        "# Se unen los dataframes:\n",
        "data_cliente = pd.merge(data_cliente, max_compra[[\"ID_Cliente\",\"Recencia\"]], on=\"ID_Cliente\")\n",
        "data_cliente.head()"
      ]
    },
    {
      "cell_type": "code",
      "execution_count": 363,
      "metadata": {
        "colab": {
          "base_uri": "https://localhost:8080/",
          "height": 0
        },
        "id": "6TvkqHTzolCF",
        "outputId": "192374f3-f4c9-431f-eda5-c924cfb73136"
      },
      "outputs": [
        {
          "output_type": "execute_result",
          "data": {
            "text/plain": [
              "count    1840.0\n",
              "mean       35.0\n",
              "std        26.0\n",
              "min         0.0\n",
              "25%        12.0\n",
              "50%        26.0\n",
              "75%        56.0\n",
              "max        91.0\n",
              "Name: Recencia, dtype: float64"
            ]
          },
          "metadata": {},
          "execution_count": 363
        }
      ],
      "source": [
        "# Se analizan en detalle las principales estadísticas descriptivas de la Recencia:\n",
        "data_cliente.Recencia.describe().round()"
      ]
    },
    {
      "cell_type": "markdown",
      "metadata": {
        "id": "Z8qgEVZAKAka"
      },
      "source": [
        "Se observa que el promedio desde la última compra es de 35 días mientras que la mediana de días inactivos es 26."
      ]
    },
    {
      "cell_type": "code",
      "execution_count": 364,
      "metadata": {
        "colab": {
          "base_uri": "https://localhost:8080/",
          "height": 542
        },
        "id": "3FnUubm-ooBX",
        "outputId": "79f3e758-21e1-4c40-d999-cca5bb9aeeeb"
      },
      "outputs": [
        {
          "output_type": "display_data",
          "data": {
            "text/html": [
              "<html>\n",
              "<head><meta charset=\"utf-8\" /></head>\n",
              "<body>\n",
              "    <div>            <script src=\"https://cdnjs.cloudflare.com/ajax/libs/mathjax/2.7.5/MathJax.js?config=TeX-AMS-MML_SVG\"></script><script type=\"text/javascript\">if (window.MathJax) {MathJax.Hub.Config({SVG: {font: \"STIX-Web\"}});}</script>                <script type=\"text/javascript\">window.PlotlyConfig = {MathJaxConfig: 'local'};</script>\n",
              "        <script src=\"https://cdn.plot.ly/plotly-2.8.3.min.js\"></script>                <div id=\"580ed864-c723-474a-8826-44232740f1b4\" class=\"plotly-graph-div\" style=\"height:525px; width:100%;\"></div>            <script type=\"text/javascript\">                                    window.PLOTLYENV=window.PLOTLYENV || {};                                    if (document.getElementById(\"580ed864-c723-474a-8826-44232740f1b4\")) {                    Plotly.newPlot(                        \"580ed864-c723-474a-8826-44232740f1b4\",                        [{\"x\":[12,4,25,91,11,4,91,56,6,21,5,12,91,0,91,7,50,4,28,6,60,23,91,91,89,89,91,91,85,91,4,19,15,4,6,6,64,4,3,90,13,3,90,41,42,5,47,0,90,90,5,13,90,13,90,14,2,90,85,90,55,90,19,18,68,6,5,90,4,90,90,5,8,90,90,90,90,89,71,43,74,39,53,5,89,28,7,89,89,89,19,4,89,89,4,20,4,21,9,10,41,26,47,14,26,89,27,89,89,7,6,8,4,7,52,41,7,5,10,6,22,89,89,14,89,89,89,6,44,26,89,70,4,12,41,5,82,6,0,21,10,5,48,14,88,88,20,64,88,88,88,0,25,88,15,11,13,88,4,20,9,88,88,5,33,0,0,88,88,88,88,88,88,88,88,15,55,88,3,44,41,86,6,40,22,6,86,55,0,30,86,86,86,8,6,23,58,20,50,56,16,86,61,85,21,85,25,85,85,85,6,0,14,23,85,8,11,14,11,18,85,81,85,5,25,6,85,11,20,22,85,85,5,18,5,5,11,35,85,85,48,12,85,85,8,5,53,85,57,19,30,19,4,55,12,22,84,84,84,84,4,84,84,84,23,7,34,6,84,27,84,57,84,6,18,14,23,0,40,84,14,26,20,84,4,20,84,84,83,12,83,6,23,22,83,83,7,7,6,83,11,83,83,0,7,11,28,83,83,83,78,83,83,42,14,18,83,14,16,11,83,6,9,5,33,81,41,6,83,18,82,18,33,82,82,82,82,26,63,4,25,13,82,22,4,11,6,15,25,9,7,22,19,35,14,3,82,19,19,78,82,82,22,78,70,82,12,6,60,82,33,4,81,0,81,81,81,81,53,25,81,7,7,6,81,7,81,34,23,9,20,81,81,0,7,25,20,20,81,61,42,81,53,62,80,80,79,0,28,79,6,48,1,42,50,76,79,9,78,62,50,78,23,6,5,17,5,75,4,30,67,57,78,25,12,12,13,74,7,12,77,77,49,42,25,77,13,11,7,15,77,34,77,77,77,75,0,77,19,18,4,18,60,77,77,77,53,77,3,4,6,76,20,76,20,70,25,76,76,76,76,11,19,76,39,0,7,76,14,76,76,76,9,76,76,41,21,68,11,14,14,75,12,33,61,11,70,7,75,9,57,13,75,75,75,13,75,8,17,6,75,11,21,5,75,75,74,74,20,1,11,74,74,9,74,74,22,27,11,25,0,74,74,74,12,28,74,74,14,12,74,46,74,74,65,12,74,74,70,74,48,4,74,13,74,74,74,0,54,11,0,44,74,74,73,35,73,71,22,28,6,4,5,72,9,49,33,7,72,72,72,4,2,72,6,65,72,44,9,72,22,20,13,41,8,6,21,46,72,72,72,72,9,68,71,61,71,71,71,23,71,71,4,5,25,25,71,71,47,26,14,43,71,71,21,71,71,10,21,70,70,2,70,22,70,70,0,70,70,15,67,7,4,2,70,70,70,70,70,16,9,70,70,70,70,4,70,69,23,69,5,25,69,69,11,69,40,50,69,69,27,69,69,69,69,69,26,69,14,69,69,69,69,34,14,69,25,43,69,7,19,69,69,64,11,68,68,68,68,68,7,68,11,68,68,56,26,68,68,16,4,68,48,25,5,33,68,68,6,61,34,4,68,68,68,68,26,68,26,67,2,44,25,20,67,67,14,67,20,67,41,22,13,67,28,15,67,67,40,25,25,11,67,66,65,9,65,65,65,60,0,65,65,65,13,9,9,65,2,65,64,64,8,64,13,0,62,64,54,64,14,64,11,12,64,18,64,16,64,64,64,4,64,21,14,64,25,64,64,0,64,64,64,64,19,12,26,11,63,12,11,60,63,6,15,32,7,62,63,63,63,18,18,27,63,63,6,63,21,63,15,12,40,62,62,8,20,46,21,62,22,62,14,62,62,62,25,18,62,4,14,62,6,62,62,26,40,62,60,62,61,62,54,27,62,56,62,46,62,62,18,5,62,4,5,14,61,17,61,33,61,18,54,11,7,61,61,61,12,61,61,0,4,14,34,61,12,42,61,32,61,61,26,8,18,60,60,43,16,60,60,60,60,60,60,9,56,60,5,18,15,60,40,14,60,60,60,6,60,60,60,35,60,11,60,13,12,14,60,60,23,60,41,11,60,60,60,60,26,9,58,22,58,53,58,21,58,41,18,16,57,57,18,57,0,57,57,48,12,33,8,18,57,57,57,57,57,21,55,57,4,16,56,56,11,56,14,56,20,9,0,56,6,56,13,56,56,42,25,46,56,11,34,56,55,55,5,55,0,52,55,55,20,46,55,55,55,7,55,55,24,4,55,7,54,50,20,54,27,25,40,25,54,54,54,14,19,16,54,54,54,54,54,54,54,6,54,54,54,54,54,53,54,53,53,23,53,46,14,49,53,53,53,53,4,0,53,25,42,53,48,53,4,53,53,53,53,53,11,51,50,53,53,53,25,15,51,9,5,2,51,23,11,51,51,51,51,51,51,4,51,51,41,51,5,40,34,50,0,50,34,50,50,50,48,50,11,50,32,42,47,21,2,25,0,50,50,50,50,42,49,49,49,49,11,47,49,5,19,49,49,6,49,49,49,33,49,49,49,49,49,49,6,47,6,43,7,49,7,48,48,48,48,48,48,48,40,48,48,48,48,47,21,2,48,48,48,2,14,41,48,47,48,48,48,5,42,12,39,46,47,47,26,34,27,47,14,15,7,47,39,14,18,47,11,23,43,43,47,11,22,6,18,9,47,47,47,33,23,46,46,46,7,46,46,7,46,46,46,40,28,18,46,46,46,41,40,46,46,13,46,46,2,26,5,46,46,21,12,44,7,44,27,44,44,44,4,44,44,11,41,44,44,44,44,9,44,44,44,43,14,43,43,25,43,43,43,43,43,43,43,11,43,43,43,43,12,43,43,22,43,43,26,28,42,42,25,21,42,28,39,42,42,6,5,42,42,42,11,42,13,15,42,42,42,42,42,5,39,41,41,41,41,11,41,0,25,41,34,41,25,33,5,41,41,41,41,33,41,41,12,40,40,40,13,40,40,40,40,40,40,40,40,0,40,40,40,32,40,8,11,39,39,39,8,39,39,39,39,39,39,8,35,35,35,35,28,35,27,35,32,35,5,35,35,11,34,28,27,21,34,34,34,22,34,34,34,4,34,34,26,32,33,33,11,33,33,33,33,33,33,33,33,26,33,33,32,32,32,18,25,30,30,30,30,11,30,30,11,28,28,20,28,4,25,20,11,28,28,19,28,28,28,28,27,27,27,27,18,19,20,27,27,27,27,27,6,7,7,27,27,20,27,27,27,27,26,26,26,8,26,12,26,26,26,26,26,26,26,20,26,26,14,26,26,26,26,26,25,14,25,25,25,25,12,14,25,25,25,25,25,25,25,25,25,25,25,25,25,25,25,18,11,25,25,25,24,23,23,7,23,23,23,23,18,23,23,23,23,23,23,23,23,23,23,23,23,23,23,23,23,23,22,22,22,22,9,22,14,22,22,22,22,8,22,21,21,21,21,21,21,21,21,18,21,4,21,21,21,6,21,20,21,21,21,21,7,20,20,20,20,20,20,20,5,20,18,20,13,20,20,20,19,20,20,20,20,20,19,19,19,19,19,19,19,19,19,14,13,19,19,19,8,19,19,19,19,19,19,19,19,18,18,18,14,18,11,18,18,18,18,18,13,18,17,16,16,16,16,16,16,16,16,12,16,16,3,15,15,15,15,14,15,7,15,15,15,14,14,14,14,14,14,14,14,14,14,14,12,14,7,8,14,13,13,13,13,13,13,13,7,13,4,5,11,13,13,13,13,12,12,12,12,12,12,12,12,7,12,12,12,12,12,12,12,12,12,12,7,12,12,7,4,12,11,11,5,11,11,4,4,11,11,11,11,11,11,5,11,11,11,11,11,11,10,9,9,9,9,9,9,9,9,9,9,9,9,9,9,4,9,9,9,8,8,8,8,8,8,8,8,8,8,6,8,8,7,7,7,7,7,7,7,6,7,7,7,7,6,6,6,6,6,6,6,6,6,6,6,6,5,5,4,5,5,5,5,5,5,0,4,4,4,4,4,4,4,4,4,4,4,4,4,2,2,2,2,2,1,0,0,0,0,0,0,0,0,0,0,0],\"type\":\"histogram\"}],                        {\"template\":{\"data\":{\"barpolar\":[{\"marker\":{\"line\":{\"color\":\"#E5ECF6\",\"width\":0.5},\"pattern\":{\"fillmode\":\"overlay\",\"size\":10,\"solidity\":0.2}},\"type\":\"barpolar\"}],\"bar\":[{\"error_x\":{\"color\":\"#2a3f5f\"},\"error_y\":{\"color\":\"#2a3f5f\"},\"marker\":{\"line\":{\"color\":\"#E5ECF6\",\"width\":0.5},\"pattern\":{\"fillmode\":\"overlay\",\"size\":10,\"solidity\":0.2}},\"type\":\"bar\"}],\"carpet\":[{\"aaxis\":{\"endlinecolor\":\"#2a3f5f\",\"gridcolor\":\"white\",\"linecolor\":\"white\",\"minorgridcolor\":\"white\",\"startlinecolor\":\"#2a3f5f\"},\"baxis\":{\"endlinecolor\":\"#2a3f5f\",\"gridcolor\":\"white\",\"linecolor\":\"white\",\"minorgridcolor\":\"white\",\"startlinecolor\":\"#2a3f5f\"},\"type\":\"carpet\"}],\"choropleth\":[{\"colorbar\":{\"outlinewidth\":0,\"ticks\":\"\"},\"type\":\"choropleth\"}],\"contourcarpet\":[{\"colorbar\":{\"outlinewidth\":0,\"ticks\":\"\"},\"type\":\"contourcarpet\"}],\"contour\":[{\"colorbar\":{\"outlinewidth\":0,\"ticks\":\"\"},\"colorscale\":[[0.0,\"#0d0887\"],[0.1111111111111111,\"#46039f\"],[0.2222222222222222,\"#7201a8\"],[0.3333333333333333,\"#9c179e\"],[0.4444444444444444,\"#bd3786\"],[0.5555555555555556,\"#d8576b\"],[0.6666666666666666,\"#ed7953\"],[0.7777777777777778,\"#fb9f3a\"],[0.8888888888888888,\"#fdca26\"],[1.0,\"#f0f921\"]],\"type\":\"contour\"}],\"heatmapgl\":[{\"colorbar\":{\"outlinewidth\":0,\"ticks\":\"\"},\"colorscale\":[[0.0,\"#0d0887\"],[0.1111111111111111,\"#46039f\"],[0.2222222222222222,\"#7201a8\"],[0.3333333333333333,\"#9c179e\"],[0.4444444444444444,\"#bd3786\"],[0.5555555555555556,\"#d8576b\"],[0.6666666666666666,\"#ed7953\"],[0.7777777777777778,\"#fb9f3a\"],[0.8888888888888888,\"#fdca26\"],[1.0,\"#f0f921\"]],\"type\":\"heatmapgl\"}],\"heatmap\":[{\"colorbar\":{\"outlinewidth\":0,\"ticks\":\"\"},\"colorscale\":[[0.0,\"#0d0887\"],[0.1111111111111111,\"#46039f\"],[0.2222222222222222,\"#7201a8\"],[0.3333333333333333,\"#9c179e\"],[0.4444444444444444,\"#bd3786\"],[0.5555555555555556,\"#d8576b\"],[0.6666666666666666,\"#ed7953\"],[0.7777777777777778,\"#fb9f3a\"],[0.8888888888888888,\"#fdca26\"],[1.0,\"#f0f921\"]],\"type\":\"heatmap\"}],\"histogram2dcontour\":[{\"colorbar\":{\"outlinewidth\":0,\"ticks\":\"\"},\"colorscale\":[[0.0,\"#0d0887\"],[0.1111111111111111,\"#46039f\"],[0.2222222222222222,\"#7201a8\"],[0.3333333333333333,\"#9c179e\"],[0.4444444444444444,\"#bd3786\"],[0.5555555555555556,\"#d8576b\"],[0.6666666666666666,\"#ed7953\"],[0.7777777777777778,\"#fb9f3a\"],[0.8888888888888888,\"#fdca26\"],[1.0,\"#f0f921\"]],\"type\":\"histogram2dcontour\"}],\"histogram2d\":[{\"colorbar\":{\"outlinewidth\":0,\"ticks\":\"\"},\"colorscale\":[[0.0,\"#0d0887\"],[0.1111111111111111,\"#46039f\"],[0.2222222222222222,\"#7201a8\"],[0.3333333333333333,\"#9c179e\"],[0.4444444444444444,\"#bd3786\"],[0.5555555555555556,\"#d8576b\"],[0.6666666666666666,\"#ed7953\"],[0.7777777777777778,\"#fb9f3a\"],[0.8888888888888888,\"#fdca26\"],[1.0,\"#f0f921\"]],\"type\":\"histogram2d\"}],\"histogram\":[{\"marker\":{\"pattern\":{\"fillmode\":\"overlay\",\"size\":10,\"solidity\":0.2}},\"type\":\"histogram\"}],\"mesh3d\":[{\"colorbar\":{\"outlinewidth\":0,\"ticks\":\"\"},\"type\":\"mesh3d\"}],\"parcoords\":[{\"line\":{\"colorbar\":{\"outlinewidth\":0,\"ticks\":\"\"}},\"type\":\"parcoords\"}],\"pie\":[{\"automargin\":true,\"type\":\"pie\"}],\"scatter3d\":[{\"line\":{\"colorbar\":{\"outlinewidth\":0,\"ticks\":\"\"}},\"marker\":{\"colorbar\":{\"outlinewidth\":0,\"ticks\":\"\"}},\"type\":\"scatter3d\"}],\"scattercarpet\":[{\"marker\":{\"colorbar\":{\"outlinewidth\":0,\"ticks\":\"\"}},\"type\":\"scattercarpet\"}],\"scattergeo\":[{\"marker\":{\"colorbar\":{\"outlinewidth\":0,\"ticks\":\"\"}},\"type\":\"scattergeo\"}],\"scattergl\":[{\"marker\":{\"colorbar\":{\"outlinewidth\":0,\"ticks\":\"\"}},\"type\":\"scattergl\"}],\"scattermapbox\":[{\"marker\":{\"colorbar\":{\"outlinewidth\":0,\"ticks\":\"\"}},\"type\":\"scattermapbox\"}],\"scatterpolargl\":[{\"marker\":{\"colorbar\":{\"outlinewidth\":0,\"ticks\":\"\"}},\"type\":\"scatterpolargl\"}],\"scatterpolar\":[{\"marker\":{\"colorbar\":{\"outlinewidth\":0,\"ticks\":\"\"}},\"type\":\"scatterpolar\"}],\"scatter\":[{\"marker\":{\"colorbar\":{\"outlinewidth\":0,\"ticks\":\"\"}},\"type\":\"scatter\"}],\"scatterternary\":[{\"marker\":{\"colorbar\":{\"outlinewidth\":0,\"ticks\":\"\"}},\"type\":\"scatterternary\"}],\"surface\":[{\"colorbar\":{\"outlinewidth\":0,\"ticks\":\"\"},\"colorscale\":[[0.0,\"#0d0887\"],[0.1111111111111111,\"#46039f\"],[0.2222222222222222,\"#7201a8\"],[0.3333333333333333,\"#9c179e\"],[0.4444444444444444,\"#bd3786\"],[0.5555555555555556,\"#d8576b\"],[0.6666666666666666,\"#ed7953\"],[0.7777777777777778,\"#fb9f3a\"],[0.8888888888888888,\"#fdca26\"],[1.0,\"#f0f921\"]],\"type\":\"surface\"}],\"table\":[{\"cells\":{\"fill\":{\"color\":\"#EBF0F8\"},\"line\":{\"color\":\"white\"}},\"header\":{\"fill\":{\"color\":\"#C8D4E3\"},\"line\":{\"color\":\"white\"}},\"type\":\"table\"}]},\"layout\":{\"annotationdefaults\":{\"arrowcolor\":\"#2a3f5f\",\"arrowhead\":0,\"arrowwidth\":1},\"autotypenumbers\":\"strict\",\"coloraxis\":{\"colorbar\":{\"outlinewidth\":0,\"ticks\":\"\"}},\"colorscale\":{\"diverging\":[[0,\"#8e0152\"],[0.1,\"#c51b7d\"],[0.2,\"#de77ae\"],[0.3,\"#f1b6da\"],[0.4,\"#fde0ef\"],[0.5,\"#f7f7f7\"],[0.6,\"#e6f5d0\"],[0.7,\"#b8e186\"],[0.8,\"#7fbc41\"],[0.9,\"#4d9221\"],[1,\"#276419\"]],\"sequential\":[[0.0,\"#0d0887\"],[0.1111111111111111,\"#46039f\"],[0.2222222222222222,\"#7201a8\"],[0.3333333333333333,\"#9c179e\"],[0.4444444444444444,\"#bd3786\"],[0.5555555555555556,\"#d8576b\"],[0.6666666666666666,\"#ed7953\"],[0.7777777777777778,\"#fb9f3a\"],[0.8888888888888888,\"#fdca26\"],[1.0,\"#f0f921\"]],\"sequentialminus\":[[0.0,\"#0d0887\"],[0.1111111111111111,\"#46039f\"],[0.2222222222222222,\"#7201a8\"],[0.3333333333333333,\"#9c179e\"],[0.4444444444444444,\"#bd3786\"],[0.5555555555555556,\"#d8576b\"],[0.6666666666666666,\"#ed7953\"],[0.7777777777777778,\"#fb9f3a\"],[0.8888888888888888,\"#fdca26\"],[1.0,\"#f0f921\"]]},\"colorway\":[\"#636efa\",\"#EF553B\",\"#00cc96\",\"#ab63fa\",\"#FFA15A\",\"#19d3f3\",\"#FF6692\",\"#B6E880\",\"#FF97FF\",\"#FECB52\"],\"font\":{\"color\":\"#2a3f5f\"},\"geo\":{\"bgcolor\":\"white\",\"lakecolor\":\"white\",\"landcolor\":\"#E5ECF6\",\"showlakes\":true,\"showland\":true,\"subunitcolor\":\"white\"},\"hoverlabel\":{\"align\":\"left\"},\"hovermode\":\"closest\",\"mapbox\":{\"style\":\"light\"},\"paper_bgcolor\":\"white\",\"plot_bgcolor\":\"#E5ECF6\",\"polar\":{\"angularaxis\":{\"gridcolor\":\"white\",\"linecolor\":\"white\",\"ticks\":\"\"},\"bgcolor\":\"#E5ECF6\",\"radialaxis\":{\"gridcolor\":\"white\",\"linecolor\":\"white\",\"ticks\":\"\"}},\"scene\":{\"xaxis\":{\"backgroundcolor\":\"#E5ECF6\",\"gridcolor\":\"white\",\"gridwidth\":2,\"linecolor\":\"white\",\"showbackground\":true,\"ticks\":\"\",\"zerolinecolor\":\"white\"},\"yaxis\":{\"backgroundcolor\":\"#E5ECF6\",\"gridcolor\":\"white\",\"gridwidth\":2,\"linecolor\":\"white\",\"showbackground\":true,\"ticks\":\"\",\"zerolinecolor\":\"white\"},\"zaxis\":{\"backgroundcolor\":\"#E5ECF6\",\"gridcolor\":\"white\",\"gridwidth\":2,\"linecolor\":\"white\",\"showbackground\":true,\"ticks\":\"\",\"zerolinecolor\":\"white\"}},\"shapedefaults\":{\"line\":{\"color\":\"#2a3f5f\"}},\"ternary\":{\"aaxis\":{\"gridcolor\":\"white\",\"linecolor\":\"white\",\"ticks\":\"\"},\"baxis\":{\"gridcolor\":\"white\",\"linecolor\":\"white\",\"ticks\":\"\"},\"bgcolor\":\"#E5ECF6\",\"caxis\":{\"gridcolor\":\"white\",\"linecolor\":\"white\",\"ticks\":\"\"}},\"title\":{\"x\":0.05},\"xaxis\":{\"automargin\":true,\"gridcolor\":\"white\",\"linecolor\":\"white\",\"ticks\":\"\",\"title\":{\"standoff\":15},\"zerolinecolor\":\"white\",\"zerolinewidth\":2},\"yaxis\":{\"automargin\":true,\"gridcolor\":\"white\",\"linecolor\":\"white\",\"ticks\":\"\",\"title\":{\"standoff\":15},\"zerolinecolor\":\"white\",\"zerolinewidth\":2}}},\"title\":{\"text\":\"Recencia\"}},                        {\"responsive\": true}                    ).then(function(){\n",
              "                            \n",
              "var gd = document.getElementById('580ed864-c723-474a-8826-44232740f1b4');\n",
              "var x = new MutationObserver(function (mutations, observer) {{\n",
              "        var display = window.getComputedStyle(gd).display;\n",
              "        if (!display || display === 'none') {{\n",
              "            console.log([gd, 'removed!']);\n",
              "            Plotly.purge(gd);\n",
              "            observer.disconnect();\n",
              "        }}\n",
              "}});\n",
              "\n",
              "// Listen for the removal of the full notebook cells\n",
              "var notebookContainer = gd.closest('#notebook-container');\n",
              "if (notebookContainer) {{\n",
              "    x.observe(notebookContainer, {childList: true});\n",
              "}}\n",
              "\n",
              "// Listen for the clearing of the current output cell\n",
              "var outputEl = gd.closest('.output');\n",
              "if (outputEl) {{\n",
              "    x.observe(outputEl, {childList: true});\n",
              "}}\n",
              "\n",
              "                        })                };                            </script>        </div>\n",
              "</body>\n",
              "</html>"
            ]
          },
          "metadata": {}
        }
      ],
      "source": [
        "# Se realiza un histograma para analizar la distribución de la recencia de los clientes:\n",
        "plot_data = [\n",
        "    go.Histogram(\n",
        "        x=data_cliente[\"Recencia\"])]\n",
        "plot_layout = go.Layout(\n",
        "        title=\"Recencia\")\n",
        "fig = go.Figure(data=plot_data, layout=plot_layout)\n",
        "pyoff.iplot(fig)"
      ]
    },
    {
      "cell_type": "markdown",
      "metadata": {
        "id": "2jcLxcq1bhqS"
      },
      "source": [
        "Los rangos de inactividad de 5-9 días y 10-14 días son los que más se dan entre los clientes bajo análisis."
      ]
    },
    {
      "cell_type": "markdown",
      "metadata": {
        "id": "dgCg2RV-buPh"
      },
      "source": [
        "A continuación se desarrolla un modelo de K-Means para definir los grupos de recencia a los que pertenece cada cliente. Para determinar la cantidad de clusters se utilizará el método del codo."
      ]
    },
    {
      "cell_type": "code",
      "execution_count": 365,
      "metadata": {
        "colab": {
          "base_uri": "https://localhost:8080/",
          "height": 291
        },
        "id": "5Mzfmugko3Uv",
        "outputId": "7be54404-75f7-46dc-e262-d31c724fcb33"
      },
      "outputs": [
        {
          "output_type": "display_data",
          "data": {
            "text/plain": [
              "<Figure size 432x288 with 1 Axes>"
            ],
            "image/png": "[encoded data removed]"
          },
          "metadata": {
            "needs_background": "light"
          }
        }
      ],
      "source": [
        "# Se lleva a cabo un gráfico del codo para obtener el número óptimo de grupos:\n",
        "sse={}\n",
        "tx_recencia = data_cliente[[\"Recencia\"]]\n",
        "for k in range(1, 10):\n",
        "    kmeans = KMeans(n_clusters=k, max_iter=1000).fit(tx_recencia)\n",
        "    tx_recencia[\"Grupos\"] = kmeans.labels_\n",
        "    sse[k] = kmeans.inertia_ \n",
        "plt.figure()\n",
        "plt.plot(list(sse.keys()), list(sse.values()))\n",
        "plt.xlabel(\"Número de grupos\")\n",
        "plt.show()"
      ]
    },
    {
      "cell_type": "markdown",
      "metadata": {
        "id": "kkHN8R62c3_L"
      },
      "source": [
        "De acuerdo al gráfico del codo la selección de grupos puede estar entre 3 y 4, en este proyecto se seleccionarán 4 grupos."
      ]
    },
    {
      "cell_type": "code",
      "execution_count": 366,
      "metadata": {
        "id": "gC6bJC6Jpjyf"
      },
      "outputs": [],
      "source": [
        "# Se desarrolla el modelo K-Means para asignar los clientes a cada cluster de recencia:\n",
        "kmeans = KMeans(n_clusters=4)\n",
        "kmeans.fit(data_cliente[[\"Recencia\"]])\n",
        "data_cliente[\"Grupo_Recencia\"] = kmeans.predict(data_cliente[[\"Recencia\"]])"
      ]
    },
    {
      "cell_type": "code",
      "execution_count": 367,
      "metadata": {
        "colab": {
          "base_uri": "https://localhost:8080/",
          "height": 206
        },
        "id": "8O0EU3PGKvcl",
        "outputId": "6874eded-cec6-4955-b38e-85e8d289d5e4"
      },
      "outputs": [
        {
          "output_type": "execute_result",
          "data": {
            "text/plain": [
              "   ID_Cliente  Recencia  Grupo_Recencia\n",
              "0     14620.0        12               2\n",
              "1     14740.0         4               2\n",
              "2     13880.0        25               0\n",
              "3     16462.0        91               1\n",
              "4     17068.0        11               2"
            ],
            "text/html": [
              "\n",
              "  <div id=\"df-139e95ea-bac0-42c4-8d53-8372b4dd3a1c\">\n",
              "    <div class=\"colab-df-container\">\n",
              "      <div>\n",
              "<style scoped>\n",
              "    .dataframe tbody tr th:only-of-type {\n",
              "        vertical-align: middle;\n",
              "    }\n",
              "\n",
              "    .dataframe tbody tr th {\n",
              "        vertical-align: top;\n",
              "    }\n",
              "\n",
              "    .dataframe thead th {\n",
              "        text-align: right;\n",
              "    }\n",
              "</style>\n",
              "<table border=\"1\" class=\"dataframe\">\n",
              "  <thead>\n",
              "    <tr style=\"text-align: right;\">\n",
              "      <th></th>\n",
              "      <th>ID_Cliente</th>\n",
              "      <th>Recencia</th>\n",
              "      <th>Grupo_Recencia</th>\n",
              "    </tr>\n",
              "  </thead>\n",
              "  <tbody>\n",
              "    <tr>\n",
              "      <th>0</th>\n",
              "      <td>14620.0</td>\n",
              "      <td>12</td>\n",
              "      <td>2</td>\n",
              "    </tr>\n",
              "    <tr>\n",
              "      <th>1</th>\n",
              "      <td>14740.0</td>\n",
              "      <td>4</td>\n",
              "      <td>2</td>\n",
              "    </tr>\n",
              "    <tr>\n",
              "      <th>2</th>\n",
              "      <td>13880.0</td>\n",
              "      <td>25</td>\n",
              "      <td>0</td>\n",
              "    </tr>\n",
              "    <tr>\n",
              "      <th>3</th>\n",
              "      <td>16462.0</td>\n",
              "      <td>91</td>\n",
              "      <td>1</td>\n",
              "    </tr>\n",
              "    <tr>\n",
              "      <th>4</th>\n",
              "      <td>17068.0</td>\n",
              "      <td>11</td>\n",
              "      <td>2</td>\n",
              "    </tr>\n",
              "  </tbody>\n",
              "</table>\n",
              "</div>\n",
              "      <button class=\"colab-df-convert\" onclick=\"convertToInteractive('df-139e95ea-bac0-42c4-8d53-8372b4dd3a1c')\"\n",
              "              title=\"Convert this dataframe to an interactive table.\"\n",
              "              style=\"display:none;\">\n",
              "        \n",
              "  <svg xmlns=\"http://www.w3.org/2000/svg\" height=\"24px\"viewBox=\"0 0 24 24\"\n",
              "       width=\"24px\">\n",
              "    <path d=\"M0 0h24v24H0V0z\" fill=\"none\"/>\n",
              "    <path d=\"M18.56 5.44l.94 2.06.94-2.06 2.06-.94-2.06-.94-.94-2.06-.94 2.06-2.06.94zm-11 1L8.5 8.5l.94-2.06 2.06-.94-2.06-.94L8.5 2.5l-.94 2.06-2.06.94zm10 10l.94 2.06.94-2.06 2.06-.94-2.06-.94-.94-2.06-.94 2.06-2.06.94z\"/><path d=\"M17.41 7.96l-1.37-1.37c-.4-.4-.92-.59-1.43-.59-.52 0-1.04.2-1.43.59L10.3 9.45l-7.72 7.72c-.78.78-.78 2.05 0 2.83L4 21.41c.39.39.9.59 1.41.59.51 0 1.02-.2 1.41-.59l7.78-7.78 2.81-2.81c.8-.78.8-2.07 0-2.86zM5.41 20L4 18.59l7.72-7.72 1.47 1.35L5.41 20z\"/>\n",
              "  </svg>\n",
              "      </button>\n",
              "      \n",
              "  <style>\n",
              "    .colab-df-container {\n",
              "      display:flex;\n",
              "      flex-wrap:wrap;\n",
              "      gap: 12px;\n",
              "    }\n",
              "\n",
              "    .colab-df-convert {\n",
              "      background-color: #E8F0FE;\n",
              "      border: none;\n",
              "      border-radius: 50%;\n",
              "      cursor: pointer;\n",
              "      display: none;\n",
              "      fill: #1967D2;\n",
              "      height: 32px;\n",
              "      padding: 0 0 0 0;\n",
              "      width: 32px;\n",
              "    }\n",
              "\n",
              "    .colab-df-convert:hover {\n",
              "      background-color: #E2EBFA;\n",
              "      box-shadow: 0px 1px 2px rgba(60, 64, 67, 0.3), 0px 1px 3px 1px rgba(60, 64, 67, 0.15);\n",
              "      fill: #174EA6;\n",
              "    }\n",
              "\n",
              "    [theme=dark] .colab-df-convert {\n",
              "      background-color: #3B4455;\n",
              "      fill: #D2E3FC;\n",
              "    }\n",
              "\n",
              "    [theme=dark] .colab-df-convert:hover {\n",
              "      background-color: #434B5C;\n",
              "      box-shadow: 0px 1px 3px 1px rgba(0, 0, 0, 0.15);\n",
              "      filter: drop-shadow(0px 1px 2px rgba(0, 0, 0, 0.3));\n",
              "      fill: #FFFFFF;\n",
              "    }\n",
              "  </style>\n",
              "\n",
              "      <script>\n",
              "        const buttonEl =\n",
              "          document.querySelector('#df-139e95ea-bac0-42c4-8d53-8372b4dd3a1c button.colab-df-convert');\n",
              "        buttonEl.style.display =\n",
              "          google.colab.kernel.accessAllowed ? 'block' : 'none';\n",
              "\n",
              "        async function convertToInteractive(key) {\n",
              "          const element = document.querySelector('#df-139e95ea-bac0-42c4-8d53-8372b4dd3a1c');\n",
              "          const dataTable =\n",
              "            await google.colab.kernel.invokeFunction('convertToInteractive',\n",
              "                                                     [key], {});\n",
              "          if (!dataTable) return;\n",
              "\n",
              "          const docLinkHtml = 'Like what you see? Visit the ' +\n",
              "            '<a target=\"_blank\" href=https://colab.research.google.com/notebooks/data_table.ipynb>data table notebook</a>'\n",
              "            + ' to learn more about interactive tables.';\n",
              "          element.innerHTML = '';\n",
              "          dataTable['output_type'] = 'display_data';\n",
              "          await google.colab.output.renderOutput(dataTable, element);\n",
              "          const docLink = document.createElement('div');\n",
              "          docLink.innerHTML = docLinkHtml;\n",
              "          element.appendChild(docLink);\n",
              "        }\n",
              "      </script>\n",
              "    </div>\n",
              "  </div>\n",
              "  "
            ]
          },
          "metadata": {},
          "execution_count": 367
        }
      ],
      "source": [
        "# Se observa el encabezado del dataframe con la columna \"Cluster_Recencia\":\n",
        "data_cliente.head()"
      ]
    },
    {
      "cell_type": "markdown",
      "metadata": {
        "id": "Zhxymi9lduU-"
      },
      "source": [
        "Se han calculado los grupos de recencia y se han asignado los clientes a cada uno."
      ]
    },
    {
      "cell_type": "code",
      "execution_count": 368,
      "metadata": {
        "colab": {
          "base_uri": "https://localhost:8080/",
          "height": 206
        },
        "id": "vb3Yvgd2ENgT",
        "outputId": "1098fda1-a0f5-429f-e452-2a6c32ae50de"
      },
      "outputs": [
        {
          "output_type": "execute_result",
          "data": {
            "text/plain": [
              "                count       mean       std   min   25%   50%   75%   max\n",
              "Grupo_Recencia                                                          \n",
              "0               444.0  24.373874  4.959870  17.0  20.0  23.0  27.0  35.0\n",
              "1               349.0  76.885387  8.373023  64.0  70.0  76.0  84.0  91.0\n",
              "2               608.0   8.312500  4.404323   0.0   5.0   8.0  12.0  16.0\n",
              "3               439.0  50.020501  7.377743  39.0  43.0  49.0  56.0  63.0"
            ],
            "text/html": [
              "\n",
              "  <div id=\"df-3be7b352-f3ba-415a-92e9-c426bd6eb923\">\n",
              "    <div class=\"colab-df-container\">\n",
              "      <div>\n",
              "<style scoped>\n",
              "    .dataframe tbody tr th:only-of-type {\n",
              "        vertical-align: middle;\n",
              "    }\n",
              "\n",
              "    .dataframe tbody tr th {\n",
              "        vertical-align: top;\n",
              "    }\n",
              "\n",
              "    .dataframe thead th {\n",
              "        text-align: right;\n",
              "    }\n",
              "</style>\n",
              "<table border=\"1\" class=\"dataframe\">\n",
              "  <thead>\n",
              "    <tr style=\"text-align: right;\">\n",
              "      <th></th>\n",
              "      <th>count</th>\n",
              "      <th>mean</th>\n",
              "      <th>std</th>\n",
              "      <th>min</th>\n",
              "      <th>25%</th>\n",
              "      <th>50%</th>\n",
              "      <th>75%</th>\n",
              "      <th>max</th>\n",
              "    </tr>\n",
              "    <tr>\n",
              "      <th>Grupo_Recencia</th>\n",
              "      <th></th>\n",
              "      <th></th>\n",
              "      <th></th>\n",
              "      <th></th>\n",
              "      <th></th>\n",
              "      <th></th>\n",
              "      <th></th>\n",
              "      <th></th>\n",
              "    </tr>\n",
              "  </thead>\n",
              "  <tbody>\n",
              "    <tr>\n",
              "      <th>0</th>\n",
              "      <td>444.0</td>\n",
              "      <td>24.373874</td>\n",
              "      <td>4.959870</td>\n",
              "      <td>17.0</td>\n",
              "      <td>20.0</td>\n",
              "      <td>23.0</td>\n",
              "      <td>27.0</td>\n",
              "      <td>35.0</td>\n",
              "    </tr>\n",
              "    <tr>\n",
              "      <th>1</th>\n",
              "      <td>349.0</td>\n",
              "      <td>76.885387</td>\n",
              "      <td>8.373023</td>\n",
              "      <td>64.0</td>\n",
              "      <td>70.0</td>\n",
              "      <td>76.0</td>\n",
              "      <td>84.0</td>\n",
              "      <td>91.0</td>\n",
              "    </tr>\n",
              "    <tr>\n",
              "      <th>2</th>\n",
              "      <td>608.0</td>\n",
              "      <td>8.312500</td>\n",
              "      <td>4.404323</td>\n",
              "      <td>0.0</td>\n",
              "      <td>5.0</td>\n",
              "      <td>8.0</td>\n",
              "      <td>12.0</td>\n",
              "      <td>16.0</td>\n",
              "    </tr>\n",
              "    <tr>\n",
              "      <th>3</th>\n",
              "      <td>439.0</td>\n",
              "      <td>50.020501</td>\n",
              "      <td>7.377743</td>\n",
              "      <td>39.0</td>\n",
              "      <td>43.0</td>\n",
              "      <td>49.0</td>\n",
              "      <td>56.0</td>\n",
              "      <td>63.0</td>\n",
              "    </tr>\n",
              "  </tbody>\n",
              "</table>\n",
              "</div>\n",
              "      <button class=\"colab-df-convert\" onclick=\"convertToInteractive('df-3be7b352-f3ba-415a-92e9-c426bd6eb923')\"\n",
              "              title=\"Convert this dataframe to an interactive table.\"\n",
              "              style=\"display:none;\">\n",
              "        \n",
              "  <svg xmlns=\"http://www.w3.org/2000/svg\" height=\"24px\"viewBox=\"0 0 24 24\"\n",
              "       width=\"24px\">\n",
              "    <path d=\"M0 0h24v24H0V0z\" fill=\"none\"/>\n",
              "    <path d=\"M18.56 5.44l.94 2.06.94-2.06 2.06-.94-2.06-.94-.94-2.06-.94 2.06-2.06.94zm-11 1L8.5 8.5l.94-2.06 2.06-.94-2.06-.94L8.5 2.5l-.94 2.06-2.06.94zm10 10l.94 2.06.94-2.06 2.06-.94-2.06-.94-.94-2.06-.94 2.06-2.06.94z\"/><path d=\"M17.41 7.96l-1.37-1.37c-.4-.4-.92-.59-1.43-.59-.52 0-1.04.2-1.43.59L10.3 9.45l-7.72 7.72c-.78.78-.78 2.05 0 2.83L4 21.41c.39.39.9.59 1.41.59.51 0 1.02-.2 1.41-.59l7.78-7.78 2.81-2.81c.8-.78.8-2.07 0-2.86zM5.41 20L4 18.59l7.72-7.72 1.47 1.35L5.41 20z\"/>\n",
              "  </svg>\n",
              "      </button>\n",
              "      \n",
              "  <style>\n",
              "    .colab-df-container {\n",
              "      display:flex;\n",
              "      flex-wrap:wrap;\n",
              "      gap: 12px;\n",
              "    }\n",
              "\n",
              "    .colab-df-convert {\n",
              "      background-color: #E8F0FE;\n",
              "      border: none;\n",
              "      border-radius: 50%;\n",
              "      cursor: pointer;\n",
              "      display: none;\n",
              "      fill: #1967D2;\n",
              "      height: 32px;\n",
              "      padding: 0 0 0 0;\n",
              "      width: 32px;\n",
              "    }\n",
              "\n",
              "    .colab-df-convert:hover {\n",
              "      background-color: #E2EBFA;\n",
              "      box-shadow: 0px 1px 2px rgba(60, 64, 67, 0.3), 0px 1px 3px 1px rgba(60, 64, 67, 0.15);\n",
              "      fill: #174EA6;\n",
              "    }\n",
              "\n",
              "    [theme=dark] .colab-df-convert {\n",
              "      background-color: #3B4455;\n",
              "      fill: #D2E3FC;\n",
              "    }\n",
              "\n",
              "    [theme=dark] .colab-df-convert:hover {\n",
              "      background-color: #434B5C;\n",
              "      box-shadow: 0px 1px 3px 1px rgba(0, 0, 0, 0.15);\n",
              "      filter: drop-shadow(0px 1px 2px rgba(0, 0, 0, 0.3));\n",
              "      fill: #FFFFFF;\n",
              "    }\n",
              "  </style>\n",
              "\n",
              "      <script>\n",
              "        const buttonEl =\n",
              "          document.querySelector('#df-3be7b352-f3ba-415a-92e9-c426bd6eb923 button.colab-df-convert');\n",
              "        buttonEl.style.display =\n",
              "          google.colab.kernel.accessAllowed ? 'block' : 'none';\n",
              "\n",
              "        async function convertToInteractive(key) {\n",
              "          const element = document.querySelector('#df-3be7b352-f3ba-415a-92e9-c426bd6eb923');\n",
              "          const dataTable =\n",
              "            await google.colab.kernel.invokeFunction('convertToInteractive',\n",
              "                                                     [key], {});\n",
              "          if (!dataTable) return;\n",
              "\n",
              "          const docLinkHtml = 'Like what you see? Visit the ' +\n",
              "            '<a target=\"_blank\" href=https://colab.research.google.com/notebooks/data_table.ipynb>data table notebook</a>'\n",
              "            + ' to learn more about interactive tables.';\n",
              "          element.innerHTML = '';\n",
              "          dataTable['output_type'] = 'display_data';\n",
              "          await google.colab.output.renderOutput(dataTable, element);\n",
              "          const docLink = document.createElement('div');\n",
              "          docLink.innerHTML = docLinkHtml;\n",
              "          element.appendChild(docLink);\n",
              "        }\n",
              "      </script>\n",
              "    </div>\n",
              "  </div>\n",
              "  "
            ]
          },
          "metadata": {},
          "execution_count": 368
        }
      ],
      "source": [
        "# Se analizan los valores de recencia para cada uno de los grupos:\n",
        "data_cliente.groupby(\"Grupo_Recencia\")[\"Recencia\"].describe()"
      ]
    },
    {
      "cell_type": "markdown",
      "metadata": {
        "id": "DlLChu0gES_u"
      },
      "source": [
        "Se puede observar que los grupos no están ordenados (el grupo 0 es el que tendría que tener el valor promedio de inactividad más alto y el grupo 3 el más bajo, dado que los mejores clientes son los más activos). \n",
        "\n",
        "A continuación se calcula una función para ordenar los grupos."
      ]
    },
    {
      "cell_type": "code",
      "execution_count": 369,
      "metadata": {
        "id": "ZwjxtU0tEYnu"
      },
      "outputs": [],
      "source": [
        "# Se define una función para ordenar los grupos:\n",
        "def grupo_ordenado(nombre_grupo, metrica,df,ascending):\n",
        "    nombre_grupo_nuevo = \"new_\" + nombre_grupo\n",
        "    data = df.groupby(nombre_grupo)[metrica].mean().reset_index()\n",
        "    data = data.sort_values(by=metrica,ascending=ascending).reset_index(drop=True)\n",
        "    data[\"indice\"] = data.index\n",
        "    df_final = pd.merge(df,data[[nombre_grupo,\"indice\"]], on=nombre_grupo)\n",
        "    df_final = df_final.drop([nombre_grupo],axis=1)\n",
        "    df_final = df_final.rename(columns={\"indice\":nombre_grupo})\n",
        "    return df_final\n",
        "\n",
        "data_cliente = grupo_ordenado(\"Grupo_Recencia\", \"Recencia\", data_cliente, False)"
      ]
    },
    {
      "cell_type": "code",
      "execution_count": 370,
      "metadata": {
        "colab": {
          "base_uri": "https://localhost:8080/",
          "height": 206
        },
        "id": "nENJLUgkEe16",
        "outputId": "4ca3e7e8-8173-4b66-97ee-58cfc5d2b109"
      },
      "outputs": [
        {
          "output_type": "execute_result",
          "data": {
            "text/plain": [
              "                count       mean       std   min   25%   50%   75%   max\n",
              "Grupo_Recencia                                                          \n",
              "0               349.0  76.885387  8.373023  64.0  70.0  76.0  84.0  91.0\n",
              "1               439.0  50.020501  7.377743  39.0  43.0  49.0  56.0  63.0\n",
              "2               444.0  24.373874  4.959870  17.0  20.0  23.0  27.0  35.0\n",
              "3               608.0   8.312500  4.404323   0.0   5.0   8.0  12.0  16.0"
            ],
            "text/html": [
              "\n",
              "  <div id=\"df-2bbef3b4-8ce7-460f-b286-ccab3b6cf87d\">\n",
              "    <div class=\"colab-df-container\">\n",
              "      <div>\n",
              "<style scoped>\n",
              "    .dataframe tbody tr th:only-of-type {\n",
              "        vertical-align: middle;\n",
              "    }\n",
              "\n",
              "    .dataframe tbody tr th {\n",
              "        vertical-align: top;\n",
              "    }\n",
              "\n",
              "    .dataframe thead th {\n",
              "        text-align: right;\n",
              "    }\n",
              "</style>\n",
              "<table border=\"1\" class=\"dataframe\">\n",
              "  <thead>\n",
              "    <tr style=\"text-align: right;\">\n",
              "      <th></th>\n",
              "      <th>count</th>\n",
              "      <th>mean</th>\n",
              "      <th>std</th>\n",
              "      <th>min</th>\n",
              "      <th>25%</th>\n",
              "      <th>50%</th>\n",
              "      <th>75%</th>\n",
              "      <th>max</th>\n",
              "    </tr>\n",
              "    <tr>\n",
              "      <th>Grupo_Recencia</th>\n",
              "      <th></th>\n",
              "      <th></th>\n",
              "      <th></th>\n",
              "      <th></th>\n",
              "      <th></th>\n",
              "      <th></th>\n",
              "      <th></th>\n",
              "      <th></th>\n",
              "    </tr>\n",
              "  </thead>\n",
              "  <tbody>\n",
              "    <tr>\n",
              "      <th>0</th>\n",
              "      <td>349.0</td>\n",
              "      <td>76.885387</td>\n",
              "      <td>8.373023</td>\n",
              "      <td>64.0</td>\n",
              "      <td>70.0</td>\n",
              "      <td>76.0</td>\n",
              "      <td>84.0</td>\n",
              "      <td>91.0</td>\n",
              "    </tr>\n",
              "    <tr>\n",
              "      <th>1</th>\n",
              "      <td>439.0</td>\n",
              "      <td>50.020501</td>\n",
              "      <td>7.377743</td>\n",
              "      <td>39.0</td>\n",
              "      <td>43.0</td>\n",
              "      <td>49.0</td>\n",
              "      <td>56.0</td>\n",
              "      <td>63.0</td>\n",
              "    </tr>\n",
              "    <tr>\n",
              "      <th>2</th>\n",
              "      <td>444.0</td>\n",
              "      <td>24.373874</td>\n",
              "      <td>4.959870</td>\n",
              "      <td>17.0</td>\n",
              "      <td>20.0</td>\n",
              "      <td>23.0</td>\n",
              "      <td>27.0</td>\n",
              "      <td>35.0</td>\n",
              "    </tr>\n",
              "    <tr>\n",
              "      <th>3</th>\n",
              "      <td>608.0</td>\n",
              "      <td>8.312500</td>\n",
              "      <td>4.404323</td>\n",
              "      <td>0.0</td>\n",
              "      <td>5.0</td>\n",
              "      <td>8.0</td>\n",
              "      <td>12.0</td>\n",
              "      <td>16.0</td>\n",
              "    </tr>\n",
              "  </tbody>\n",
              "</table>\n",
              "</div>\n",
              "      <button class=\"colab-df-convert\" onclick=\"convertToInteractive('df-2bbef3b4-8ce7-460f-b286-ccab3b6cf87d')\"\n",
              "              title=\"Convert this dataframe to an interactive table.\"\n",
              "              style=\"display:none;\">\n",
              "        \n",
              "  <svg xmlns=\"http://www.w3.org/2000/svg\" height=\"24px\"viewBox=\"0 0 24 24\"\n",
              "       width=\"24px\">\n",
              "    <path d=\"M0 0h24v24H0V0z\" fill=\"none\"/>\n",
              "    <path d=\"M18.56 5.44l.94 2.06.94-2.06 2.06-.94-2.06-.94-.94-2.06-.94 2.06-2.06.94zm-11 1L8.5 8.5l.94-2.06 2.06-.94-2.06-.94L8.5 2.5l-.94 2.06-2.06.94zm10 10l.94 2.06.94-2.06 2.06-.94-2.06-.94-.94-2.06-.94 2.06-2.06.94z\"/><path d=\"M17.41 7.96l-1.37-1.37c-.4-.4-.92-.59-1.43-.59-.52 0-1.04.2-1.43.59L10.3 9.45l-7.72 7.72c-.78.78-.78 2.05 0 2.83L4 21.41c.39.39.9.59 1.41.59.51 0 1.02-.2 1.41-.59l7.78-7.78 2.81-2.81c.8-.78.8-2.07 0-2.86zM5.41 20L4 18.59l7.72-7.72 1.47 1.35L5.41 20z\"/>\n",
              "  </svg>\n",
              "      </button>\n",
              "      \n",
              "  <style>\n",
              "    .colab-df-container {\n",
              "      display:flex;\n",
              "      flex-wrap:wrap;\n",
              "      gap: 12px;\n",
              "    }\n",
              "\n",
              "    .colab-df-convert {\n",
              "      background-color: #E8F0FE;\n",
              "      border: none;\n",
              "      border-radius: 50%;\n",
              "      cursor: pointer;\n",
              "      display: none;\n",
              "      fill: #1967D2;\n",
              "      height: 32px;\n",
              "      padding: 0 0 0 0;\n",
              "      width: 32px;\n",
              "    }\n",
              "\n",
              "    .colab-df-convert:hover {\n",
              "      background-color: #E2EBFA;\n",
              "      box-shadow: 0px 1px 2px rgba(60, 64, 67, 0.3), 0px 1px 3px 1px rgba(60, 64, 67, 0.15);\n",
              "      fill: #174EA6;\n",
              "    }\n",
              "\n",
              "    [theme=dark] .colab-df-convert {\n",
              "      background-color: #3B4455;\n",
              "      fill: #D2E3FC;\n",
              "    }\n",
              "\n",
              "    [theme=dark] .colab-df-convert:hover {\n",
              "      background-color: #434B5C;\n",
              "      box-shadow: 0px 1px 3px 1px rgba(0, 0, 0, 0.15);\n",
              "      filter: drop-shadow(0px 1px 2px rgba(0, 0, 0, 0.3));\n",
              "      fill: #FFFFFF;\n",
              "    }\n",
              "  </style>\n",
              "\n",
              "      <script>\n",
              "        const buttonEl =\n",
              "          document.querySelector('#df-2bbef3b4-8ce7-460f-b286-ccab3b6cf87d button.colab-df-convert');\n",
              "        buttonEl.style.display =\n",
              "          google.colab.kernel.accessAllowed ? 'block' : 'none';\n",
              "\n",
              "        async function convertToInteractive(key) {\n",
              "          const element = document.querySelector('#df-2bbef3b4-8ce7-460f-b286-ccab3b6cf87d');\n",
              "          const dataTable =\n",
              "            await google.colab.kernel.invokeFunction('convertToInteractive',\n",
              "                                                     [key], {});\n",
              "          if (!dataTable) return;\n",
              "\n",
              "          const docLinkHtml = 'Like what you see? Visit the ' +\n",
              "            '<a target=\"_blank\" href=https://colab.research.google.com/notebooks/data_table.ipynb>data table notebook</a>'\n",
              "            + ' to learn more about interactive tables.';\n",
              "          element.innerHTML = '';\n",
              "          dataTable['output_type'] = 'display_data';\n",
              "          await google.colab.output.renderOutput(dataTable, element);\n",
              "          const docLink = document.createElement('div');\n",
              "          docLink.innerHTML = docLinkHtml;\n",
              "          element.appendChild(docLink);\n",
              "        }\n",
              "      </script>\n",
              "    </div>\n",
              "  </div>\n",
              "  "
            ]
          },
          "metadata": {},
          "execution_count": 370
        }
      ],
      "source": [
        "# Se analizan los valores de recencia con los grupos ordenados:\n",
        "data_cliente.groupby(\"Grupo_Recencia\")[\"Recencia\"].describe()\n"
      ]
    },
    {
      "cell_type": "markdown",
      "metadata": {
        "id": "CWTLU1g4EixI"
      },
      "source": [
        "El grupo 3 quedó conformado con los clientes con la menor inactividad  y el grupo 0 con clientes con la mayor cantidad de días promedio de días inactivos desde la última compra."
      ]
    },
    {
      "cell_type": "markdown",
      "metadata": {
        "id": "SRxkSqd2qUQO"
      },
      "source": [
        "**8) Cálculo de la Frecuencia**"
      ]
    },
    {
      "cell_type": "markdown",
      "metadata": {
        "id": "TecA8arLhWgN"
      },
      "source": [
        "Para crear grupos en base a la frecuencia de compras, es necesario determinar el número total de compras de cada cliente en el periodo bajo análisis."
      ]
    },
    {
      "cell_type": "code",
      "execution_count": 371,
      "metadata": {
        "id": "yIJm2HwnLbNL"
      },
      "outputs": [],
      "source": [
        "# Se crea un dataframe con datos de la frecuencia de compras en los primer tres meses:\n",
        "data1 = data_3m.groupby(\"ID_Cliente\").F_Factura.count().reset_index()\n",
        "data1.columns = [\"ID_Cliente\",\"Frecuencia\"]\n",
        "# Se une el dataframe de frecuencia con el dataframe de recencia\n",
        "data_cliente = pd.merge(data_cliente, data1, on=\"ID_Cliente\")"
      ]
    },
    {
      "cell_type": "code",
      "execution_count": 372,
      "metadata": {
        "colab": {
          "base_uri": "https://localhost:8080/",
          "height": 206
        },
        "id": "vSJHEDbVMRJb",
        "outputId": "3accfba9-5d28-477e-a229-1163d650af9d"
      },
      "outputs": [
        {
          "output_type": "execute_result",
          "data": {
            "text/plain": [
              "   ID_Cliente  Recencia  Grupo_Recencia  Frecuencia\n",
              "0     14620.0        12               3          30\n",
              "1     14740.0         4               3          89\n",
              "2     17068.0        11               3          76\n",
              "3     12971.0         4               3          73\n",
              "4     15194.0         6               3          64"
            ],
            "text/html": [
              "\n",
              "  <div id=\"df-d29badbb-5286-493c-a408-3f5f067d2efc\">\n",
              "    <div class=\"colab-df-container\">\n",
              "      <div>\n",
              "<style scoped>\n",
              "    .dataframe tbody tr th:only-of-type {\n",
              "        vertical-align: middle;\n",
              "    }\n",
              "\n",
              "    .dataframe tbody tr th {\n",
              "        vertical-align: top;\n",
              "    }\n",
              "\n",
              "    .dataframe thead th {\n",
              "        text-align: right;\n",
              "    }\n",
              "</style>\n",
              "<table border=\"1\" class=\"dataframe\">\n",
              "  <thead>\n",
              "    <tr style=\"text-align: right;\">\n",
              "      <th></th>\n",
              "      <th>ID_Cliente</th>\n",
              "      <th>Recencia</th>\n",
              "      <th>Grupo_Recencia</th>\n",
              "      <th>Frecuencia</th>\n",
              "    </tr>\n",
              "  </thead>\n",
              "  <tbody>\n",
              "    <tr>\n",
              "      <th>0</th>\n",
              "      <td>14620.0</td>\n",
              "      <td>12</td>\n",
              "      <td>3</td>\n",
              "      <td>30</td>\n",
              "    </tr>\n",
              "    <tr>\n",
              "      <th>1</th>\n",
              "      <td>14740.0</td>\n",
              "      <td>4</td>\n",
              "      <td>3</td>\n",
              "      <td>89</td>\n",
              "    </tr>\n",
              "    <tr>\n",
              "      <th>2</th>\n",
              "      <td>17068.0</td>\n",
              "      <td>11</td>\n",
              "      <td>3</td>\n",
              "      <td>76</td>\n",
              "    </tr>\n",
              "    <tr>\n",
              "      <th>3</th>\n",
              "      <td>12971.0</td>\n",
              "      <td>4</td>\n",
              "      <td>3</td>\n",
              "      <td>73</td>\n",
              "    </tr>\n",
              "    <tr>\n",
              "      <th>4</th>\n",
              "      <td>15194.0</td>\n",
              "      <td>6</td>\n",
              "      <td>3</td>\n",
              "      <td>64</td>\n",
              "    </tr>\n",
              "  </tbody>\n",
              "</table>\n",
              "</div>\n",
              "      <button class=\"colab-df-convert\" onclick=\"convertToInteractive('df-d29badbb-5286-493c-a408-3f5f067d2efc')\"\n",
              "              title=\"Convert this dataframe to an interactive table.\"\n",
              "              style=\"display:none;\">\n",
              "        \n",
              "  <svg xmlns=\"http://www.w3.org/2000/svg\" height=\"24px\"viewBox=\"0 0 24 24\"\n",
              "       width=\"24px\">\n",
              "    <path d=\"M0 0h24v24H0V0z\" fill=\"none\"/>\n",
              "    <path d=\"M18.56 5.44l.94 2.06.94-2.06 2.06-.94-2.06-.94-.94-2.06-.94 2.06-2.06.94zm-11 1L8.5 8.5l.94-2.06 2.06-.94-2.06-.94L8.5 2.5l-.94 2.06-2.06.94zm10 10l.94 2.06.94-2.06 2.06-.94-2.06-.94-.94-2.06-.94 2.06-2.06.94z\"/><path d=\"M17.41 7.96l-1.37-1.37c-.4-.4-.92-.59-1.43-.59-.52 0-1.04.2-1.43.59L10.3 9.45l-7.72 7.72c-.78.78-.78 2.05 0 2.83L4 21.41c.39.39.9.59 1.41.59.51 0 1.02-.2 1.41-.59l7.78-7.78 2.81-2.81c.8-.78.8-2.07 0-2.86zM5.41 20L4 18.59l7.72-7.72 1.47 1.35L5.41 20z\"/>\n",
              "  </svg>\n",
              "      </button>\n",
              "      \n",
              "  <style>\n",
              "    .colab-df-container {\n",
              "      display:flex;\n",
              "      flex-wrap:wrap;\n",
              "      gap: 12px;\n",
              "    }\n",
              "\n",
              "    .colab-df-convert {\n",
              "      background-color: #E8F0FE;\n",
              "      border: none;\n",
              "      border-radius: 50%;\n",
              "      cursor: pointer;\n",
              "      display: none;\n",
              "      fill: #1967D2;\n",
              "      height: 32px;\n",
              "      padding: 0 0 0 0;\n",
              "      width: 32px;\n",
              "    }\n",
              "\n",
              "    .colab-df-convert:hover {\n",
              "      background-color: #E2EBFA;\n",
              "      box-shadow: 0px 1px 2px rgba(60, 64, 67, 0.3), 0px 1px 3px 1px rgba(60, 64, 67, 0.15);\n",
              "      fill: #174EA6;\n",
              "    }\n",
              "\n",
              "    [theme=dark] .colab-df-convert {\n",
              "      background-color: #3B4455;\n",
              "      fill: #D2E3FC;\n",
              "    }\n",
              "\n",
              "    [theme=dark] .colab-df-convert:hover {\n",
              "      background-color: #434B5C;\n",
              "      box-shadow: 0px 1px 3px 1px rgba(0, 0, 0, 0.15);\n",
              "      filter: drop-shadow(0px 1px 2px rgba(0, 0, 0, 0.3));\n",
              "      fill: #FFFFFF;\n",
              "    }\n",
              "  </style>\n",
              "\n",
              "      <script>\n",
              "        const buttonEl =\n",
              "          document.querySelector('#df-d29badbb-5286-493c-a408-3f5f067d2efc button.colab-df-convert');\n",
              "        buttonEl.style.display =\n",
              "          google.colab.kernel.accessAllowed ? 'block' : 'none';\n",
              "\n",
              "        async function convertToInteractive(key) {\n",
              "          const element = document.querySelector('#df-d29badbb-5286-493c-a408-3f5f067d2efc');\n",
              "          const dataTable =\n",
              "            await google.colab.kernel.invokeFunction('convertToInteractive',\n",
              "                                                     [key], {});\n",
              "          if (!dataTable) return;\n",
              "\n",
              "          const docLinkHtml = 'Like what you see? Visit the ' +\n",
              "            '<a target=\"_blank\" href=https://colab.research.google.com/notebooks/data_table.ipynb>data table notebook</a>'\n",
              "            + ' to learn more about interactive tables.';\n",
              "          element.innerHTML = '';\n",
              "          dataTable['output_type'] = 'display_data';\n",
              "          await google.colab.output.renderOutput(dataTable, element);\n",
              "          const docLink = document.createElement('div');\n",
              "          docLink.innerHTML = docLinkHtml;\n",
              "          element.appendChild(docLink);\n",
              "        }\n",
              "      </script>\n",
              "    </div>\n",
              "  </div>\n",
              "  "
            ]
          },
          "metadata": {},
          "execution_count": 372
        }
      ],
      "source": [
        "# Se obsvera el dataframe con la columna \"Frecuencia\":\n",
        "data_cliente.head()"
      ]
    },
    {
      "cell_type": "markdown",
      "metadata": {
        "id": "junNgomnE71P"
      },
      "source": [
        "Se observa la frecuencia de compra de cada cliente."
      ]
    },
    {
      "cell_type": "code",
      "execution_count": 373,
      "metadata": {
        "colab": {
          "base_uri": "https://localhost:8080/",
          "height": 0
        },
        "id": "KucIQ7UphvH1",
        "outputId": "7ace6716-f30f-401c-ae5d-f94ed5e5f055"
      },
      "outputs": [
        {
          "output_type": "execute_result",
          "data": {
            "text/plain": [
              "count    1840.0\n",
              "mean       39.0\n",
              "std        60.0\n",
              "min         1.0\n",
              "25%        12.0\n",
              "50%        23.0\n",
              "75%        47.0\n",
              "max      1346.0\n",
              "Name: Frecuencia, dtype: float64"
            ]
          },
          "metadata": {},
          "execution_count": 373
        }
      ],
      "source": [
        "# Se observan las principales estadísticas descriptivas de la frecuencia de compra:\n",
        "data_cliente.Frecuencia.describe().round()\n"
      ]
    },
    {
      "cell_type": "markdown",
      "metadata": {
        "id": "hjtk-oOG0k_J"
      },
      "source": [
        "El promedio de compras por cliente es 39 mientras que la mediana de compras es de 23 unidades."
      ]
    },
    {
      "cell_type": "code",
      "execution_count": 374,
      "metadata": {
        "colab": {
          "base_uri": "https://localhost:8080/",
          "height": 542
        },
        "id": "jqUywW6uq2CQ",
        "outputId": "0b941408-e195-4dad-ff36-5db28be63e48"
      },
      "outputs": [
        {
          "output_type": "display_data",
          "data": {
            "text/html": [
              "<html>\n",
              "<head><meta charset=\"utf-8\" /></head>\n",
              "<body>\n",
              "    <div>            <script src=\"https://cdnjs.cloudflare.com/ajax/libs/mathjax/2.7.5/MathJax.js?config=TeX-AMS-MML_SVG\"></script><script type=\"text/javascript\">if (window.MathJax) {MathJax.Hub.Config({SVG: {font: \"STIX-Web\"}});}</script>                <script type=\"text/javascript\">window.PlotlyConfig = {MathJaxConfig: 'local'};</script>\n",
              "        <script src=\"https://cdn.plot.ly/plotly-2.8.3.min.js\"></script>                <div id=\"6e860c58-13e8-411d-9165-5994491343fa\" class=\"plotly-graph-div\" style=\"height:525px; width:100%;\"></div>            <script type=\"text/javascript\">                                    window.PLOTLYENV=window.PLOTLYENV || {};                                    if (document.getElementById(\"6e860c58-13e8-411d-9165-5994491343fa\")) {                    Plotly.newPlot(                        \"6e860c58-13e8-411d-9165-5994491343fa\",                        [{\"x\":[30,89,76,73,64,57,35,64,121,518,97,34,18,73,35,47,65,12,16,68,43,11,71,77,9,407,651,38,150,67,75,50,59,112,129,79,199,241,48,55,50,175,109,81,280,66,55,52,50,23,39,128,128,24,58,126,344,65,159,46,58,91,39,128,40,99,29,128,88,59,153,210,210,724,168,434,18,46,19,48,72,106,32,24,45,448,117,12,261,30,63,32,122,28,95,77,10,37,189,567,32,31,11,59,62,58,14,15,47,118,79,142,31,31,66,102,65,117,30,33,54,93,64,103,27,7,25,95,31,47,18,327,135,20,95,165,57,68,116,3,56,91,133,203,82,108,51,9,84,24,34,109,39,32,8,76,45,24,45,85,65,47,60,113,53,199,155,12,104,46,222,34,81,9,58,38,13,256,59,28,106,33,4,27,69,62,11,61,38,178,73,65,48,16,26,66,10,8,27,76,47,20,537,13,43,39,32,108,110,39,15,16,42,66,25,81,156,66,168,48,25,62,10,28,103,32,17,64,17,100,123,152,108,115,38,57,37,20,42,15,23,55,34,211,17,46,61,111,83,40,114,147,18,111,53,13,29,43,71,43,91,66,37,78,61,26,75,118,22,17,12,37,58,119,130,2,58,67,49,25,101,34,62,110,11,29,43,63,24,3,119,114,8,130,65,64,62,88,24,18,58,147,184,60,35,9,68,36,45,55,70,57,56,35,12,86,87,28,73,54,44,58,87,32,112,42,54,30,19,29,15,30,48,50,14,222,15,55,13,67,20,28,35,40,49,48,81,21,57,27,26,25,32,78,16,80,37,38,34,175,20,8,124,20,16,39,20,15,75,21,23,90,38,123,53,5,28,92,30,33,76,55,19,31,11,31,31,19,37,4,54,14,8,13,21,12,11,35,14,32,5,26,14,54,6,30,15,35,13,16,13,10,16,13,24,20,19,16,40,16,11,36,23,13,26,4,34,30,16,4,46,30,20,1,13,25,27,20,10,8,6,28,23,35,31,32,13,27,29,53,30,26,21,2,6,12,50,47,33,46,44,25,13,40,2,33,22,10,43,7,15,14,9,21,22,11,25,9,6,10,7,2,29,88,23,3,30,11,12,20,54,19,13,35,19,7,24,12,11,15,39,1,6,8,27,1,26,7,57,29,7,4,29,14,5,55,19,9,9,47,41,9,15,30,1,53,32,28,24,13,6,54,23,141,40,26,1,5,19,73,16,1,11,11,30,72,15,28,5,45,23,2,13,24,8,26,5,1,10,34,64,7,4,23,1,37,36,7,19,52,8,8,14,4,21,21,24,5,6,15,8,1,21,33,10,30,28,1,6,19,52,46,22,9,42,12,4,2,20,19,26,9,3,6,10,88,15,38,63,47,26,14,75,4,24,17,101,86,9,8,45,38,28,71,40,237,30,35,48,22,78,60,38,25,17,78,127,97,61,104,11,15,63,45,45,37,27,65,56,128,170,197,180,57,73,6,219,65,89,2,65,41,44,27,88,92,112,51,33,54,38,26,34,43,14,48,14,169,57,116,37,82,89,25,23,84,53,45,201,17,23,47,34,8,15,48,41,81,40,433,91,62,27,53,11,22,33,72,48,32,33,40,11,60,148,116,15,56,14,121,8,2,12,20,34,117,47,42,36,41,19,13,34,41,13,29,43,61,84,18,33,41,31,26,65,7,124,81,40,51,40,17,42,30,71,64,47,5,9,184,34,78,54,55,117,48,134,278,20,32,45,86,40,31,41,111,23,59,38,46,55,14,12,32,3,44,33,39,27,7,12,44,80,14,29,56,34,8,41,23,76,14,43,33,138,22,27,16,90,24,54,16,38,58,35,10,16,25,31,19,2,11,24,23,4,128,56,67,6,26,17,38,9,12,8,4,19,4,20,26,77,60,10,30,62,67,26,5,18,19,16,10,14,10,5,10,16,14,7,15,28,20,7,61,12,32,17,21,1,58,38,14,8,15,40,18,19,21,1,36,15,4,13,22,19,4,50,8,28,35,17,51,20,23,19,6,9,6,4,18,11,35,13,62,3,16,1,7,15,6,17,13,3,16,1,38,16,9,2,17,19,3,1,22,8,25,5,5,24,12,21,1,15,3,16,4,17,39,5,4,25,29,36,9,16,17,11,6,13,14,13,7,23,71,10,57,41,8,14,47,121,14,78,25,19,40,42,38,22,15,21,13,9,6,4,13,11,46,35,12,17,8,16,6,6,5,1,19,22,18,39,7,16,55,3,5,17,5,31,37,16,13,20,17,12,57,16,9,20,31,54,35,9,18,2,23,9,6,48,19,9,59,19,22,37,28,5,5,15,40,10,23,8,9,1,42,15,3,25,9,17,59,40,42,29,12,1,28,51,28,13,1,1,6,9,38,16,32,8,4,29,11,33,59,42,47,10,10,18,4,46,26,35,20,62,1,23,12,24,8,4,1,15,6,10,1,41,66,3,2,1,29,9,15,20,8,14,2,1,14,11,31,8,18,5,14,8,20,15,29,8,16,6,6,37,3,17,123,3,37,13,1,5,42,8,72,20,14,8,8,10,68,2,63,40,11,16,22,1,1,1,3,17,10,15,13,162,2,14,59,16,6,51,9,3,50,53,7,11,33,1,8,9,12,20,7,31,24,58,21,5,24,71,8,3,5,11,5,15,13,2,23,21,30,7,21,6,10,5,19,7,25,20,4,4,1,3,10,34,16,5,3,5,23,21,19,49,22,5,6,2,57,37,19,2,15,22,23,25,2,2,43,21,1,33,1,1,53,28,29,21,16,22,3,29,1,34,16,5,53,8,3,41,12,1,4,5,42,2,2,1,37,5,2,5,21,16,113,7,22,1,8,14,58,52,14,7,52,48,66,27,43,21,5,6,12,14,20,24,5,19,16,10,3,48,8,12,34,5,14,41,19,12,21,31,11,24,10,16,14,11,17,1,11,9,2,42,5,8,68,28,6,154,21,18,9,45,4,26,78,34,58,37,5,12,1,22,13,68,42,5,43,9,7,64,3,18,49,16,24,10,3,2,112,18,23,6,16,16,12,42,20,15,5,8,79,71,38,29,11,23,3,18,14,8,19,57,18,21,17,20,15,7,7,12,1,11,62,93,89,37,23,17,34,20,28,6,8,5,116,9,14,28,22,39,23,2,3,14,25,26,7,59,41,96,107,76,19,22,24,50,16,34,11,84,36,22,30,49,28,103,109,152,96,91,18,26,25,143,27,52,98,65,29,25,35,41,14,38,14,16,78,120,54,20,52,140,59,44,35,15,19,9,48,79,25,7,9,47,38,94,51,16,16,3,49,47,24,87,25,32,22,47,93,20,5,8,31,36,18,22,29,13,50,17,20,53,54,22,13,8,9,26,1,14,1,3,30,18,66,47,49,20,1,19,17,12,62,17,3,19,8,33,3,20,54,26,8,55,19,15,10,7,4,13,19,33,3,3,34,12,8,22,9,4,2,3,12,18,13,19,9,38,126,36,15,12,45,1,24,1,24,7,20,2,6,82,2,2,6,27,55,17,12,140,16,67,37,8,1,44,32,19,40,17,1,19,40,21,13,8,13,16,2,94,13,38,30,15,12,2,5,30,22,13,12,4,1,10,18,13,39,3,12,12,1,12,21,53,7,3,83,55,10,6,116,10,14,14,66,21,5,21,8,17,54,19,22,18,41,27,24,12,14,6,10,31,5,11,7,10,39,17,65,18,5,24,7,2,61,12,34,47,12,60,27,14,19,59,76,37,141,13,35,8,1,31,12,1,18,34,17,5,10,12,9,15,35,43,70,12,21,8,20,21,2,57,16,30,45,1,40,15,7,16,19,1,43,13,42,8,14,21,16,8,12,23,1,23,21,42,16,29,6,11,71,10,54,8,13,26,77,27,31,16,5,5,22,23,36,54,14,23,23,5,52,20,15,74,9,15,10,8,1,7,13,23,4,29,40,36,33,21,15,1,27,17,19,29,36,21,18,20,29,20,62,26,12,19,21,1,27,5,36,42,42,66,3,10,32,31,32,18,36,2,15,105,13,23,16,27,20,8,62,23,7,26,8,9,23,27,30,7,125,9,9,9,3,14,24,2,23,27,3,18,22,1,13,15,14,10,35,24,19,18,21,6,19,35,6,53,13,39,10,11,11,14,32,36],\"type\":\"histogram\"}],                        {\"template\":{\"data\":{\"barpolar\":[{\"marker\":{\"line\":{\"color\":\"#E5ECF6\",\"width\":0.5},\"pattern\":{\"fillmode\":\"overlay\",\"size\":10,\"solidity\":0.2}},\"type\":\"barpolar\"}],\"bar\":[{\"error_x\":{\"color\":\"#2a3f5f\"},\"error_y\":{\"color\":\"#2a3f5f\"},\"marker\":{\"line\":{\"color\":\"#E5ECF6\",\"width\":0.5},\"pattern\":{\"fillmode\":\"overlay\",\"size\":10,\"solidity\":0.2}},\"type\":\"bar\"}],\"carpet\":[{\"aaxis\":{\"endlinecolor\":\"#2a3f5f\",\"gridcolor\":\"white\",\"linecolor\":\"white\",\"minorgridcolor\":\"white\",\"startlinecolor\":\"#2a3f5f\"},\"baxis\":{\"endlinecolor\":\"#2a3f5f\",\"gridcolor\":\"white\",\"linecolor\":\"white\",\"minorgridcolor\":\"white\",\"startlinecolor\":\"#2a3f5f\"},\"type\":\"carpet\"}],\"choropleth\":[{\"colorbar\":{\"outlinewidth\":0,\"ticks\":\"\"},\"type\":\"choropleth\"}],\"contourcarpet\":[{\"colorbar\":{\"outlinewidth\":0,\"ticks\":\"\"},\"type\":\"contourcarpet\"}],\"contour\":[{\"colorbar\":{\"outlinewidth\":0,\"ticks\":\"\"},\"colorscale\":[[0.0,\"#0d0887\"],[0.1111111111111111,\"#46039f\"],[0.2222222222222222,\"#7201a8\"],[0.3333333333333333,\"#9c179e\"],[0.4444444444444444,\"#bd3786\"],[0.5555555555555556,\"#d8576b\"],[0.6666666666666666,\"#ed7953\"],[0.7777777777777778,\"#fb9f3a\"],[0.8888888888888888,\"#fdca26\"],[1.0,\"#f0f921\"]],\"type\":\"contour\"}],\"heatmapgl\":[{\"colorbar\":{\"outlinewidth\":0,\"ticks\":\"\"},\"colorscale\":[[0.0,\"#0d0887\"],[0.1111111111111111,\"#46039f\"],[0.2222222222222222,\"#7201a8\"],[0.3333333333333333,\"#9c179e\"],[0.4444444444444444,\"#bd3786\"],[0.5555555555555556,\"#d8576b\"],[0.6666666666666666,\"#ed7953\"],[0.7777777777777778,\"#fb9f3a\"],[0.8888888888888888,\"#fdca26\"],[1.0,\"#f0f921\"]],\"type\":\"heatmapgl\"}],\"heatmap\":[{\"colorbar\":{\"outlinewidth\":0,\"ticks\":\"\"},\"colorscale\":[[0.0,\"#0d0887\"],[0.1111111111111111,\"#46039f\"],[0.2222222222222222,\"#7201a8\"],[0.3333333333333333,\"#9c179e\"],[0.4444444444444444,\"#bd3786\"],[0.5555555555555556,\"#d8576b\"],[0.6666666666666666,\"#ed7953\"],[0.7777777777777778,\"#fb9f3a\"],[0.8888888888888888,\"#fdca26\"],[1.0,\"#f0f921\"]],\"type\":\"heatmap\"}],\"histogram2dcontour\":[{\"colorbar\":{\"outlinewidth\":0,\"ticks\":\"\"},\"colorscale\":[[0.0,\"#0d0887\"],[0.1111111111111111,\"#46039f\"],[0.2222222222222222,\"#7201a8\"],[0.3333333333333333,\"#9c179e\"],[0.4444444444444444,\"#bd3786\"],[0.5555555555555556,\"#d8576b\"],[0.6666666666666666,\"#ed7953\"],[0.7777777777777778,\"#fb9f3a\"],[0.8888888888888888,\"#fdca26\"],[1.0,\"#f0f921\"]],\"type\":\"histogram2dcontour\"}],\"histogram2d\":[{\"colorbar\":{\"outlinewidth\":0,\"ticks\":\"\"},\"colorscale\":[[0.0,\"#0d0887\"],[0.1111111111111111,\"#46039f\"],[0.2222222222222222,\"#7201a8\"],[0.3333333333333333,\"#9c179e\"],[0.4444444444444444,\"#bd3786\"],[0.5555555555555556,\"#d8576b\"],[0.6666666666666666,\"#ed7953\"],[0.7777777777777778,\"#fb9f3a\"],[0.8888888888888888,\"#fdca26\"],[1.0,\"#f0f921\"]],\"type\":\"histogram2d\"}],\"histogram\":[{\"marker\":{\"pattern\":{\"fillmode\":\"overlay\",\"size\":10,\"solidity\":0.2}},\"type\":\"histogram\"}],\"mesh3d\":[{\"colorbar\":{\"outlinewidth\":0,\"ticks\":\"\"},\"type\":\"mesh3d\"}],\"parcoords\":[{\"line\":{\"colorbar\":{\"outlinewidth\":0,\"ticks\":\"\"}},\"type\":\"parcoords\"}],\"pie\":[{\"automargin\":true,\"type\":\"pie\"}],\"scatter3d\":[{\"line\":{\"colorbar\":{\"outlinewidth\":0,\"ticks\":\"\"}},\"marker\":{\"colorbar\":{\"outlinewidth\":0,\"ticks\":\"\"}},\"type\":\"scatter3d\"}],\"scattercarpet\":[{\"marker\":{\"colorbar\":{\"outlinewidth\":0,\"ticks\":\"\"}},\"type\":\"scattercarpet\"}],\"scattergeo\":[{\"marker\":{\"colorbar\":{\"outlinewidth\":0,\"ticks\":\"\"}},\"type\":\"scattergeo\"}],\"scattergl\":[{\"marker\":{\"colorbar\":{\"outlinewidth\":0,\"ticks\":\"\"}},\"type\":\"scattergl\"}],\"scattermapbox\":[{\"marker\":{\"colorbar\":{\"outlinewidth\":0,\"ticks\":\"\"}},\"type\":\"scattermapbox\"}],\"scatterpolargl\":[{\"marker\":{\"colorbar\":{\"outlinewidth\":0,\"ticks\":\"\"}},\"type\":\"scatterpolargl\"}],\"scatterpolar\":[{\"marker\":{\"colorbar\":{\"outlinewidth\":0,\"ticks\":\"\"}},\"type\":\"scatterpolar\"}],\"scatter\":[{\"marker\":{\"colorbar\":{\"outlinewidth\":0,\"ticks\":\"\"}},\"type\":\"scatter\"}],\"scatterternary\":[{\"marker\":{\"colorbar\":{\"outlinewidth\":0,\"ticks\":\"\"}},\"type\":\"scatterternary\"}],\"surface\":[{\"colorbar\":{\"outlinewidth\":0,\"ticks\":\"\"},\"colorscale\":[[0.0,\"#0d0887\"],[0.1111111111111111,\"#46039f\"],[0.2222222222222222,\"#7201a8\"],[0.3333333333333333,\"#9c179e\"],[0.4444444444444444,\"#bd3786\"],[0.5555555555555556,\"#d8576b\"],[0.6666666666666666,\"#ed7953\"],[0.7777777777777778,\"#fb9f3a\"],[0.8888888888888888,\"#fdca26\"],[1.0,\"#f0f921\"]],\"type\":\"surface\"}],\"table\":[{\"cells\":{\"fill\":{\"color\":\"#EBF0F8\"},\"line\":{\"color\":\"white\"}},\"header\":{\"fill\":{\"color\":\"#C8D4E3\"},\"line\":{\"color\":\"white\"}},\"type\":\"table\"}]},\"layout\":{\"annotationdefaults\":{\"arrowcolor\":\"#2a3f5f\",\"arrowhead\":0,\"arrowwidth\":1},\"autotypenumbers\":\"strict\",\"coloraxis\":{\"colorbar\":{\"outlinewidth\":0,\"ticks\":\"\"}},\"colorscale\":{\"diverging\":[[0,\"#8e0152\"],[0.1,\"#c51b7d\"],[0.2,\"#de77ae\"],[0.3,\"#f1b6da\"],[0.4,\"#fde0ef\"],[0.5,\"#f7f7f7\"],[0.6,\"#e6f5d0\"],[0.7,\"#b8e186\"],[0.8,\"#7fbc41\"],[0.9,\"#4d9221\"],[1,\"#276419\"]],\"sequential\":[[0.0,\"#0d0887\"],[0.1111111111111111,\"#46039f\"],[0.2222222222222222,\"#7201a8\"],[0.3333333333333333,\"#9c179e\"],[0.4444444444444444,\"#bd3786\"],[0.5555555555555556,\"#d8576b\"],[0.6666666666666666,\"#ed7953\"],[0.7777777777777778,\"#fb9f3a\"],[0.8888888888888888,\"#fdca26\"],[1.0,\"#f0f921\"]],\"sequentialminus\":[[0.0,\"#0d0887\"],[0.1111111111111111,\"#46039f\"],[0.2222222222222222,\"#7201a8\"],[0.3333333333333333,\"#9c179e\"],[0.4444444444444444,\"#bd3786\"],[0.5555555555555556,\"#d8576b\"],[0.6666666666666666,\"#ed7953\"],[0.7777777777777778,\"#fb9f3a\"],[0.8888888888888888,\"#fdca26\"],[1.0,\"#f0f921\"]]},\"colorway\":[\"#636efa\",\"#EF553B\",\"#00cc96\",\"#ab63fa\",\"#FFA15A\",\"#19d3f3\",\"#FF6692\",\"#B6E880\",\"#FF97FF\",\"#FECB52\"],\"font\":{\"color\":\"#2a3f5f\"},\"geo\":{\"bgcolor\":\"white\",\"lakecolor\":\"white\",\"landcolor\":\"#E5ECF6\",\"showlakes\":true,\"showland\":true,\"subunitcolor\":\"white\"},\"hoverlabel\":{\"align\":\"left\"},\"hovermode\":\"closest\",\"mapbox\":{\"style\":\"light\"},\"paper_bgcolor\":\"white\",\"plot_bgcolor\":\"#E5ECF6\",\"polar\":{\"angularaxis\":{\"gridcolor\":\"white\",\"linecolor\":\"white\",\"ticks\":\"\"},\"bgcolor\":\"#E5ECF6\",\"radialaxis\":{\"gridcolor\":\"white\",\"linecolor\":\"white\",\"ticks\":\"\"}},\"scene\":{\"xaxis\":{\"backgroundcolor\":\"#E5ECF6\",\"gridcolor\":\"white\",\"gridwidth\":2,\"linecolor\":\"white\",\"showbackground\":true,\"ticks\":\"\",\"zerolinecolor\":\"white\"},\"yaxis\":{\"backgroundcolor\":\"#E5ECF6\",\"gridcolor\":\"white\",\"gridwidth\":2,\"linecolor\":\"white\",\"showbackground\":true,\"ticks\":\"\",\"zerolinecolor\":\"white\"},\"zaxis\":{\"backgroundcolor\":\"#E5ECF6\",\"gridcolor\":\"white\",\"gridwidth\":2,\"linecolor\":\"white\",\"showbackground\":true,\"ticks\":\"\",\"zerolinecolor\":\"white\"}},\"shapedefaults\":{\"line\":{\"color\":\"#2a3f5f\"}},\"ternary\":{\"aaxis\":{\"gridcolor\":\"white\",\"linecolor\":\"white\",\"ticks\":\"\"},\"baxis\":{\"gridcolor\":\"white\",\"linecolor\":\"white\",\"ticks\":\"\"},\"bgcolor\":\"#E5ECF6\",\"caxis\":{\"gridcolor\":\"white\",\"linecolor\":\"white\",\"ticks\":\"\"}},\"title\":{\"x\":0.05},\"xaxis\":{\"automargin\":true,\"gridcolor\":\"white\",\"linecolor\":\"white\",\"ticks\":\"\",\"title\":{\"standoff\":15},\"zerolinecolor\":\"white\",\"zerolinewidth\":2},\"yaxis\":{\"automargin\":true,\"gridcolor\":\"white\",\"linecolor\":\"white\",\"ticks\":\"\",\"title\":{\"standoff\":15},\"zerolinecolor\":\"white\",\"zerolinewidth\":2}}},\"title\":{\"text\":\"Frecuencia\"}},                        {\"responsive\": true}                    ).then(function(){\n",
              "                            \n",
              "var gd = document.getElementById('6e860c58-13e8-411d-9165-5994491343fa');\n",
              "var x = new MutationObserver(function (mutations, observer) {{\n",
              "        var display = window.getComputedStyle(gd).display;\n",
              "        if (!display || display === 'none') {{\n",
              "            console.log([gd, 'removed!']);\n",
              "            Plotly.purge(gd);\n",
              "            observer.disconnect();\n",
              "        }}\n",
              "}});\n",
              "\n",
              "// Listen for the removal of the full notebook cells\n",
              "var notebookContainer = gd.closest('#notebook-container');\n",
              "if (notebookContainer) {{\n",
              "    x.observe(notebookContainer, {childList: true});\n",
              "}}\n",
              "\n",
              "// Listen for the clearing of the current output cell\n",
              "var outputEl = gd.closest('.output');\n",
              "if (outputEl) {{\n",
              "    x.observe(outputEl, {childList: true});\n",
              "}}\n",
              "\n",
              "                        })                };                            </script>        </div>\n",
              "</body>\n",
              "</html>"
            ]
          },
          "metadata": {}
        }
      ],
      "source": [
        "# Se realiza un histograma para analizar la distribución de la frecuencia de compra de los clientes:\n",
        "plot_data = [\n",
        "    go.Histogram(\n",
        "        x=data_cliente.query(\"Frecuencia < 1000\")[\"Frecuencia\"])] # Se incluyen valores de frecuencia menores a 1000 para facilitar la visualización\n",
        "plot_layout = go.Layout(\n",
        "        title=\"Frecuencia\"\n",
        "    )\n",
        "fig = go.Figure(data=plot_data, layout=plot_layout)\n",
        "pyoff.iplot(fig)\n"
      ]
    },
    {
      "cell_type": "markdown",
      "metadata": {
        "id": "wEWHj7YrjKTX"
      },
      "source": [
        "Las cantidades de compras comprendidas entre 10-19 unidades son las de mayor frecuencia."
      ]
    },
    {
      "cell_type": "code",
      "execution_count": 375,
      "metadata": {
        "id": "wQjTfAKINAWL"
      },
      "outputs": [],
      "source": [
        "# Se desarrolla el modelo K-Means para asignar los clientes a cada grupo de frecuencia:\n",
        "kmeans = KMeans(n_clusters=4)\n",
        "kmeans.fit(data_cliente[[\"Frecuencia\"]])\n",
        "data_cliente[\"Grupo_Frecuencia\"] = kmeans.predict(data_cliente[[\"Frecuencia\"]])"
      ]
    },
    {
      "cell_type": "code",
      "execution_count": 376,
      "metadata": {
        "colab": {
          "base_uri": "https://localhost:8080/",
          "height": 206
        },
        "id": "PhjkEGpYNGje",
        "outputId": "eb4d9afb-bac2-4d6e-fa43-c802f460e450"
      },
      "outputs": [
        {
          "output_type": "execute_result",
          "data": {
            "text/plain": [
              "   ID_Cliente  Recencia  Grupo_Recencia  Frecuencia  Grupo_Frecuencia\n",
              "0     14620.0        12               3          30                 0\n",
              "1     14740.0         4               3          89                 1\n",
              "2     17068.0        11               3          76                 1\n",
              "3     12971.0         4               3          73                 1\n",
              "4     15194.0         6               3          64                 0"
            ],
            "text/html": [
              "\n",
              "  <div id=\"df-95c9e155-307a-4e0c-bf54-ea2275d50c03\">\n",
              "    <div class=\"colab-df-container\">\n",
              "      <div>\n",
              "<style scoped>\n",
              "    .dataframe tbody tr th:only-of-type {\n",
              "        vertical-align: middle;\n",
              "    }\n",
              "\n",
              "    .dataframe tbody tr th {\n",
              "        vertical-align: top;\n",
              "    }\n",
              "\n",
              "    .dataframe thead th {\n",
              "        text-align: right;\n",
              "    }\n",
              "</style>\n",
              "<table border=\"1\" class=\"dataframe\">\n",
              "  <thead>\n",
              "    <tr style=\"text-align: right;\">\n",
              "      <th></th>\n",
              "      <th>ID_Cliente</th>\n",
              "      <th>Recencia</th>\n",
              "      <th>Grupo_Recencia</th>\n",
              "      <th>Frecuencia</th>\n",
              "      <th>Grupo_Frecuencia</th>\n",
              "    </tr>\n",
              "  </thead>\n",
              "  <tbody>\n",
              "    <tr>\n",
              "      <th>0</th>\n",
              "      <td>14620.0</td>\n",
              "      <td>12</td>\n",
              "      <td>3</td>\n",
              "      <td>30</td>\n",
              "      <td>0</td>\n",
              "    </tr>\n",
              "    <tr>\n",
              "      <th>1</th>\n",
              "      <td>14740.0</td>\n",
              "      <td>4</td>\n",
              "      <td>3</td>\n",
              "      <td>89</td>\n",
              "      <td>1</td>\n",
              "    </tr>\n",
              "    <tr>\n",
              "      <th>2</th>\n",
              "      <td>17068.0</td>\n",
              "      <td>11</td>\n",
              "      <td>3</td>\n",
              "      <td>76</td>\n",
              "      <td>1</td>\n",
              "    </tr>\n",
              "    <tr>\n",
              "      <th>3</th>\n",
              "      <td>12971.0</td>\n",
              "      <td>4</td>\n",
              "      <td>3</td>\n",
              "      <td>73</td>\n",
              "      <td>1</td>\n",
              "    </tr>\n",
              "    <tr>\n",
              "      <th>4</th>\n",
              "      <td>15194.0</td>\n",
              "      <td>6</td>\n",
              "      <td>3</td>\n",
              "      <td>64</td>\n",
              "      <td>0</td>\n",
              "    </tr>\n",
              "  </tbody>\n",
              "</table>\n",
              "</div>\n",
              "      <button class=\"colab-df-convert\" onclick=\"convertToInteractive('df-95c9e155-307a-4e0c-bf54-ea2275d50c03')\"\n",
              "              title=\"Convert this dataframe to an interactive table.\"\n",
              "              style=\"display:none;\">\n",
              "        \n",
              "  <svg xmlns=\"http://www.w3.org/2000/svg\" height=\"24px\"viewBox=\"0 0 24 24\"\n",
              "       width=\"24px\">\n",
              "    <path d=\"M0 0h24v24H0V0z\" fill=\"none\"/>\n",
              "    <path d=\"M18.56 5.44l.94 2.06.94-2.06 2.06-.94-2.06-.94-.94-2.06-.94 2.06-2.06.94zm-11 1L8.5 8.5l.94-2.06 2.06-.94-2.06-.94L8.5 2.5l-.94 2.06-2.06.94zm10 10l.94 2.06.94-2.06 2.06-.94-2.06-.94-.94-2.06-.94 2.06-2.06.94z\"/><path d=\"M17.41 7.96l-1.37-1.37c-.4-.4-.92-.59-1.43-.59-.52 0-1.04.2-1.43.59L10.3 9.45l-7.72 7.72c-.78.78-.78 2.05 0 2.83L4 21.41c.39.39.9.59 1.41.59.51 0 1.02-.2 1.41-.59l7.78-7.78 2.81-2.81c.8-.78.8-2.07 0-2.86zM5.41 20L4 18.59l7.72-7.72 1.47 1.35L5.41 20z\"/>\n",
              "  </svg>\n",
              "      </button>\n",
              "      \n",
              "  <style>\n",
              "    .colab-df-container {\n",
              "      display:flex;\n",
              "      flex-wrap:wrap;\n",
              "      gap: 12px;\n",
              "    }\n",
              "\n",
              "    .colab-df-convert {\n",
              "      background-color: #E8F0FE;\n",
              "      border: none;\n",
              "      border-radius: 50%;\n",
              "      cursor: pointer;\n",
              "      display: none;\n",
              "      fill: #1967D2;\n",
              "      height: 32px;\n",
              "      padding: 0 0 0 0;\n",
              "      width: 32px;\n",
              "    }\n",
              "\n",
              "    .colab-df-convert:hover {\n",
              "      background-color: #E2EBFA;\n",
              "      box-shadow: 0px 1px 2px rgba(60, 64, 67, 0.3), 0px 1px 3px 1px rgba(60, 64, 67, 0.15);\n",
              "      fill: #174EA6;\n",
              "    }\n",
              "\n",
              "    [theme=dark] .colab-df-convert {\n",
              "      background-color: #3B4455;\n",
              "      fill: #D2E3FC;\n",
              "    }\n",
              "\n",
              "    [theme=dark] .colab-df-convert:hover {\n",
              "      background-color: #434B5C;\n",
              "      box-shadow: 0px 1px 3px 1px rgba(0, 0, 0, 0.15);\n",
              "      filter: drop-shadow(0px 1px 2px rgba(0, 0, 0, 0.3));\n",
              "      fill: #FFFFFF;\n",
              "    }\n",
              "  </style>\n",
              "\n",
              "      <script>\n",
              "        const buttonEl =\n",
              "          document.querySelector('#df-95c9e155-307a-4e0c-bf54-ea2275d50c03 button.colab-df-convert');\n",
              "        buttonEl.style.display =\n",
              "          google.colab.kernel.accessAllowed ? 'block' : 'none';\n",
              "\n",
              "        async function convertToInteractive(key) {\n",
              "          const element = document.querySelector('#df-95c9e155-307a-4e0c-bf54-ea2275d50c03');\n",
              "          const dataTable =\n",
              "            await google.colab.kernel.invokeFunction('convertToInteractive',\n",
              "                                                     [key], {});\n",
              "          if (!dataTable) return;\n",
              "\n",
              "          const docLinkHtml = 'Like what you see? Visit the ' +\n",
              "            '<a target=\"_blank\" href=https://colab.research.google.com/notebooks/data_table.ipynb>data table notebook</a>'\n",
              "            + ' to learn more about interactive tables.';\n",
              "          element.innerHTML = '';\n",
              "          dataTable['output_type'] = 'display_data';\n",
              "          await google.colab.output.renderOutput(dataTable, element);\n",
              "          const docLink = document.createElement('div');\n",
              "          docLink.innerHTML = docLinkHtml;\n",
              "          element.appendChild(docLink);\n",
              "        }\n",
              "      </script>\n",
              "    </div>\n",
              "  </div>\n",
              "  "
            ]
          },
          "metadata": {},
          "execution_count": 376
        }
      ],
      "source": [
        "# Se observa el encabezado del dataframe con la columna \"Cluster_Frecuencia\":\n",
        "data_cliente.head()"
      ]
    },
    {
      "cell_type": "markdown",
      "metadata": {
        "id": "D2WDqMfsFeQc"
      },
      "source": [
        "Se han calculado los grupos de frecuencia y se ha asignado a cada cliente a cada uno de éstos."
      ]
    },
    {
      "cell_type": "code",
      "execution_count": 377,
      "metadata": {
        "colab": {
          "base_uri": "https://localhost:8080/",
          "height": 206
        },
        "id": "r6oIayl1NTsN",
        "outputId": "459d58bf-54e3-421a-80e8-920ceb42a96c"
      },
      "outputs": [
        {
          "output_type": "execute_result",
          "data": {
            "text/plain": [
              "                   count         mean         std     min      25%     50%  \\\n",
              "Grupo_Frecuencia                                                             \n",
              "0                 1604.0    24.008105   17.497685     1.0    10.00    20.0   \n",
              "1                  224.0   114.642857   43.126232    70.0    81.75   104.0   \n",
              "2                   11.0   490.000000  123.499798   327.0   420.00   448.0   \n",
              "3                    1.0  1346.000000         NaN  1346.0  1346.00  1346.0   \n",
              "\n",
              "                     75%     max  \n",
              "Grupo_Frecuencia                  \n",
              "0                   35.0    69.0  \n",
              "1                  128.0   280.0  \n",
              "2                  552.0   724.0  \n",
              "3                 1346.0  1346.0  "
            ],
            "text/html": [
              "\n",
              "  <div id=\"df-fccc04fd-a98f-4a4a-bfde-0e834f8a13fe\">\n",
              "    <div class=\"colab-df-container\">\n",
              "      <div>\n",
              "<style scoped>\n",
              "    .dataframe tbody tr th:only-of-type {\n",
              "        vertical-align: middle;\n",
              "    }\n",
              "\n",
              "    .dataframe tbody tr th {\n",
              "        vertical-align: top;\n",
              "    }\n",
              "\n",
              "    .dataframe thead th {\n",
              "        text-align: right;\n",
              "    }\n",
              "</style>\n",
              "<table border=\"1\" class=\"dataframe\">\n",
              "  <thead>\n",
              "    <tr style=\"text-align: right;\">\n",
              "      <th></th>\n",
              "      <th>count</th>\n",
              "      <th>mean</th>\n",
              "      <th>std</th>\n",
              "      <th>min</th>\n",
              "      <th>25%</th>\n",
              "      <th>50%</th>\n",
              "      <th>75%</th>\n",
              "      <th>max</th>\n",
              "    </tr>\n",
              "    <tr>\n",
              "      <th>Grupo_Frecuencia</th>\n",
              "      <th></th>\n",
              "      <th></th>\n",
              "      <th></th>\n",
              "      <th></th>\n",
              "      <th></th>\n",
              "      <th></th>\n",
              "      <th></th>\n",
              "      <th></th>\n",
              "    </tr>\n",
              "  </thead>\n",
              "  <tbody>\n",
              "    <tr>\n",
              "      <th>0</th>\n",
              "      <td>1604.0</td>\n",
              "      <td>24.008105</td>\n",
              "      <td>17.497685</td>\n",
              "      <td>1.0</td>\n",
              "      <td>10.00</td>\n",
              "      <td>20.0</td>\n",
              "      <td>35.0</td>\n",
              "      <td>69.0</td>\n",
              "    </tr>\n",
              "    <tr>\n",
              "      <th>1</th>\n",
              "      <td>224.0</td>\n",
              "      <td>114.642857</td>\n",
              "      <td>43.126232</td>\n",
              "      <td>70.0</td>\n",
              "      <td>81.75</td>\n",
              "      <td>104.0</td>\n",
              "      <td>128.0</td>\n",
              "      <td>280.0</td>\n",
              "    </tr>\n",
              "    <tr>\n",
              "      <th>2</th>\n",
              "      <td>11.0</td>\n",
              "      <td>490.000000</td>\n",
              "      <td>123.499798</td>\n",
              "      <td>327.0</td>\n",
              "      <td>420.00</td>\n",
              "      <td>448.0</td>\n",
              "      <td>552.0</td>\n",
              "      <td>724.0</td>\n",
              "    </tr>\n",
              "    <tr>\n",
              "      <th>3</th>\n",
              "      <td>1.0</td>\n",
              "      <td>1346.000000</td>\n",
              "      <td>NaN</td>\n",
              "      <td>1346.0</td>\n",
              "      <td>1346.00</td>\n",
              "      <td>1346.0</td>\n",
              "      <td>1346.0</td>\n",
              "      <td>1346.0</td>\n",
              "    </tr>\n",
              "  </tbody>\n",
              "</table>\n",
              "</div>\n",
              "      <button class=\"colab-df-convert\" onclick=\"convertToInteractive('df-fccc04fd-a98f-4a4a-bfde-0e834f8a13fe')\"\n",
              "              title=\"Convert this dataframe to an interactive table.\"\n",
              "              style=\"display:none;\">\n",
              "        \n",
              "  <svg xmlns=\"http://www.w3.org/2000/svg\" height=\"24px\"viewBox=\"0 0 24 24\"\n",
              "       width=\"24px\">\n",
              "    <path d=\"M0 0h24v24H0V0z\" fill=\"none\"/>\n",
              "    <path d=\"M18.56 5.44l.94 2.06.94-2.06 2.06-.94-2.06-.94-.94-2.06-.94 2.06-2.06.94zm-11 1L8.5 8.5l.94-2.06 2.06-.94-2.06-.94L8.5 2.5l-.94 2.06-2.06.94zm10 10l.94 2.06.94-2.06 2.06-.94-2.06-.94-.94-2.06-.94 2.06-2.06.94z\"/><path d=\"M17.41 7.96l-1.37-1.37c-.4-.4-.92-.59-1.43-.59-.52 0-1.04.2-1.43.59L10.3 9.45l-7.72 7.72c-.78.78-.78 2.05 0 2.83L4 21.41c.39.39.9.59 1.41.59.51 0 1.02-.2 1.41-.59l7.78-7.78 2.81-2.81c.8-.78.8-2.07 0-2.86zM5.41 20L4 18.59l7.72-7.72 1.47 1.35L5.41 20z\"/>\n",
              "  </svg>\n",
              "      </button>\n",
              "      \n",
              "  <style>\n",
              "    .colab-df-container {\n",
              "      display:flex;\n",
              "      flex-wrap:wrap;\n",
              "      gap: 12px;\n",
              "    }\n",
              "\n",
              "    .colab-df-convert {\n",
              "      background-color: #E8F0FE;\n",
              "      border: none;\n",
              "      border-radius: 50%;\n",
              "      cursor: pointer;\n",
              "      display: none;\n",
              "      fill: #1967D2;\n",
              "      height: 32px;\n",
              "      padding: 0 0 0 0;\n",
              "      width: 32px;\n",
              "    }\n",
              "\n",
              "    .colab-df-convert:hover {\n",
              "      background-color: #E2EBFA;\n",
              "      box-shadow: 0px 1px 2px rgba(60, 64, 67, 0.3), 0px 1px 3px 1px rgba(60, 64, 67, 0.15);\n",
              "      fill: #174EA6;\n",
              "    }\n",
              "\n",
              "    [theme=dark] .colab-df-convert {\n",
              "      background-color: #3B4455;\n",
              "      fill: #D2E3FC;\n",
              "    }\n",
              "\n",
              "    [theme=dark] .colab-df-convert:hover {\n",
              "      background-color: #434B5C;\n",
              "      box-shadow: 0px 1px 3px 1px rgba(0, 0, 0, 0.15);\n",
              "      filter: drop-shadow(0px 1px 2px rgba(0, 0, 0, 0.3));\n",
              "      fill: #FFFFFF;\n",
              "    }\n",
              "  </style>\n",
              "\n",
              "      <script>\n",
              "        const buttonEl =\n",
              "          document.querySelector('#df-fccc04fd-a98f-4a4a-bfde-0e834f8a13fe button.colab-df-convert');\n",
              "        buttonEl.style.display =\n",
              "          google.colab.kernel.accessAllowed ? 'block' : 'none';\n",
              "\n",
              "        async function convertToInteractive(key) {\n",
              "          const element = document.querySelector('#df-fccc04fd-a98f-4a4a-bfde-0e834f8a13fe');\n",
              "          const dataTable =\n",
              "            await google.colab.kernel.invokeFunction('convertToInteractive',\n",
              "                                                     [key], {});\n",
              "          if (!dataTable) return;\n",
              "\n",
              "          const docLinkHtml = 'Like what you see? Visit the ' +\n",
              "            '<a target=\"_blank\" href=https://colab.research.google.com/notebooks/data_table.ipynb>data table notebook</a>'\n",
              "            + ' to learn more about interactive tables.';\n",
              "          element.innerHTML = '';\n",
              "          dataTable['output_type'] = 'display_data';\n",
              "          await google.colab.output.renderOutput(dataTable, element);\n",
              "          const docLink = document.createElement('div');\n",
              "          docLink.innerHTML = docLinkHtml;\n",
              "          element.appendChild(docLink);\n",
              "        }\n",
              "      </script>\n",
              "    </div>\n",
              "  </div>\n",
              "  "
            ]
          },
          "metadata": {},
          "execution_count": 377
        }
      ],
      "source": [
        "# Se observan los distintos grupos de frecuencia ordenados\n",
        "# Se coloca ascending True para que ordene los valores de la media de menor a mayor:\n",
        "data_cliente = grupo_ordenado(\"Grupo_Frecuencia\", \"Frecuencia\", data_cliente,True) \n",
        "data_cliente.groupby(\"Grupo_Frecuencia\")[\"Frecuencia\"].describe()"
      ]
    },
    {
      "cell_type": "markdown",
      "metadata": {
        "id": "3SuNAm4zlYY8"
      },
      "source": [
        "El grupo 3 es el que tiene a los clientes con la mayor frecuencia promedio de compras y el grupo 0 a los de menor frecuencia."
      ]
    },
    {
      "cell_type": "markdown",
      "metadata": {
        "id": "rSIFQsszrU2X"
      },
      "source": [
        "**9) Cálculo del Ingreso**"
      ]
    },
    {
      "cell_type": "markdown",
      "metadata": {
        "id": "YQuRdkCyFv7R"
      },
      "source": [
        "A continuación se agruparán los clientes en base a los ingresos que generaron a la empresa, siguiendo los mismos pasos realizados para los grupos de recencia y frecuencia."
      ]
    },
    {
      "cell_type": "code",
      "execution_count": 378,
      "metadata": {
        "colab": {
          "base_uri": "https://localhost:8080/",
          "height": 206
        },
        "id": "IP0VtB1orS1p",
        "outputId": "dca02351-b305-4943-cc0b-0eb8a26bae96"
      },
      "outputs": [
        {
          "output_type": "execute_result",
          "data": {
            "text/plain": [
              "   ID_Cliente  Ingreso\n",
              "0     12747.0  1082.09\n",
              "1     12748.0  4276.60\n",
              "2     12749.0   782.10\n",
              "3     12821.0    92.72\n",
              "4     12823.0   459.00"
            ],
            "text/html": [
              "\n",
              "  <div id=\"df-9f7a5c71-7bc0-403e-b8a1-1d873cd1ffd5\">\n",
              "    <div class=\"colab-df-container\">\n",
              "      <div>\n",
              "<style scoped>\n",
              "    .dataframe tbody tr th:only-of-type {\n",
              "        vertical-align: middle;\n",
              "    }\n",
              "\n",
              "    .dataframe tbody tr th {\n",
              "        vertical-align: top;\n",
              "    }\n",
              "\n",
              "    .dataframe thead th {\n",
              "        text-align: right;\n",
              "    }\n",
              "</style>\n",
              "<table border=\"1\" class=\"dataframe\">\n",
              "  <thead>\n",
              "    <tr style=\"text-align: right;\">\n",
              "      <th></th>\n",
              "      <th>ID_Cliente</th>\n",
              "      <th>Ingreso</th>\n",
              "    </tr>\n",
              "  </thead>\n",
              "  <tbody>\n",
              "    <tr>\n",
              "      <th>0</th>\n",
              "      <td>12747.0</td>\n",
              "      <td>1082.09</td>\n",
              "    </tr>\n",
              "    <tr>\n",
              "      <th>1</th>\n",
              "      <td>12748.0</td>\n",
              "      <td>4276.60</td>\n",
              "    </tr>\n",
              "    <tr>\n",
              "      <th>2</th>\n",
              "      <td>12749.0</td>\n",
              "      <td>782.10</td>\n",
              "    </tr>\n",
              "    <tr>\n",
              "      <th>3</th>\n",
              "      <td>12821.0</td>\n",
              "      <td>92.72</td>\n",
              "    </tr>\n",
              "    <tr>\n",
              "      <th>4</th>\n",
              "      <td>12823.0</td>\n",
              "      <td>459.00</td>\n",
              "    </tr>\n",
              "  </tbody>\n",
              "</table>\n",
              "</div>\n",
              "      <button class=\"colab-df-convert\" onclick=\"convertToInteractive('df-9f7a5c71-7bc0-403e-b8a1-1d873cd1ffd5')\"\n",
              "              title=\"Convert this dataframe to an interactive table.\"\n",
              "              style=\"display:none;\">\n",
              "        \n",
              "  <svg xmlns=\"http://www.w3.org/2000/svg\" height=\"24px\"viewBox=\"0 0 24 24\"\n",
              "       width=\"24px\">\n",
              "    <path d=\"M0 0h24v24H0V0z\" fill=\"none\"/>\n",
              "    <path d=\"M18.56 5.44l.94 2.06.94-2.06 2.06-.94-2.06-.94-.94-2.06-.94 2.06-2.06.94zm-11 1L8.5 8.5l.94-2.06 2.06-.94-2.06-.94L8.5 2.5l-.94 2.06-2.06.94zm10 10l.94 2.06.94-2.06 2.06-.94-2.06-.94-.94-2.06-.94 2.06-2.06.94z\"/><path d=\"M17.41 7.96l-1.37-1.37c-.4-.4-.92-.59-1.43-.59-.52 0-1.04.2-1.43.59L10.3 9.45l-7.72 7.72c-.78.78-.78 2.05 0 2.83L4 21.41c.39.39.9.59 1.41.59.51 0 1.02-.2 1.41-.59l7.78-7.78 2.81-2.81c.8-.78.8-2.07 0-2.86zM5.41 20L4 18.59l7.72-7.72 1.47 1.35L5.41 20z\"/>\n",
              "  </svg>\n",
              "      </button>\n",
              "      \n",
              "  <style>\n",
              "    .colab-df-container {\n",
              "      display:flex;\n",
              "      flex-wrap:wrap;\n",
              "      gap: 12px;\n",
              "    }\n",
              "\n",
              "    .colab-df-convert {\n",
              "      background-color: #E8F0FE;\n",
              "      border: none;\n",
              "      border-radius: 50%;\n",
              "      cursor: pointer;\n",
              "      display: none;\n",
              "      fill: #1967D2;\n",
              "      height: 32px;\n",
              "      padding: 0 0 0 0;\n",
              "      width: 32px;\n",
              "    }\n",
              "\n",
              "    .colab-df-convert:hover {\n",
              "      background-color: #E2EBFA;\n",
              "      box-shadow: 0px 1px 2px rgba(60, 64, 67, 0.3), 0px 1px 3px 1px rgba(60, 64, 67, 0.15);\n",
              "      fill: #174EA6;\n",
              "    }\n",
              "\n",
              "    [theme=dark] .colab-df-convert {\n",
              "      background-color: #3B4455;\n",
              "      fill: #D2E3FC;\n",
              "    }\n",
              "\n",
              "    [theme=dark] .colab-df-convert:hover {\n",
              "      background-color: #434B5C;\n",
              "      box-shadow: 0px 1px 3px 1px rgba(0, 0, 0, 0.15);\n",
              "      filter: drop-shadow(0px 1px 2px rgba(0, 0, 0, 0.3));\n",
              "      fill: #FFFFFF;\n",
              "    }\n",
              "  </style>\n",
              "\n",
              "      <script>\n",
              "        const buttonEl =\n",
              "          document.querySelector('#df-9f7a5c71-7bc0-403e-b8a1-1d873cd1ffd5 button.colab-df-convert');\n",
              "        buttonEl.style.display =\n",
              "          google.colab.kernel.accessAllowed ? 'block' : 'none';\n",
              "\n",
              "        async function convertToInteractive(key) {\n",
              "          const element = document.querySelector('#df-9f7a5c71-7bc0-403e-b8a1-1d873cd1ffd5');\n",
              "          const dataTable =\n",
              "            await google.colab.kernel.invokeFunction('convertToInteractive',\n",
              "                                                     [key], {});\n",
              "          if (!dataTable) return;\n",
              "\n",
              "          const docLinkHtml = 'Like what you see? Visit the ' +\n",
              "            '<a target=\"_blank\" href=https://colab.research.google.com/notebooks/data_table.ipynb>data table notebook</a>'\n",
              "            + ' to learn more about interactive tables.';\n",
              "          element.innerHTML = '';\n",
              "          dataTable['output_type'] = 'display_data';\n",
              "          await google.colab.output.renderOutput(dataTable, element);\n",
              "          const docLink = document.createElement('div');\n",
              "          docLink.innerHTML = docLinkHtml;\n",
              "          element.appendChild(docLink);\n",
              "        }\n",
              "      </script>\n",
              "    </div>\n",
              "  </div>\n",
              "  "
            ]
          },
          "metadata": {},
          "execution_count": 378
        }
      ],
      "source": [
        "# Se calcula el ingreso que genera cada cliente en el dataframe \"data_3m\":\n",
        "data_3m[\"Ingreso\"] = data_3m[\"Precio\"] * data_3m[\"Cantidad\"]\n",
        "tx_ingreso = data_3m.groupby(\"ID_Cliente\").Ingreso.sum().reset_index()\n",
        "tx_ingreso.head()"
      ]
    },
    {
      "cell_type": "code",
      "execution_count": 379,
      "metadata": {
        "colab": {
          "base_uri": "https://localhost:8080/",
          "height": 112
        },
        "id": "5Ni1nVKprm8l",
        "outputId": "7d47e633-c9a9-4ab5-deaf-56b8b9c0fc17"
      },
      "outputs": [
        {
          "output_type": "execute_result",
          "data": {
            "text/plain": [
              "   ID_Cliente  Recencia  Grupo_Recencia  Frecuencia  Grupo_Frecuencia  Ingreso\n",
              "0     14620.0        12               3          30                 0   393.28\n",
              "1     15194.0         6               3          64                 0  1439.02"
            ],
            "text/html": [
              "\n",
              "  <div id=\"df-05940419-942a-4c4e-b4a7-105083344a7b\">\n",
              "    <div class=\"colab-df-container\">\n",
              "      <div>\n",
              "<style scoped>\n",
              "    .dataframe tbody tr th:only-of-type {\n",
              "        vertical-align: middle;\n",
              "    }\n",
              "\n",
              "    .dataframe tbody tr th {\n",
              "        vertical-align: top;\n",
              "    }\n",
              "\n",
              "    .dataframe thead th {\n",
              "        text-align: right;\n",
              "    }\n",
              "</style>\n",
              "<table border=\"1\" class=\"dataframe\">\n",
              "  <thead>\n",
              "    <tr style=\"text-align: right;\">\n",
              "      <th></th>\n",
              "      <th>ID_Cliente</th>\n",
              "      <th>Recencia</th>\n",
              "      <th>Grupo_Recencia</th>\n",
              "      <th>Frecuencia</th>\n",
              "      <th>Grupo_Frecuencia</th>\n",
              "      <th>Ingreso</th>\n",
              "    </tr>\n",
              "  </thead>\n",
              "  <tbody>\n",
              "    <tr>\n",
              "      <th>0</th>\n",
              "      <td>14620.0</td>\n",
              "      <td>12</td>\n",
              "      <td>3</td>\n",
              "      <td>30</td>\n",
              "      <td>0</td>\n",
              "      <td>393.28</td>\n",
              "    </tr>\n",
              "    <tr>\n",
              "      <th>1</th>\n",
              "      <td>15194.0</td>\n",
              "      <td>6</td>\n",
              "      <td>3</td>\n",
              "      <td>64</td>\n",
              "      <td>0</td>\n",
              "      <td>1439.02</td>\n",
              "    </tr>\n",
              "  </tbody>\n",
              "</table>\n",
              "</div>\n",
              "      <button class=\"colab-df-convert\" onclick=\"convertToInteractive('df-05940419-942a-4c4e-b4a7-105083344a7b')\"\n",
              "              title=\"Convert this dataframe to an interactive table.\"\n",
              "              style=\"display:none;\">\n",
              "        \n",
              "  <svg xmlns=\"http://www.w3.org/2000/svg\" height=\"24px\"viewBox=\"0 0 24 24\"\n",
              "       width=\"24px\">\n",
              "    <path d=\"M0 0h24v24H0V0z\" fill=\"none\"/>\n",
              "    <path d=\"M18.56 5.44l.94 2.06.94-2.06 2.06-.94-2.06-.94-.94-2.06-.94 2.06-2.06.94zm-11 1L8.5 8.5l.94-2.06 2.06-.94-2.06-.94L8.5 2.5l-.94 2.06-2.06.94zm10 10l.94 2.06.94-2.06 2.06-.94-2.06-.94-.94-2.06-.94 2.06-2.06.94z\"/><path d=\"M17.41 7.96l-1.37-1.37c-.4-.4-.92-.59-1.43-.59-.52 0-1.04.2-1.43.59L10.3 9.45l-7.72 7.72c-.78.78-.78 2.05 0 2.83L4 21.41c.39.39.9.59 1.41.59.51 0 1.02-.2 1.41-.59l7.78-7.78 2.81-2.81c.8-.78.8-2.07 0-2.86zM5.41 20L4 18.59l7.72-7.72 1.47 1.35L5.41 20z\"/>\n",
              "  </svg>\n",
              "      </button>\n",
              "      \n",
              "  <style>\n",
              "    .colab-df-container {\n",
              "      display:flex;\n",
              "      flex-wrap:wrap;\n",
              "      gap: 12px;\n",
              "    }\n",
              "\n",
              "    .colab-df-convert {\n",
              "      background-color: #E8F0FE;\n",
              "      border: none;\n",
              "      border-radius: 50%;\n",
              "      cursor: pointer;\n",
              "      display: none;\n",
              "      fill: #1967D2;\n",
              "      height: 32px;\n",
              "      padding: 0 0 0 0;\n",
              "      width: 32px;\n",
              "    }\n",
              "\n",
              "    .colab-df-convert:hover {\n",
              "      background-color: #E2EBFA;\n",
              "      box-shadow: 0px 1px 2px rgba(60, 64, 67, 0.3), 0px 1px 3px 1px rgba(60, 64, 67, 0.15);\n",
              "      fill: #174EA6;\n",
              "    }\n",
              "\n",
              "    [theme=dark] .colab-df-convert {\n",
              "      background-color: #3B4455;\n",
              "      fill: #D2E3FC;\n",
              "    }\n",
              "\n",
              "    [theme=dark] .colab-df-convert:hover {\n",
              "      background-color: #434B5C;\n",
              "      box-shadow: 0px 1px 3px 1px rgba(0, 0, 0, 0.15);\n",
              "      filter: drop-shadow(0px 1px 2px rgba(0, 0, 0, 0.3));\n",
              "      fill: #FFFFFF;\n",
              "    }\n",
              "  </style>\n",
              "\n",
              "      <script>\n",
              "        const buttonEl =\n",
              "          document.querySelector('#df-05940419-942a-4c4e-b4a7-105083344a7b button.colab-df-convert');\n",
              "        buttonEl.style.display =\n",
              "          google.colab.kernel.accessAllowed ? 'block' : 'none';\n",
              "\n",
              "        async function convertToInteractive(key) {\n",
              "          const element = document.querySelector('#df-05940419-942a-4c4e-b4a7-105083344a7b');\n",
              "          const dataTable =\n",
              "            await google.colab.kernel.invokeFunction('convertToInteractive',\n",
              "                                                     [key], {});\n",
              "          if (!dataTable) return;\n",
              "\n",
              "          const docLinkHtml = 'Like what you see? Visit the ' +\n",
              "            '<a target=\"_blank\" href=https://colab.research.google.com/notebooks/data_table.ipynb>data table notebook</a>'\n",
              "            + ' to learn more about interactive tables.';\n",
              "          element.innerHTML = '';\n",
              "          dataTable['output_type'] = 'display_data';\n",
              "          await google.colab.output.renderOutput(dataTable, element);\n",
              "          const docLink = document.createElement('div');\n",
              "          docLink.innerHTML = docLinkHtml;\n",
              "          element.appendChild(docLink);\n",
              "        }\n",
              "      </script>\n",
              "    </div>\n",
              "  </div>\n",
              "  "
            ]
          },
          "metadata": {},
          "execution_count": 379
        }
      ],
      "source": [
        "# Se unen los dataframes:\n",
        "data_cliente = pd.merge(data_cliente, tx_ingreso, on=\"ID_Cliente\")\n",
        "# Se obsvera el dataframe con la columna \"Ingreso\":\n",
        "data_cliente.head(2)\n"
      ]
    },
    {
      "cell_type": "markdown",
      "metadata": {
        "id": "VLllJL4u2sk8"
      },
      "source": [
        "Se observa el ingreso generado por cada cliente."
      ]
    },
    {
      "cell_type": "code",
      "execution_count": 380,
      "metadata": {
        "colab": {
          "base_uri": "https://localhost:8080/",
          "height": 0
        },
        "id": "gIF0ilLKrofG",
        "outputId": "a43c19f2-b78d-4ed7-9584-2e6301cbf18e"
      },
      "outputs": [
        {
          "output_type": "execute_result",
          "data": {
            "text/plain": [
              "count     1840.0\n",
              "mean       737.0\n",
              "std       1639.0\n",
              "min      -1462.0\n",
              "25%        208.0\n",
              "50%        368.0\n",
              "75%        748.0\n",
              "max      35085.0\n",
              "Name: Ingreso, dtype: float64"
            ]
          },
          "metadata": {},
          "execution_count": 380
        }
      ],
      "source": [
        "# Se observan las principales estadísticas descriptivas del ingreso:\n",
        "data_cliente.Ingreso.describe().round(0)"
      ]
    },
    {
      "cell_type": "markdown",
      "metadata": {
        "id": "-MBb21mnGrpS"
      },
      "source": [
        "El ingreso promedio generado por cliente es de 737 usd mientras que la mediana es de 368 usd."
      ]
    },
    {
      "cell_type": "code",
      "execution_count": 381,
      "metadata": {
        "colab": {
          "base_uri": "https://localhost:8080/",
          "height": 542
        },
        "id": "gaTEfND93QKV",
        "outputId": "7f422765-d18c-4bd1-8c05-1724d76b230c"
      },
      "outputs": [
        {
          "output_type": "display_data",
          "data": {
            "text/html": [
              "<html>\n",
              "<head><meta charset=\"utf-8\" /></head>\n",
              "<body>\n",
              "    <div>            <script src=\"https://cdnjs.cloudflare.com/ajax/libs/mathjax/2.7.5/MathJax.js?config=TeX-AMS-MML_SVG\"></script><script type=\"text/javascript\">if (window.MathJax) {MathJax.Hub.Config({SVG: {font: \"STIX-Web\"}});}</script>                <script type=\"text/javascript\">window.PlotlyConfig = {MathJaxConfig: 'local'};</script>\n",
              "        <script src=\"https://cdn.plot.ly/plotly-2.8.3.min.js\"></script>                <div id=\"6e2a3119-0baf-4921-8b23-9a5e6375881e\" class=\"plotly-graph-div\" style=\"height:525px; width:100%;\"></div>            <script type=\"text/javascript\">                                    window.PLOTLYENV=window.PLOTLYENV || {};                                    if (document.getElementById(\"6e2a3119-0baf-4921-8b23-9a5e6375881e\")) {                    Plotly.newPlot(                        \"6e2a3119-0baf-4921-8b23-9a5e6375881e\",                        [{\"x\":[393.28000000000003,1439.02,808.96,638.12,947.55,484.62,1144.77,1082.09,1254.18,3823.8,562.28,670.17,263.96,1104.41,6400.8,481.44000000000005,1143.27,993.54,872.71,1829.69,860.39,1984.5900000000001,1553.71,887.04,2267.1400000000003,4184.43,606.22,551.92,1865.12,1056.27,1109.67,1029.05,838.15,601.03,707.69,1082.4,5022.17,2574.07,313.34999999999997,6638.67,210.32000000000002,303.58,1134.74,190.78,356.11,1110.34,426.51000000000005,207.24,972.98,1818.4299999999998,2890.34,1520.78,1114.39,1273.22,885.4,593.33,388.1,290.23,581.02,1406.28,993.04,290.26,3268.25,2734.74,992.91,418.34000000000003,108.65,1728.8400000000001,269.31,1320.4,785.74,373.81,920.94,1172.84,29.58,1306.19,7566.2,890.6400000000001,966.86,1025.64,1023.17,710.73,2047.3,750.99,848.3100000000001,877.24,1320.46,1661.45,1038.32,536.0400000000001,1431.86,339.89,697.42,485.96999999999997,1430.63,718.52,1409.64,399.1,428.23,781.86,1330.0,582.0500000000001,1216.63,837.09,6583.8,3462.24,776.23,500.69,1210.28,2159.16,1485.8,1144.64,2315.3599999999997,260.4,3321.6400000000003,224.18,422.09000000000003,205.51,1458.35,1127.45,548.9,342.51,1934.6,1503.5,732.45,1253.73,489.87,341.13,707.53,418.95,1800.89,281.5,620.3000000000001,466.53999999999996,651.21,856.6700000000001,902.0400000000001,728.9,1206.94,505.66,696.1800000000001,1420.73,323.22,643.65,355.34000000000003,417.85,352.58000000000004,823.13,970.49,1525.09,311.4,705.89,184.51,601.8,685.85,818.74,6226.81,614.28,974.6800000000001,1257.46,335.35,390.87,1557.7600000000002,593.73,3490.33,-458.29999999999995,392.6,1500.77,1324.48,875.84,608.77,1210.27,373.18,789.48,673.65,958.39,277.64,680.5799999999999,962.7,1107.39,1573.44,840.18,160.0,318.79,981.13,1159.27,211.69,558.9000000000001,919.42,715.91,590.49,487.59,239.71,724.67,380.66,373.29,455.88,918.82,687.83,1061.41,873.24,267.16,1442.42,2655.54,254.4,510.47,790.1,1142.5,4045.77,2982.17,320.92,271.98,1088.42,1032.9,525.51,1154.3999999999999,466.98,1664.52,1303.9099999999999,819.66,541.33,370.76,1037.72,1020.53,602.97,749.79,665.72,639.92,677.83,526.2,850.13,471.15000000000003,255.12,411.47,291.0,770.0,338.74,237.62,462.1,219.43,600.28,3134.13,163.20000000000002,659.13,847.73,622.26,428.05,439.15,226.10999999999999,272.3,404.35,429.57,557.3,449.04,402.6,685.4499999999999,3.552713678800501e-15,251.55,248.42,678.54,432.14,136.65,629.9200000000001,255.61,333.11,746.8000000000001,694.08,242.24,782.1,62.0,251.01999999999998,289.36,592.88,1117.2,633.71,288.0,248.75,127.45,112.8,120.27,125.8,212.4,305.45000000000005,194.79,1028.56,119.45,277.81,63.440000000000005,284.1,77.75,72.4,208.2,448.34,299.23,132.0,710.42,463.38,369.2,195.0,207.66,177.0,655.24,99.84,357.98,125.28,139.79999999999998,563.61,551.03,562.88,133.68,454.93,155.93,396.92,371.84,1069.47,439.8,486.99,399.21000000000004,2.9,157.9,114.7,135.98,694.64,1384.25,505.45,685.9300000000001,699.64,198.87,799.38,115.92,464.32,213.05,236.0,749.4300000000001,178.35,479.65,305.36,127.75,294.73,390.91,211.55,414.77,171.45,139.15,155.9,181.1,87.7,448.83,136.78,189.60000000000002,848.78,267.55,295.16,314.42,1223.24,397.40000000000003,323.95,882.6,349.55,125.43,525.92,110.74,211.73000000000002,373.72,968.5,59.8,1692.0,131.7,430.35,-7.5,814.95,94.39999999999999,585.12,770.5,172.29000000000002,578.5500000000001,765.28,227.57999999999998,86.5,1590.05,316.95,145.9,257.7,212.93,475.19,152.34,306.13,492.26,20.8,903.01,792.21,236.04000000000002,178.39,147.86,143.1,860.12,399.15,465.43,182.26,326.4,138.2,318.55,262.96,-8.95,578.6500000000001,306.53000000000003,339.59999999999997,249.55,595.29,339.7,911.26,415.28000000000003,37.45,122.38,327.97,159.56,113.73,135.93,-17.0,157.25,525.36,339.59,145.04000000000002,83.28,611.85,179.0,172.24,480.96,278.63,182.99,474.8,144.8,137.77,304.3,271.85,103.21000000000001,426.43,370.98,241.08,388.18,354.45,134.04,3096.0,125.38,559.87,191.4,579.97,440.99,207.50000000000003,120.7,314.1,360.0,210.65,208.59,308.03999999999996,240.89000000000001,207.15,185.22000000000003,9.2,129.32,139.35,457.34,228.8,84.72,113.0,155.0,309.54,718.63,877.4,777.38,457.81,413.95,1731.42,361.4,317.58,442.83,253.5,744.6600000000001,942.75,495.77,1292.98,278.86,677.23,733.4399999999999,911.48,765.39,2544.12,251.44,490.7,1446.5,479.94000000000005,236.3,546.66,791.65,387.95,888.09,134.16,1714.6100000000001,808.61,600.31,243.71999999999997,306.9,1250.0,1226.6,4867.9,600.52,464.61,1191.33,686.64,631.47,590.8000000000001,199.61,568.35,566.32,549.68,3007.2200000000003,218.8,943.22,651.83,860.08,454.59000000000003,778.45,593.3,945.6,275.4,685.7900000000001,1641.8,596.85,248.83,383.17,533.3,621.57,1688.02,610.59,886.26,477.09999999999997,289.92,640.8,627.06,607.65,1175.6,390.16,260.70000000000005,320.77,221.0,961.36,1059.3600000000001,686.5,960.0,365.7,418.65,1266.3,1264.55,778.0,643.09,572.0,1394.08,285.48,1170.02,853.99,353.15999999999997,336.13,258.3,985.8100000000001,501.7,577.32,535.5,528.45,764.98,637.26,313.77,637.12,502.73,291.75,431.33,831.1,1352.2,1150.05,990.8399999999999,1998.0,21.27,1741.78,511.29,615.86,367.53999999999996,1611.0,454.90000000000003,377.71,843.95,444.71,724.03,926.51,966.74,610.59,786.57,1055.18,368.64000000000004,96.64,458.86,789.0,262.73,476.37,565.77,229.71,173.1,218.7,739.53,239.45000000000002,608.65,1420.58,458.49,1463.0,524.43,451.65000000000003,173.4,330.32,396.63,1272.48,471.15,559.69,427.94,629.11,268.15,712.91,876.46,424.62,0.0,534.46,516.24,569.4,300.07,0.0,205.7,413.46,339.93,187.04999999999998,285.37,568.26,884.4,379.1,348.33000000000004,358.38,147.6,111.76,162.0,297.78000000000003,277.69,122.39999999999999,167.92,201.19,511.68,203.95,506.38,416.4,592.41,334.95,93.35,145.91,318.3,303.62,226.85,259.45,160.95,654.6,112.32,430.38,232.65,308.32000000000005,107.21,440.0,331.18,-143.7,272.17,253.57999999999998,435.95,383.45,153.86,53.1,642.37,164.86,810.56,134.8,316.12,259.43,288.6,287.02,1716.27,204.00000000000003,155.55,342.15000000000003,63.910000000000004,309.35,303.61,275.93,76.65,209.99,306.36,424.42,555.85,325.02,747.69,319.74,397.68,164.07,364.18,159.20000000000002,75.66,203.86999999999998,240.4,114.04,1032.46,278.4,814.71,227.65,313.4,179.0,108.95,296.88,134.7,186.86,252.06,116.95,110.38,15.0,590.77,425.4,208.36,185.39999999999998,281.66,229.56,265.2,68.0,188.60999999999999,138.85,400.3,67.95,143.45999999999998,365.83,186.9,353.06,76.32000000000001,300.4,404.40000000000003,261.36,59.9,570.04,700.6,93.75,1128.6,127.38,430.46000000000004,173.12,160.86,315.66,90.12,304.21,199.85000000000002,251.75,187.16,480.46000000000004,265.75,243.72,280.38,312.28,199.11,312.4,141.85999999999999,938.85,302.44,444.3,366.47,247.76999999999998,355.22,144.32999999999998,367.52,302.4,328.45,318.15999999999997,214.5,90.6,59.050000000000004,239.4,362.9,815.78,272.46,101.10000000000001,111.15,109.13000000000001,251.6,92.72,300.29999999999995,71.82,330.0,172.95,344.86,319.12,466.61,137.9,313.93,2044.3700000000001,37.8,104.0,413.85,370.79999999999995,288.68,204.02,311.3,215.65,361.32,439.6,358.2,977.77,208.56,217.81,386.37,572.8100000000001,722.41,578.48,431.6,348.15000000000003,715.4999999999999,326.19,156.02,56.65,582.12,300.71,102.02,101.17000000000007,310.56,738.6,501.38,466.12,328.15000000000003,393.95,455.18,334.54,157.54000000000002,348.26,101.4,148.22,381.6,589.01,234.47,214.5,428.62,317.59999999999997,230.67000000000002,415.47,560.35,373.2,562.79,304.8,101.76,720.0,223.07,519.68,306.0,34.0,79.2,133.25,109.5,297.16,204.5,489.0,232.14999999999998,-28.5,133.11,189.95000000000002,203.37,460.94,414.7,270.4,194.55,162.3,312.38,134.97,1463.47,488.41,848.05,388.3,997.01,85.0,337.1,110.38000000000001,150.83,306.7,374.0,207.50000000000003,98.37,148.54999999999998,262.54999999999995,-9.95,779.92,1193.88,-10.25,-21.2,-1.25,436.68,137.1,306.94,222.65,-76.3,348.2,76.1,-2.95,225.9,594.75,706.9,124.10000000000001,122.7,211.35,161.5,137.49,378.21000000000004,222.99,218.06,332.4,240.68,38.0,96.8,119.31,50.8,345.68,45.0,310.77,164.4,-53.1,346.1,122.87,137.9,136.76999999999998,217.2,142.28,159.3,180.60000000000002,1656.15,75.6,416.61,634.5,328.8,318.24,117.55,-8.5,-25.5,-4.35,-34.8,162.7,134.9,149.64,269.7,-11.899999999999999,197.0,1120.93,300.36,325.1,3678.03,391.52,123.35,987.7,794.41,108.5,328.37,246.51,17.700000000000003,118.5,240.10000000000002,588.6700000000001,148.63,298.0,200.85,380.5,1675.91,342.58,188.64,120.44,251.52,358.5,337.5,232.6,74.56,298.5,223.95000000000002,660.0,333.08,302.27,789.9,101.34,258.7,89.7,268.58,93.18,166.5,182.7,314.96,310.0,191.39999999999998,57.45,10.0,121.17000000000002,157.65,1145.6,108.21000000000001,-1.9000000000000012,198.6,1919.04,183.25,153.41,252.54,285.33,142.0,126.7,289.0,590.0,154.92000000000002,547.51,118.05,-3.4,251.56,343.62,422.53999999999996,170.75,300.0,74.2,217.89,138.28,5.1,501.25,-29.95,-10.95,254.73,316.40000000000003,1829.04,369.9,300.19,422.43,306.64,439.03,99.0,668.8499999999999,370.48,142.5,309.46,511.8,152.76,627.2,398.97999999999996,71.4,62.85,333.74,144.94,111.96,-19.9,-555.9,914.9300000000001,676.2,251.51999999999998,142.4,401.31,223.0,177.15,409.98,166.8,183.6,326.5,330.35,343.49,732.63,152.55,110.95,793.65,252.81,530.4,278.07,141.41,234.24,118.75,174.6,197.72,344.90000000000003,391.1,211.5,318.7,155.69,138.68,87.8,691.53,172.9,320.62,267.18,113.5,222.9,237.0,289.0,203.4,300.52,922.1,198.8,409.1,158.95000000000002,298.11,153.83,188.73,265.63,15.0,200.29,110.65,-6.3,103.72,131.26,114.56,687.15,420.25,358.1,517.55,365.36,215.05,200.16,314.6,154.2,512.13,237.07,292.47,170.94,216.95000000000002,25.5,329.56,327.25,366.02,270.15,99.15,265.02,133.49,207.79999999999998,776.23,77.3,259.84,1251.48,285.58,396.87,163.3,495.0,291.84000000000003,307.92,162.65,147.0,358.90000000000003,227.32,333.0,775.85,556.9399999999999,251.21,95.75999999999999,154.95,361.54,231.89999999999998,187.2,335.32,40.5,409.57,361.81,307.5,256.78,211.77,170.95,474.05,194.92000000000002,410.53,161.89,633.6,324.70000000000005,343.03000000000003,51.0,194.05,311.57,173.52,218.34,193.0,251.56,329.44,588.0,223.9,148.8,88.2,137.6,174.8,135.09,369.01,239.95999999999998,433.9,1267.5,106.5,206.13,1693.5,166.79,324.15,583.68,439.79,259.39000000000004,285.25,358.27,921.27,416.64,417.38,1118.39,632.24,881.0300000000001,389.8,879.8000000000001,2298.75,465.3,230.78,394.90000000000003,1286.55,997.58,415.33,758.35,463.79,530.11,1124.88,471.57,845.32,351.34999999999997,440.7,290.32,594.6800000000001,1016.13,376.52,1562.59,749.67,573.34,595.4300000000001,2400.0,742.3000000000001,1315.4,67.75,1041.67,854.99,225.4,456.68,705.6400000000001,204.41,593.99,1115.06,710.67,344.27,379.45,809.01,411.2,550.83,149.57999999999998,286.9,213.3,445.13,119.55,271.63,305.54,2110.62,356.84000000000003,297.2,277.07,108.2,1700.4,283.71,371.83000000000004,237.65,113.30000000000001,346.6,432.1,81.6,315.0,459.0,56.4,662.3,481.2,215.43,381.5,458.47,536.0,238.79999999999998,480.26,383.34,1460.24,294.47,583.89,331.80000000000007,264.65,132.09,645.59,519.96,760.18,836.79,229.33,141.85,1015.83,378.3,307.53,152.16,125.65,61.10000000000001,118.25,113.12,473.38,106.81,31.770000000000003,216.12,58.49,198.2,414.62,111.6,226.85,102.0,120.9,244.79,364.8,140.14,257.23,151.5,317.6,183.04,307.59999999999997,216.75,201.53,85.0,417.95,47.7,490.4,444.75,312.58,169.5,505.2,37.4,136.8,713.8,244.5,282.3,127.84,280.56,273.14,903.01,535.34,183.4,432.48,543.21,483.65,375.45,375.0,304.25,12.75,294.3,223.46,158.87,174.45999999999998,463.95,336.96,354.29,594.0,346.5,625.5799999999999,295.07,297.94,374.57,282.88,260.55,112.41,299.56,203.4,123.1,123.45,39.95,319.42,454.12,206.21,305.63,75.9,72.9,127.74000000000001,175.2,376.85,299.48,548.09,179.30999999999997,54.519999999999996,189.67,305.95000000000005,91.8,228.84,244.5,158.54000000000002,268.3,168.46,192.5,276.9,102.12,78.25999999999999,252.52,119.35,379.51,300.25,768.83,487.51,449.64,239.0,266.4,137.72000000000003,310.05,463.75,129.45,196.8,117.6,174.02,109.95,194.7,451.29,235.08,115.7,603.27,104.9,276.48,281.01,110.97,176.60999999999999,212.12,108.42,259.29,239.49,112.55000000000001,100.6,610.69,511.32,225.61,514.9300000000001,185.65,158.4,469.28000000000003,284.44000000000005,841.4999999999999,289.90999999999997,377.2,284.35,36.2,165.71,331.58000000000004,166.85,118.45,263.41,309.51,416.86,383.65,316.2,356.75,387.7,94.2,421.74,199.38,135.19,401.82,-4.95,874.5500000000001,246.04,88.94999999999999,280.46999999999997,330.62,-7.95,293.16,357.65,183.64,313.8,293.96,112.75,259.79,123.2,193.62,350.75,-15.05,429.6,334.2,113.01,240.0,489.75,186.88,126.05000000000001,185.04999999999998,903.67,98.8,229.24,1738.24,505.57,349.25,387.29,122.83000000000001,56.86,434.26,208.03,228.42,297.16,205.8,162.23000000000002,896.6700000000001,390.6,1345.62,328.15999999999997,238.1,116.00999999999999,579.0,127.15,300.25,30.599999999999998,146.0,206.29000000000002,286.72,81.4,1612.83,721.55,445.81,167.55,328.15000000000003,232.48000000000002,358.0,899.58,314.84000000000003,314.45,143.69,121.63,295.82,302.85,140.55,175.27,303.49,226.84,459.18,118.85,338.95,406.48,-10.95,223.17000000000002,151.85,394.83000000000004,207.24,712.24,478.03000000000003,304.04999999999995,-1462.5,242.29,178.41,192.68,306.05,695.3299999999999,408.0,99.45,320.58,424.64,263.66,480.27,347.49,142.2,915.01,293.92,150.3,447.52,101.19,169.35999999999999,409.40000000000003,121.36,304.31,157.9,113.5,112.97999999999999,308.55,157.2,234.25,439.33,232.9,454.24,267.03,212.5,307.46,548.4300000000001,-8.5,141.49,1007.9,284.76,397.20000000000005,572.25,121.11,335.0,257.89,302.55,139.35,335.5,597.8199999999999,207.0,464.59000000000003,225.15,245.31,118.7,184.64,173.46,126.32,476.8,455.9,1448.21,1480.95,2962.65,1252.26,1295.06,3729.42,1264.15,1379.15,2506.75,3252.04,3019.2200000000003,1779.43,3026.56,1253.11,1091.29,745.0,1579.92,1569.82,3403.01,3812.71,1167.05,1988.83,1569.8,5434.8,1932.32,2740.1,1785.18,1755.13,1945.58,4117.36,1503.19,5433.89,2215.01,6808.8,1973.12,1177.14,1108.91,946.5,1069.5,838.61,2389.45,824.5,1654.42,1855.86,1939.68,1973.33,3655.2000000000003,6224.17,701.48,634.41,969.3,945.67,7213.03,1986.97,1721.95,1311.42,1383.5,683.68,1780.77,1963.59,1957.85,1770.2,2061.8,1771.49,1626.29,2825.4700000000003,1132.35,2272.76,1681.6,1405.34,1606.95,1405.55,1582.81,2131.72,775.31,956.4300000000001,1654.63,1207.66,1020.92,567.35,1483.81,599.07,2832.92,1977.75,1795.6200000000001,1665.61,1161.06,1349.43,825.33,2455.9900000000002,1150.33,1673.8,1987.6200000000001,2226.5,1513.03,1051.88,1763.04,857.51,1515.34,1464.8500000000001,5837.74,1811.49,1595.2,1055.62,674.9,2824.05,1888.74,507.72,445.73,635.15,982.25,784.24,1556.17,719.93,200.82,1093.65,191.10999999999999,1989.73,1444.14,1802.29,540.98,7969.99,4131.15,775.66,1043.43,1447.26,814.47,2051.32,3842.21,1025.64,2322.17,930.96,1791.03,2737.41,1198.22,1581.8,1359.67,1613.46,551.84,1302.05,2348.51,745.46,1334.76,2310.4,926.63,468.29,1170.59,477.13,840.35,367.46999999999997,942.4399999999999,619.68,463.37,602.74,1551.8500000000001,1542.78,677.0799999999999,882.45,3122.9900000000002,2745.43,571.45,1354.46,919.53,244.17,392.18,1205.07,810.43,3246.091,1644.92,1890.94,1565.47,285.94,325.08,363.97,392.86,506.35,1272.77,704.33,716.24,912.03,274.18,423.19,349.63,602.63,542.03,609.4,455.28000000000003,638.43,2274.43,1136.8600000000001,478.28000000000003,1227.28,1064.63,1496.7,542.71,873.54,783.03,529.3,787.65,524.99,906.7,1451.62,326.93,966.86,1338.96,640.8100000000001,1260.15,416.23,852.87,303.04,441.14,1456.42,2050.08,532.0,590.77,431.45,1266.23,386.9,484.1,2027.38,2808.2799999999997,1789.71,3136.87,6723.64,4276.6,2670.17,4763.26,5944.59],\"type\":\"histogram\"}],                        {\"template\":{\"data\":{\"barpolar\":[{\"marker\":{\"line\":{\"color\":\"#E5ECF6\",\"width\":0.5},\"pattern\":{\"fillmode\":\"overlay\",\"size\":10,\"solidity\":0.2}},\"type\":\"barpolar\"}],\"bar\":[{\"error_x\":{\"color\":\"#2a3f5f\"},\"error_y\":{\"color\":\"#2a3f5f\"},\"marker\":{\"line\":{\"color\":\"#E5ECF6\",\"width\":0.5},\"pattern\":{\"fillmode\":\"overlay\",\"size\":10,\"solidity\":0.2}},\"type\":\"bar\"}],\"carpet\":[{\"aaxis\":{\"endlinecolor\":\"#2a3f5f\",\"gridcolor\":\"white\",\"linecolor\":\"white\",\"minorgridcolor\":\"white\",\"startlinecolor\":\"#2a3f5f\"},\"baxis\":{\"endlinecolor\":\"#2a3f5f\",\"gridcolor\":\"white\",\"linecolor\":\"white\",\"minorgridcolor\":\"white\",\"startlinecolor\":\"#2a3f5f\"},\"type\":\"carpet\"}],\"choropleth\":[{\"colorbar\":{\"outlinewidth\":0,\"ticks\":\"\"},\"type\":\"choropleth\"}],\"contourcarpet\":[{\"colorbar\":{\"outlinewidth\":0,\"ticks\":\"\"},\"type\":\"contourcarpet\"}],\"contour\":[{\"colorbar\":{\"outlinewidth\":0,\"ticks\":\"\"},\"colorscale\":[[0.0,\"#0d0887\"],[0.1111111111111111,\"#46039f\"],[0.2222222222222222,\"#7201a8\"],[0.3333333333333333,\"#9c179e\"],[0.4444444444444444,\"#bd3786\"],[0.5555555555555556,\"#d8576b\"],[0.6666666666666666,\"#ed7953\"],[0.7777777777777778,\"#fb9f3a\"],[0.8888888888888888,\"#fdca26\"],[1.0,\"#f0f921\"]],\"type\":\"contour\"}],\"heatmapgl\":[{\"colorbar\":{\"outlinewidth\":0,\"ticks\":\"\"},\"colorscale\":[[0.0,\"#0d0887\"],[0.1111111111111111,\"#46039f\"],[0.2222222222222222,\"#7201a8\"],[0.3333333333333333,\"#9c179e\"],[0.4444444444444444,\"#bd3786\"],[0.5555555555555556,\"#d8576b\"],[0.6666666666666666,\"#ed7953\"],[0.7777777777777778,\"#fb9f3a\"],[0.8888888888888888,\"#fdca26\"],[1.0,\"#f0f921\"]],\"type\":\"heatmapgl\"}],\"heatmap\":[{\"colorbar\":{\"outlinewidth\":0,\"ticks\":\"\"},\"colorscale\":[[0.0,\"#0d0887\"],[0.1111111111111111,\"#46039f\"],[0.2222222222222222,\"#7201a8\"],[0.3333333333333333,\"#9c179e\"],[0.4444444444444444,\"#bd3786\"],[0.5555555555555556,\"#d8576b\"],[0.6666666666666666,\"#ed7953\"],[0.7777777777777778,\"#fb9f3a\"],[0.8888888888888888,\"#fdca26\"],[1.0,\"#f0f921\"]],\"type\":\"heatmap\"}],\"histogram2dcontour\":[{\"colorbar\":{\"outlinewidth\":0,\"ticks\":\"\"},\"colorscale\":[[0.0,\"#0d0887\"],[0.1111111111111111,\"#46039f\"],[0.2222222222222222,\"#7201a8\"],[0.3333333333333333,\"#9c179e\"],[0.4444444444444444,\"#bd3786\"],[0.5555555555555556,\"#d8576b\"],[0.6666666666666666,\"#ed7953\"],[0.7777777777777778,\"#fb9f3a\"],[0.8888888888888888,\"#fdca26\"],[1.0,\"#f0f921\"]],\"type\":\"histogram2dcontour\"}],\"histogram2d\":[{\"colorbar\":{\"outlinewidth\":0,\"ticks\":\"\"},\"colorscale\":[[0.0,\"#0d0887\"],[0.1111111111111111,\"#46039f\"],[0.2222222222222222,\"#7201a8\"],[0.3333333333333333,\"#9c179e\"],[0.4444444444444444,\"#bd3786\"],[0.5555555555555556,\"#d8576b\"],[0.6666666666666666,\"#ed7953\"],[0.7777777777777778,\"#fb9f3a\"],[0.8888888888888888,\"#fdca26\"],[1.0,\"#f0f921\"]],\"type\":\"histogram2d\"}],\"histogram\":[{\"marker\":{\"pattern\":{\"fillmode\":\"overlay\",\"size\":10,\"solidity\":0.2}},\"type\":\"histogram\"}],\"mesh3d\":[{\"colorbar\":{\"outlinewidth\":0,\"ticks\":\"\"},\"type\":\"mesh3d\"}],\"parcoords\":[{\"line\":{\"colorbar\":{\"outlinewidth\":0,\"ticks\":\"\"}},\"type\":\"parcoords\"}],\"pie\":[{\"automargin\":true,\"type\":\"pie\"}],\"scatter3d\":[{\"line\":{\"colorbar\":{\"outlinewidth\":0,\"ticks\":\"\"}},\"marker\":{\"colorbar\":{\"outlinewidth\":0,\"ticks\":\"\"}},\"type\":\"scatter3d\"}],\"scattercarpet\":[{\"marker\":{\"colorbar\":{\"outlinewidth\":0,\"ticks\":\"\"}},\"type\":\"scattercarpet\"}],\"scattergeo\":[{\"marker\":{\"colorbar\":{\"outlinewidth\":0,\"ticks\":\"\"}},\"type\":\"scattergeo\"}],\"scattergl\":[{\"marker\":{\"colorbar\":{\"outlinewidth\":0,\"ticks\":\"\"}},\"type\":\"scattergl\"}],\"scattermapbox\":[{\"marker\":{\"colorbar\":{\"outlinewidth\":0,\"ticks\":\"\"}},\"type\":\"scattermapbox\"}],\"scatterpolargl\":[{\"marker\":{\"colorbar\":{\"outlinewidth\":0,\"ticks\":\"\"}},\"type\":\"scatterpolargl\"}],\"scatterpolar\":[{\"marker\":{\"colorbar\":{\"outlinewidth\":0,\"ticks\":\"\"}},\"type\":\"scatterpolar\"}],\"scatter\":[{\"marker\":{\"colorbar\":{\"outlinewidth\":0,\"ticks\":\"\"}},\"type\":\"scatter\"}],\"scatterternary\":[{\"marker\":{\"colorbar\":{\"outlinewidth\":0,\"ticks\":\"\"}},\"type\":\"scatterternary\"}],\"surface\":[{\"colorbar\":{\"outlinewidth\":0,\"ticks\":\"\"},\"colorscale\":[[0.0,\"#0d0887\"],[0.1111111111111111,\"#46039f\"],[0.2222222222222222,\"#7201a8\"],[0.3333333333333333,\"#9c179e\"],[0.4444444444444444,\"#bd3786\"],[0.5555555555555556,\"#d8576b\"],[0.6666666666666666,\"#ed7953\"],[0.7777777777777778,\"#fb9f3a\"],[0.8888888888888888,\"#fdca26\"],[1.0,\"#f0f921\"]],\"type\":\"surface\"}],\"table\":[{\"cells\":{\"fill\":{\"color\":\"#EBF0F8\"},\"line\":{\"color\":\"white\"}},\"header\":{\"fill\":{\"color\":\"#C8D4E3\"},\"line\":{\"color\":\"white\"}},\"type\":\"table\"}]},\"layout\":{\"annotationdefaults\":{\"arrowcolor\":\"#2a3f5f\",\"arrowhead\":0,\"arrowwidth\":1},\"autotypenumbers\":\"strict\",\"coloraxis\":{\"colorbar\":{\"outlinewidth\":0,\"ticks\":\"\"}},\"colorscale\":{\"diverging\":[[0,\"#8e0152\"],[0.1,\"#c51b7d\"],[0.2,\"#de77ae\"],[0.3,\"#f1b6da\"],[0.4,\"#fde0ef\"],[0.5,\"#f7f7f7\"],[0.6,\"#e6f5d0\"],[0.7,\"#b8e186\"],[0.8,\"#7fbc41\"],[0.9,\"#4d9221\"],[1,\"#276419\"]],\"sequential\":[[0.0,\"#0d0887\"],[0.1111111111111111,\"#46039f\"],[0.2222222222222222,\"#7201a8\"],[0.3333333333333333,\"#9c179e\"],[0.4444444444444444,\"#bd3786\"],[0.5555555555555556,\"#d8576b\"],[0.6666666666666666,\"#ed7953\"],[0.7777777777777778,\"#fb9f3a\"],[0.8888888888888888,\"#fdca26\"],[1.0,\"#f0f921\"]],\"sequentialminus\":[[0.0,\"#0d0887\"],[0.1111111111111111,\"#46039f\"],[0.2222222222222222,\"#7201a8\"],[0.3333333333333333,\"#9c179e\"],[0.4444444444444444,\"#bd3786\"],[0.5555555555555556,\"#d8576b\"],[0.6666666666666666,\"#ed7953\"],[0.7777777777777778,\"#fb9f3a\"],[0.8888888888888888,\"#fdca26\"],[1.0,\"#f0f921\"]]},\"colorway\":[\"#636efa\",\"#EF553B\",\"#00cc96\",\"#ab63fa\",\"#FFA15A\",\"#19d3f3\",\"#FF6692\",\"#B6E880\",\"#FF97FF\",\"#FECB52\"],\"font\":{\"color\":\"#2a3f5f\"},\"geo\":{\"bgcolor\":\"white\",\"lakecolor\":\"white\",\"landcolor\":\"#E5ECF6\",\"showlakes\":true,\"showland\":true,\"subunitcolor\":\"white\"},\"hoverlabel\":{\"align\":\"left\"},\"hovermode\":\"closest\",\"mapbox\":{\"style\":\"light\"},\"paper_bgcolor\":\"white\",\"plot_bgcolor\":\"#E5ECF6\",\"polar\":{\"angularaxis\":{\"gridcolor\":\"white\",\"linecolor\":\"white\",\"ticks\":\"\"},\"bgcolor\":\"#E5ECF6\",\"radialaxis\":{\"gridcolor\":\"white\",\"linecolor\":\"white\",\"ticks\":\"\"}},\"scene\":{\"xaxis\":{\"backgroundcolor\":\"#E5ECF6\",\"gridcolor\":\"white\",\"gridwidth\":2,\"linecolor\":\"white\",\"showbackground\":true,\"ticks\":\"\",\"zerolinecolor\":\"white\"},\"yaxis\":{\"backgroundcolor\":\"#E5ECF6\",\"gridcolor\":\"white\",\"gridwidth\":2,\"linecolor\":\"white\",\"showbackground\":true,\"ticks\":\"\",\"zerolinecolor\":\"white\"},\"zaxis\":{\"backgroundcolor\":\"#E5ECF6\",\"gridcolor\":\"white\",\"gridwidth\":2,\"linecolor\":\"white\",\"showbackground\":true,\"ticks\":\"\",\"zerolinecolor\":\"white\"}},\"shapedefaults\":{\"line\":{\"color\":\"#2a3f5f\"}},\"ternary\":{\"aaxis\":{\"gridcolor\":\"white\",\"linecolor\":\"white\",\"ticks\":\"\"},\"baxis\":{\"gridcolor\":\"white\",\"linecolor\":\"white\",\"ticks\":\"\"},\"bgcolor\":\"#E5ECF6\",\"caxis\":{\"gridcolor\":\"white\",\"linecolor\":\"white\",\"ticks\":\"\"}},\"title\":{\"x\":0.05},\"xaxis\":{\"automargin\":true,\"gridcolor\":\"white\",\"linecolor\":\"white\",\"ticks\":\"\",\"title\":{\"standoff\":15},\"zerolinecolor\":\"white\",\"zerolinewidth\":2},\"yaxis\":{\"automargin\":true,\"gridcolor\":\"white\",\"linecolor\":\"white\",\"ticks\":\"\",\"title\":{\"standoff\":15},\"zerolinecolor\":\"white\",\"zerolinewidth\":2}}},\"title\":{\"text\":\"Ingreso\"}},                        {\"responsive\": true}                    ).then(function(){\n",
              "                            \n",
              "var gd = document.getElementById('6e2a3119-0baf-4921-8b23-9a5e6375881e');\n",
              "var x = new MutationObserver(function (mutations, observer) {{\n",
              "        var display = window.getComputedStyle(gd).display;\n",
              "        if (!display || display === 'none') {{\n",
              "            console.log([gd, 'removed!']);\n",
              "            Plotly.purge(gd);\n",
              "            observer.disconnect();\n",
              "        }}\n",
              "}});\n",
              "\n",
              "// Listen for the removal of the full notebook cells\n",
              "var notebookContainer = gd.closest('#notebook-container');\n",
              "if (notebookContainer) {{\n",
              "    x.observe(notebookContainer, {childList: true});\n",
              "}}\n",
              "\n",
              "// Listen for the clearing of the current output cell\n",
              "var outputEl = gd.closest('.output');\n",
              "if (outputEl) {{\n",
              "    x.observe(outputEl, {childList: true});\n",
              "}}\n",
              "\n",
              "                        })                };                            </script>        </div>\n",
              "</body>\n",
              "</html>"
            ]
          },
          "metadata": {}
        }
      ],
      "source": [
        "# Se realiza un histograma para analizar la distribución del Ingreso por cliente:\n",
        "plot_data = [\n",
        "    go.Histogram(\n",
        "        x=data_cliente.query(\"Ingreso < 10000\")[\"Ingreso\"])]  # Se incluyen valores de ingresos menores a 1000 para facilitar la visualización\n",
        "plot_layout = go.Layout(\n",
        "        title=\"Ingreso\"\n",
        "    )\n",
        "fig = go.Figure(data=plot_data, layout=plot_layout)\n",
        "pyoff.iplot(fig)"
      ]
    },
    {
      "cell_type": "markdown",
      "metadata": {
        "id": "JvfQqbXKG-Sd"
      },
      "source": [
        "Los ingresos entre 100 y 200 usd son los de mayor frecuencia., a su vez se observa que hay algunos clientes que no generaron ingresos y otros que generaron ingresos negativos."
      ]
    },
    {
      "cell_type": "code",
      "execution_count": 382,
      "metadata": {
        "id": "phKnh1403qVY"
      },
      "outputs": [],
      "source": [
        "# Se desarrolla el modelo K-Means para asignar los clientes a cada grupo de ingreso:\n",
        "kmeans = KMeans(n_clusters=4)\n",
        "kmeans.fit(data_cliente[[\"Ingreso\"]])\n",
        "data_cliente[\"Grupo_Ingreso\"] = kmeans.predict(data_cliente[[\"Ingreso\"]])"
      ]
    },
    {
      "cell_type": "code",
      "execution_count": 383,
      "metadata": {
        "colab": {
          "base_uri": "https://localhost:8080/",
          "height": 206
        },
        "id": "EiNrOLsP34F7",
        "outputId": "9ec2ee47-e918-4e53-c77c-8926bf0be80d"
      },
      "outputs": [
        {
          "output_type": "execute_result",
          "data": {
            "text/plain": [
              "   ID_Cliente  Recencia  Grupo_Recencia  Frecuencia  Grupo_Frecuencia  \\\n",
              "0     14620.0        12               3          30                 0   \n",
              "1     15194.0         6               3          64                 0   \n",
              "2     18044.0         5               3          57                 0   \n",
              "3     18075.0        12               3          35                 0   \n",
              "4     15241.0         0               3          64                 0   \n",
              "\n",
              "   Ingreso  Grupo_Ingreso  \n",
              "0   393.28              0  \n",
              "1  1439.02              0  \n",
              "2   808.96              0  \n",
              "3   638.12              0  \n",
              "4   947.55              0  "
            ],
            "text/html": [
              "\n",
              "  <div id=\"df-9db37e2c-caba-4f4b-a55a-e9a7c6f2a979\">\n",
              "    <div class=\"colab-df-container\">\n",
              "      <div>\n",
              "<style scoped>\n",
              "    .dataframe tbody tr th:only-of-type {\n",
              "        vertical-align: middle;\n",
              "    }\n",
              "\n",
              "    .dataframe tbody tr th {\n",
              "        vertical-align: top;\n",
              "    }\n",
              "\n",
              "    .dataframe thead th {\n",
              "        text-align: right;\n",
              "    }\n",
              "</style>\n",
              "<table border=\"1\" class=\"dataframe\">\n",
              "  <thead>\n",
              "    <tr style=\"text-align: right;\">\n",
              "      <th></th>\n",
              "      <th>ID_Cliente</th>\n",
              "      <th>Recencia</th>\n",
              "      <th>Grupo_Recencia</th>\n",
              "      <th>Frecuencia</th>\n",
              "      <th>Grupo_Frecuencia</th>\n",
              "      <th>Ingreso</th>\n",
              "      <th>Grupo_Ingreso</th>\n",
              "    </tr>\n",
              "  </thead>\n",
              "  <tbody>\n",
              "    <tr>\n",
              "      <th>0</th>\n",
              "      <td>14620.0</td>\n",
              "      <td>12</td>\n",
              "      <td>3</td>\n",
              "      <td>30</td>\n",
              "      <td>0</td>\n",
              "      <td>393.28</td>\n",
              "      <td>0</td>\n",
              "    </tr>\n",
              "    <tr>\n",
              "      <th>1</th>\n",
              "      <td>15194.0</td>\n",
              "      <td>6</td>\n",
              "      <td>3</td>\n",
              "      <td>64</td>\n",
              "      <td>0</td>\n",
              "      <td>1439.02</td>\n",
              "      <td>0</td>\n",
              "    </tr>\n",
              "    <tr>\n",
              "      <th>2</th>\n",
              "      <td>18044.0</td>\n",
              "      <td>5</td>\n",
              "      <td>3</td>\n",
              "      <td>57</td>\n",
              "      <td>0</td>\n",
              "      <td>808.96</td>\n",
              "      <td>0</td>\n",
              "    </tr>\n",
              "    <tr>\n",
              "      <th>3</th>\n",
              "      <td>18075.0</td>\n",
              "      <td>12</td>\n",
              "      <td>3</td>\n",
              "      <td>35</td>\n",
              "      <td>0</td>\n",
              "      <td>638.12</td>\n",
              "      <td>0</td>\n",
              "    </tr>\n",
              "    <tr>\n",
              "      <th>4</th>\n",
              "      <td>15241.0</td>\n",
              "      <td>0</td>\n",
              "      <td>3</td>\n",
              "      <td>64</td>\n",
              "      <td>0</td>\n",
              "      <td>947.55</td>\n",
              "      <td>0</td>\n",
              "    </tr>\n",
              "  </tbody>\n",
              "</table>\n",
              "</div>\n",
              "      <button class=\"colab-df-convert\" onclick=\"convertToInteractive('df-9db37e2c-caba-4f4b-a55a-e9a7c6f2a979')\"\n",
              "              title=\"Convert this dataframe to an interactive table.\"\n",
              "              style=\"display:none;\">\n",
              "        \n",
              "  <svg xmlns=\"http://www.w3.org/2000/svg\" height=\"24px\"viewBox=\"0 0 24 24\"\n",
              "       width=\"24px\">\n",
              "    <path d=\"M0 0h24v24H0V0z\" fill=\"none\"/>\n",
              "    <path d=\"M18.56 5.44l.94 2.06.94-2.06 2.06-.94-2.06-.94-.94-2.06-.94 2.06-2.06.94zm-11 1L8.5 8.5l.94-2.06 2.06-.94-2.06-.94L8.5 2.5l-.94 2.06-2.06.94zm10 10l.94 2.06.94-2.06 2.06-.94-2.06-.94-.94-2.06-.94 2.06-2.06.94z\"/><path d=\"M17.41 7.96l-1.37-1.37c-.4-.4-.92-.59-1.43-.59-.52 0-1.04.2-1.43.59L10.3 9.45l-7.72 7.72c-.78.78-.78 2.05 0 2.83L4 21.41c.39.39.9.59 1.41.59.51 0 1.02-.2 1.41-.59l7.78-7.78 2.81-2.81c.8-.78.8-2.07 0-2.86zM5.41 20L4 18.59l7.72-7.72 1.47 1.35L5.41 20z\"/>\n",
              "  </svg>\n",
              "      </button>\n",
              "      \n",
              "  <style>\n",
              "    .colab-df-container {\n",
              "      display:flex;\n",
              "      flex-wrap:wrap;\n",
              "      gap: 12px;\n",
              "    }\n",
              "\n",
              "    .colab-df-convert {\n",
              "      background-color: #E8F0FE;\n",
              "      border: none;\n",
              "      border-radius: 50%;\n",
              "      cursor: pointer;\n",
              "      display: none;\n",
              "      fill: #1967D2;\n",
              "      height: 32px;\n",
              "      padding: 0 0 0 0;\n",
              "      width: 32px;\n",
              "    }\n",
              "\n",
              "    .colab-df-convert:hover {\n",
              "      background-color: #E2EBFA;\n",
              "      box-shadow: 0px 1px 2px rgba(60, 64, 67, 0.3), 0px 1px 3px 1px rgba(60, 64, 67, 0.15);\n",
              "      fill: #174EA6;\n",
              "    }\n",
              "\n",
              "    [theme=dark] .colab-df-convert {\n",
              "      background-color: #3B4455;\n",
              "      fill: #D2E3FC;\n",
              "    }\n",
              "\n",
              "    [theme=dark] .colab-df-convert:hover {\n",
              "      background-color: #434B5C;\n",
              "      box-shadow: 0px 1px 3px 1px rgba(0, 0, 0, 0.15);\n",
              "      filter: drop-shadow(0px 1px 2px rgba(0, 0, 0, 0.3));\n",
              "      fill: #FFFFFF;\n",
              "    }\n",
              "  </style>\n",
              "\n",
              "      <script>\n",
              "        const buttonEl =\n",
              "          document.querySelector('#df-9db37e2c-caba-4f4b-a55a-e9a7c6f2a979 button.colab-df-convert');\n",
              "        buttonEl.style.display =\n",
              "          google.colab.kernel.accessAllowed ? 'block' : 'none';\n",
              "\n",
              "        async function convertToInteractive(key) {\n",
              "          const element = document.querySelector('#df-9db37e2c-caba-4f4b-a55a-e9a7c6f2a979');\n",
              "          const dataTable =\n",
              "            await google.colab.kernel.invokeFunction('convertToInteractive',\n",
              "                                                     [key], {});\n",
              "          if (!dataTable) return;\n",
              "\n",
              "          const docLinkHtml = 'Like what you see? Visit the ' +\n",
              "            '<a target=\"_blank\" href=https://colab.research.google.com/notebooks/data_table.ipynb>data table notebook</a>'\n",
              "            + ' to learn more about interactive tables.';\n",
              "          element.innerHTML = '';\n",
              "          dataTable['output_type'] = 'display_data';\n",
              "          await google.colab.output.renderOutput(dataTable, element);\n",
              "          const docLink = document.createElement('div');\n",
              "          docLink.innerHTML = docLinkHtml;\n",
              "          element.appendChild(docLink);\n",
              "        }\n",
              "      </script>\n",
              "    </div>\n",
              "  </div>\n",
              "  "
            ]
          },
          "metadata": {},
          "execution_count": 383
        }
      ],
      "source": [
        "# Se observa el dataframe con la columna \"Cluster_Ingreso\":\n",
        "data_cliente.head()"
      ]
    },
    {
      "cell_type": "markdown",
      "metadata": {
        "id": "nS9tbawiHPEr"
      },
      "source": [
        "Se han calculado los grupos por ingreso y se han asignados a los clientes a cada uno."
      ]
    },
    {
      "cell_type": "code",
      "execution_count": 384,
      "metadata": {
        "colab": {
          "base_uri": "https://localhost:8080/",
          "height": 206
        },
        "id": "f71GmpkI4EQZ",
        "outputId": "e4bddfa6-9405-4d72-d08a-d5d0b286e80f"
      },
      "outputs": [
        {
          "output_type": "execute_result",
          "data": {
            "text/plain": [
              "                count          mean          std       min         25%  \\\n",
              "Grupo_Ingreso                                                            \n",
              "0              1755.0    502.271151   442.287455  -1462.50    202.4500   \n",
              "1                73.0   3731.028644  1538.265907   2131.72   2655.5400   \n",
              "2                10.0  14076.693000  2852.812849  10348.13  11252.4300   \n",
              "3                 2.0  30599.645000  6343.928696  26113.81  28356.7275   \n",
              "\n",
              "                     50%         75%       max  \n",
              "Grupo_Ingreso                                   \n",
              "0                348.260    664.0100   2110.62  \n",
              "1               3134.130   4184.4300   7969.99  \n",
              "2              15124.345  16052.6900  17700.64  \n",
              "3              30599.645  32842.5625  35085.48  "
            ],
            "text/html": [
              "\n",
              "  <div id=\"df-f57f4229-b43a-4d5c-9682-ee3fe791e9bc\">\n",
              "    <div class=\"colab-df-container\">\n",
              "      <div>\n",
              "<style scoped>\n",
              "    .dataframe tbody tr th:only-of-type {\n",
              "        vertical-align: middle;\n",
              "    }\n",
              "\n",
              "    .dataframe tbody tr th {\n",
              "        vertical-align: top;\n",
              "    }\n",
              "\n",
              "    .dataframe thead th {\n",
              "        text-align: right;\n",
              "    }\n",
              "</style>\n",
              "<table border=\"1\" class=\"dataframe\">\n",
              "  <thead>\n",
              "    <tr style=\"text-align: right;\">\n",
              "      <th></th>\n",
              "      <th>count</th>\n",
              "      <th>mean</th>\n",
              "      <th>std</th>\n",
              "      <th>min</th>\n",
              "      <th>25%</th>\n",
              "      <th>50%</th>\n",
              "      <th>75%</th>\n",
              "      <th>max</th>\n",
              "    </tr>\n",
              "    <tr>\n",
              "      <th>Grupo_Ingreso</th>\n",
              "      <th></th>\n",
              "      <th></th>\n",
              "      <th></th>\n",
              "      <th></th>\n",
              "      <th></th>\n",
              "      <th></th>\n",
              "      <th></th>\n",
              "      <th></th>\n",
              "    </tr>\n",
              "  </thead>\n",
              "  <tbody>\n",
              "    <tr>\n",
              "      <th>0</th>\n",
              "      <td>1755.0</td>\n",
              "      <td>502.271151</td>\n",
              "      <td>442.287455</td>\n",
              "      <td>-1462.50</td>\n",
              "      <td>202.4500</td>\n",
              "      <td>348.260</td>\n",
              "      <td>664.0100</td>\n",
              "      <td>2110.62</td>\n",
              "    </tr>\n",
              "    <tr>\n",
              "      <th>1</th>\n",
              "      <td>73.0</td>\n",
              "      <td>3731.028644</td>\n",
              "      <td>1538.265907</td>\n",
              "      <td>2131.72</td>\n",
              "      <td>2655.5400</td>\n",
              "      <td>3134.130</td>\n",
              "      <td>4184.4300</td>\n",
              "      <td>7969.99</td>\n",
              "    </tr>\n",
              "    <tr>\n",
              "      <th>2</th>\n",
              "      <td>10.0</td>\n",
              "      <td>14076.693000</td>\n",
              "      <td>2852.812849</td>\n",
              "      <td>10348.13</td>\n",
              "      <td>11252.4300</td>\n",
              "      <td>15124.345</td>\n",
              "      <td>16052.6900</td>\n",
              "      <td>17700.64</td>\n",
              "    </tr>\n",
              "    <tr>\n",
              "      <th>3</th>\n",
              "      <td>2.0</td>\n",
              "      <td>30599.645000</td>\n",
              "      <td>6343.928696</td>\n",
              "      <td>26113.81</td>\n",
              "      <td>28356.7275</td>\n",
              "      <td>30599.645</td>\n",
              "      <td>32842.5625</td>\n",
              "      <td>35085.48</td>\n",
              "    </tr>\n",
              "  </tbody>\n",
              "</table>\n",
              "</div>\n",
              "      <button class=\"colab-df-convert\" onclick=\"convertToInteractive('df-f57f4229-b43a-4d5c-9682-ee3fe791e9bc')\"\n",
              "              title=\"Convert this dataframe to an interactive table.\"\n",
              "              style=\"display:none;\">\n",
              "        \n",
              "  <svg xmlns=\"http://www.w3.org/2000/svg\" height=\"24px\"viewBox=\"0 0 24 24\"\n",
              "       width=\"24px\">\n",
              "    <path d=\"M0 0h24v24H0V0z\" fill=\"none\"/>\n",
              "    <path d=\"M18.56 5.44l.94 2.06.94-2.06 2.06-.94-2.06-.94-.94-2.06-.94 2.06-2.06.94zm-11 1L8.5 8.5l.94-2.06 2.06-.94-2.06-.94L8.5 2.5l-.94 2.06-2.06.94zm10 10l.94 2.06.94-2.06 2.06-.94-2.06-.94-.94-2.06-.94 2.06-2.06.94z\"/><path d=\"M17.41 7.96l-1.37-1.37c-.4-.4-.92-.59-1.43-.59-.52 0-1.04.2-1.43.59L10.3 9.45l-7.72 7.72c-.78.78-.78 2.05 0 2.83L4 21.41c.39.39.9.59 1.41.59.51 0 1.02-.2 1.41-.59l7.78-7.78 2.81-2.81c.8-.78.8-2.07 0-2.86zM5.41 20L4 18.59l7.72-7.72 1.47 1.35L5.41 20z\"/>\n",
              "  </svg>\n",
              "      </button>\n",
              "      \n",
              "  <style>\n",
              "    .colab-df-container {\n",
              "      display:flex;\n",
              "      flex-wrap:wrap;\n",
              "      gap: 12px;\n",
              "    }\n",
              "\n",
              "    .colab-df-convert {\n",
              "      background-color: #E8F0FE;\n",
              "      border: none;\n",
              "      border-radius: 50%;\n",
              "      cursor: pointer;\n",
              "      display: none;\n",
              "      fill: #1967D2;\n",
              "      height: 32px;\n",
              "      padding: 0 0 0 0;\n",
              "      width: 32px;\n",
              "    }\n",
              "\n",
              "    .colab-df-convert:hover {\n",
              "      background-color: #E2EBFA;\n",
              "      box-shadow: 0px 1px 2px rgba(60, 64, 67, 0.3), 0px 1px 3px 1px rgba(60, 64, 67, 0.15);\n",
              "      fill: #174EA6;\n",
              "    }\n",
              "\n",
              "    [theme=dark] .colab-df-convert {\n",
              "      background-color: #3B4455;\n",
              "      fill: #D2E3FC;\n",
              "    }\n",
              "\n",
              "    [theme=dark] .colab-df-convert:hover {\n",
              "      background-color: #434B5C;\n",
              "      box-shadow: 0px 1px 3px 1px rgba(0, 0, 0, 0.15);\n",
              "      filter: drop-shadow(0px 1px 2px rgba(0, 0, 0, 0.3));\n",
              "      fill: #FFFFFF;\n",
              "    }\n",
              "  </style>\n",
              "\n",
              "      <script>\n",
              "        const buttonEl =\n",
              "          document.querySelector('#df-f57f4229-b43a-4d5c-9682-ee3fe791e9bc button.colab-df-convert');\n",
              "        buttonEl.style.display =\n",
              "          google.colab.kernel.accessAllowed ? 'block' : 'none';\n",
              "\n",
              "        async function convertToInteractive(key) {\n",
              "          const element = document.querySelector('#df-f57f4229-b43a-4d5c-9682-ee3fe791e9bc');\n",
              "          const dataTable =\n",
              "            await google.colab.kernel.invokeFunction('convertToInteractive',\n",
              "                                                     [key], {});\n",
              "          if (!dataTable) return;\n",
              "\n",
              "          const docLinkHtml = 'Like what you see? Visit the ' +\n",
              "            '<a target=\"_blank\" href=https://colab.research.google.com/notebooks/data_table.ipynb>data table notebook</a>'\n",
              "            + ' to learn more about interactive tables.';\n",
              "          element.innerHTML = '';\n",
              "          dataTable['output_type'] = 'display_data';\n",
              "          await google.colab.output.renderOutput(dataTable, element);\n",
              "          const docLink = document.createElement('div');\n",
              "          docLink.innerHTML = docLinkHtml;\n",
              "          element.appendChild(docLink);\n",
              "        }\n",
              "      </script>\n",
              "    </div>\n",
              "  </div>\n",
              "  "
            ]
          },
          "metadata": {},
          "execution_count": 384
        }
      ],
      "source": [
        "# Se observan los distintos grupos de ingreso ordenados\n",
        "# Se coloca ascending True para que ordene los valores de la media de menor a mayor:\n",
        "data_cliente = grupo_ordenado(\"Grupo_Ingreso\", \"Ingreso\", data_cliente,True)\n",
        "data_cliente.groupby(\"Grupo_Ingreso\")[\"Ingreso\"].describe()"
      ]
    },
    {
      "cell_type": "markdown",
      "metadata": {
        "id": "UfFAzHl84Typ"
      },
      "source": [
        "Los clientes del cluster 3 son los que en promedio generan mayor ingreso a la empresa, y está compuesto solo por dos integrantes, mientras que el grupo 0 es el de aquellos clientes que menos ingresos generan y el que con más integrantes cuenta."
      ]
    },
    {
      "cell_type": "markdown",
      "metadata": {
        "id": "Bdul7O-ssInc"
      },
      "source": [
        "**10) Definición de los Segmentos**"
      ]
    },
    {
      "cell_type": "markdown",
      "metadata": {
        "id": "JVayoBOioe_c"
      },
      "source": [
        "Hasta ahora se han creado los grupos de clientes tanto para la resencia, frecuencia como para los ingresos. A continuación se va definir un puntaje para cada uno de los clientes en base a los tres grupos a los cuales pertenece, para luego finalmente asignar a cada cliente un valor (que puede ser bajo, medio o alto)."
      ]
    },
    {
      "cell_type": "code",
      "execution_count": 385,
      "metadata": {
        "colab": {
          "base_uri": "https://localhost:8080/",
          "height": 206
        },
        "id": "30C-nVtAsSNd",
        "outputId": "912cb151-1901-4bc5-ce6c-7a5d9194f1ec"
      },
      "outputs": [
        {
          "output_type": "execute_result",
          "data": {
            "text/plain": [
              "   ID_Cliente  Recencia  Grupo_Recencia  Frecuencia  Grupo_Frecuencia  \\\n",
              "0     14620.0        12               3          30                 0   \n",
              "1     15194.0         6               3          64                 0   \n",
              "2     18044.0         5               3          57                 0   \n",
              "3     18075.0        12               3          35                 0   \n",
              "4     15241.0         0               3          64                 0   \n",
              "\n",
              "   Ingreso  Grupo_Ingreso  Puntaje  \n",
              "0   393.28              0        3  \n",
              "1  1439.02              0        3  \n",
              "2   808.96              0        3  \n",
              "3   638.12              0        3  \n",
              "4   947.55              0        3  "
            ],
            "text/html": [
              "\n",
              "  <div id=\"df-ea9eda4b-9c6e-4b77-a5b2-700f86f15483\">\n",
              "    <div class=\"colab-df-container\">\n",
              "      <div>\n",
              "<style scoped>\n",
              "    .dataframe tbody tr th:only-of-type {\n",
              "        vertical-align: middle;\n",
              "    }\n",
              "\n",
              "    .dataframe tbody tr th {\n",
              "        vertical-align: top;\n",
              "    }\n",
              "\n",
              "    .dataframe thead th {\n",
              "        text-align: right;\n",
              "    }\n",
              "</style>\n",
              "<table border=\"1\" class=\"dataframe\">\n",
              "  <thead>\n",
              "    <tr style=\"text-align: right;\">\n",
              "      <th></th>\n",
              "      <th>ID_Cliente</th>\n",
              "      <th>Recencia</th>\n",
              "      <th>Grupo_Recencia</th>\n",
              "      <th>Frecuencia</th>\n",
              "      <th>Grupo_Frecuencia</th>\n",
              "      <th>Ingreso</th>\n",
              "      <th>Grupo_Ingreso</th>\n",
              "      <th>Puntaje</th>\n",
              "    </tr>\n",
              "  </thead>\n",
              "  <tbody>\n",
              "    <tr>\n",
              "      <th>0</th>\n",
              "      <td>14620.0</td>\n",
              "      <td>12</td>\n",
              "      <td>3</td>\n",
              "      <td>30</td>\n",
              "      <td>0</td>\n",
              "      <td>393.28</td>\n",
              "      <td>0</td>\n",
              "      <td>3</td>\n",
              "    </tr>\n",
              "    <tr>\n",
              "      <th>1</th>\n",
              "      <td>15194.0</td>\n",
              "      <td>6</td>\n",
              "      <td>3</td>\n",
              "      <td>64</td>\n",
              "      <td>0</td>\n",
              "      <td>1439.02</td>\n",
              "      <td>0</td>\n",
              "      <td>3</td>\n",
              "    </tr>\n",
              "    <tr>\n",
              "      <th>2</th>\n",
              "      <td>18044.0</td>\n",
              "      <td>5</td>\n",
              "      <td>3</td>\n",
              "      <td>57</td>\n",
              "      <td>0</td>\n",
              "      <td>808.96</td>\n",
              "      <td>0</td>\n",
              "      <td>3</td>\n",
              "    </tr>\n",
              "    <tr>\n",
              "      <th>3</th>\n",
              "      <td>18075.0</td>\n",
              "      <td>12</td>\n",
              "      <td>3</td>\n",
              "      <td>35</td>\n",
              "      <td>0</td>\n",
              "      <td>638.12</td>\n",
              "      <td>0</td>\n",
              "      <td>3</td>\n",
              "    </tr>\n",
              "    <tr>\n",
              "      <th>4</th>\n",
              "      <td>15241.0</td>\n",
              "      <td>0</td>\n",
              "      <td>3</td>\n",
              "      <td>64</td>\n",
              "      <td>0</td>\n",
              "      <td>947.55</td>\n",
              "      <td>0</td>\n",
              "      <td>3</td>\n",
              "    </tr>\n",
              "  </tbody>\n",
              "</table>\n",
              "</div>\n",
              "      <button class=\"colab-df-convert\" onclick=\"convertToInteractive('df-ea9eda4b-9c6e-4b77-a5b2-700f86f15483')\"\n",
              "              title=\"Convert this dataframe to an interactive table.\"\n",
              "              style=\"display:none;\">\n",
              "        \n",
              "  <svg xmlns=\"http://www.w3.org/2000/svg\" height=\"24px\"viewBox=\"0 0 24 24\"\n",
              "       width=\"24px\">\n",
              "    <path d=\"M0 0h24v24H0V0z\" fill=\"none\"/>\n",
              "    <path d=\"M18.56 5.44l.94 2.06.94-2.06 2.06-.94-2.06-.94-.94-2.06-.94 2.06-2.06.94zm-11 1L8.5 8.5l.94-2.06 2.06-.94-2.06-.94L8.5 2.5l-.94 2.06-2.06.94zm10 10l.94 2.06.94-2.06 2.06-.94-2.06-.94-.94-2.06-.94 2.06-2.06.94z\"/><path d=\"M17.41 7.96l-1.37-1.37c-.4-.4-.92-.59-1.43-.59-.52 0-1.04.2-1.43.59L10.3 9.45l-7.72 7.72c-.78.78-.78 2.05 0 2.83L4 21.41c.39.39.9.59 1.41.59.51 0 1.02-.2 1.41-.59l7.78-7.78 2.81-2.81c.8-.78.8-2.07 0-2.86zM5.41 20L4 18.59l7.72-7.72 1.47 1.35L5.41 20z\"/>\n",
              "  </svg>\n",
              "      </button>\n",
              "      \n",
              "  <style>\n",
              "    .colab-df-container {\n",
              "      display:flex;\n",
              "      flex-wrap:wrap;\n",
              "      gap: 12px;\n",
              "    }\n",
              "\n",
              "    .colab-df-convert {\n",
              "      background-color: #E8F0FE;\n",
              "      border: none;\n",
              "      border-radius: 50%;\n",
              "      cursor: pointer;\n",
              "      display: none;\n",
              "      fill: #1967D2;\n",
              "      height: 32px;\n",
              "      padding: 0 0 0 0;\n",
              "      width: 32px;\n",
              "    }\n",
              "\n",
              "    .colab-df-convert:hover {\n",
              "      background-color: #E2EBFA;\n",
              "      box-shadow: 0px 1px 2px rgba(60, 64, 67, 0.3), 0px 1px 3px 1px rgba(60, 64, 67, 0.15);\n",
              "      fill: #174EA6;\n",
              "    }\n",
              "\n",
              "    [theme=dark] .colab-df-convert {\n",
              "      background-color: #3B4455;\n",
              "      fill: #D2E3FC;\n",
              "    }\n",
              "\n",
              "    [theme=dark] .colab-df-convert:hover {\n",
              "      background-color: #434B5C;\n",
              "      box-shadow: 0px 1px 3px 1px rgba(0, 0, 0, 0.15);\n",
              "      filter: drop-shadow(0px 1px 2px rgba(0, 0, 0, 0.3));\n",
              "      fill: #FFFFFF;\n",
              "    }\n",
              "  </style>\n",
              "\n",
              "      <script>\n",
              "        const buttonEl =\n",
              "          document.querySelector('#df-ea9eda4b-9c6e-4b77-a5b2-700f86f15483 button.colab-df-convert');\n",
              "        buttonEl.style.display =\n",
              "          google.colab.kernel.accessAllowed ? 'block' : 'none';\n",
              "\n",
              "        async function convertToInteractive(key) {\n",
              "          const element = document.querySelector('#df-ea9eda4b-9c6e-4b77-a5b2-700f86f15483');\n",
              "          const dataTable =\n",
              "            await google.colab.kernel.invokeFunction('convertToInteractive',\n",
              "                                                     [key], {});\n",
              "          if (!dataTable) return;\n",
              "\n",
              "          const docLinkHtml = 'Like what you see? Visit the ' +\n",
              "            '<a target=\"_blank\" href=https://colab.research.google.com/notebooks/data_table.ipynb>data table notebook</a>'\n",
              "            + ' to learn more about interactive tables.';\n",
              "          element.innerHTML = '';\n",
              "          dataTable['output_type'] = 'display_data';\n",
              "          await google.colab.output.renderOutput(dataTable, element);\n",
              "          const docLink = document.createElement('div');\n",
              "          docLink.innerHTML = docLinkHtml;\n",
              "          element.appendChild(docLink);\n",
              "        }\n",
              "      </script>\n",
              "    </div>\n",
              "  </div>\n",
              "  "
            ]
          },
          "metadata": {},
          "execution_count": 385
        }
      ],
      "source": [
        "# Se calcula el puntaje  de cada cliente en base a su recencia, frecuencia e ingreso generado:\n",
        "data_cliente[\"Puntaje\"] = data_cliente[\"Grupo_Recencia\"] + data_cliente[\"Grupo_Frecuencia\"] + data_cliente[\"Grupo_Ingreso\"]\n",
        "# Se observa el dataframe con la columna \"Puntaje\":\n",
        "data_cliente.head()\n"
      ]
    },
    {
      "cell_type": "code",
      "execution_count": 386,
      "metadata": {
        "colab": {
          "base_uri": "https://localhost:8080/",
          "height": 332
        },
        "id": "Roi1Zx50sm_q",
        "outputId": "af6c1bfb-18f4-4bcb-bad6-338c0695e59d"
      },
      "outputs": [
        {
          "output_type": "execute_result",
          "data": {
            "text/plain": [
              "          Recencia  Frecuencia       Ingreso\n",
              "Puntaje                                     \n",
              "0        77.014925   18.244776    294.882179\n",
              "1        50.918854   24.202864    365.507995\n",
              "2        26.559524   30.683333    500.087738\n",
              "3        10.250509   36.197556    630.549470\n",
              "4         8.132812  102.585938   1974.915008\n",
              "5         6.400000  137.066667   4248.259000\n",
              "6         7.357143  318.357143  12154.152143\n",
              "7         3.000000  770.666667  11284.046667"
            ],
            "text/html": [
              "\n",
              "  <div id=\"df-023b62ff-69b9-4bd2-9d90-d68dc877eb7a\">\n",
              "    <div class=\"colab-df-container\">\n",
              "      <div>\n",
              "<style scoped>\n",
              "    .dataframe tbody tr th:only-of-type {\n",
              "        vertical-align: middle;\n",
              "    }\n",
              "\n",
              "    .dataframe tbody tr th {\n",
              "        vertical-align: top;\n",
              "    }\n",
              "\n",
              "    .dataframe thead th {\n",
              "        text-align: right;\n",
              "    }\n",
              "</style>\n",
              "<table border=\"1\" class=\"dataframe\">\n",
              "  <thead>\n",
              "    <tr style=\"text-align: right;\">\n",
              "      <th></th>\n",
              "      <th>Recencia</th>\n",
              "      <th>Frecuencia</th>\n",
              "      <th>Ingreso</th>\n",
              "    </tr>\n",
              "    <tr>\n",
              "      <th>Puntaje</th>\n",
              "      <th></th>\n",
              "      <th></th>\n",
              "      <th></th>\n",
              "    </tr>\n",
              "  </thead>\n",
              "  <tbody>\n",
              "    <tr>\n",
              "      <th>0</th>\n",
              "      <td>77.014925</td>\n",
              "      <td>18.244776</td>\n",
              "      <td>294.882179</td>\n",
              "    </tr>\n",
              "    <tr>\n",
              "      <th>1</th>\n",
              "      <td>50.918854</td>\n",
              "      <td>24.202864</td>\n",
              "      <td>365.507995</td>\n",
              "    </tr>\n",
              "    <tr>\n",
              "      <th>2</th>\n",
              "      <td>26.559524</td>\n",
              "      <td>30.683333</td>\n",
              "      <td>500.087738</td>\n",
              "    </tr>\n",
              "    <tr>\n",
              "      <th>3</th>\n",
              "      <td>10.250509</td>\n",
              "      <td>36.197556</td>\n",
              "      <td>630.549470</td>\n",
              "    </tr>\n",
              "    <tr>\n",
              "      <th>4</th>\n",
              "      <td>8.132812</td>\n",
              "      <td>102.585938</td>\n",
              "      <td>1974.915008</td>\n",
              "    </tr>\n",
              "    <tr>\n",
              "      <th>5</th>\n",
              "      <td>6.400000</td>\n",
              "      <td>137.066667</td>\n",
              "      <td>4248.259000</td>\n",
              "    </tr>\n",
              "    <tr>\n",
              "      <th>6</th>\n",
              "      <td>7.357143</td>\n",
              "      <td>318.357143</td>\n",
              "      <td>12154.152143</td>\n",
              "    </tr>\n",
              "    <tr>\n",
              "      <th>7</th>\n",
              "      <td>3.000000</td>\n",
              "      <td>770.666667</td>\n",
              "      <td>11284.046667</td>\n",
              "    </tr>\n",
              "  </tbody>\n",
              "</table>\n",
              "</div>\n",
              "      <button class=\"colab-df-convert\" onclick=\"convertToInteractive('df-023b62ff-69b9-4bd2-9d90-d68dc877eb7a')\"\n",
              "              title=\"Convert this dataframe to an interactive table.\"\n",
              "              style=\"display:none;\">\n",
              "        \n",
              "  <svg xmlns=\"http://www.w3.org/2000/svg\" height=\"24px\"viewBox=\"0 0 24 24\"\n",
              "       width=\"24px\">\n",
              "    <path d=\"M0 0h24v24H0V0z\" fill=\"none\"/>\n",
              "    <path d=\"M18.56 5.44l.94 2.06.94-2.06 2.06-.94-2.06-.94-.94-2.06-.94 2.06-2.06.94zm-11 1L8.5 8.5l.94-2.06 2.06-.94-2.06-.94L8.5 2.5l-.94 2.06-2.06.94zm10 10l.94 2.06.94-2.06 2.06-.94-2.06-.94-.94-2.06-.94 2.06-2.06.94z\"/><path d=\"M17.41 7.96l-1.37-1.37c-.4-.4-.92-.59-1.43-.59-.52 0-1.04.2-1.43.59L10.3 9.45l-7.72 7.72c-.78.78-.78 2.05 0 2.83L4 21.41c.39.39.9.59 1.41.59.51 0 1.02-.2 1.41-.59l7.78-7.78 2.81-2.81c.8-.78.8-2.07 0-2.86zM5.41 20L4 18.59l7.72-7.72 1.47 1.35L5.41 20z\"/>\n",
              "  </svg>\n",
              "      </button>\n",
              "      \n",
              "  <style>\n",
              "    .colab-df-container {\n",
              "      display:flex;\n",
              "      flex-wrap:wrap;\n",
              "      gap: 12px;\n",
              "    }\n",
              "\n",
              "    .colab-df-convert {\n",
              "      background-color: #E8F0FE;\n",
              "      border: none;\n",
              "      border-radius: 50%;\n",
              "      cursor: pointer;\n",
              "      display: none;\n",
              "      fill: #1967D2;\n",
              "      height: 32px;\n",
              "      padding: 0 0 0 0;\n",
              "      width: 32px;\n",
              "    }\n",
              "\n",
              "    .colab-df-convert:hover {\n",
              "      background-color: #E2EBFA;\n",
              "      box-shadow: 0px 1px 2px rgba(60, 64, 67, 0.3), 0px 1px 3px 1px rgba(60, 64, 67, 0.15);\n",
              "      fill: #174EA6;\n",
              "    }\n",
              "\n",
              "    [theme=dark] .colab-df-convert {\n",
              "      background-color: #3B4455;\n",
              "      fill: #D2E3FC;\n",
              "    }\n",
              "\n",
              "    [theme=dark] .colab-df-convert:hover {\n",
              "      background-color: #434B5C;\n",
              "      box-shadow: 0px 1px 3px 1px rgba(0, 0, 0, 0.15);\n",
              "      filter: drop-shadow(0px 1px 2px rgba(0, 0, 0, 0.3));\n",
              "      fill: #FFFFFF;\n",
              "    }\n",
              "  </style>\n",
              "\n",
              "      <script>\n",
              "        const buttonEl =\n",
              "          document.querySelector('#df-023b62ff-69b9-4bd2-9d90-d68dc877eb7a button.colab-df-convert');\n",
              "        buttonEl.style.display =\n",
              "          google.colab.kernel.accessAllowed ? 'block' : 'none';\n",
              "\n",
              "        async function convertToInteractive(key) {\n",
              "          const element = document.querySelector('#df-023b62ff-69b9-4bd2-9d90-d68dc877eb7a');\n",
              "          const dataTable =\n",
              "            await google.colab.kernel.invokeFunction('convertToInteractive',\n",
              "                                                     [key], {});\n",
              "          if (!dataTable) return;\n",
              "\n",
              "          const docLinkHtml = 'Like what you see? Visit the ' +\n",
              "            '<a target=\"_blank\" href=https://colab.research.google.com/notebooks/data_table.ipynb>data table notebook</a>'\n",
              "            + ' to learn more about interactive tables.';\n",
              "          element.innerHTML = '';\n",
              "          dataTable['output_type'] = 'display_data';\n",
              "          await google.colab.output.renderOutput(dataTable, element);\n",
              "          const docLink = document.createElement('div');\n",
              "          docLink.innerHTML = docLinkHtml;\n",
              "          element.appendChild(docLink);\n",
              "        }\n",
              "      </script>\n",
              "    </div>\n",
              "  </div>\n",
              "  "
            ]
          },
          "metadata": {},
          "execution_count": 386
        }
      ],
      "source": [
        "# Se agrupa por la columna puntaje y se calcula la media de cada una de las métricas:\n",
        "data_cliente.groupby(\"Puntaje\")[\"Recencia\", \"Frecuencia\", \"Ingreso\"].mean()\n"
      ]
    },
    {
      "cell_type": "markdown",
      "metadata": {
        "id": "g3agnP9MedLM"
      },
      "source": [
        "A continuación se categorizan los puntajes obtenidos en tres segmentos/niveles:\n",
        "\n",
        "* De 0 a 2: valor bajo\n",
        "\n",
        "* De 3 a 4: valor medio\n",
        "\n",
        "* 5 o más: valor alto"
      ]
    },
    {
      "cell_type": "code",
      "execution_count": 387,
      "metadata": {
        "colab": {
          "base_uri": "https://localhost:8080/",
          "height": 206
        },
        "id": "mkuH6BSYs97u",
        "outputId": "e0cd0229-6ce1-4935-f623-93709e355a63"
      },
      "outputs": [
        {
          "output_type": "execute_result",
          "data": {
            "text/plain": [
              "   ID_Cliente  Recencia  Grupo_Recencia  Frecuencia  Grupo_Frecuencia  \\\n",
              "0     14620.0        12               3          30                 0   \n",
              "1     15194.0         6               3          64                 0   \n",
              "2     18044.0         5               3          57                 0   \n",
              "3     18075.0        12               3          35                 0   \n",
              "4     15241.0         0               3          64                 0   \n",
              "\n",
              "   Ingreso  Grupo_Ingreso  Puntaje     Segmento  \n",
              "0   393.28              0        3  Valor-Medio  \n",
              "1  1439.02              0        3  Valor-Medio  \n",
              "2   808.96              0        3  Valor-Medio  \n",
              "3   638.12              0        3  Valor-Medio  \n",
              "4   947.55              0        3  Valor-Medio  "
            ],
            "text/html": [
              "\n",
              "  <div id=\"df-e3407a74-9a97-40fe-a432-d84aa6e08345\">\n",
              "    <div class=\"colab-df-container\">\n",
              "      <div>\n",
              "<style scoped>\n",
              "    .dataframe tbody tr th:only-of-type {\n",
              "        vertical-align: middle;\n",
              "    }\n",
              "\n",
              "    .dataframe tbody tr th {\n",
              "        vertical-align: top;\n",
              "    }\n",
              "\n",
              "    .dataframe thead th {\n",
              "        text-align: right;\n",
              "    }\n",
              "</style>\n",
              "<table border=\"1\" class=\"dataframe\">\n",
              "  <thead>\n",
              "    <tr style=\"text-align: right;\">\n",
              "      <th></th>\n",
              "      <th>ID_Cliente</th>\n",
              "      <th>Recencia</th>\n",
              "      <th>Grupo_Recencia</th>\n",
              "      <th>Frecuencia</th>\n",
              "      <th>Grupo_Frecuencia</th>\n",
              "      <th>Ingreso</th>\n",
              "      <th>Grupo_Ingreso</th>\n",
              "      <th>Puntaje</th>\n",
              "      <th>Segmento</th>\n",
              "    </tr>\n",
              "  </thead>\n",
              "  <tbody>\n",
              "    <tr>\n",
              "      <th>0</th>\n",
              "      <td>14620.0</td>\n",
              "      <td>12</td>\n",
              "      <td>3</td>\n",
              "      <td>30</td>\n",
              "      <td>0</td>\n",
              "      <td>393.28</td>\n",
              "      <td>0</td>\n",
              "      <td>3</td>\n",
              "      <td>Valor-Medio</td>\n",
              "    </tr>\n",
              "    <tr>\n",
              "      <th>1</th>\n",
              "      <td>15194.0</td>\n",
              "      <td>6</td>\n",
              "      <td>3</td>\n",
              "      <td>64</td>\n",
              "      <td>0</td>\n",
              "      <td>1439.02</td>\n",
              "      <td>0</td>\n",
              "      <td>3</td>\n",
              "      <td>Valor-Medio</td>\n",
              "    </tr>\n",
              "    <tr>\n",
              "      <th>2</th>\n",
              "      <td>18044.0</td>\n",
              "      <td>5</td>\n",
              "      <td>3</td>\n",
              "      <td>57</td>\n",
              "      <td>0</td>\n",
              "      <td>808.96</td>\n",
              "      <td>0</td>\n",
              "      <td>3</td>\n",
              "      <td>Valor-Medio</td>\n",
              "    </tr>\n",
              "    <tr>\n",
              "      <th>3</th>\n",
              "      <td>18075.0</td>\n",
              "      <td>12</td>\n",
              "      <td>3</td>\n",
              "      <td>35</td>\n",
              "      <td>0</td>\n",
              "      <td>638.12</td>\n",
              "      <td>0</td>\n",
              "      <td>3</td>\n",
              "      <td>Valor-Medio</td>\n",
              "    </tr>\n",
              "    <tr>\n",
              "      <th>4</th>\n",
              "      <td>15241.0</td>\n",
              "      <td>0</td>\n",
              "      <td>3</td>\n",
              "      <td>64</td>\n",
              "      <td>0</td>\n",
              "      <td>947.55</td>\n",
              "      <td>0</td>\n",
              "      <td>3</td>\n",
              "      <td>Valor-Medio</td>\n",
              "    </tr>\n",
              "  </tbody>\n",
              "</table>\n",
              "</div>\n",
              "      <button class=\"colab-df-convert\" onclick=\"convertToInteractive('df-e3407a74-9a97-40fe-a432-d84aa6e08345')\"\n",
              "              title=\"Convert this dataframe to an interactive table.\"\n",
              "              style=\"display:none;\">\n",
              "        \n",
              "  <svg xmlns=\"http://www.w3.org/2000/svg\" height=\"24px\"viewBox=\"0 0 24 24\"\n",
              "       width=\"24px\">\n",
              "    <path d=\"M0 0h24v24H0V0z\" fill=\"none\"/>\n",
              "    <path d=\"M18.56 5.44l.94 2.06.94-2.06 2.06-.94-2.06-.94-.94-2.06-.94 2.06-2.06.94zm-11 1L8.5 8.5l.94-2.06 2.06-.94-2.06-.94L8.5 2.5l-.94 2.06-2.06.94zm10 10l.94 2.06.94-2.06 2.06-.94-2.06-.94-.94-2.06-.94 2.06-2.06.94z\"/><path d=\"M17.41 7.96l-1.37-1.37c-.4-.4-.92-.59-1.43-.59-.52 0-1.04.2-1.43.59L10.3 9.45l-7.72 7.72c-.78.78-.78 2.05 0 2.83L4 21.41c.39.39.9.59 1.41.59.51 0 1.02-.2 1.41-.59l7.78-7.78 2.81-2.81c.8-.78.8-2.07 0-2.86zM5.41 20L4 18.59l7.72-7.72 1.47 1.35L5.41 20z\"/>\n",
              "  </svg>\n",
              "      </button>\n",
              "      \n",
              "  <style>\n",
              "    .colab-df-container {\n",
              "      display:flex;\n",
              "      flex-wrap:wrap;\n",
              "      gap: 12px;\n",
              "    }\n",
              "\n",
              "    .colab-df-convert {\n",
              "      background-color: #E8F0FE;\n",
              "      border: none;\n",
              "      border-radius: 50%;\n",
              "      cursor: pointer;\n",
              "      display: none;\n",
              "      fill: #1967D2;\n",
              "      height: 32px;\n",
              "      padding: 0 0 0 0;\n",
              "      width: 32px;\n",
              "    }\n",
              "\n",
              "    .colab-df-convert:hover {\n",
              "      background-color: #E2EBFA;\n",
              "      box-shadow: 0px 1px 2px rgba(60, 64, 67, 0.3), 0px 1px 3px 1px rgba(60, 64, 67, 0.15);\n",
              "      fill: #174EA6;\n",
              "    }\n",
              "\n",
              "    [theme=dark] .colab-df-convert {\n",
              "      background-color: #3B4455;\n",
              "      fill: #D2E3FC;\n",
              "    }\n",
              "\n",
              "    [theme=dark] .colab-df-convert:hover {\n",
              "      background-color: #434B5C;\n",
              "      box-shadow: 0px 1px 3px 1px rgba(0, 0, 0, 0.15);\n",
              "      filter: drop-shadow(0px 1px 2px rgba(0, 0, 0, 0.3));\n",
              "      fill: #FFFFFF;\n",
              "    }\n",
              "  </style>\n",
              "\n",
              "      <script>\n",
              "        const buttonEl =\n",
              "          document.querySelector('#df-e3407a74-9a97-40fe-a432-d84aa6e08345 button.colab-df-convert');\n",
              "        buttonEl.style.display =\n",
              "          google.colab.kernel.accessAllowed ? 'block' : 'none';\n",
              "\n",
              "        async function convertToInteractive(key) {\n",
              "          const element = document.querySelector('#df-e3407a74-9a97-40fe-a432-d84aa6e08345');\n",
              "          const dataTable =\n",
              "            await google.colab.kernel.invokeFunction('convertToInteractive',\n",
              "                                                     [key], {});\n",
              "          if (!dataTable) return;\n",
              "\n",
              "          const docLinkHtml = 'Like what you see? Visit the ' +\n",
              "            '<a target=\"_blank\" href=https://colab.research.google.com/notebooks/data_table.ipynb>data table notebook</a>'\n",
              "            + ' to learn more about interactive tables.';\n",
              "          element.innerHTML = '';\n",
              "          dataTable['output_type'] = 'display_data';\n",
              "          await google.colab.output.renderOutput(dataTable, element);\n",
              "          const docLink = document.createElement('div');\n",
              "          docLink.innerHTML = docLinkHtml;\n",
              "          element.appendChild(docLink);\n",
              "        }\n",
              "      </script>\n",
              "    </div>\n",
              "  </div>\n",
              "  "
            ]
          },
          "metadata": {},
          "execution_count": 387
        }
      ],
      "source": [
        "# Se calculan los tres niveles de acuerdo al puntaje:\n",
        "data_cliente[\"Segmento\"] = \"Valor-Bajo\"\n",
        "data_cliente.loc[data_cliente[\"Puntaje\"]>2,\"Segmento\"] = \"Valor-Medio\"\n",
        "data_cliente.loc[data_cliente[\"Puntaje\"]>4,\"Segmento\"] = \"Valor-Alto\"\n",
        "# Se observa como queda el dataframe con la columna \"Segmento\":\n",
        "data_cliente.head()"
      ]
    },
    {
      "cell_type": "code",
      "execution_count": 388,
      "metadata": {
        "colab": {
          "base_uri": "https://localhost:8080/",
          "height": 175
        },
        "id": "BbJUIdpUtLfs",
        "outputId": "50f30e61-3fa3-4e56-a727-3253ef7fb2ce"
      },
      "outputs": [
        {
          "output_type": "execute_result",
          "data": {
            "text/plain": [
              "              Recencia  Frecuencia      Ingreso\n",
              "Segmento                                       \n",
              "Valor-Alto    6.468085  231.510638  7052.298723\n",
              "Valor-Medio   9.812601   49.925687   908.544283\n",
              "Valor-Bajo   49.650767   24.821124   393.501048"
            ],
            "text/html": [
              "\n",
              "  <div id=\"df-be4ba38a-65df-47a2-8247-f1900a329608\">\n",
              "    <div class=\"colab-df-container\">\n",
              "      <div>\n",
              "<style scoped>\n",
              "    .dataframe tbody tr th:only-of-type {\n",
              "        vertical-align: middle;\n",
              "    }\n",
              "\n",
              "    .dataframe tbody tr th {\n",
              "        vertical-align: top;\n",
              "    }\n",
              "\n",
              "    .dataframe thead th {\n",
              "        text-align: right;\n",
              "    }\n",
              "</style>\n",
              "<table border=\"1\" class=\"dataframe\">\n",
              "  <thead>\n",
              "    <tr style=\"text-align: right;\">\n",
              "      <th></th>\n",
              "      <th>Recencia</th>\n",
              "      <th>Frecuencia</th>\n",
              "      <th>Ingreso</th>\n",
              "    </tr>\n",
              "    <tr>\n",
              "      <th>Segmento</th>\n",
              "      <th></th>\n",
              "      <th></th>\n",
              "      <th></th>\n",
              "    </tr>\n",
              "  </thead>\n",
              "  <tbody>\n",
              "    <tr>\n",
              "      <th>Valor-Alto</th>\n",
              "      <td>6.468085</td>\n",
              "      <td>231.510638</td>\n",
              "      <td>7052.298723</td>\n",
              "    </tr>\n",
              "    <tr>\n",
              "      <th>Valor-Medio</th>\n",
              "      <td>9.812601</td>\n",
              "      <td>49.925687</td>\n",
              "      <td>908.544283</td>\n",
              "    </tr>\n",
              "    <tr>\n",
              "      <th>Valor-Bajo</th>\n",
              "      <td>49.650767</td>\n",
              "      <td>24.821124</td>\n",
              "      <td>393.501048</td>\n",
              "    </tr>\n",
              "  </tbody>\n",
              "</table>\n",
              "</div>\n",
              "      <button class=\"colab-df-convert\" onclick=\"convertToInteractive('df-be4ba38a-65df-47a2-8247-f1900a329608')\"\n",
              "              title=\"Convert this dataframe to an interactive table.\"\n",
              "              style=\"display:none;\">\n",
              "        \n",
              "  <svg xmlns=\"http://www.w3.org/2000/svg\" height=\"24px\"viewBox=\"0 0 24 24\"\n",
              "       width=\"24px\">\n",
              "    <path d=\"M0 0h24v24H0V0z\" fill=\"none\"/>\n",
              "    <path d=\"M18.56 5.44l.94 2.06.94-2.06 2.06-.94-2.06-.94-.94-2.06-.94 2.06-2.06.94zm-11 1L8.5 8.5l.94-2.06 2.06-.94-2.06-.94L8.5 2.5l-.94 2.06-2.06.94zm10 10l.94 2.06.94-2.06 2.06-.94-2.06-.94-.94-2.06-.94 2.06-2.06.94z\"/><path d=\"M17.41 7.96l-1.37-1.37c-.4-.4-.92-.59-1.43-.59-.52 0-1.04.2-1.43.59L10.3 9.45l-7.72 7.72c-.78.78-.78 2.05 0 2.83L4 21.41c.39.39.9.59 1.41.59.51 0 1.02-.2 1.41-.59l7.78-7.78 2.81-2.81c.8-.78.8-2.07 0-2.86zM5.41 20L4 18.59l7.72-7.72 1.47 1.35L5.41 20z\"/>\n",
              "  </svg>\n",
              "      </button>\n",
              "      \n",
              "  <style>\n",
              "    .colab-df-container {\n",
              "      display:flex;\n",
              "      flex-wrap:wrap;\n",
              "      gap: 12px;\n",
              "    }\n",
              "\n",
              "    .colab-df-convert {\n",
              "      background-color: #E8F0FE;\n",
              "      border: none;\n",
              "      border-radius: 50%;\n",
              "      cursor: pointer;\n",
              "      display: none;\n",
              "      fill: #1967D2;\n",
              "      height: 32px;\n",
              "      padding: 0 0 0 0;\n",
              "      width: 32px;\n",
              "    }\n",
              "\n",
              "    .colab-df-convert:hover {\n",
              "      background-color: #E2EBFA;\n",
              "      box-shadow: 0px 1px 2px rgba(60, 64, 67, 0.3), 0px 1px 3px 1px rgba(60, 64, 67, 0.15);\n",
              "      fill: #174EA6;\n",
              "    }\n",
              "\n",
              "    [theme=dark] .colab-df-convert {\n",
              "      background-color: #3B4455;\n",
              "      fill: #D2E3FC;\n",
              "    }\n",
              "\n",
              "    [theme=dark] .colab-df-convert:hover {\n",
              "      background-color: #434B5C;\n",
              "      box-shadow: 0px 1px 3px 1px rgba(0, 0, 0, 0.15);\n",
              "      filter: drop-shadow(0px 1px 2px rgba(0, 0, 0, 0.3));\n",
              "      fill: #FFFFFF;\n",
              "    }\n",
              "  </style>\n",
              "\n",
              "      <script>\n",
              "        const buttonEl =\n",
              "          document.querySelector('#df-be4ba38a-65df-47a2-8247-f1900a329608 button.colab-df-convert');\n",
              "        buttonEl.style.display =\n",
              "          google.colab.kernel.accessAllowed ? 'block' : 'none';\n",
              "\n",
              "        async function convertToInteractive(key) {\n",
              "          const element = document.querySelector('#df-be4ba38a-65df-47a2-8247-f1900a329608');\n",
              "          const dataTable =\n",
              "            await google.colab.kernel.invokeFunction('convertToInteractive',\n",
              "                                                     [key], {});\n",
              "          if (!dataTable) return;\n",
              "\n",
              "          const docLinkHtml = 'Like what you see? Visit the ' +\n",
              "            '<a target=\"_blank\" href=https://colab.research.google.com/notebooks/data_table.ipynb>data table notebook</a>'\n",
              "            + ' to learn more about interactive tables.';\n",
              "          element.innerHTML = '';\n",
              "          dataTable['output_type'] = 'display_data';\n",
              "          await google.colab.output.renderOutput(dataTable, element);\n",
              "          const docLink = document.createElement('div');\n",
              "          docLink.innerHTML = docLinkHtml;\n",
              "          element.appendChild(docLink);\n",
              "        }\n",
              "      </script>\n",
              "    </div>\n",
              "  </div>\n",
              "  "
            ]
          },
          "metadata": {},
          "execution_count": 388
        }
      ],
      "source": [
        "# Se agrupa por la columna segmento y se calcula la media de cada una de las métricas:\n",
        "data_cliente.groupby(\"Segmento\")[\"Recencia\",\"Frecuencia\", \"Ingreso\"].mean().sort_values(by=\"Recencia\", ascending=True)"
      ]
    },
    {
      "cell_type": "markdown",
      "metadata": {
        "id": "cnHSEE3Hq4Vw"
      },
      "source": [
        "La agrupación muestra claramente que los clientes pertenecientes al segmento \"Valor-Alto\" cuentan en promedio con el valor más bajo de recencia, más alto de frecuencia y los ingresos más altos., los clientes pertenecientes al segmento \"Valor-Medio\" cuentan en promedio con el segundo valor más bajo de recencia, el segundo valor más alto de frecuencia y el segundo valor ingresos más altos., por último los clientes del segmento \"Valor-Bajo\" cuentan con el valor de recencia màs alto, y los niveles de frecuencia e ingreso màs bajos."
      ]
    },
    {
      "cell_type": "markdown",
      "metadata": {
        "id": "K8dzsbHjq5O9"
      },
      "source": [
        "Por último se observa como se distribuyen los segmentos en diagramas de relación de a dos variables."
      ]
    },
    {
      "cell_type": "code",
      "execution_count": 389,
      "metadata": {
        "colab": {
          "base_uri": "https://localhost:8080/",
          "height": 542
        },
        "id": "y3vgfQDHsO3V",
        "outputId": "07b45cef-86a2-4602-b063-bc086ba73781"
      },
      "outputs": [
        {
          "output_type": "display_data",
          "data": {
            "text/html": [
              "<html>\n",
              "<head><meta charset=\"utf-8\" /></head>\n",
              "<body>\n",
              "    <div>            <script src=\"https://cdnjs.cloudflare.com/ajax/libs/mathjax/2.7.5/MathJax.js?config=TeX-AMS-MML_SVG\"></script><script type=\"text/javascript\">if (window.MathJax) {MathJax.Hub.Config({SVG: {font: \"STIX-Web\"}});}</script>                <script type=\"text/javascript\">window.PlotlyConfig = {MathJaxConfig: 'local'};</script>\n",
              "        <script src=\"https://cdn.plot.ly/plotly-2.8.3.min.js\"></script>                <div id=\"f16ea64a-19b9-4926-a9c6-06b26128ea9c\" class=\"plotly-graph-div\" style=\"height:525px; width:100%;\"></div>            <script type=\"text/javascript\">                                    window.PLOTLYENV=window.PLOTLYENV || {};                                    if (document.getElementById(\"f16ea64a-19b9-4926-a9c6-06b26128ea9c\")) {                    Plotly.newPlot(                        \"f16ea64a-19b9-4926-a9c6-06b26128ea9c\",                        [{\"marker\":{\"color\":\"blue\",\"line\":{\"width\":1},\"opacity\":0.8,\"size\":7},\"mode\":\"markers\",\"name\":\"Bajo\",\"x\":[38,63,47,26,14,4,24,17,9,8,45,38,28,40,30,35,48,22,60,25,17,61,11,15,63,45,45,37,27,65,56,57,6,65,2,65,44,27,51,33,54,38,26,34,43,14,14,57,37,25,23,53,45,17,23,47,34,8,15,48,41,40,62,27,53,11,22,33,48,32,33,40,11,60,15,56,14,8,2,12,20,34,47,42,36,41,19,13,34,41,13,29,43,61,18,33,41,31,26,65,7,40,51,40,17,42,30,64,47,5,9,34,54,55,48,20,32,45,40,31,41,23,59,38,46,55,14,12,32,3,44,33,39,27,7,12,44,14,29,56,34,8,41,23,14,43,33,22,27,16,24,54,16,38,58,35,10,16,25,31,19,2,11,24,23,4,56,67,6,26,17,38,9,12,8,4,19,4,20,26,60,10,30,62,67,26,5,18,19,16,10,14,10,5,10,16,14,7,15,28,20,7,61,12,32,17,21,1,58,38,14,8,15,40,18,19,21,1,36,15,4,13,22,19,4,50,8,28,35,17,51,20,23,19,6,9,6,4,18,11,35,13,62,3,16,1,7,15,6,17,13,3,16,1,38,16,9,2,17,19,3,1,22,8,25,5,5,24,12,21,1,15,3,16,4,17,39,5,4,25,29,36,9,16,17,11,6,13,14,13,7,23,10,57,41,8,14,47,14,25,19,40,42,38,22,15,21,13,9,6,4,13,11,46,35,12,17,8,16,6,6,5,1,19,22,18,39,7,16,55,3,5,17,5,31,37,16,13,20,17,12,57,16,9,20,31,54,35,9,18,2,23,9,6,48,19,9,59,19,22,37,28,5,5,15,40,10,23,8,9,1,42,15,3,25,9,17,59,40,42,29,12,1,28,51,28,13,1,1,6,9,38,16,32,8,4,29,11,33,59,42,47,10,10,18,4,46,26,35,20,62,1,23,12,24,8,4,1,15,6,10,1,41,66,3,2,1,29,9,15,20,8,14,2,1,14,11,31,8,18,5,14,8,20,15,29,8,16,6,6,37,3,17,3,37,13,1,5,42,8,20,14,8,8,10,68,2,63,40,11,16,22,1,1,1,3,17,10,15,13,2,14,59,16,6,9,3,50,53,7,11,33,1,8,9,12,20,7,31,24,58,21,5,24,8,3,5,11,5,15,13,2,23,21,30,7,21,6,10,5,19,7,25,20,4,4,1,3,10,34,16,5,3,5,23,21,19,49,22,5,6,2,57,37,19,2,15,22,23,25,2,2,43,21,1,33,1,1,53,28,29,21,16,22,3,29,1,34,16,5,53,8,3,41,12,1,4,5,42,2,2,1,37,5,2,5,21,16,7,22,1,8,14,58,52,14,7,52,48,66,27,43,21,5,6,12,14,20,24,5,19,16,10,3,48,8,12,34,5,14,41,19,12,21,31,11,24,10,16,14,11,17,1,11,9,2,42,5,8,68,28,6,21,18,9,45,4,26,34,58,37,5,12,1,22,13,68,42,5,43,9,7,64,3,18,49,16,24,10,3,2,18,23,6,16,16,12,42,20,15,5,8,38,29,11,23,3,18,14,8,19,57,18,21,17,20,15,7,7,12,1,11,62,37,23,17,34,20,28,6,8,5,9,14,28,22,39,23,2,3,14,25,26,7,59,41,19,22,24,50,16,34,11,36,22,30,49,18,26,25,27,52,65,29,25,35,41,14,38,14,16,54,20,52,59,44,35,15,19,48,25,7,9,47,38,51,16,16,3,49,47,24,25,32,22,47,20,5,8,31,36,18,22,29,13,50,17,20,53,54,22,13,8,9,26,1,14,1,3,30,18,66,47,49,20,1,19,17,12,62,17,3,19,8,33,3,20,54,26,8,55,19,15,10,7,4,13,19,33,3,3,34,12,8,22,9,4,2,3,12,18,13,19,9,38,36,15,12,45,1,24,1,24,7,20,2,6,2,2,6,27,55,17,12,16,67,37,8,1,44,32,19,40,17,1,19,40,21,13,8,13,16,2,13,38,30,15,12,2,5,30,22,13,12,4,1,10,18,13,39,3,12,12,1,12,21,53,7,3,55,10,6,10,14,14,66,21,5,21,8,17,54,19,22,18,41,27,24,12,14,6,10,31,5,11,7,10,39,17,65,18,5,24,7,2,61,12,34,47,12,60,27,14,19,59,37,13,35,8,1,31,12,1,18,34,17,5,10,12,9,15,35,43,12,21,8,20,21,2,57,16,30,45,1,40,15,7,16,19,1,43,13,42,8,14,21,16,8,12,23,1,23,21,42,16,29,6,11,10,54,8,13,26,27,31,16,5,5,22,23,36,54,14,23,23,5,52,20,15,9,15,10,8,1,7,13,23,4,29,40,36,33,21,15,1,27,17,19,29,36,21,18,20,29,20,62,26,12,19,21,1,27,5,36,42,42,66,3,10,32,31,32,18,36,2,15,13,23,16,27,20,8,62,23,7,26,8,9,23,27,30,7,9,9,9,3,14,24,2,23,27,3,18,22,1,13,15,14,10,35,24,19,18,21,6,19,35,6,53,13,39,10,11,11,14,32,36,123,72,162,71,113,154,78,112,79,71,93,89,116,96,76,84,103,109,152,96,91,143,98,78,120,140,79,94,87,93,126,82,140,94,83,116,76,141,70,71,77,74,105,125,51,28,9],\"y\":[718.63,877.4,777.38,457.81,413.95,1731.42,361.4,317.58,442.83,253.5,744.6600000000001,942.75,495.77,1292.98,278.86,677.23,733.4399999999999,911.48,765.39,251.44,490.7,1446.5,479.94000000000005,236.3,546.66,791.65,387.95,888.09,134.16,1714.6100000000001,808.61,600.31,243.71999999999997,306.9,1250.0,1226.6,600.52,464.61,1191.33,686.64,631.47,590.8000000000001,199.61,568.35,566.32,549.68,218.8,943.22,651.83,860.08,454.59000000000003,778.45,593.3,945.6,275.4,685.7900000000001,1641.8,596.85,248.83,383.17,533.3,621.57,1688.02,610.59,886.26,477.09999999999997,289.92,640.8,627.06,607.65,1175.6,390.16,260.70000000000005,320.77,221.0,961.36,1059.3600000000001,686.5,960.0,365.7,418.65,1266.3,1264.55,778.0,643.09,572.0,1394.08,285.48,1170.02,853.99,353.15999999999997,336.13,258.3,985.8100000000001,501.7,577.32,535.5,528.45,764.98,637.26,313.77,637.12,502.73,291.75,431.33,831.1,1352.2,1150.05,990.8399999999999,1998.0,21.27,1741.78,511.29,615.86,367.53999999999996,1611.0,454.90000000000003,377.71,843.95,444.71,724.03,926.51,966.74,610.59,786.57,1055.18,368.64000000000004,96.64,458.86,789.0,262.73,476.37,565.77,229.71,173.1,218.7,739.53,239.45000000000002,608.65,1420.58,458.49,1463.0,524.43,451.65000000000003,173.4,330.32,396.63,1272.48,471.15,559.69,427.94,629.11,268.15,712.91,876.46,424.62,0.0,534.46,516.24,569.4,300.07,0.0,205.7,413.46,339.93,187.04999999999998,285.37,568.26,884.4,379.1,348.33000000000004,358.38,147.6,111.76,162.0,297.78000000000003,277.69,122.39999999999999,167.92,201.19,511.68,203.95,506.38,416.4,592.41,334.95,93.35,145.91,318.3,303.62,226.85,259.45,160.95,654.6,112.32,430.38,232.65,308.32000000000005,107.21,440.0,331.18,-143.7,272.17,253.57999999999998,435.95,383.45,153.86,53.1,642.37,164.86,810.56,134.8,316.12,259.43,288.6,287.02,1716.27,204.00000000000003,155.55,342.15000000000003,63.910000000000004,309.35,303.61,275.93,76.65,209.99,306.36,424.42,555.85,325.02,747.69,319.74,397.68,164.07,364.18,159.20000000000002,75.66,203.86999999999998,240.4,114.04,1032.46,278.4,814.71,227.65,313.4,179.0,108.95,296.88,134.7,186.86,252.06,116.95,110.38,15.0,590.77,425.4,208.36,185.39999999999998,281.66,229.56,265.2,68.0,188.60999999999999,138.85,400.3,67.95,143.45999999999998,365.83,186.9,353.06,76.32000000000001,300.4,404.40000000000003,261.36,59.9,570.04,700.6,93.75,1128.6,127.38,430.46000000000004,173.12,160.86,315.66,90.12,304.21,199.85000000000002,251.75,187.16,480.46000000000004,265.75,243.72,280.38,312.28,199.11,312.4,141.85999999999999,938.85,302.44,444.3,366.47,247.76999999999998,355.22,144.32999999999998,367.52,302.4,328.45,318.15999999999997,214.5,90.6,59.050000000000004,239.4,362.9,815.78,272.46,101.10000000000001,111.15,109.13000000000001,251.6,92.72,300.29999999999995,71.82,330.0,172.95,344.86,319.12,466.61,137.9,313.93,2044.3700000000001,37.8,104.0,413.85,370.79999999999995,288.68,204.02,311.3,215.65,361.32,439.6,358.2,977.77,208.56,217.81,386.37,572.8100000000001,722.41,578.48,431.6,348.15000000000003,715.4999999999999,326.19,156.02,56.65,582.12,300.71,102.02,101.17000000000007,310.56,738.6,501.38,466.12,328.15000000000003,393.95,455.18,334.54,157.54000000000002,348.26,101.4,148.22,381.6,589.01,234.47,214.5,428.62,317.59999999999997,230.67000000000002,415.47,560.35,373.2,562.79,304.8,101.76,720.0,223.07,519.68,306.0,34.0,79.2,133.25,109.5,297.16,204.5,489.0,232.14999999999998,-28.5,133.11,189.95000000000002,203.37,460.94,414.7,270.4,194.55,162.3,312.38,134.97,1463.47,488.41,848.05,388.3,997.01,85.0,337.1,110.38000000000001,150.83,306.7,374.0,207.50000000000003,98.37,148.54999999999998,262.54999999999995,-9.95,779.92,1193.88,-10.25,-21.2,-1.25,436.68,137.1,306.94,222.65,-76.3,348.2,76.1,-2.95,225.9,594.75,706.9,124.10000000000001,122.7,211.35,161.5,137.49,378.21000000000004,222.99,218.06,332.4,240.68,38.0,96.8,119.31,50.8,345.68,45.0,310.77,164.4,-53.1,346.1,122.87,137.9,136.76999999999998,217.2,142.28,159.3,180.60000000000002,1656.15,75.6,416.61,634.5,328.8,318.24,117.55,-8.5,-25.5,-4.35,-34.8,162.7,134.9,149.64,269.7,-11.899999999999999,197.0,1120.93,300.36,325.1,391.52,123.35,987.7,794.41,108.5,328.37,246.51,17.700000000000003,118.5,240.10000000000002,588.6700000000001,148.63,298.0,200.85,380.5,1675.91,342.58,188.64,120.44,251.52,358.5,337.5,232.6,74.56,298.5,223.95000000000002,660.0,333.08,302.27,789.9,101.34,258.7,89.7,268.58,93.18,166.5,182.7,314.96,310.0,191.39999999999998,57.45,10.0,121.17000000000002,157.65,1145.6,108.21000000000001,-1.9000000000000012,198.6,1919.04,183.25,153.41,252.54,285.33,142.0,126.7,289.0,590.0,154.92000000000002,547.51,118.05,-3.4,251.56,343.62,422.53999999999996,170.75,300.0,74.2,217.89,138.28,5.1,501.25,-29.95,-10.95,254.73,316.40000000000003,1829.04,369.9,300.19,422.43,306.64,439.03,99.0,668.8499999999999,370.48,142.5,309.46,511.8,152.76,627.2,398.97999999999996,71.4,62.85,333.74,144.94,111.96,-19.9,-555.9,914.9300000000001,676.2,251.51999999999998,142.4,401.31,223.0,177.15,409.98,166.8,183.6,326.5,330.35,343.49,732.63,152.55,110.95,793.65,252.81,530.4,278.07,141.41,234.24,118.75,174.6,197.72,344.90000000000003,391.1,211.5,318.7,155.69,138.68,87.8,691.53,172.9,320.62,267.18,113.5,222.9,237.0,289.0,203.4,300.52,922.1,198.8,409.1,158.95000000000002,298.11,153.83,188.73,265.63,15.0,200.29,110.65,-6.3,103.72,131.26,114.56,687.15,420.25,358.1,517.55,365.36,215.05,200.16,314.6,154.2,512.13,237.07,292.47,170.94,216.95000000000002,25.5,329.56,327.25,366.02,270.15,99.15,265.02,133.49,207.79999999999998,776.23,77.3,259.84,1251.48,285.58,396.87,163.3,495.0,291.84000000000003,307.92,162.65,147.0,358.90000000000003,227.32,333.0,775.85,556.9399999999999,251.21,95.75999999999999,154.95,361.54,231.89999999999998,187.2,335.32,40.5,409.57,361.81,307.5,256.78,211.77,170.95,474.05,194.92000000000002,410.53,161.89,633.6,324.70000000000005,343.03000000000003,51.0,194.05,311.57,173.52,218.34,193.0,251.56,329.44,588.0,223.9,148.8,88.2,137.6,174.8,135.09,369.01,239.95999999999998,433.9,1267.5,106.5,206.13,1693.5,166.79,324.15,583.68,439.79,259.39000000000004,285.25,358.27,921.27,416.64,417.38,1118.39,632.24,881.0300000000001,389.8,879.8000000000001,465.3,230.78,394.90000000000003,1286.55,997.58,415.33,758.35,463.79,530.11,1124.88,471.57,845.32,351.34999999999997,440.7,290.32,594.6800000000001,1016.13,376.52,1562.59,749.67,573.34,595.4300000000001,742.3000000000001,1315.4,67.75,1041.67,854.99,225.4,456.68,705.6400000000001,204.41,593.99,1115.06,710.67,344.27,379.45,809.01,411.2,550.83,149.57999999999998,286.9,213.3,445.13,119.55,271.63,305.54,2110.62,356.84000000000003,297.2,277.07,108.2,1700.4,283.71,371.83000000000004,237.65,113.30000000000001,346.6,432.1,81.6,315.0,459.0,56.4,662.3,481.2,215.43,381.5,458.47,536.0,238.79999999999998,480.26,383.34,1460.24,294.47,583.89,331.80000000000007,264.65,132.09,645.59,519.96,760.18,836.79,229.33,141.85,1015.83,378.3,307.53,152.16,125.65,61.10000000000001,118.25,113.12,473.38,106.81,31.770000000000003,216.12,58.49,198.2,414.62,111.6,226.85,102.0,120.9,244.79,364.8,140.14,257.23,151.5,317.6,183.04,307.59999999999997,216.75,201.53,85.0,417.95,47.7,490.4,444.75,312.58,169.5,505.2,37.4,136.8,713.8,244.5,282.3,127.84,280.56,273.14,903.01,535.34,183.4,432.48,543.21,483.65,375.45,375.0,304.25,12.75,294.3,223.46,158.87,174.45999999999998,463.95,336.96,354.29,594.0,346.5,625.5799999999999,295.07,297.94,374.57,282.88,260.55,112.41,299.56,203.4,123.1,123.45,39.95,319.42,454.12,206.21,305.63,75.9,72.9,127.74000000000001,175.2,376.85,299.48,548.09,179.30999999999997,54.519999999999996,189.67,305.95000000000005,91.8,228.84,244.5,158.54000000000002,268.3,168.46,192.5,276.9,102.12,78.25999999999999,252.52,119.35,379.51,300.25,768.83,487.51,449.64,239.0,266.4,137.72000000000003,310.05,463.75,129.45,196.8,117.6,174.02,109.95,194.7,451.29,235.08,115.7,603.27,104.9,276.48,281.01,110.97,176.60999999999999,212.12,108.42,259.29,239.49,112.55000000000001,100.6,610.69,511.32,225.61,514.9300000000001,185.65,158.4,469.28000000000003,284.44000000000005,841.4999999999999,289.90999999999997,377.2,284.35,36.2,165.71,331.58000000000004,166.85,118.45,263.41,309.51,416.86,383.65,316.2,356.75,387.7,94.2,421.74,199.38,135.19,401.82,-4.95,874.5500000000001,246.04,88.94999999999999,280.46999999999997,330.62,-7.95,293.16,357.65,183.64,313.8,293.96,112.75,259.79,123.2,193.62,350.75,-15.05,429.6,334.2,113.01,240.0,489.75,186.88,126.05000000000001,185.04999999999998,903.67,98.8,229.24,1738.24,505.57,349.25,387.29,122.83000000000001,56.86,434.26,208.03,228.42,297.16,205.8,162.23000000000002,896.6700000000001,390.6,1345.62,328.15999999999997,238.1,116.00999999999999,579.0,127.15,300.25,30.599999999999998,146.0,206.29000000000002,286.72,81.4,1612.83,721.55,445.81,167.55,328.15000000000003,232.48000000000002,358.0,899.58,314.84000000000003,314.45,143.69,121.63,295.82,302.85,140.55,175.27,303.49,226.84,459.18,118.85,338.95,406.48,-10.95,223.17000000000002,151.85,394.83000000000004,207.24,712.24,478.03000000000003,304.04999999999995,-1462.5,242.29,178.41,192.68,306.05,695.3299999999999,408.0,99.45,320.58,424.64,263.66,480.27,347.49,142.2,915.01,293.92,150.3,447.52,101.19,169.35999999999999,409.40000000000003,121.36,304.31,157.9,113.5,112.97999999999999,308.55,157.2,234.25,439.33,232.9,454.24,267.03,212.5,307.46,548.4300000000001,-8.5,141.49,1007.9,284.76,397.20000000000005,572.25,121.11,335.0,257.89,302.55,139.35,335.5,597.8199999999999,207.0,464.59000000000003,225.15,245.31,118.7,184.64,173.46,126.32,476.8,455.9,392.86,506.35,1272.77,704.33,716.24,912.03,274.18,423.19,349.63,602.63,542.03,609.4,455.28000000000003,638.43,1136.8600000000001,478.28000000000003,1227.28,1064.63,1496.7,542.71,873.54,783.03,529.3,787.65,524.99,906.7,1451.62,326.93,966.86,1338.96,640.8100000000001,1260.15,416.23,852.87,303.04,441.14,1456.42,2050.08,532.0,590.77,431.45,1266.23,386.9,484.1,3678.03,2298.75,2400.0],\"type\":\"scatter\"},{\"marker\":{\"color\":\"green\",\"line\":{\"width\":1},\"opacity\":0.5,\"size\":9},\"mode\":\"markers\",\"name\":\"Medio\",\"x\":[30,64,57,35,64,34,18,35,47,12,16,68,43,9,38,67,50,59,48,50,66,55,23,39,24,58,65,46,58,39,40,59,19,32,24,45,12,30,63,28,10,37,32,11,59,62,58,14,15,31,31,66,65,30,64,27,7,25,31,47,18,20,57,68,3,56,9,24,34,39,32,8,45,24,45,65,47,60,53,12,46,34,9,58,38,13,59,28,33,4,27,69,62,38,65,48,26,66,8,47,20,13,43,39,32,39,15,16,42,66,25,66,48,25,62,10,28,32,17,64,17,38,57,37,20,42,15,23,55,34,17,46,61,40,18,53,13,29,43,43,37,61,26,22,17,12,37,2,58,67,49,25,34,62,11,29,43,63,24,3,8,65,64,62,24,18,58,60,35,9,68,36,45,55,57,56,35,12,28,54,44,58,32,42,54,19,29,15,30,14,15,55,13,67,20,28,35,40,49,48,21,57,27,26,25,32,16,37,38,34,20,8,20,16,39,20,15,21,23,38,5,28,30,33,55,19,31,11,31,31,19,37,4,54,14,8,13,21,12,11,35,14,32,5,26,14,54,6,30,15,35,13,16,13,10,16,13,24,20,19,16,40,16,11,36,23,13,26,4,34,30,16,4,46,30,20,1,13,25,27,20,10,8,6,28,23,35,31,32,13,27,29,53,30,26,21,2,6,12,50,47,33,46,44,25,13,40,2,33,22,10,43,7,15,14,9,21,22,11,25,9,6,10,7,2,29,23,3,30,11,12,20,54,19,13,35,19,7,24,12,11,15,39,1,6,8,27,1,26,7,57,29,7,4,29,14,5,55,19,9,9,47,41,9,15,30,1,53,32,28,24,13,6,54,23,40,26,1,5,19,16,1,11,11,30,15,28,5,45,23,2,13,24,8,26,5,1,10,34,64,7,4,23,1,37,36,7,19,52,8,8,14,4,21,21,24,5,6,15,8,21,33,10,30,28,1,6,19,52,46,22,9,42,12,4,2,20,19,26,9,3,6,10,15,89,76,121,97,71,77,79,241,175,109,81,280,126,91,128,128,153,210,210,72,95,77,189,118,79,142,117,93,103,95,135,116,91,133,203,108,84,109,76,85,113,155,104,222,81,256,106,76,110,81,156,168,103,123,152,108,115,211,111,83,114,111,71,91,78,75,118,130,101,110,114,130,88,147,184,70,87,73,87,112,81,78,80,175,124,75,90,123,92,76,88,141,73,72,88,86,71,237,78,78,97,128,170,180,73,219,89,88,92,169,116,89,84,201,81,91,72,148,116,121,117,84,124,81,71,117,134,278,86,111,80,76,90,128,77,71,121,78,65,11,52,50,18,46,48,31,33,54,51,11,61,16,10,27,66,58,30,48,50,53,1,38,41,48,75,101,127,104,197,112,82,184,78,138,107],\"y\":[393.28000000000003,1439.02,808.96,638.12,947.55,484.62,1144.77,1082.09,1254.18,562.28,670.17,263.96,1104.41,481.44000000000005,1143.27,993.54,872.71,1829.69,860.39,1984.5900000000001,1553.71,887.04,606.22,551.92,1865.12,1056.27,1109.67,1029.05,838.15,601.03,707.69,1082.4,313.34999999999997,210.32000000000002,303.58,1134.74,190.78,356.11,1110.34,426.51000000000005,207.24,972.98,1818.4299999999998,1520.78,1114.39,1273.22,885.4,593.33,388.1,290.23,581.02,1406.28,993.04,290.26,992.91,418.34000000000003,108.65,1728.8400000000001,269.31,1320.4,785.74,373.81,920.94,1172.84,29.58,1306.19,890.6400000000001,966.86,1025.64,1023.17,710.73,2047.3,750.99,848.3100000000001,877.24,1320.46,1661.45,1038.32,536.0400000000001,1431.86,339.89,697.42,485.96999999999997,1430.63,718.52,1409.64,399.1,428.23,781.86,1330.0,582.0500000000001,1216.63,837.09,776.23,500.69,1210.28,1485.8,1144.64,260.4,224.18,422.09000000000003,205.51,1458.35,1127.45,548.9,342.51,1934.6,1503.5,732.45,1253.73,489.87,341.13,707.53,418.95,1800.89,281.5,620.3000000000001,466.53999999999996,651.21,856.6700000000001,902.0400000000001,728.9,1206.94,505.66,696.1800000000001,1420.73,323.22,643.65,355.34000000000003,417.85,352.58000000000004,823.13,970.49,1525.09,311.4,705.89,184.51,601.8,685.85,818.74,614.28,974.6800000000001,1257.46,335.35,390.87,1557.7600000000002,593.73,-458.29999999999995,392.6,1500.77,1324.48,875.84,608.77,1210.27,373.18,789.48,673.65,958.39,277.64,680.5799999999999,962.7,1107.39,1573.44,840.18,160.0,318.79,981.13,1159.27,211.69,558.9000000000001,919.42,715.91,590.49,487.59,239.71,724.67,380.66,373.29,455.88,918.82,687.83,1061.41,873.24,267.16,1442.42,254.4,510.47,790.1,1142.5,320.92,271.98,1088.42,1032.9,525.51,1154.3999999999999,466.98,1664.52,1303.9099999999999,819.66,541.33,370.76,1037.72,1020.53,602.97,749.79,665.72,639.92,677.83,526.2,850.13,471.15000000000003,255.12,411.47,291.0,770.0,338.74,237.62,462.1,219.43,600.28,163.20000000000002,659.13,847.73,622.26,428.05,439.15,226.10999999999999,272.3,404.35,429.57,557.3,449.04,402.6,685.4499999999999,3.552713678800501e-15,251.55,248.42,678.54,432.14,136.65,629.9200000000001,255.61,333.11,746.8000000000001,694.08,242.24,782.1,62.0,251.01999999999998,289.36,592.88,1117.2,633.71,288.0,248.75,127.45,112.8,120.27,125.8,212.4,305.45000000000005,194.79,1028.56,119.45,277.81,63.440000000000005,284.1,77.75,72.4,208.2,448.34,299.23,132.0,710.42,463.38,369.2,195.0,207.66,177.0,655.24,99.84,357.98,125.28,139.79999999999998,563.61,551.03,562.88,133.68,454.93,155.93,396.92,371.84,1069.47,439.8,486.99,399.21000000000004,2.9,157.9,114.7,135.98,694.64,1384.25,505.45,685.9300000000001,699.64,198.87,799.38,115.92,464.32,213.05,236.0,749.4300000000001,178.35,479.65,305.36,127.75,294.73,390.91,211.55,414.77,171.45,139.15,155.9,181.1,87.7,448.83,136.78,189.60000000000002,848.78,267.55,295.16,314.42,1223.24,397.40000000000003,323.95,882.6,349.55,125.43,525.92,110.74,211.73000000000002,373.72,968.5,59.8,1692.0,131.7,430.35,-7.5,814.95,94.39999999999999,585.12,770.5,172.29000000000002,578.5500000000001,765.28,227.57999999999998,86.5,1590.05,316.95,145.9,257.7,212.93,475.19,152.34,306.13,492.26,20.8,903.01,792.21,236.04000000000002,178.39,147.86,143.1,860.12,399.15,465.43,182.26,326.4,138.2,318.55,262.96,-8.95,578.6500000000001,306.53000000000003,339.59999999999997,249.55,595.29,339.7,911.26,415.28000000000003,37.45,122.38,327.97,159.56,113.73,135.93,-17.0,157.25,525.36,339.59,145.04000000000002,83.28,611.85,179.0,172.24,480.96,278.63,182.99,474.8,144.8,137.77,304.3,271.85,103.21000000000001,426.43,370.98,241.08,388.18,354.45,134.04,125.38,559.87,191.4,579.97,440.99,207.50000000000003,120.7,314.1,360.0,210.65,208.59,308.03999999999996,240.89000000000001,207.15,185.22000000000003,9.2,129.32,139.35,457.34,228.8,84.72,113.0,155.0,309.54,1448.21,1480.95,1252.26,1295.06,1264.15,1379.15,1779.43,1253.11,1091.29,745.0,1579.92,1569.82,1167.05,1988.83,1569.8,1932.32,1785.18,1755.13,1945.58,1503.19,1973.12,1177.14,1108.91,946.5,1069.5,838.61,824.5,1654.42,1855.86,1939.68,1973.33,701.48,634.41,969.3,945.67,1986.97,1721.95,1311.42,1383.5,683.68,1780.77,1963.59,1957.85,1770.2,2061.8,1771.49,1626.29,1132.35,1681.6,1405.34,1606.95,1405.55,1582.81,775.31,956.4300000000001,1654.63,1207.66,1020.92,567.35,1483.81,599.07,1977.75,1795.6200000000001,1665.61,1161.06,1349.43,825.33,1150.33,1673.8,1987.6200000000001,1513.03,1051.88,1763.04,857.51,1515.34,1464.8500000000001,1811.49,1595.2,1055.62,674.9,1888.74,507.72,445.73,635.15,982.25,784.24,1556.17,719.93,200.82,1093.65,191.10999999999999,1989.73,1444.14,1802.29,540.98,775.66,1043.43,1447.26,814.47,2051.32,1025.64,930.96,1791.03,1198.22,1581.8,1359.67,1613.46,551.84,1302.05,745.46,1334.76,926.63,468.29,1170.59,477.13,840.35,367.46999999999997,942.4399999999999,619.68,463.37,602.74,1551.8500000000001,1542.78,677.0799999999999,882.45,571.45,1354.46,919.53,244.17,392.18,1205.07,810.43,1644.92,1890.94,1565.47,285.94,325.08,363.97,3823.8,6400.8,2267.1400000000003,4184.43,5022.17,2574.07,6638.67,2890.34,3268.25,2734.74,7566.2,6583.8,3462.24,2159.16,2315.3599999999997,3321.6400000000003,6226.81,3490.33,2655.54,4045.77,2982.17,3134.13,3096.0,2544.12,4867.9,3007.2200000000003,7969.99,4131.15,3842.21,2322.17,2737.41,2348.51,2310.4,3122.9900000000002,2745.43,3246.091,2274.43],\"type\":\"scatter\"},{\"marker\":{\"color\":\"red\",\"line\":{\"width\":1},\"opacity\":0.9,\"size\":11},\"mode\":\"markers\",\"name\":\"Alto\",\"x\":[407,344,73,73,150,75,112,199,128,128,99,88,168,106,117,261,102,95,165,82,178,108,100,147,119,119,86,222,651,724,434,567,327,537,1346,55,47,29,32,129,159,122,199,73,518,448,433],\"y\":[2027.38,1789.71,2962.65,3729.42,2506.75,3252.04,3019.2200000000003,3026.56,3403.01,3812.71,5434.8,2740.1,4117.36,5433.89,2215.01,6808.8,2389.45,3655.2000000000003,6224.17,7213.03,2825.4700000000003,2272.76,2131.72,2832.92,2455.9900000000002,2226.5,5837.74,2824.05,2808.2799999999997,3136.87,6723.64,4276.6,2670.17,4763.26,5944.59,26113.81,35085.479999999996,10578.720000000001,17700.64,10348.13,15570.47,11105.2,17307.53,15263.96,16213.43,11694.12,14984.73],\"type\":\"scatter\"}],                        {\"template\":{\"data\":{\"barpolar\":[{\"marker\":{\"line\":{\"color\":\"#E5ECF6\",\"width\":0.5},\"pattern\":{\"fillmode\":\"overlay\",\"size\":10,\"solidity\":0.2}},\"type\":\"barpolar\"}],\"bar\":[{\"error_x\":{\"color\":\"#2a3f5f\"},\"error_y\":{\"color\":\"#2a3f5f\"},\"marker\":{\"line\":{\"color\":\"#E5ECF6\",\"width\":0.5},\"pattern\":{\"fillmode\":\"overlay\",\"size\":10,\"solidity\":0.2}},\"type\":\"bar\"}],\"carpet\":[{\"aaxis\":{\"endlinecolor\":\"#2a3f5f\",\"gridcolor\":\"white\",\"linecolor\":\"white\",\"minorgridcolor\":\"white\",\"startlinecolor\":\"#2a3f5f\"},\"baxis\":{\"endlinecolor\":\"#2a3f5f\",\"gridcolor\":\"white\",\"linecolor\":\"white\",\"minorgridcolor\":\"white\",\"startlinecolor\":\"#2a3f5f\"},\"type\":\"carpet\"}],\"choropleth\":[{\"colorbar\":{\"outlinewidth\":0,\"ticks\":\"\"},\"type\":\"choropleth\"}],\"contourcarpet\":[{\"colorbar\":{\"outlinewidth\":0,\"ticks\":\"\"},\"type\":\"contourcarpet\"}],\"contour\":[{\"colorbar\":{\"outlinewidth\":0,\"ticks\":\"\"},\"colorscale\":[[0.0,\"#0d0887\"],[0.1111111111111111,\"#46039f\"],[0.2222222222222222,\"#7201a8\"],[0.3333333333333333,\"#9c179e\"],[0.4444444444444444,\"#bd3786\"],[0.5555555555555556,\"#d8576b\"],[0.6666666666666666,\"#ed7953\"],[0.7777777777777778,\"#fb9f3a\"],[0.8888888888888888,\"#fdca26\"],[1.0,\"#f0f921\"]],\"type\":\"contour\"}],\"heatmapgl\":[{\"colorbar\":{\"outlinewidth\":0,\"ticks\":\"\"},\"colorscale\":[[0.0,\"#0d0887\"],[0.1111111111111111,\"#46039f\"],[0.2222222222222222,\"#7201a8\"],[0.3333333333333333,\"#9c179e\"],[0.4444444444444444,\"#bd3786\"],[0.5555555555555556,\"#d8576b\"],[0.6666666666666666,\"#ed7953\"],[0.7777777777777778,\"#fb9f3a\"],[0.8888888888888888,\"#fdca26\"],[1.0,\"#f0f921\"]],\"type\":\"heatmapgl\"}],\"heatmap\":[{\"colorbar\":{\"outlinewidth\":0,\"ticks\":\"\"},\"colorscale\":[[0.0,\"#0d0887\"],[0.1111111111111111,\"#46039f\"],[0.2222222222222222,\"#7201a8\"],[0.3333333333333333,\"#9c179e\"],[0.4444444444444444,\"#bd3786\"],[0.5555555555555556,\"#d8576b\"],[0.6666666666666666,\"#ed7953\"],[0.7777777777777778,\"#fb9f3a\"],[0.8888888888888888,\"#fdca26\"],[1.0,\"#f0f921\"]],\"type\":\"heatmap\"}],\"histogram2dcontour\":[{\"colorbar\":{\"outlinewidth\":0,\"ticks\":\"\"},\"colorscale\":[[0.0,\"#0d0887\"],[0.1111111111111111,\"#46039f\"],[0.2222222222222222,\"#7201a8\"],[0.3333333333333333,\"#9c179e\"],[0.4444444444444444,\"#bd3786\"],[0.5555555555555556,\"#d8576b\"],[0.6666666666666666,\"#ed7953\"],[0.7777777777777778,\"#fb9f3a\"],[0.8888888888888888,\"#fdca26\"],[1.0,\"#f0f921\"]],\"type\":\"histogram2dcontour\"}],\"histogram2d\":[{\"colorbar\":{\"outlinewidth\":0,\"ticks\":\"\"},\"colorscale\":[[0.0,\"#0d0887\"],[0.1111111111111111,\"#46039f\"],[0.2222222222222222,\"#7201a8\"],[0.3333333333333333,\"#9c179e\"],[0.4444444444444444,\"#bd3786\"],[0.5555555555555556,\"#d8576b\"],[0.6666666666666666,\"#ed7953\"],[0.7777777777777778,\"#fb9f3a\"],[0.8888888888888888,\"#fdca26\"],[1.0,\"#f0f921\"]],\"type\":\"histogram2d\"}],\"histogram\":[{\"marker\":{\"pattern\":{\"fillmode\":\"overlay\",\"size\":10,\"solidity\":0.2}},\"type\":\"histogram\"}],\"mesh3d\":[{\"colorbar\":{\"outlinewidth\":0,\"ticks\":\"\"},\"type\":\"mesh3d\"}],\"parcoords\":[{\"line\":{\"colorbar\":{\"outlinewidth\":0,\"ticks\":\"\"}},\"type\":\"parcoords\"}],\"pie\":[{\"automargin\":true,\"type\":\"pie\"}],\"scatter3d\":[{\"line\":{\"colorbar\":{\"outlinewidth\":0,\"ticks\":\"\"}},\"marker\":{\"colorbar\":{\"outlinewidth\":0,\"ticks\":\"\"}},\"type\":\"scatter3d\"}],\"scattercarpet\":[{\"marker\":{\"colorbar\":{\"outlinewidth\":0,\"ticks\":\"\"}},\"type\":\"scattercarpet\"}],\"scattergeo\":[{\"marker\":{\"colorbar\":{\"outlinewidth\":0,\"ticks\":\"\"}},\"type\":\"scattergeo\"}],\"scattergl\":[{\"marker\":{\"colorbar\":{\"outlinewidth\":0,\"ticks\":\"\"}},\"type\":\"scattergl\"}],\"scattermapbox\":[{\"marker\":{\"colorbar\":{\"outlinewidth\":0,\"ticks\":\"\"}},\"type\":\"scattermapbox\"}],\"scatterpolargl\":[{\"marker\":{\"colorbar\":{\"outlinewidth\":0,\"ticks\":\"\"}},\"type\":\"scatterpolargl\"}],\"scatterpolar\":[{\"marker\":{\"colorbar\":{\"outlinewidth\":0,\"ticks\":\"\"}},\"type\":\"scatterpolar\"}],\"scatter\":[{\"marker\":{\"colorbar\":{\"outlinewidth\":0,\"ticks\":\"\"}},\"type\":\"scatter\"}],\"scatterternary\":[{\"marker\":{\"colorbar\":{\"outlinewidth\":0,\"ticks\":\"\"}},\"type\":\"scatterternary\"}],\"surface\":[{\"colorbar\":{\"outlinewidth\":0,\"ticks\":\"\"},\"colorscale\":[[0.0,\"#0d0887\"],[0.1111111111111111,\"#46039f\"],[0.2222222222222222,\"#7201a8\"],[0.3333333333333333,\"#9c179e\"],[0.4444444444444444,\"#bd3786\"],[0.5555555555555556,\"#d8576b\"],[0.6666666666666666,\"#ed7953\"],[0.7777777777777778,\"#fb9f3a\"],[0.8888888888888888,\"#fdca26\"],[1.0,\"#f0f921\"]],\"type\":\"surface\"}],\"table\":[{\"cells\":{\"fill\":{\"color\":\"#EBF0F8\"},\"line\":{\"color\":\"white\"}},\"header\":{\"fill\":{\"color\":\"#C8D4E3\"},\"line\":{\"color\":\"white\"}},\"type\":\"table\"}]},\"layout\":{\"annotationdefaults\":{\"arrowcolor\":\"#2a3f5f\",\"arrowhead\":0,\"arrowwidth\":1},\"autotypenumbers\":\"strict\",\"coloraxis\":{\"colorbar\":{\"outlinewidth\":0,\"ticks\":\"\"}},\"colorscale\":{\"diverging\":[[0,\"#8e0152\"],[0.1,\"#c51b7d\"],[0.2,\"#de77ae\"],[0.3,\"#f1b6da\"],[0.4,\"#fde0ef\"],[0.5,\"#f7f7f7\"],[0.6,\"#e6f5d0\"],[0.7,\"#b8e186\"],[0.8,\"#7fbc41\"],[0.9,\"#4d9221\"],[1,\"#276419\"]],\"sequential\":[[0.0,\"#0d0887\"],[0.1111111111111111,\"#46039f\"],[0.2222222222222222,\"#7201a8\"],[0.3333333333333333,\"#9c179e\"],[0.4444444444444444,\"#bd3786\"],[0.5555555555555556,\"#d8576b\"],[0.6666666666666666,\"#ed7953\"],[0.7777777777777778,\"#fb9f3a\"],[0.8888888888888888,\"#fdca26\"],[1.0,\"#f0f921\"]],\"sequentialminus\":[[0.0,\"#0d0887\"],[0.1111111111111111,\"#46039f\"],[0.2222222222222222,\"#7201a8\"],[0.3333333333333333,\"#9c179e\"],[0.4444444444444444,\"#bd3786\"],[0.5555555555555556,\"#d8576b\"],[0.6666666666666666,\"#ed7953\"],[0.7777777777777778,\"#fb9f3a\"],[0.8888888888888888,\"#fdca26\"],[1.0,\"#f0f921\"]]},\"colorway\":[\"#636efa\",\"#EF553B\",\"#00cc96\",\"#ab63fa\",\"#FFA15A\",\"#19d3f3\",\"#FF6692\",\"#B6E880\",\"#FF97FF\",\"#FECB52\"],\"font\":{\"color\":\"#2a3f5f\"},\"geo\":{\"bgcolor\":\"white\",\"lakecolor\":\"white\",\"landcolor\":\"#E5ECF6\",\"showlakes\":true,\"showland\":true,\"subunitcolor\":\"white\"},\"hoverlabel\":{\"align\":\"left\"},\"hovermode\":\"closest\",\"mapbox\":{\"style\":\"light\"},\"paper_bgcolor\":\"white\",\"plot_bgcolor\":\"#E5ECF6\",\"polar\":{\"angularaxis\":{\"gridcolor\":\"white\",\"linecolor\":\"white\",\"ticks\":\"\"},\"bgcolor\":\"#E5ECF6\",\"radialaxis\":{\"gridcolor\":\"white\",\"linecolor\":\"white\",\"ticks\":\"\"}},\"scene\":{\"xaxis\":{\"backgroundcolor\":\"#E5ECF6\",\"gridcolor\":\"white\",\"gridwidth\":2,\"linecolor\":\"white\",\"showbackground\":true,\"ticks\":\"\",\"zerolinecolor\":\"white\"},\"yaxis\":{\"backgroundcolor\":\"#E5ECF6\",\"gridcolor\":\"white\",\"gridwidth\":2,\"linecolor\":\"white\",\"showbackground\":true,\"ticks\":\"\",\"zerolinecolor\":\"white\"},\"zaxis\":{\"backgroundcolor\":\"#E5ECF6\",\"gridcolor\":\"white\",\"gridwidth\":2,\"linecolor\":\"white\",\"showbackground\":true,\"ticks\":\"\",\"zerolinecolor\":\"white\"}},\"shapedefaults\":{\"line\":{\"color\":\"#2a3f5f\"}},\"ternary\":{\"aaxis\":{\"gridcolor\":\"white\",\"linecolor\":\"white\",\"ticks\":\"\"},\"baxis\":{\"gridcolor\":\"white\",\"linecolor\":\"white\",\"ticks\":\"\"},\"bgcolor\":\"#E5ECF6\",\"caxis\":{\"gridcolor\":\"white\",\"linecolor\":\"white\",\"ticks\":\"\"}},\"title\":{\"x\":0.05},\"xaxis\":{\"automargin\":true,\"gridcolor\":\"white\",\"linecolor\":\"white\",\"ticks\":\"\",\"title\":{\"standoff\":15},\"zerolinecolor\":\"white\",\"zerolinewidth\":2},\"yaxis\":{\"automargin\":true,\"gridcolor\":\"white\",\"linecolor\":\"white\",\"ticks\":\"\",\"title\":{\"standoff\":15},\"zerolinecolor\":\"white\",\"zerolinewidth\":2}}},\"title\":{\"text\":\"Segmentos\"},\"xaxis\":{\"title\":{\"text\":\"Frecuencia\"}},\"yaxis\":{\"title\":{\"text\":\"Ingreso\"}}},                        {\"responsive\": true}                    ).then(function(){\n",
              "                            \n",
              "var gd = document.getElementById('f16ea64a-19b9-4926-a9c6-06b26128ea9c');\n",
              "var x = new MutationObserver(function (mutations, observer) {{\n",
              "        var display = window.getComputedStyle(gd).display;\n",
              "        if (!display || display === 'none') {{\n",
              "            console.log([gd, 'removed!']);\n",
              "            Plotly.purge(gd);\n",
              "            observer.disconnect();\n",
              "        }}\n",
              "}});\n",
              "\n",
              "// Listen for the removal of the full notebook cells\n",
              "var notebookContainer = gd.closest('#notebook-container');\n",
              "if (notebookContainer) {{\n",
              "    x.observe(notebookContainer, {childList: true});\n",
              "}}\n",
              "\n",
              "// Listen for the clearing of the current output cell\n",
              "var outputEl = gd.closest('.output');\n",
              "if (outputEl) {{\n",
              "    x.observe(outputEl, {childList: true});\n",
              "}}\n",
              "\n",
              "                        })                };                            </script>        </div>\n",
              "</body>\n",
              "</html>"
            ]
          },
          "metadata": {}
        }
      ],
      "source": [
        "# Se grafica la relación entre Frecuencia e Ingreso, para cada uno de los tres segmentos:\n",
        "\n",
        "tx_graph = data_cliente.query(\"Ingreso < 50000 and Frecuencia < 2000\")\n",
        "\n",
        "plot_data = [\n",
        "    go.Scatter(\n",
        "        x=tx_graph.query(\"Segmento == 'Valor-Bajo'\")[\"Frecuencia\"],\n",
        "        y=tx_graph.query(\"Segmento == 'Valor-Bajo'\")[\"Ingreso\"],\n",
        "        mode=\"markers\",\n",
        "        name=\"Bajo\",\n",
        "        marker= dict(size= 7,\n",
        "            line= dict(width=1),\n",
        "            color= \"blue\",\n",
        "            opacity= 0.8)),\n",
        "        go.Scatter(\n",
        "        x=tx_graph.query(\"Segmento == 'Valor-Medio'\")[\"Frecuencia\"],\n",
        "        y=tx_graph.query(\"Segmento == 'Valor-Medio'\")[\"Ingreso\"],\n",
        "        mode=\"markers\",\n",
        "        name=\"Medio\",\n",
        "        marker= dict(size= 9,\n",
        "            line= dict(width=1),\n",
        "            color= 'green',\n",
        "            opacity= 0.5 )),\n",
        "        go.Scatter(\n",
        "        x=tx_graph.query(\"Segmento == 'Valor-Alto'\")[\"Frecuencia\"],\n",
        "        y=tx_graph.query(\"Segmento == 'Valor-Alto'\")[\"Ingreso\"],\n",
        "        mode='markers',\n",
        "        name=\"Alto\",\n",
        "        marker= dict(size= 11,\n",
        "            line= dict(width=1),\n",
        "            color= 'red',\n",
        "            opacity= 0.9 )),]\n",
        "\n",
        "plot_layout = go.Layout(\n",
        "        yaxis= {\"title\": \"Ingreso\"},\n",
        "        xaxis= {\"title\": \"Frecuencia\"},\n",
        "        title=\"Segmentos\" )\n",
        "fig = go.Figure(data=plot_data, layout=plot_layout)\n",
        "pyoff.iplot(fig)"
      ]
    },
    {
      "cell_type": "markdown",
      "metadata": {
        "id": "pONqJxhDsrTe"
      },
      "source": [
        "Se corrobora mediante el gráfico que los clientes con valor bajo tienen en promedio baja frecuencia y bajo ingreso."
      ]
    },
    {
      "cell_type": "code",
      "execution_count": 390,
      "metadata": {
        "colab": {
          "base_uri": "https://localhost:8080/",
          "height": 542
        },
        "id": "8zsH6W8Rtm5_",
        "outputId": "be488ff5-5870-43b6-f678-500224f27b21"
      },
      "outputs": [
        {
          "output_type": "display_data",
          "data": {
            "text/html": [
              "<html>\n",
              "<head><meta charset=\"utf-8\" /></head>\n",
              "<body>\n",
              "    <div>            <script src=\"https://cdnjs.cloudflare.com/ajax/libs/mathjax/2.7.5/MathJax.js?config=TeX-AMS-MML_SVG\"></script><script type=\"text/javascript\">if (window.MathJax) {MathJax.Hub.Config({SVG: {font: \"STIX-Web\"}});}</script>                <script type=\"text/javascript\">window.PlotlyConfig = {MathJaxConfig: 'local'};</script>\n",
              "        <script src=\"https://cdn.plot.ly/plotly-2.8.3.min.js\"></script>                <div id=\"a83a87d0-aebe-439a-b5b6-5b7c85650646\" class=\"plotly-graph-div\" style=\"height:525px; width:100%;\"></div>            <script type=\"text/javascript\">                                    window.PLOTLYENV=window.PLOTLYENV || {};                                    if (document.getElementById(\"a83a87d0-aebe-439a-b5b6-5b7c85650646\")) {                    Plotly.newPlot(                        \"a83a87d0-aebe-439a-b5b6-5b7c85650646\",                        [{\"marker\":{\"color\":\"blue\",\"line\":{\"width\":1},\"opacity\":0.8,\"size\":7},\"mode\":\"markers\",\"name\":\"Bajo\",\"x\":[25,21,28,23,19,18,28,19,26,26,27,22,26,20,20,33,22,30,20,25,23,22,35,19,30,19,22,23,34,27,18,23,28,33,18,33,25,22,35,19,19,22,33,25,34,23,25,20,23,25,25,19,18,20,20,25,19,21,33,17,21,22,28,35,22,28,33,22,21,23,25,25,26,21,23,25,27,34,25,19,26,25,34,26,26,25,20,20,22,28,25,25,18,21,19,26,32,18,18,27,21,22,25,18,26,27,18,33,18,34,32,18,35,23,22,18,33,18,20,25,34,24,20,27,25,25,19,23,25,25,23,34,34,32,21,25,19,21,26,34,27,18,23,22,33,23,28,26,21,27,22,26,28,25,21,28,25,34,25,33,33,32,35,35,35,35,35,27,35,32,35,35,35,34,28,27,21,34,34,34,34,34,34,34,34,26,32,33,33,33,33,33,33,33,33,33,33,26,33,33,32,32,32,18,25,30,30,30,30,30,30,28,28,20,28,25,20,28,28,19,28,28,28,28,27,27,27,27,18,19,20,27,27,27,27,27,27,27,20,27,27,27,27,26,26,26,26,26,26,26,26,26,26,26,20,26,26,26,26,26,26,26,25,25,25,25,25,25,25,25,25,25,25,25,25,25,25,25,25,25,25,25,18,25,25,25,24,23,23,23,23,23,18,23,23,23,23,23,23,23,23,23,23,23,23,23,23,23,22,22,22,22,22,22,22,22,22,22,21,21,21,21,21,21,21,21,18,21,21,21,21,21,20,21,21,21,21,20,20,20,20,20,20,20,20,18,20,20,20,20,19,20,20,20,20,20,19,19,19,19,19,19,19,19,19,19,19,19,19,19,19,19,19,19,19,19,18,18,18,18,18,18,18,18,18,18,17,91,91,91,91,91,91,89,89,91,91,85,91,64,90,90,90,90,90,90,90,85,90,90,68,90,90,90,90,90,90,90,89,71,74,89,89,89,89,89,89,89,89,89,89,89,89,89,89,89,70,82,88,88,64,88,88,88,88,88,88,88,88,88,88,88,88,88,88,88,86,86,86,86,86,85,85,85,85,85,85,85,81,85,85,85,85,85,85,85,85,85,84,84,84,84,84,84,84,84,84,84,84,84,83,83,83,83,83,83,83,83,83,83,78,83,83,83,81,83,82,82,82,82,82,82,82,78,82,82,78,70,82,82,81,81,81,81,81,81,81,81,81,81,81,81,80,80,79,79,76,79,78,78,75,67,78,74,77,77,77,77,77,77,77,75,77,77,77,77,77,76,76,70,76,76,76,76,76,76,76,76,76,76,76,68,75,70,75,75,75,75,75,75,75,75,74,74,74,74,74,74,74,74,74,74,74,74,74,65,74,74,70,74,74,74,74,74,74,74,73,73,71,72,72,72,72,72,65,72,72,72,72,72,72,68,71,71,71,71,71,71,71,71,71,71,71,71,70,70,70,70,70,70,70,67,70,70,70,70,70,70,70,70,69,69,69,69,69,69,69,69,69,69,69,69,69,69,69,69,69,69,69,69,69,68,68,68,68,68,68,68,68,68,68,68,68,68,68,68,68,67,67,67,67,67,67,67,67,67,66,65,65,65,65,65,65,65,64,64,64,64,64,64,64,64,64,64,64,64,64,64,64,64,64,64,56,50,60,41,43,39,53,41,47,52,41,41,48,55,44,61,48,53,55,57,42,41,63,60,53,61,42,53,62,50,62,50,49,42,60,53,39,61,46,48,54,44,49,41,46,61,47,43,40,50,56,48,61,44,40,60,62,54,63,60,63,62,63,63,63,63,63,63,63,40,62,62,46,62,62,62,62,62,62,62,62,62,40,62,60,62,61,62,54,62,56,62,46,62,62,62,61,61,61,54,61,61,61,61,61,61,42,61,61,61,60,60,43,60,60,60,60,60,60,56,60,60,40,60,60,60,60,60,60,60,60,60,60,41,60,60,60,58,58,53,58,58,57,57,57,57,57,48,57,57,57,57,57,55,57,56,56,56,56,56,56,56,42,46,56,56,55,55,55,52,55,55,46,55,55,55,55,55,55,54,50,54,40,54,54,54,54,54,54,54,54,54,54,54,54,54,53,54,53,53,53,46,49,53,53,53,53,53,42,53,48,53,53,53,53,53,53,51,50,53,53,53,51,51,51,51,51,51,51,51,51,51,41,40,50,50,50,50,48,50,50,42,47,50,50,50,50,42,49,49,49,47,49,49,49,49,49,49,49,49,49,49,49,49,47,43,49,48,48,48,48,48,48,48,40,48,48,48,48,47,48,48,48,41,48,47,48,48,42,39,46,47,47,47,39,47,43,43,47,47,47,47,46,46,46,46,46,46,46,40,46,46,46,41,40,46,46,46,46,46,46,44,44,44,44,44,44,44,41,44,44,44,44,44,44,44,43,43,43,43,43,43,43,43,43,43,43,43,43,43,43,43,43,43,42,42,39,42,42,42,42,42,42,42,42,42,42,42,39,41,41,41,41,41,41,41,41,41,41,41,41,40,40,40,40,40,40,40,40,40,40,40,40,40,40,40,39,39,39,39,39,39,39,39,39,88,86,84,83,74,70,70,64,68,68,65,65,64,42,55,44,40,55,58,50,56,57,40,48,42,57,57,44,43,41,60,60,41,56,54,54,51,50,49,48,47,46,42,41,84,41,41],\"y\":[718.63,877.4,777.38,457.81,413.95,1731.42,361.4,317.58,442.83,253.5,744.6600000000001,942.75,495.77,1292.98,278.86,677.23,733.4399999999999,911.48,765.39,251.44,490.7,1446.5,479.94000000000005,236.3,546.66,791.65,387.95,888.09,134.16,1714.6100000000001,808.61,600.31,243.71999999999997,306.9,1250.0,1226.6,600.52,464.61,1191.33,686.64,631.47,590.8000000000001,199.61,568.35,566.32,549.68,218.8,943.22,651.83,860.08,454.59000000000003,778.45,593.3,945.6,275.4,685.7900000000001,1641.8,596.85,248.83,383.17,533.3,621.57,1688.02,610.59,886.26,477.09999999999997,289.92,640.8,627.06,607.65,1175.6,390.16,260.70000000000005,320.77,221.0,961.36,1059.3600000000001,686.5,960.0,365.7,418.65,1266.3,1264.55,778.0,643.09,572.0,1394.08,285.48,1170.02,853.99,353.15999999999997,336.13,258.3,985.8100000000001,501.7,577.32,535.5,528.45,764.98,637.26,313.77,637.12,502.73,291.75,431.33,831.1,1352.2,1150.05,990.8399999999999,1998.0,21.27,1741.78,511.29,615.86,367.53999999999996,1611.0,454.90000000000003,377.71,843.95,444.71,724.03,926.51,966.74,610.59,786.57,1055.18,368.64000000000004,96.64,458.86,789.0,262.73,476.37,565.77,229.71,173.1,218.7,739.53,239.45000000000002,608.65,1420.58,458.49,1463.0,524.43,451.65000000000003,173.4,330.32,396.63,1272.48,471.15,559.69,427.94,629.11,268.15,712.91,876.46,424.62,0.0,534.46,516.24,569.4,300.07,0.0,205.7,413.46,339.93,187.04999999999998,285.37,568.26,884.4,379.1,348.33000000000004,358.38,147.6,111.76,162.0,297.78000000000003,277.69,122.39999999999999,167.92,201.19,511.68,203.95,506.38,416.4,592.41,334.95,93.35,145.91,318.3,303.62,226.85,259.45,160.95,654.6,112.32,430.38,232.65,308.32000000000005,107.21,440.0,331.18,-143.7,272.17,253.57999999999998,435.95,383.45,153.86,53.1,642.37,164.86,810.56,134.8,316.12,259.43,288.6,287.02,1716.27,204.00000000000003,155.55,342.15000000000003,63.910000000000004,309.35,303.61,275.93,76.65,209.99,306.36,424.42,555.85,325.02,747.69,319.74,397.68,164.07,364.18,159.20000000000002,75.66,203.86999999999998,240.4,114.04,1032.46,278.4,814.71,227.65,313.4,179.0,108.95,296.88,134.7,186.86,252.06,116.95,110.38,15.0,590.77,425.4,208.36,185.39999999999998,281.66,229.56,265.2,68.0,188.60999999999999,138.85,400.3,67.95,143.45999999999998,365.83,186.9,353.06,76.32000000000001,300.4,404.40000000000003,261.36,59.9,570.04,700.6,93.75,1128.6,127.38,430.46000000000004,173.12,160.86,315.66,90.12,304.21,199.85000000000002,251.75,187.16,480.46000000000004,265.75,243.72,280.38,312.28,199.11,312.4,141.85999999999999,938.85,302.44,444.3,366.47,247.76999999999998,355.22,144.32999999999998,367.52,302.4,328.45,318.15999999999997,214.5,90.6,59.050000000000004,239.4,362.9,815.78,272.46,101.10000000000001,111.15,109.13000000000001,251.6,92.72,300.29999999999995,71.82,330.0,172.95,344.86,319.12,466.61,137.9,313.93,2044.3700000000001,37.8,104.0,413.85,370.79999999999995,288.68,204.02,311.3,215.65,361.32,439.6,358.2,977.77,208.56,217.81,386.37,572.8100000000001,722.41,578.48,431.6,348.15000000000003,715.4999999999999,326.19,156.02,56.65,582.12,300.71,102.02,101.17000000000007,310.56,738.6,501.38,466.12,328.15000000000003,393.95,455.18,334.54,157.54000000000002,348.26,101.4,148.22,381.6,589.01,234.47,214.5,428.62,317.59999999999997,230.67000000000002,415.47,560.35,373.2,562.79,304.8,101.76,720.0,223.07,519.68,306.0,34.0,79.2,133.25,109.5,297.16,204.5,489.0,232.14999999999998,-28.5,133.11,189.95000000000002,203.37,460.94,414.7,270.4,194.55,162.3,312.38,134.97,1463.47,488.41,848.05,388.3,997.01,85.0,337.1,110.38000000000001,150.83,306.7,374.0,207.50000000000003,98.37,148.54999999999998,262.54999999999995,-9.95,779.92,1193.88,-10.25,-21.2,-1.25,436.68,137.1,306.94,222.65,-76.3,348.2,76.1,-2.95,225.9,594.75,706.9,124.10000000000001,122.7,211.35,161.5,137.49,378.21000000000004,222.99,218.06,332.4,240.68,38.0,96.8,119.31,50.8,345.68,45.0,310.77,164.4,-53.1,346.1,122.87,137.9,136.76999999999998,217.2,142.28,159.3,180.60000000000002,1656.15,75.6,416.61,634.5,328.8,318.24,117.55,-8.5,-25.5,-4.35,-34.8,162.7,134.9,149.64,269.7,-11.899999999999999,197.0,1120.93,300.36,325.1,391.52,123.35,987.7,794.41,108.5,328.37,246.51,17.700000000000003,118.5,240.10000000000002,588.6700000000001,148.63,298.0,200.85,380.5,1675.91,342.58,188.64,120.44,251.52,358.5,337.5,232.6,74.56,298.5,223.95000000000002,660.0,333.08,302.27,789.9,101.34,258.7,89.7,268.58,93.18,166.5,182.7,314.96,310.0,191.39999999999998,57.45,10.0,121.17000000000002,157.65,1145.6,108.21000000000001,-1.9000000000000012,198.6,1919.04,183.25,153.41,252.54,285.33,142.0,126.7,289.0,590.0,154.92000000000002,547.51,118.05,-3.4,251.56,343.62,422.53999999999996,170.75,300.0,74.2,217.89,138.28,5.1,501.25,-29.95,-10.95,254.73,316.40000000000003,1829.04,369.9,300.19,422.43,306.64,439.03,99.0,668.8499999999999,370.48,142.5,309.46,511.8,152.76,627.2,398.97999999999996,71.4,62.85,333.74,144.94,111.96,-19.9,-555.9,914.9300000000001,676.2,251.51999999999998,142.4,401.31,223.0,177.15,409.98,166.8,183.6,326.5,330.35,343.49,732.63,152.55,110.95,793.65,252.81,530.4,278.07,141.41,234.24,118.75,174.6,197.72,344.90000000000003,391.1,211.5,318.7,155.69,138.68,87.8,691.53,172.9,320.62,267.18,113.5,222.9,237.0,289.0,203.4,300.52,922.1,198.8,409.1,158.95000000000002,298.11,153.83,188.73,265.63,15.0,200.29,110.65,-6.3,103.72,131.26,114.56,687.15,420.25,358.1,517.55,365.36,215.05,200.16,314.6,154.2,512.13,237.07,292.47,170.94,216.95000000000002,25.5,329.56,327.25,366.02,270.15,99.15,265.02,133.49,207.79999999999998,776.23,77.3,259.84,1251.48,285.58,396.87,163.3,495.0,291.84000000000003,307.92,162.65,147.0,358.90000000000003,227.32,333.0,775.85,556.9399999999999,251.21,95.75999999999999,154.95,361.54,231.89999999999998,187.2,335.32,40.5,409.57,361.81,307.5,256.78,211.77,170.95,474.05,194.92000000000002,410.53,161.89,633.6,324.70000000000005,343.03000000000003,51.0,194.05,311.57,173.52,218.34,193.0,251.56,329.44,588.0,223.9,148.8,88.2,137.6,174.8,135.09,369.01,239.95999999999998,433.9,1267.5,106.5,206.13,1693.5,166.79,324.15,583.68,439.79,259.39000000000004,285.25,358.27,921.27,416.64,417.38,1118.39,632.24,881.0300000000001,389.8,879.8000000000001,465.3,230.78,394.90000000000003,1286.55,997.58,415.33,758.35,463.79,530.11,1124.88,471.57,845.32,351.34999999999997,440.7,290.32,594.6800000000001,1016.13,376.52,1562.59,749.67,573.34,595.4300000000001,742.3000000000001,1315.4,67.75,1041.67,854.99,225.4,456.68,705.6400000000001,204.41,593.99,1115.06,710.67,344.27,379.45,809.01,411.2,550.83,149.57999999999998,286.9,213.3,445.13,119.55,271.63,305.54,2110.62,356.84000000000003,297.2,277.07,108.2,1700.4,283.71,371.83000000000004,237.65,113.30000000000001,346.6,432.1,81.6,315.0,459.0,56.4,662.3,481.2,215.43,381.5,458.47,536.0,238.79999999999998,480.26,383.34,1460.24,294.47,583.89,331.80000000000007,264.65,132.09,645.59,519.96,760.18,836.79,229.33,141.85,1015.83,378.3,307.53,152.16,125.65,61.10000000000001,118.25,113.12,473.38,106.81,31.770000000000003,216.12,58.49,198.2,414.62,111.6,226.85,102.0,120.9,244.79,364.8,140.14,257.23,151.5,317.6,183.04,307.59999999999997,216.75,201.53,85.0,417.95,47.7,490.4,444.75,312.58,169.5,505.2,37.4,136.8,713.8,244.5,282.3,127.84,280.56,273.14,903.01,535.34,183.4,432.48,543.21,483.65,375.45,375.0,304.25,12.75,294.3,223.46,158.87,174.45999999999998,463.95,336.96,354.29,594.0,346.5,625.5799999999999,295.07,297.94,374.57,282.88,260.55,112.41,299.56,203.4,123.1,123.45,39.95,319.42,454.12,206.21,305.63,75.9,72.9,127.74000000000001,175.2,376.85,299.48,548.09,179.30999999999997,54.519999999999996,189.67,305.95000000000005,91.8,228.84,244.5,158.54000000000002,268.3,168.46,192.5,276.9,102.12,78.25999999999999,252.52,119.35,379.51,300.25,768.83,487.51,449.64,239.0,266.4,137.72000000000003,310.05,463.75,129.45,196.8,117.6,174.02,109.95,194.7,451.29,235.08,115.7,603.27,104.9,276.48,281.01,110.97,176.60999999999999,212.12,108.42,259.29,239.49,112.55000000000001,100.6,610.69,511.32,225.61,514.9300000000001,185.65,158.4,469.28000000000003,284.44000000000005,841.4999999999999,289.90999999999997,377.2,284.35,36.2,165.71,331.58000000000004,166.85,118.45,263.41,309.51,416.86,383.65,316.2,356.75,387.7,94.2,421.74,199.38,135.19,401.82,-4.95,874.5500000000001,246.04,88.94999999999999,280.46999999999997,330.62,-7.95,293.16,357.65,183.64,313.8,293.96,112.75,259.79,123.2,193.62,350.75,-15.05,429.6,334.2,113.01,240.0,489.75,186.88,126.05000000000001,185.04999999999998,903.67,98.8,229.24,1738.24,505.57,349.25,387.29,122.83000000000001,56.86,434.26,208.03,228.42,297.16,205.8,162.23000000000002,896.6700000000001,390.6,1345.62,328.15999999999997,238.1,116.00999999999999,579.0,127.15,300.25,30.599999999999998,146.0,206.29000000000002,286.72,81.4,1612.83,721.55,445.81,167.55,328.15000000000003,232.48000000000002,358.0,899.58,314.84000000000003,314.45,143.69,121.63,295.82,302.85,140.55,175.27,303.49,226.84,459.18,118.85,338.95,406.48,-10.95,223.17000000000002,151.85,394.83000000000004,207.24,712.24,478.03000000000003,304.04999999999995,-1462.5,242.29,178.41,192.68,306.05,695.3299999999999,408.0,99.45,320.58,424.64,263.66,480.27,347.49,142.2,915.01,293.92,150.3,447.52,101.19,169.35999999999999,409.40000000000003,121.36,304.31,157.9,113.5,112.97999999999999,308.55,157.2,234.25,439.33,232.9,454.24,267.03,212.5,307.46,548.4300000000001,-8.5,141.49,1007.9,284.76,397.20000000000005,572.25,121.11,335.0,257.89,302.55,139.35,335.5,597.8199999999999,207.0,464.59000000000003,225.15,245.31,118.7,184.64,173.46,126.32,476.8,455.9,392.86,506.35,1272.77,704.33,716.24,912.03,274.18,423.19,349.63,602.63,542.03,609.4,455.28000000000003,638.43,1136.8600000000001,478.28000000000003,1227.28,1064.63,1496.7,542.71,873.54,783.03,529.3,787.65,524.99,906.7,1451.62,326.93,966.86,1338.96,640.8100000000001,1260.15,416.23,852.87,303.04,441.14,1456.42,2050.08,532.0,590.77,431.45,1266.23,386.9,484.1,3678.03,2298.75,2400.0],\"type\":\"scatter\"},{\"marker\":{\"color\":\"green\",\"line\":{\"width\":1},\"opacity\":0.5,\"size\":9},\"mode\":\"markers\",\"name\":\"Medio\",\"x\":[12,6,5,12,0,4,15,6,6,3,13,3,5,13,6,4,8,5,10,7,7,5,14,6,5,6,14,15,11,4,5,6,8,5,6,11,5,12,8,12,6,6,14,12,6,7,7,6,11,14,16,11,9,6,11,15,9,7,3,12,6,7,7,9,7,0,4,12,13,12,13,11,15,0,4,4,6,11,7,11,14,11,9,13,13,8,11,5,11,9,11,0,12,12,0,11,6,4,9,2,6,13,8,6,9,14,10,2,0,15,7,16,4,5,11,14,14,11,7,11,16,14,13,15,11,9,0,13,9,9,8,13,0,12,14,12,11,12,11,15,15,8,14,6,5,4,5,12,0,4,14,12,16,9,15,14,6,11,13,12,9,0,12,8,16,11,14,6,13,11,5,0,7,4,14,16,6,14,4,15,9,5,11,5,0,2,0,11,5,6,7,2,2,14,5,12,14,15,7,14,11,6,9,7,7,13,5,7,4,11,14,11,6,5,11,13,15,11,0,12,8,11,8,5,4,11,11,11,4,11,6,7,7,8,12,14,14,12,14,11,7,9,14,8,4,6,7,5,13,14,13,8,14,11,13,16,16,16,16,16,16,16,16,12,16,16,3,15,15,15,15,14,15,7,15,15,15,14,14,14,14,14,14,14,14,14,14,14,12,14,7,8,14,13,13,13,13,13,13,13,7,13,4,5,11,13,13,13,13,12,12,12,12,12,12,12,12,7,12,12,12,12,12,12,12,12,12,7,12,12,7,4,12,11,11,5,11,11,4,4,11,11,11,11,11,11,5,11,11,11,11,11,11,10,9,9,9,9,9,9,9,9,9,9,9,9,9,9,4,9,9,9,8,8,8,8,8,8,8,8,6,8,8,7,7,7,7,7,7,6,7,7,7,7,6,6,6,6,6,6,6,6,6,6,6,6,5,5,4,5,5,5,5,5,5,0,4,4,4,4,4,4,4,4,4,4,4,4,2,2,2,2,2,1,0,0,0,0,0,0,0,0,0,0,4,11,7,6,5,13,4,9,6,8,4,7,10,13,9,15,6,0,8,14,4,7,14,7,11,14,5,4,6,14,0,0,6,1,9,5,12,7,7,3,0,9,14,12,7,6,1,4,5,4,2,9,7,5,6,4,2,2,14,11,16,0,6,7,12,4,14,7,8,5,11,16,4,9,0,7,0,11,2,4,11,2,12,9,12,5,5,13,8,11,12,8,8,7,0,21,21,25,23,18,20,23,26,20,22,18,18,25,22,20,28,30,34,18,20,25,20,21,22,26,33,25,20,21,17,26,21,18,21,20,33,18,25,28,22,23,23,23,4,0,10,6,0,14,11,4,4,13,5,14,12,0,5,7,6,14,11,6,6,0,4,21,26,20,19,20,25,18,20,19,17,26,18,18,47],\"y\":[393.28000000000003,1439.02,808.96,638.12,947.55,484.62,1144.77,1082.09,1254.18,562.28,670.17,263.96,1104.41,481.44000000000005,1143.27,993.54,872.71,1829.69,860.39,1984.5900000000001,1553.71,887.04,606.22,551.92,1865.12,1056.27,1109.67,1029.05,838.15,601.03,707.69,1082.4,313.34999999999997,210.32000000000002,303.58,1134.74,190.78,356.11,1110.34,426.51000000000005,207.24,972.98,1818.4299999999998,1520.78,1114.39,1273.22,885.4,593.33,388.1,290.23,581.02,1406.28,993.04,290.26,992.91,418.34000000000003,108.65,1728.8400000000001,269.31,1320.4,785.74,373.81,920.94,1172.84,29.58,1306.19,890.6400000000001,966.86,1025.64,1023.17,710.73,2047.3,750.99,848.3100000000001,877.24,1320.46,1661.45,1038.32,536.0400000000001,1431.86,339.89,697.42,485.96999999999997,1430.63,718.52,1409.64,399.1,428.23,781.86,1330.0,582.0500000000001,1216.63,837.09,776.23,500.69,1210.28,1485.8,1144.64,260.4,224.18,422.09000000000003,205.51,1458.35,1127.45,548.9,342.51,1934.6,1503.5,732.45,1253.73,489.87,341.13,707.53,418.95,1800.89,281.5,620.3000000000001,466.53999999999996,651.21,856.6700000000001,902.0400000000001,728.9,1206.94,505.66,696.1800000000001,1420.73,323.22,643.65,355.34000000000003,417.85,352.58000000000004,823.13,970.49,1525.09,311.4,705.89,184.51,601.8,685.85,818.74,614.28,974.6800000000001,1257.46,335.35,390.87,1557.7600000000002,593.73,-458.29999999999995,392.6,1500.77,1324.48,875.84,608.77,1210.27,373.18,789.48,673.65,958.39,277.64,680.5799999999999,962.7,1107.39,1573.44,840.18,160.0,318.79,981.13,1159.27,211.69,558.9000000000001,919.42,715.91,590.49,487.59,239.71,724.67,380.66,373.29,455.88,918.82,687.83,1061.41,873.24,267.16,1442.42,254.4,510.47,790.1,1142.5,320.92,271.98,1088.42,1032.9,525.51,1154.3999999999999,466.98,1664.52,1303.9099999999999,819.66,541.33,370.76,1037.72,1020.53,602.97,749.79,665.72,639.92,677.83,526.2,850.13,471.15000000000003,255.12,411.47,291.0,770.0,338.74,237.62,462.1,219.43,600.28,163.20000000000002,659.13,847.73,622.26,428.05,439.15,226.10999999999999,272.3,404.35,429.57,557.3,449.04,402.6,685.4499999999999,3.552713678800501e-15,251.55,248.42,678.54,432.14,136.65,629.9200000000001,255.61,333.11,746.8000000000001,694.08,242.24,782.1,62.0,251.01999999999998,289.36,592.88,1117.2,633.71,288.0,248.75,127.45,112.8,120.27,125.8,212.4,305.45000000000005,194.79,1028.56,119.45,277.81,63.440000000000005,284.1,77.75,72.4,208.2,448.34,299.23,132.0,710.42,463.38,369.2,195.0,207.66,177.0,655.24,99.84,357.98,125.28,139.79999999999998,563.61,551.03,562.88,133.68,454.93,155.93,396.92,371.84,1069.47,439.8,486.99,399.21000000000004,2.9,157.9,114.7,135.98,694.64,1384.25,505.45,685.9300000000001,699.64,198.87,799.38,115.92,464.32,213.05,236.0,749.4300000000001,178.35,479.65,305.36,127.75,294.73,390.91,211.55,414.77,171.45,139.15,155.9,181.1,87.7,448.83,136.78,189.60000000000002,848.78,267.55,295.16,314.42,1223.24,397.40000000000003,323.95,882.6,349.55,125.43,525.92,110.74,211.73000000000002,373.72,968.5,59.8,1692.0,131.7,430.35,-7.5,814.95,94.39999999999999,585.12,770.5,172.29000000000002,578.5500000000001,765.28,227.57999999999998,86.5,1590.05,316.95,145.9,257.7,212.93,475.19,152.34,306.13,492.26,20.8,903.01,792.21,236.04000000000002,178.39,147.86,143.1,860.12,399.15,465.43,182.26,326.4,138.2,318.55,262.96,-8.95,578.6500000000001,306.53000000000003,339.59999999999997,249.55,595.29,339.7,911.26,415.28000000000003,37.45,122.38,327.97,159.56,113.73,135.93,-17.0,157.25,525.36,339.59,145.04000000000002,83.28,611.85,179.0,172.24,480.96,278.63,182.99,474.8,144.8,137.77,304.3,271.85,103.21000000000001,426.43,370.98,241.08,388.18,354.45,134.04,125.38,559.87,191.4,579.97,440.99,207.50000000000003,120.7,314.1,360.0,210.65,208.59,308.03999999999996,240.89000000000001,207.15,185.22000000000003,9.2,129.32,139.35,457.34,228.8,84.72,113.0,155.0,309.54,1448.21,1480.95,1252.26,1295.06,1264.15,1379.15,1779.43,1253.11,1091.29,745.0,1579.92,1569.82,1167.05,1988.83,1569.8,1932.32,1785.18,1755.13,1945.58,1503.19,1973.12,1177.14,1108.91,946.5,1069.5,838.61,824.5,1654.42,1855.86,1939.68,1973.33,701.48,634.41,969.3,945.67,1986.97,1721.95,1311.42,1383.5,683.68,1780.77,1963.59,1957.85,1770.2,2061.8,1771.49,1626.29,1132.35,1681.6,1405.34,1606.95,1405.55,1582.81,775.31,956.4300000000001,1654.63,1207.66,1020.92,567.35,1483.81,599.07,1977.75,1795.6200000000001,1665.61,1161.06,1349.43,825.33,1150.33,1673.8,1987.6200000000001,1513.03,1051.88,1763.04,857.51,1515.34,1464.8500000000001,1811.49,1595.2,1055.62,674.9,1888.74,507.72,445.73,635.15,982.25,784.24,1556.17,719.93,200.82,1093.65,191.10999999999999,1989.73,1444.14,1802.29,540.98,775.66,1043.43,1447.26,814.47,2051.32,1025.64,930.96,1791.03,1198.22,1581.8,1359.67,1613.46,551.84,1302.05,745.46,1334.76,926.63,468.29,1170.59,477.13,840.35,367.46999999999997,942.4399999999999,619.68,463.37,602.74,1551.8500000000001,1542.78,677.0799999999999,882.45,571.45,1354.46,919.53,244.17,392.18,1205.07,810.43,1644.92,1890.94,1565.47,285.94,325.08,363.97,3823.8,6400.8,2267.1400000000003,4184.43,5022.17,2574.07,6638.67,2890.34,3268.25,2734.74,7566.2,6583.8,3462.24,2159.16,2315.3599999999997,3321.6400000000003,6226.81,3490.33,2655.54,4045.77,2982.17,3134.13,3096.0,2544.12,4867.9,3007.2200000000003,7969.99,4131.15,3842.21,2322.17,2737.41,2348.51,2310.4,3122.9900000000002,2745.43,3246.091,2274.43],\"type\":\"scatter\"},{\"marker\":{\"color\":\"red\",\"line\":{\"width\":1},\"opacity\":0.9,\"size\":11},\"mode\":\"markers\",\"name\":\"Alto\",\"x\":[14,5,4,4,5,5,7,4,4,12,0,3,16,11,5,11,6,7,6,6,4,4,4,4,11,14,4,7,2,6,6,0,4,9,0,14,0,0,5,4,0,4,14,13,4,5,27],\"y\":[2027.38,1789.71,2962.65,3729.42,2506.75,3252.04,3019.2200000000003,3026.56,3403.01,3812.71,5434.8,2740.1,4117.36,5433.89,2215.01,6808.8,2389.45,3655.2000000000003,6224.17,7213.03,2825.4700000000003,2272.76,2131.72,2832.92,2455.9900000000002,2226.5,5837.74,2824.05,2808.2799999999997,3136.87,6723.64,4276.6,2670.17,4763.26,5944.59,26113.81,35085.479999999996,10578.720000000001,17700.64,10348.13,15570.47,11105.2,17307.53,15263.96,16213.43,11694.12,14984.73],\"type\":\"scatter\"}],                        {\"template\":{\"data\":{\"barpolar\":[{\"marker\":{\"line\":{\"color\":\"#E5ECF6\",\"width\":0.5},\"pattern\":{\"fillmode\":\"overlay\",\"size\":10,\"solidity\":0.2}},\"type\":\"barpolar\"}],\"bar\":[{\"error_x\":{\"color\":\"#2a3f5f\"},\"error_y\":{\"color\":\"#2a3f5f\"},\"marker\":{\"line\":{\"color\":\"#E5ECF6\",\"width\":0.5},\"pattern\":{\"fillmode\":\"overlay\",\"size\":10,\"solidity\":0.2}},\"type\":\"bar\"}],\"carpet\":[{\"aaxis\":{\"endlinecolor\":\"#2a3f5f\",\"gridcolor\":\"white\",\"linecolor\":\"white\",\"minorgridcolor\":\"white\",\"startlinecolor\":\"#2a3f5f\"},\"baxis\":{\"endlinecolor\":\"#2a3f5f\",\"gridcolor\":\"white\",\"linecolor\":\"white\",\"minorgridcolor\":\"white\",\"startlinecolor\":\"#2a3f5f\"},\"type\":\"carpet\"}],\"choropleth\":[{\"colorbar\":{\"outlinewidth\":0,\"ticks\":\"\"},\"type\":\"choropleth\"}],\"contourcarpet\":[{\"colorbar\":{\"outlinewidth\":0,\"ticks\":\"\"},\"type\":\"contourcarpet\"}],\"contour\":[{\"colorbar\":{\"outlinewidth\":0,\"ticks\":\"\"},\"colorscale\":[[0.0,\"#0d0887\"],[0.1111111111111111,\"#46039f\"],[0.2222222222222222,\"#7201a8\"],[0.3333333333333333,\"#9c179e\"],[0.4444444444444444,\"#bd3786\"],[0.5555555555555556,\"#d8576b\"],[0.6666666666666666,\"#ed7953\"],[0.7777777777777778,\"#fb9f3a\"],[0.8888888888888888,\"#fdca26\"],[1.0,\"#f0f921\"]],\"type\":\"contour\"}],\"heatmapgl\":[{\"colorbar\":{\"outlinewidth\":0,\"ticks\":\"\"},\"colorscale\":[[0.0,\"#0d0887\"],[0.1111111111111111,\"#46039f\"],[0.2222222222222222,\"#7201a8\"],[0.3333333333333333,\"#9c179e\"],[0.4444444444444444,\"#bd3786\"],[0.5555555555555556,\"#d8576b\"],[0.6666666666666666,\"#ed7953\"],[0.7777777777777778,\"#fb9f3a\"],[0.8888888888888888,\"#fdca26\"],[1.0,\"#f0f921\"]],\"type\":\"heatmapgl\"}],\"heatmap\":[{\"colorbar\":{\"outlinewidth\":0,\"ticks\":\"\"},\"colorscale\":[[0.0,\"#0d0887\"],[0.1111111111111111,\"#46039f\"],[0.2222222222222222,\"#7201a8\"],[0.3333333333333333,\"#9c179e\"],[0.4444444444444444,\"#bd3786\"],[0.5555555555555556,\"#d8576b\"],[0.6666666666666666,\"#ed7953\"],[0.7777777777777778,\"#fb9f3a\"],[0.8888888888888888,\"#fdca26\"],[1.0,\"#f0f921\"]],\"type\":\"heatmap\"}],\"histogram2dcontour\":[{\"colorbar\":{\"outlinewidth\":0,\"ticks\":\"\"},\"colorscale\":[[0.0,\"#0d0887\"],[0.1111111111111111,\"#46039f\"],[0.2222222222222222,\"#7201a8\"],[0.3333333333333333,\"#9c179e\"],[0.4444444444444444,\"#bd3786\"],[0.5555555555555556,\"#d8576b\"],[0.6666666666666666,\"#ed7953\"],[0.7777777777777778,\"#fb9f3a\"],[0.8888888888888888,\"#fdca26\"],[1.0,\"#f0f921\"]],\"type\":\"histogram2dcontour\"}],\"histogram2d\":[{\"colorbar\":{\"outlinewidth\":0,\"ticks\":\"\"},\"colorscale\":[[0.0,\"#0d0887\"],[0.1111111111111111,\"#46039f\"],[0.2222222222222222,\"#7201a8\"],[0.3333333333333333,\"#9c179e\"],[0.4444444444444444,\"#bd3786\"],[0.5555555555555556,\"#d8576b\"],[0.6666666666666666,\"#ed7953\"],[0.7777777777777778,\"#fb9f3a\"],[0.8888888888888888,\"#fdca26\"],[1.0,\"#f0f921\"]],\"type\":\"histogram2d\"}],\"histogram\":[{\"marker\":{\"pattern\":{\"fillmode\":\"overlay\",\"size\":10,\"solidity\":0.2}},\"type\":\"histogram\"}],\"mesh3d\":[{\"colorbar\":{\"outlinewidth\":0,\"ticks\":\"\"},\"type\":\"mesh3d\"}],\"parcoords\":[{\"line\":{\"colorbar\":{\"outlinewidth\":0,\"ticks\":\"\"}},\"type\":\"parcoords\"}],\"pie\":[{\"automargin\":true,\"type\":\"pie\"}],\"scatter3d\":[{\"line\":{\"colorbar\":{\"outlinewidth\":0,\"ticks\":\"\"}},\"marker\":{\"colorbar\":{\"outlinewidth\":0,\"ticks\":\"\"}},\"type\":\"scatter3d\"}],\"scattercarpet\":[{\"marker\":{\"colorbar\":{\"outlinewidth\":0,\"ticks\":\"\"}},\"type\":\"scattercarpet\"}],\"scattergeo\":[{\"marker\":{\"colorbar\":{\"outlinewidth\":0,\"ticks\":\"\"}},\"type\":\"scattergeo\"}],\"scattergl\":[{\"marker\":{\"colorbar\":{\"outlinewidth\":0,\"ticks\":\"\"}},\"type\":\"scattergl\"}],\"scattermapbox\":[{\"marker\":{\"colorbar\":{\"outlinewidth\":0,\"ticks\":\"\"}},\"type\":\"scattermapbox\"}],\"scatterpolargl\":[{\"marker\":{\"colorbar\":{\"outlinewidth\":0,\"ticks\":\"\"}},\"type\":\"scatterpolargl\"}],\"scatterpolar\":[{\"marker\":{\"colorbar\":{\"outlinewidth\":0,\"ticks\":\"\"}},\"type\":\"scatterpolar\"}],\"scatter\":[{\"marker\":{\"colorbar\":{\"outlinewidth\":0,\"ticks\":\"\"}},\"type\":\"scatter\"}],\"scatterternary\":[{\"marker\":{\"colorbar\":{\"outlinewidth\":0,\"ticks\":\"\"}},\"type\":\"scatterternary\"}],\"surface\":[{\"colorbar\":{\"outlinewidth\":0,\"ticks\":\"\"},\"colorscale\":[[0.0,\"#0d0887\"],[0.1111111111111111,\"#46039f\"],[0.2222222222222222,\"#7201a8\"],[0.3333333333333333,\"#9c179e\"],[0.4444444444444444,\"#bd3786\"],[0.5555555555555556,\"#d8576b\"],[0.6666666666666666,\"#ed7953\"],[0.7777777777777778,\"#fb9f3a\"],[0.8888888888888888,\"#fdca26\"],[1.0,\"#f0f921\"]],\"type\":\"surface\"}],\"table\":[{\"cells\":{\"fill\":{\"color\":\"#EBF0F8\"},\"line\":{\"color\":\"white\"}},\"header\":{\"fill\":{\"color\":\"#C8D4E3\"},\"line\":{\"color\":\"white\"}},\"type\":\"table\"}]},\"layout\":{\"annotationdefaults\":{\"arrowcolor\":\"#2a3f5f\",\"arrowhead\":0,\"arrowwidth\":1},\"autotypenumbers\":\"strict\",\"coloraxis\":{\"colorbar\":{\"outlinewidth\":0,\"ticks\":\"\"}},\"colorscale\":{\"diverging\":[[0,\"#8e0152\"],[0.1,\"#c51b7d\"],[0.2,\"#de77ae\"],[0.3,\"#f1b6da\"],[0.4,\"#fde0ef\"],[0.5,\"#f7f7f7\"],[0.6,\"#e6f5d0\"],[0.7,\"#b8e186\"],[0.8,\"#7fbc41\"],[0.9,\"#4d9221\"],[1,\"#276419\"]],\"sequential\":[[0.0,\"#0d0887\"],[0.1111111111111111,\"#46039f\"],[0.2222222222222222,\"#7201a8\"],[0.3333333333333333,\"#9c179e\"],[0.4444444444444444,\"#bd3786\"],[0.5555555555555556,\"#d8576b\"],[0.6666666666666666,\"#ed7953\"],[0.7777777777777778,\"#fb9f3a\"],[0.8888888888888888,\"#fdca26\"],[1.0,\"#f0f921\"]],\"sequentialminus\":[[0.0,\"#0d0887\"],[0.1111111111111111,\"#46039f\"],[0.2222222222222222,\"#7201a8\"],[0.3333333333333333,\"#9c179e\"],[0.4444444444444444,\"#bd3786\"],[0.5555555555555556,\"#d8576b\"],[0.6666666666666666,\"#ed7953\"],[0.7777777777777778,\"#fb9f3a\"],[0.8888888888888888,\"#fdca26\"],[1.0,\"#f0f921\"]]},\"colorway\":[\"#636efa\",\"#EF553B\",\"#00cc96\",\"#ab63fa\",\"#FFA15A\",\"#19d3f3\",\"#FF6692\",\"#B6E880\",\"#FF97FF\",\"#FECB52\"],\"font\":{\"color\":\"#2a3f5f\"},\"geo\":{\"bgcolor\":\"white\",\"lakecolor\":\"white\",\"landcolor\":\"#E5ECF6\",\"showlakes\":true,\"showland\":true,\"subunitcolor\":\"white\"},\"hoverlabel\":{\"align\":\"left\"},\"hovermode\":\"closest\",\"mapbox\":{\"style\":\"light\"},\"paper_bgcolor\":\"white\",\"plot_bgcolor\":\"#E5ECF6\",\"polar\":{\"angularaxis\":{\"gridcolor\":\"white\",\"linecolor\":\"white\",\"ticks\":\"\"},\"bgcolor\":\"#E5ECF6\",\"radialaxis\":{\"gridcolor\":\"white\",\"linecolor\":\"white\",\"ticks\":\"\"}},\"scene\":{\"xaxis\":{\"backgroundcolor\":\"#E5ECF6\",\"gridcolor\":\"white\",\"gridwidth\":2,\"linecolor\":\"white\",\"showbackground\":true,\"ticks\":\"\",\"zerolinecolor\":\"white\"},\"yaxis\":{\"backgroundcolor\":\"#E5ECF6\",\"gridcolor\":\"white\",\"gridwidth\":2,\"linecolor\":\"white\",\"showbackground\":true,\"ticks\":\"\",\"zerolinecolor\":\"white\"},\"zaxis\":{\"backgroundcolor\":\"#E5ECF6\",\"gridcolor\":\"white\",\"gridwidth\":2,\"linecolor\":\"white\",\"showbackground\":true,\"ticks\":\"\",\"zerolinecolor\":\"white\"}},\"shapedefaults\":{\"line\":{\"color\":\"#2a3f5f\"}},\"ternary\":{\"aaxis\":{\"gridcolor\":\"white\",\"linecolor\":\"white\",\"ticks\":\"\"},\"baxis\":{\"gridcolor\":\"white\",\"linecolor\":\"white\",\"ticks\":\"\"},\"bgcolor\":\"#E5ECF6\",\"caxis\":{\"gridcolor\":\"white\",\"linecolor\":\"white\",\"ticks\":\"\"}},\"title\":{\"x\":0.05},\"xaxis\":{\"automargin\":true,\"gridcolor\":\"white\",\"linecolor\":\"white\",\"ticks\":\"\",\"title\":{\"standoff\":15},\"zerolinecolor\":\"white\",\"zerolinewidth\":2},\"yaxis\":{\"automargin\":true,\"gridcolor\":\"white\",\"linecolor\":\"white\",\"ticks\":\"\",\"title\":{\"standoff\":15},\"zerolinecolor\":\"white\",\"zerolinewidth\":2}}},\"title\":{\"text\":\"Segmentos\"},\"xaxis\":{\"title\":{\"text\":\"Recencia\"}},\"yaxis\":{\"title\":{\"text\":\"Ingreso\"}}},                        {\"responsive\": true}                    ).then(function(){\n",
              "                            \n",
              "var gd = document.getElementById('a83a87d0-aebe-439a-b5b6-5b7c85650646');\n",
              "var x = new MutationObserver(function (mutations, observer) {{\n",
              "        var display = window.getComputedStyle(gd).display;\n",
              "        if (!display || display === 'none') {{\n",
              "            console.log([gd, 'removed!']);\n",
              "            Plotly.purge(gd);\n",
              "            observer.disconnect();\n",
              "        }}\n",
              "}});\n",
              "\n",
              "// Listen for the removal of the full notebook cells\n",
              "var notebookContainer = gd.closest('#notebook-container');\n",
              "if (notebookContainer) {{\n",
              "    x.observe(notebookContainer, {childList: true});\n",
              "}}\n",
              "\n",
              "// Listen for the clearing of the current output cell\n",
              "var outputEl = gd.closest('.output');\n",
              "if (outputEl) {{\n",
              "    x.observe(outputEl, {childList: true});\n",
              "}}\n",
              "\n",
              "                        })                };                            </script>        </div>\n",
              "</body>\n",
              "</html>"
            ]
          },
          "metadata": {}
        }
      ],
      "source": [
        "# Se grafica la relación entre Recencia e Ingreso, para cada uno de los tres segmentos:\n",
        "\n",
        "tx_graph = data_cliente.query(\"Ingreso < 50000 and Recencia < 1000\")\n",
        "\n",
        "plot_data = [\n",
        "    go.Scatter(\n",
        "        x=tx_graph.query(\"Segmento == 'Valor-Bajo'\")[\"Recencia\"],\n",
        "        y=tx_graph.query(\"Segmento == 'Valor-Bajo'\")[\"Ingreso\"],\n",
        "        mode=\"markers\",\n",
        "        name=\"Bajo\",\n",
        "        marker= dict(size= 7,\n",
        "            line= dict(width=1),\n",
        "            color= \"blue\",\n",
        "            opacity= 0.8)),\n",
        "        go.Scatter(\n",
        "        x=tx_graph.query(\"Segmento == 'Valor-Medio'\")[\"Recencia\"],\n",
        "        y=tx_graph.query(\"Segmento == 'Valor-Medio'\")[\"Ingreso\"],\n",
        "        mode=\"markers\",\n",
        "        name=\"Medio\",\n",
        "        marker= dict(size= 9,\n",
        "            line= dict(width=1),\n",
        "            color= 'green',\n",
        "            opacity= 0.5 )),\n",
        "        go.Scatter(\n",
        "        x=tx_graph.query(\"Segmento == 'Valor-Alto'\")[\"Recencia\"],\n",
        "        y=tx_graph.query(\"Segmento == 'Valor-Alto'\")[\"Ingreso\"],\n",
        "        mode='markers',\n",
        "        name=\"Alto\",\n",
        "        marker= dict(size= 11,\n",
        "            line= dict(width=1),\n",
        "            color= 'red',\n",
        "            opacity= 0.9 )),]\n",
        "\n",
        "plot_layout = go.Layout(\n",
        "        yaxis= {\"title\": \"Ingreso\"},\n",
        "        xaxis= {\"title\": \"Recencia\"},\n",
        "        title=\"Segmentos\" )\n",
        "fig = go.Figure(data=plot_data, layout=plot_layout)\n",
        "pyoff.iplot(fig)\n"
      ]
    },
    {
      "cell_type": "markdown",
      "metadata": {
        "id": "c7XXUzwDs4vE"
      },
      "source": [
        "Se corrobora mediante el gráfico que los clientes con valor alto tienen baja recencia y alto ingreso."
      ]
    },
    {
      "cell_type": "code",
      "execution_count": 391,
      "metadata": {
        "colab": {
          "base_uri": "https://localhost:8080/",
          "height": 542
        },
        "id": "HVEZYa-Is54L",
        "outputId": "b4ff1d86-f897-4b46-bca1-cdc612ce42bc"
      },
      "outputs": [
        {
          "output_type": "display_data",
          "data": {
            "text/html": [
              "<html>\n",
              "<head><meta charset=\"utf-8\" /></head>\n",
              "<body>\n",
              "    <div>            <script src=\"https://cdnjs.cloudflare.com/ajax/libs/mathjax/2.7.5/MathJax.js?config=TeX-AMS-MML_SVG\"></script><script type=\"text/javascript\">if (window.MathJax) {MathJax.Hub.Config({SVG: {font: \"STIX-Web\"}});}</script>                <script type=\"text/javascript\">window.PlotlyConfig = {MathJaxConfig: 'local'};</script>\n",
              "        <script src=\"https://cdn.plot.ly/plotly-2.8.3.min.js\"></script>                <div id=\"42aa4e1a-8790-4212-9399-80fb954e592c\" class=\"plotly-graph-div\" style=\"height:525px; width:100%;\"></div>            <script type=\"text/javascript\">                                    window.PLOTLYENV=window.PLOTLYENV || {};                                    if (document.getElementById(\"42aa4e1a-8790-4212-9399-80fb954e592c\")) {                    Plotly.newPlot(                        \"42aa4e1a-8790-4212-9399-80fb954e592c\",                        [{\"marker\":{\"color\":\"blue\",\"line\":{\"width\":1},\"opacity\":0.8,\"size\":7},\"mode\":\"markers\",\"name\":\"Bajo\",\"x\":[25,21,28,23,19,18,28,19,26,26,27,22,26,20,20,33,22,30,20,25,23,22,35,19,30,19,22,23,34,27,18,23,28,33,18,33,25,22,35,19,19,22,33,25,34,23,25,20,23,25,25,19,18,20,20,25,19,21,33,17,21,22,28,35,22,28,33,22,21,23,25,25,26,21,23,25,27,34,25,19,26,25,34,26,26,25,20,20,22,28,25,25,18,21,19,26,32,18,18,27,21,22,25,18,26,27,18,33,18,34,32,18,35,23,22,18,33,18,20,25,34,24,20,27,25,25,19,23,25,25,23,34,34,32,21,25,19,21,26,34,27,18,23,22,33,23,28,26,21,27,22,26,28,25,21,28,25,34,25,33,33,32,35,35,35,35,35,27,35,32,35,35,35,34,28,27,21,34,34,34,34,34,34,34,34,26,32,33,33,33,33,33,33,33,33,33,33,26,33,33,32,32,32,18,25,30,30,30,30,30,30,28,28,20,28,25,20,28,28,19,28,28,28,28,27,27,27,27,18,19,20,27,27,27,27,27,27,27,20,27,27,27,27,26,26,26,26,26,26,26,26,26,26,26,20,26,26,26,26,26,26,26,25,25,25,25,25,25,25,25,25,25,25,25,25,25,25,25,25,25,25,25,18,25,25,25,24,23,23,23,23,23,18,23,23,23,23,23,23,23,23,23,23,23,23,23,23,23,22,22,22,22,22,22,22,22,22,22,21,21,21,21,21,21,21,21,18,21,21,21,21,21,20,21,21,21,21,20,20,20,20,20,20,20,20,18,20,20,20,20,19,20,20,20,20,20,19,19,19,19,19,19,19,19,19,19,19,19,19,19,19,19,19,19,19,19,18,18,18,18,18,18,18,18,18,18,17,91,91,91,91,91,91,89,89,91,91,85,91,64,90,90,90,90,90,90,90,85,90,90,68,90,90,90,90,90,90,90,89,71,74,89,89,89,89,89,89,89,89,89,89,89,89,89,89,89,70,82,88,88,64,88,88,88,88,88,88,88,88,88,88,88,88,88,88,88,86,86,86,86,86,85,85,85,85,85,85,85,81,85,85,85,85,85,85,85,85,85,84,84,84,84,84,84,84,84,84,84,84,84,83,83,83,83,83,83,83,83,83,83,78,83,83,83,81,83,82,82,82,82,82,82,82,78,82,82,78,70,82,82,81,81,81,81,81,81,81,81,81,81,81,81,80,80,79,79,76,79,78,78,75,67,78,74,77,77,77,77,77,77,77,75,77,77,77,77,77,76,76,70,76,76,76,76,76,76,76,76,76,76,76,68,75,70,75,75,75,75,75,75,75,75,74,74,74,74,74,74,74,74,74,74,74,74,74,65,74,74,70,74,74,74,74,74,74,74,73,73,71,72,72,72,72,72,65,72,72,72,72,72,72,68,71,71,71,71,71,71,71,71,71,71,71,71,70,70,70,70,70,70,70,67,70,70,70,70,70,70,70,70,69,69,69,69,69,69,69,69,69,69,69,69,69,69,69,69,69,69,69,69,69,68,68,68,68,68,68,68,68,68,68,68,68,68,68,68,68,67,67,67,67,67,67,67,67,67,66,65,65,65,65,65,65,65,64,64,64,64,64,64,64,64,64,64,64,64,64,64,64,64,64,64,56,50,60,41,43,39,53,41,47,52,41,41,48,55,44,61,48,53,55,57,42,41,63,60,53,61,42,53,62,50,62,50,49,42,60,53,39,61,46,48,54,44,49,41,46,61,47,43,40,50,56,48,61,44,40,60,62,54,63,60,63,62,63,63,63,63,63,63,63,40,62,62,46,62,62,62,62,62,62,62,62,62,40,62,60,62,61,62,54,62,56,62,46,62,62,62,61,61,61,54,61,61,61,61,61,61,42,61,61,61,60,60,43,60,60,60,60,60,60,56,60,60,40,60,60,60,60,60,60,60,60,60,60,41,60,60,60,58,58,53,58,58,57,57,57,57,57,48,57,57,57,57,57,55,57,56,56,56,56,56,56,56,42,46,56,56,55,55,55,52,55,55,46,55,55,55,55,55,55,54,50,54,40,54,54,54,54,54,54,54,54,54,54,54,54,54,53,54,53,53,53,46,49,53,53,53,53,53,42,53,48,53,53,53,53,53,53,51,50,53,53,53,51,51,51,51,51,51,51,51,51,51,41,40,50,50,50,50,48,50,50,42,47,50,50,50,50,42,49,49,49,47,49,49,49,49,49,49,49,49,49,49,49,49,47,43,49,48,48,48,48,48,48,48,40,48,48,48,48,47,48,48,48,41,48,47,48,48,42,39,46,47,47,47,39,47,43,43,47,47,47,47,46,46,46,46,46,46,46,40,46,46,46,41,40,46,46,46,46,46,46,44,44,44,44,44,44,44,41,44,44,44,44,44,44,44,43,43,43,43,43,43,43,43,43,43,43,43,43,43,43,43,43,43,42,42,39,42,42,42,42,42,42,42,42,42,42,42,39,41,41,41,41,41,41,41,41,41,41,41,41,40,40,40,40,40,40,40,40,40,40,40,40,40,40,40,39,39,39,39,39,39,39,39,39,88,86,84,83,74,70,70,64,68,68,65,65,64,42,55,44,40,55,58,50,56,57,40,48,42,57,57,44,43,41,60,60,41,56,54,54,51,50,49,48,47,46,42,41,84,41,41],\"y\":[38,63,47,26,14,4,24,17,9,8,45,38,28,40,30,35,48,22,60,25,17,61,11,15,63,45,45,37,27,65,56,57,6,65,2,65,44,27,51,33,54,38,26,34,43,14,14,57,37,25,23,53,45,17,23,47,34,8,15,48,41,40,62,27,53,11,22,33,48,32,33,40,11,60,15,56,14,8,2,12,20,34,47,42,36,41,19,13,34,41,13,29,43,61,18,33,41,31,26,65,7,40,51,40,17,42,30,64,47,5,9,34,54,55,48,20,32,45,40,31,41,23,59,38,46,55,14,12,32,3,44,33,39,27,7,12,44,14,29,56,34,8,41,23,14,43,33,22,27,16,24,54,16,38,58,35,10,16,25,31,19,2,11,24,23,4,56,67,6,26,17,38,9,12,8,4,19,4,20,26,60,10,30,62,67,26,5,18,19,16,10,14,10,5,10,16,14,7,15,28,20,7,61,12,32,17,21,1,58,38,14,8,15,40,18,19,21,1,36,15,4,13,22,19,4,50,8,28,35,17,51,20,23,19,6,9,6,4,18,11,35,13,62,3,16,1,7,15,6,17,13,3,16,1,38,16,9,2,17,19,3,1,22,8,25,5,5,24,12,21,1,15,3,16,4,17,39,5,4,25,29,36,9,16,17,11,6,13,14,13,7,23,10,57,41,8,14,47,14,25,19,40,42,38,22,15,21,13,9,6,4,13,11,46,35,12,17,8,16,6,6,5,1,19,22,18,39,7,16,55,3,5,17,5,31,37,16,13,20,17,12,57,16,9,20,31,54,35,9,18,2,23,9,6,48,19,9,59,19,22,37,28,5,5,15,40,10,23,8,9,1,42,15,3,25,9,17,59,40,42,29,12,1,28,51,28,13,1,1,6,9,38,16,32,8,4,29,11,33,59,42,47,10,10,18,4,46,26,35,20,62,1,23,12,24,8,4,1,15,6,10,1,41,66,3,2,1,29,9,15,20,8,14,2,1,14,11,31,8,18,5,14,8,20,15,29,8,16,6,6,37,3,17,3,37,13,1,5,42,8,20,14,8,8,10,68,2,63,40,11,16,22,1,1,1,3,17,10,15,13,2,14,59,16,6,9,3,50,53,7,11,33,1,8,9,12,20,7,31,24,58,21,5,24,8,3,5,11,5,15,13,2,23,21,30,7,21,6,10,5,19,7,25,20,4,4,1,3,10,34,16,5,3,5,23,21,19,49,22,5,6,2,57,37,19,2,15,22,23,25,2,2,43,21,1,33,1,1,53,28,29,21,16,22,3,29,1,34,16,5,53,8,3,41,12,1,4,5,42,2,2,1,37,5,2,5,21,16,7,22,1,8,14,58,52,14,7,52,48,66,27,43,21,5,6,12,14,20,24,5,19,16,10,3,48,8,12,34,5,14,41,19,12,21,31,11,24,10,16,14,11,17,1,11,9,2,42,5,8,68,28,6,21,18,9,45,4,26,34,58,37,5,12,1,22,13,68,42,5,43,9,7,64,3,18,49,16,24,10,3,2,18,23,6,16,16,12,42,20,15,5,8,38,29,11,23,3,18,14,8,19,57,18,21,17,20,15,7,7,12,1,11,62,37,23,17,34,20,28,6,8,5,9,14,28,22,39,23,2,3,14,25,26,7,59,41,19,22,24,50,16,34,11,36,22,30,49,18,26,25,27,52,65,29,25,35,41,14,38,14,16,54,20,52,59,44,35,15,19,48,25,7,9,47,38,51,16,16,3,49,47,24,25,32,22,47,20,5,8,31,36,18,22,29,13,50,17,20,53,54,22,13,8,9,26,1,14,1,3,30,18,66,47,49,20,1,19,17,12,62,17,3,19,8,33,3,20,54,26,8,55,19,15,10,7,4,13,19,33,3,3,34,12,8,22,9,4,2,3,12,18,13,19,9,38,36,15,12,45,1,24,1,24,7,20,2,6,2,2,6,27,55,17,12,16,67,37,8,1,44,32,19,40,17,1,19,40,21,13,8,13,16,2,13,38,30,15,12,2,5,30,22,13,12,4,1,10,18,13,39,3,12,12,1,12,21,53,7,3,55,10,6,10,14,14,66,21,5,21,8,17,54,19,22,18,41,27,24,12,14,6,10,31,5,11,7,10,39,17,65,18,5,24,7,2,61,12,34,47,12,60,27,14,19,59,37,13,35,8,1,31,12,1,18,34,17,5,10,12,9,15,35,43,12,21,8,20,21,2,57,16,30,45,1,40,15,7,16,19,1,43,13,42,8,14,21,16,8,12,23,1,23,21,42,16,29,6,11,10,54,8,13,26,27,31,16,5,5,22,23,36,54,14,23,23,5,52,20,15,9,15,10,8,1,7,13,23,4,29,40,36,33,21,15,1,27,17,19,29,36,21,18,20,29,20,62,26,12,19,21,1,27,5,36,42,42,66,3,10,32,31,32,18,36,2,15,13,23,16,27,20,8,62,23,7,26,8,9,23,27,30,7,9,9,9,3,14,24,2,23,27,3,18,22,1,13,15,14,10,35,24,19,18,21,6,19,35,6,53,13,39,10,11,11,14,32,36,123,72,162,71,113,154,78,112,79,71,93,89,116,96,76,84,103,109,152,96,91,143,98,78,120,140,79,94,87,93,126,82,140,94,83,116,76,141,70,71,77,74,105,125,51,28,9],\"type\":\"scatter\"},{\"marker\":{\"color\":\"green\",\"line\":{\"width\":1},\"opacity\":0.5,\"size\":9},\"mode\":\"markers\",\"name\":\"Medio\",\"x\":[12,6,5,12,0,4,15,6,6,3,13,3,5,13,6,4,8,5,10,7,7,5,14,6,5,6,14,15,11,4,5,6,8,5,6,11,5,12,8,12,6,6,14,12,6,7,7,6,11,14,16,11,9,6,11,15,9,7,3,12,6,7,7,9,7,0,4,12,13,12,13,11,15,0,4,4,6,11,7,11,14,11,9,13,13,8,11,5,11,9,11,0,12,12,0,11,6,4,9,2,6,13,8,6,9,14,10,2,0,15,7,16,4,5,11,14,14,11,7,11,16,14,13,15,11,9,0,13,9,9,8,13,0,12,14,12,11,12,11,15,15,8,14,6,5,4,5,12,0,4,14,12,16,9,15,14,6,11,13,12,9,0,12,8,16,11,14,6,13,11,5,0,7,4,14,16,6,14,4,15,9,5,11,5,0,2,0,11,5,6,7,2,2,14,5,12,14,15,7,14,11,6,9,7,7,13,5,7,4,11,14,11,6,5,11,13,15,11,0,12,8,11,8,5,4,11,11,11,4,11,6,7,7,8,12,14,14,12,14,11,7,9,14,8,4,6,7,5,13,14,13,8,14,11,13,16,16,16,16,16,16,16,16,12,16,16,3,15,15,15,15,14,15,7,15,15,15,14,14,14,14,14,14,14,14,14,14,14,12,14,7,8,14,13,13,13,13,13,13,13,7,13,4,5,11,13,13,13,13,12,12,12,12,12,12,12,12,7,12,12,12,12,12,12,12,12,12,7,12,12,7,4,12,11,11,5,11,11,4,4,11,11,11,11,11,11,5,11,11,11,11,11,11,10,9,9,9,9,9,9,9,9,9,9,9,9,9,9,4,9,9,9,8,8,8,8,8,8,8,8,6,8,8,7,7,7,7,7,7,6,7,7,7,7,6,6,6,6,6,6,6,6,6,6,6,6,5,5,4,5,5,5,5,5,5,0,4,4,4,4,4,4,4,4,4,4,4,4,2,2,2,2,2,1,0,0,0,0,0,0,0,0,0,0,4,11,7,6,5,13,4,9,6,8,4,7,10,13,9,15,6,0,8,14,4,7,14,7,11,14,5,4,6,14,0,0,6,1,9,5,12,7,7,3,0,9,14,12,7,6,1,4,5,4,2,9,7,5,6,4,2,2,14,11,16,0,6,7,12,4,14,7,8,5,11,16,4,9,0,7,0,11,2,4,11,2,12,9,12,5,5,13,8,11,12,8,8,7,0,21,21,25,23,18,20,23,26,20,22,18,18,25,22,20,28,30,34,18,20,25,20,21,22,26,33,25,20,21,17,26,21,18,21,20,33,18,25,28,22,23,23,23,4,0,10,6,0,14,11,4,4,13,5,14,12,0,5,7,6,14,11,6,6,0,4,21,26,20,19,20,25,18,20,19,17,26,18,18,47],\"y\":[30,64,57,35,64,34,18,35,47,12,16,68,43,9,38,67,50,59,48,50,66,55,23,39,24,58,65,46,58,39,40,59,19,32,24,45,12,30,63,28,10,37,32,11,59,62,58,14,15,31,31,66,65,30,64,27,7,25,31,47,18,20,57,68,3,56,9,24,34,39,32,8,45,24,45,65,47,60,53,12,46,34,9,58,38,13,59,28,33,4,27,69,62,38,65,48,26,66,8,47,20,13,43,39,32,39,15,16,42,66,25,66,48,25,62,10,28,32,17,64,17,38,57,37,20,42,15,23,55,34,17,46,61,40,18,53,13,29,43,43,37,61,26,22,17,12,37,2,58,67,49,25,34,62,11,29,43,63,24,3,8,65,64,62,24,18,58,60,35,9,68,36,45,55,57,56,35,12,28,54,44,58,32,42,54,19,29,15,30,14,15,55,13,67,20,28,35,40,49,48,21,57,27,26,25,32,16,37,38,34,20,8,20,16,39,20,15,21,23,38,5,28,30,33,55,19,31,11,31,31,19,37,4,54,14,8,13,21,12,11,35,14,32,5,26,14,54,6,30,15,35,13,16,13,10,16,13,24,20,19,16,40,16,11,36,23,13,26,4,34,30,16,4,46,30,20,1,13,25,27,20,10,8,6,28,23,35,31,32,13,27,29,53,30,26,21,2,6,12,50,47,33,46,44,25,13,40,2,33,22,10,43,7,15,14,9,21,22,11,25,9,6,10,7,2,29,23,3,30,11,12,20,54,19,13,35,19,7,24,12,11,15,39,1,6,8,27,1,26,7,57,29,7,4,29,14,5,55,19,9,9,47,41,9,15,30,1,53,32,28,24,13,6,54,23,40,26,1,5,19,16,1,11,11,30,15,28,5,45,23,2,13,24,8,26,5,1,10,34,64,7,4,23,1,37,36,7,19,52,8,8,14,4,21,21,24,5,6,15,8,21,33,10,30,28,1,6,19,52,46,22,9,42,12,4,2,20,19,26,9,3,6,10,15,89,76,121,97,71,77,79,241,175,109,81,280,126,91,128,128,153,210,210,72,95,77,189,118,79,142,117,93,103,95,135,116,91,133,203,108,84,109,76,85,113,155,104,222,81,256,106,76,110,81,156,168,103,123,152,108,115,211,111,83,114,111,71,91,78,75,118,130,101,110,114,130,88,147,184,70,87,73,87,112,81,78,80,175,124,75,90,123,92,76,88,141,73,72,88,86,71,237,78,78,97,128,170,180,73,219,89,88,92,169,116,89,84,201,81,91,72,148,116,121,117,84,124,81,71,117,134,278,86,111,80,76,90,128,77,71,121,78,65,11,52,50,18,46,48,31,33,54,51,11,61,16,10,27,66,58,30,48,50,53,1,38,41,48,75,101,127,104,197,112,82,184,78,138,107],\"type\":\"scatter\"},{\"marker\":{\"color\":\"red\",\"line\":{\"width\":1},\"opacity\":0.9,\"size\":11},\"mode\":\"markers\",\"name\":\"Alto\",\"x\":[14,5,4,4,5,5,7,4,4,12,0,3,16,11,5,11,6,7,6,6,4,4,4,4,11,14,4,7,2,6,6,0,4,9,0,14,0,0,5,4,0,4,14,13,4,5,27],\"y\":[407,344,73,73,150,75,112,199,128,128,99,88,168,106,117,261,102,95,165,82,178,108,100,147,119,119,86,222,651,724,434,567,327,537,1346,55,47,29,32,129,159,122,199,73,518,448,433],\"type\":\"scatter\"}],                        {\"template\":{\"data\":{\"barpolar\":[{\"marker\":{\"line\":{\"color\":\"#E5ECF6\",\"width\":0.5},\"pattern\":{\"fillmode\":\"overlay\",\"size\":10,\"solidity\":0.2}},\"type\":\"barpolar\"}],\"bar\":[{\"error_x\":{\"color\":\"#2a3f5f\"},\"error_y\":{\"color\":\"#2a3f5f\"},\"marker\":{\"line\":{\"color\":\"#E5ECF6\",\"width\":0.5},\"pattern\":{\"fillmode\":\"overlay\",\"size\":10,\"solidity\":0.2}},\"type\":\"bar\"}],\"carpet\":[{\"aaxis\":{\"endlinecolor\":\"#2a3f5f\",\"gridcolor\":\"white\",\"linecolor\":\"white\",\"minorgridcolor\":\"white\",\"startlinecolor\":\"#2a3f5f\"},\"baxis\":{\"endlinecolor\":\"#2a3f5f\",\"gridcolor\":\"white\",\"linecolor\":\"white\",\"minorgridcolor\":\"white\",\"startlinecolor\":\"#2a3f5f\"},\"type\":\"carpet\"}],\"choropleth\":[{\"colorbar\":{\"outlinewidth\":0,\"ticks\":\"\"},\"type\":\"choropleth\"}],\"contourcarpet\":[{\"colorbar\":{\"outlinewidth\":0,\"ticks\":\"\"},\"type\":\"contourcarpet\"}],\"contour\":[{\"colorbar\":{\"outlinewidth\":0,\"ticks\":\"\"},\"colorscale\":[[0.0,\"#0d0887\"],[0.1111111111111111,\"#46039f\"],[0.2222222222222222,\"#7201a8\"],[0.3333333333333333,\"#9c179e\"],[0.4444444444444444,\"#bd3786\"],[0.5555555555555556,\"#d8576b\"],[0.6666666666666666,\"#ed7953\"],[0.7777777777777778,\"#fb9f3a\"],[0.8888888888888888,\"#fdca26\"],[1.0,\"#f0f921\"]],\"type\":\"contour\"}],\"heatmapgl\":[{\"colorbar\":{\"outlinewidth\":0,\"ticks\":\"\"},\"colorscale\":[[0.0,\"#0d0887\"],[0.1111111111111111,\"#46039f\"],[0.2222222222222222,\"#7201a8\"],[0.3333333333333333,\"#9c179e\"],[0.4444444444444444,\"#bd3786\"],[0.5555555555555556,\"#d8576b\"],[0.6666666666666666,\"#ed7953\"],[0.7777777777777778,\"#fb9f3a\"],[0.8888888888888888,\"#fdca26\"],[1.0,\"#f0f921\"]],\"type\":\"heatmapgl\"}],\"heatmap\":[{\"colorbar\":{\"outlinewidth\":0,\"ticks\":\"\"},\"colorscale\":[[0.0,\"#0d0887\"],[0.1111111111111111,\"#46039f\"],[0.2222222222222222,\"#7201a8\"],[0.3333333333333333,\"#9c179e\"],[0.4444444444444444,\"#bd3786\"],[0.5555555555555556,\"#d8576b\"],[0.6666666666666666,\"#ed7953\"],[0.7777777777777778,\"#fb9f3a\"],[0.8888888888888888,\"#fdca26\"],[1.0,\"#f0f921\"]],\"type\":\"heatmap\"}],\"histogram2dcontour\":[{\"colorbar\":{\"outlinewidth\":0,\"ticks\":\"\"},\"colorscale\":[[0.0,\"#0d0887\"],[0.1111111111111111,\"#46039f\"],[0.2222222222222222,\"#7201a8\"],[0.3333333333333333,\"#9c179e\"],[0.4444444444444444,\"#bd3786\"],[0.5555555555555556,\"#d8576b\"],[0.6666666666666666,\"#ed7953\"],[0.7777777777777778,\"#fb9f3a\"],[0.8888888888888888,\"#fdca26\"],[1.0,\"#f0f921\"]],\"type\":\"histogram2dcontour\"}],\"histogram2d\":[{\"colorbar\":{\"outlinewidth\":0,\"ticks\":\"\"},\"colorscale\":[[0.0,\"#0d0887\"],[0.1111111111111111,\"#46039f\"],[0.2222222222222222,\"#7201a8\"],[0.3333333333333333,\"#9c179e\"],[0.4444444444444444,\"#bd3786\"],[0.5555555555555556,\"#d8576b\"],[0.6666666666666666,\"#ed7953\"],[0.7777777777777778,\"#fb9f3a\"],[0.8888888888888888,\"#fdca26\"],[1.0,\"#f0f921\"]],\"type\":\"histogram2d\"}],\"histogram\":[{\"marker\":{\"pattern\":{\"fillmode\":\"overlay\",\"size\":10,\"solidity\":0.2}},\"type\":\"histogram\"}],\"mesh3d\":[{\"colorbar\":{\"outlinewidth\":0,\"ticks\":\"\"},\"type\":\"mesh3d\"}],\"parcoords\":[{\"line\":{\"colorbar\":{\"outlinewidth\":0,\"ticks\":\"\"}},\"type\":\"parcoords\"}],\"pie\":[{\"automargin\":true,\"type\":\"pie\"}],\"scatter3d\":[{\"line\":{\"colorbar\":{\"outlinewidth\":0,\"ticks\":\"\"}},\"marker\":{\"colorbar\":{\"outlinewidth\":0,\"ticks\":\"\"}},\"type\":\"scatter3d\"}],\"scattercarpet\":[{\"marker\":{\"colorbar\":{\"outlinewidth\":0,\"ticks\":\"\"}},\"type\":\"scattercarpet\"}],\"scattergeo\":[{\"marker\":{\"colorbar\":{\"outlinewidth\":0,\"ticks\":\"\"}},\"type\":\"scattergeo\"}],\"scattergl\":[{\"marker\":{\"colorbar\":{\"outlinewidth\":0,\"ticks\":\"\"}},\"type\":\"scattergl\"}],\"scattermapbox\":[{\"marker\":{\"colorbar\":{\"outlinewidth\":0,\"ticks\":\"\"}},\"type\":\"scattermapbox\"}],\"scatterpolargl\":[{\"marker\":{\"colorbar\":{\"outlinewidth\":0,\"ticks\":\"\"}},\"type\":\"scatterpolargl\"}],\"scatterpolar\":[{\"marker\":{\"colorbar\":{\"outlinewidth\":0,\"ticks\":\"\"}},\"type\":\"scatterpolar\"}],\"scatter\":[{\"marker\":{\"colorbar\":{\"outlinewidth\":0,\"ticks\":\"\"}},\"type\":\"scatter\"}],\"scatterternary\":[{\"marker\":{\"colorbar\":{\"outlinewidth\":0,\"ticks\":\"\"}},\"type\":\"scatterternary\"}],\"surface\":[{\"colorbar\":{\"outlinewidth\":0,\"ticks\":\"\"},\"colorscale\":[[0.0,\"#0d0887\"],[0.1111111111111111,\"#46039f\"],[0.2222222222222222,\"#7201a8\"],[0.3333333333333333,\"#9c179e\"],[0.4444444444444444,\"#bd3786\"],[0.5555555555555556,\"#d8576b\"],[0.6666666666666666,\"#ed7953\"],[0.7777777777777778,\"#fb9f3a\"],[0.8888888888888888,\"#fdca26\"],[1.0,\"#f0f921\"]],\"type\":\"surface\"}],\"table\":[{\"cells\":{\"fill\":{\"color\":\"#EBF0F8\"},\"line\":{\"color\":\"white\"}},\"header\":{\"fill\":{\"color\":\"#C8D4E3\"},\"line\":{\"color\":\"white\"}},\"type\":\"table\"}]},\"layout\":{\"annotationdefaults\":{\"arrowcolor\":\"#2a3f5f\",\"arrowhead\":0,\"arrowwidth\":1},\"autotypenumbers\":\"strict\",\"coloraxis\":{\"colorbar\":{\"outlinewidth\":0,\"ticks\":\"\"}},\"colorscale\":{\"diverging\":[[0,\"#8e0152\"],[0.1,\"#c51b7d\"],[0.2,\"#de77ae\"],[0.3,\"#f1b6da\"],[0.4,\"#fde0ef\"],[0.5,\"#f7f7f7\"],[0.6,\"#e6f5d0\"],[0.7,\"#b8e186\"],[0.8,\"#7fbc41\"],[0.9,\"#4d9221\"],[1,\"#276419\"]],\"sequential\":[[0.0,\"#0d0887\"],[0.1111111111111111,\"#46039f\"],[0.2222222222222222,\"#7201a8\"],[0.3333333333333333,\"#9c179e\"],[0.4444444444444444,\"#bd3786\"],[0.5555555555555556,\"#d8576b\"],[0.6666666666666666,\"#ed7953\"],[0.7777777777777778,\"#fb9f3a\"],[0.8888888888888888,\"#fdca26\"],[1.0,\"#f0f921\"]],\"sequentialminus\":[[0.0,\"#0d0887\"],[0.1111111111111111,\"#46039f\"],[0.2222222222222222,\"#7201a8\"],[0.3333333333333333,\"#9c179e\"],[0.4444444444444444,\"#bd3786\"],[0.5555555555555556,\"#d8576b\"],[0.6666666666666666,\"#ed7953\"],[0.7777777777777778,\"#fb9f3a\"],[0.8888888888888888,\"#fdca26\"],[1.0,\"#f0f921\"]]},\"colorway\":[\"#636efa\",\"#EF553B\",\"#00cc96\",\"#ab63fa\",\"#FFA15A\",\"#19d3f3\",\"#FF6692\",\"#B6E880\",\"#FF97FF\",\"#FECB52\"],\"font\":{\"color\":\"#2a3f5f\"},\"geo\":{\"bgcolor\":\"white\",\"lakecolor\":\"white\",\"landcolor\":\"#E5ECF6\",\"showlakes\":true,\"showland\":true,\"subunitcolor\":\"white\"},\"hoverlabel\":{\"align\":\"left\"},\"hovermode\":\"closest\",\"mapbox\":{\"style\":\"light\"},\"paper_bgcolor\":\"white\",\"plot_bgcolor\":\"#E5ECF6\",\"polar\":{\"angularaxis\":{\"gridcolor\":\"white\",\"linecolor\":\"white\",\"ticks\":\"\"},\"bgcolor\":\"#E5ECF6\",\"radialaxis\":{\"gridcolor\":\"white\",\"linecolor\":\"white\",\"ticks\":\"\"}},\"scene\":{\"xaxis\":{\"backgroundcolor\":\"#E5ECF6\",\"gridcolor\":\"white\",\"gridwidth\":2,\"linecolor\":\"white\",\"showbackground\":true,\"ticks\":\"\",\"zerolinecolor\":\"white\"},\"yaxis\":{\"backgroundcolor\":\"#E5ECF6\",\"gridcolor\":\"white\",\"gridwidth\":2,\"linecolor\":\"white\",\"showbackground\":true,\"ticks\":\"\",\"zerolinecolor\":\"white\"},\"zaxis\":{\"backgroundcolor\":\"#E5ECF6\",\"gridcolor\":\"white\",\"gridwidth\":2,\"linecolor\":\"white\",\"showbackground\":true,\"ticks\":\"\",\"zerolinecolor\":\"white\"}},\"shapedefaults\":{\"line\":{\"color\":\"#2a3f5f\"}},\"ternary\":{\"aaxis\":{\"gridcolor\":\"white\",\"linecolor\":\"white\",\"ticks\":\"\"},\"baxis\":{\"gridcolor\":\"white\",\"linecolor\":\"white\",\"ticks\":\"\"},\"bgcolor\":\"#E5ECF6\",\"caxis\":{\"gridcolor\":\"white\",\"linecolor\":\"white\",\"ticks\":\"\"}},\"title\":{\"x\":0.05},\"xaxis\":{\"automargin\":true,\"gridcolor\":\"white\",\"linecolor\":\"white\",\"ticks\":\"\",\"title\":{\"standoff\":15},\"zerolinecolor\":\"white\",\"zerolinewidth\":2},\"yaxis\":{\"automargin\":true,\"gridcolor\":\"white\",\"linecolor\":\"white\",\"ticks\":\"\",\"title\":{\"standoff\":15},\"zerolinecolor\":\"white\",\"zerolinewidth\":2}}},\"title\":{\"text\":\"Segmentos\"},\"xaxis\":{\"title\":{\"text\":\"Recencia\"}},\"yaxis\":{\"title\":{\"text\":\"Frecuencia\"}}},                        {\"responsive\": true}                    ).then(function(){\n",
              "                            \n",
              "var gd = document.getElementById('42aa4e1a-8790-4212-9399-80fb954e592c');\n",
              "var x = new MutationObserver(function (mutations, observer) {{\n",
              "        var display = window.getComputedStyle(gd).display;\n",
              "        if (!display || display === 'none') {{\n",
              "            console.log([gd, 'removed!']);\n",
              "            Plotly.purge(gd);\n",
              "            observer.disconnect();\n",
              "        }}\n",
              "}});\n",
              "\n",
              "// Listen for the removal of the full notebook cells\n",
              "var notebookContainer = gd.closest('#notebook-container');\n",
              "if (notebookContainer) {{\n",
              "    x.observe(notebookContainer, {childList: true});\n",
              "}}\n",
              "\n",
              "// Listen for the clearing of the current output cell\n",
              "var outputEl = gd.closest('.output');\n",
              "if (outputEl) {{\n",
              "    x.observe(outputEl, {childList: true});\n",
              "}}\n",
              "\n",
              "                        })                };                            </script>        </div>\n",
              "</body>\n",
              "</html>"
            ]
          },
          "metadata": {}
        }
      ],
      "source": [
        "# Se grafica la relación entre Recencia Y Frecuencia, para cada uno de los tres segmentos:\n",
        "\n",
        "tx_graph = data_cliente.query(\"Frecuencia < 2000 and Recencia < 1000\")\n",
        "\n",
        "plot_data = [\n",
        "    go.Scatter(\n",
        "        x=tx_graph.query(\"Segmento == 'Valor-Bajo'\")[\"Recencia\"],\n",
        "        y=tx_graph.query(\"Segmento == 'Valor-Bajo'\")[\"Frecuencia\"],\n",
        "        mode=\"markers\",\n",
        "        name=\"Bajo\",\n",
        "        marker= dict(size= 7,\n",
        "            line= dict(width=1),\n",
        "            color= \"blue\",\n",
        "            opacity= 0.8)),\n",
        "        go.Scatter(\n",
        "        x=tx_graph.query(\"Segmento == 'Valor-Medio'\")[\"Recencia\"],\n",
        "        y=tx_graph.query(\"Segmento == 'Valor-Medio'\")[\"Frecuencia\"],\n",
        "        mode=\"markers\",\n",
        "        name=\"Medio\",\n",
        "        marker= dict(size= 9,\n",
        "            line= dict(width=1),\n",
        "            color= 'green',\n",
        "            opacity= 0.5 )),\n",
        "        go.Scatter(\n",
        "        x=tx_graph.query(\"Segmento == 'Valor-Alto'\")[\"Recencia\"],\n",
        "        y=tx_graph.query(\"Segmento == 'Valor-Alto'\")[\"Frecuencia\"],\n",
        "        mode='markers',\n",
        "        name=\"Alto\",\n",
        "        marker= dict(size= 11,\n",
        "            line= dict(width=1),\n",
        "            color= 'red',\n",
        "            opacity= 0.9 )),]\n",
        "\n",
        "plot_layout = go.Layout(\n",
        "        yaxis= {\"title\": \"Frecuencia\"},\n",
        "        xaxis= {\"title\": \"Recencia\"},\n",
        "        title=\"Segmentos\" )\n",
        "fig = go.Figure(data=plot_data, layout=plot_layout)\n",
        "pyoff.iplot(fig)"
      ]
    },
    {
      "cell_type": "markdown",
      "metadata": {
        "id": "wY2eAOUwtWr0"
      },
      "source": [
        "Se corrobora mediante el gráfico que los clientes con valor intermedio tienen valores intermedios de frecuencia y valores intermedios de recencia."
      ]
    },
    {
      "cell_type": "markdown",
      "metadata": {
        "id": "NRbkfQABrdVC"
      },
      "source": [
        "Una vez definidos los segmentos de valor de los clientes para los primeros tres meses, a continuación se definirán tres grupos de CLV (valor de vida de los clientes) en base al dataframe de 6 meses.\n",
        " En la base de datos no hay ninguna columna con datos de costos, por lo que el Ingreso se convierte directamente en el CLV."
      ]
    },
    {
      "cell_type": "markdown",
      "metadata": {
        "id": "ntb0dK-TuLIs"
      },
      "source": [
        "**11) Cálculo del CLV (Valor de vida de los clientes)** "
      ]
    },
    {
      "cell_type": "code",
      "execution_count": 392,
      "metadata": {
        "colab": {
          "base_uri": "https://localhost:8080/",
          "height": 206
        },
        "id": "4qV9DtElwgrV",
        "outputId": "f2cbe81e-ac9d-43d1-9698-34a7fb6dd8b7"
      },
      "outputs": [
        {
          "output_type": "execute_result",
          "data": {
            "text/plain": [
              "   ID_Cliente  Recencia  Grupo_Recencia  Frecuencia  Grupo_Frecuencia  \\\n",
              "0     14620.0        12               3          30                 0   \n",
              "1     15194.0         6               3          64                 0   \n",
              "2     18044.0         5               3          57                 0   \n",
              "3     18075.0        12               3          35                 0   \n",
              "4     15241.0         0               3          64                 0   \n",
              "\n",
              "   Ingreso  Grupo_Ingreso  Puntaje     Segmento  \n",
              "0   393.28              0        3  Valor-Medio  \n",
              "1  1439.02              0        3  Valor-Medio  \n",
              "2   808.96              0        3  Valor-Medio  \n",
              "3   638.12              0        3  Valor-Medio  \n",
              "4   947.55              0        3  Valor-Medio  "
            ],
            "text/html": [
              "\n",
              "  <div id=\"df-6b9bbafa-899d-4c16-a631-3f53f7c1c2b6\">\n",
              "    <div class=\"colab-df-container\">\n",
              "      <div>\n",
              "<style scoped>\n",
              "    .dataframe tbody tr th:only-of-type {\n",
              "        vertical-align: middle;\n",
              "    }\n",
              "\n",
              "    .dataframe tbody tr th {\n",
              "        vertical-align: top;\n",
              "    }\n",
              "\n",
              "    .dataframe thead th {\n",
              "        text-align: right;\n",
              "    }\n",
              "</style>\n",
              "<table border=\"1\" class=\"dataframe\">\n",
              "  <thead>\n",
              "    <tr style=\"text-align: right;\">\n",
              "      <th></th>\n",
              "      <th>ID_Cliente</th>\n",
              "      <th>Recencia</th>\n",
              "      <th>Grupo_Recencia</th>\n",
              "      <th>Frecuencia</th>\n",
              "      <th>Grupo_Frecuencia</th>\n",
              "      <th>Ingreso</th>\n",
              "      <th>Grupo_Ingreso</th>\n",
              "      <th>Puntaje</th>\n",
              "      <th>Segmento</th>\n",
              "    </tr>\n",
              "  </thead>\n",
              "  <tbody>\n",
              "    <tr>\n",
              "      <th>0</th>\n",
              "      <td>14620.0</td>\n",
              "      <td>12</td>\n",
              "      <td>3</td>\n",
              "      <td>30</td>\n",
              "      <td>0</td>\n",
              "      <td>393.28</td>\n",
              "      <td>0</td>\n",
              "      <td>3</td>\n",
              "      <td>Valor-Medio</td>\n",
              "    </tr>\n",
              "    <tr>\n",
              "      <th>1</th>\n",
              "      <td>15194.0</td>\n",
              "      <td>6</td>\n",
              "      <td>3</td>\n",
              "      <td>64</td>\n",
              "      <td>0</td>\n",
              "      <td>1439.02</td>\n",
              "      <td>0</td>\n",
              "      <td>3</td>\n",
              "      <td>Valor-Medio</td>\n",
              "    </tr>\n",
              "    <tr>\n",
              "      <th>2</th>\n",
              "      <td>18044.0</td>\n",
              "      <td>5</td>\n",
              "      <td>3</td>\n",
              "      <td>57</td>\n",
              "      <td>0</td>\n",
              "      <td>808.96</td>\n",
              "      <td>0</td>\n",
              "      <td>3</td>\n",
              "      <td>Valor-Medio</td>\n",
              "    </tr>\n",
              "    <tr>\n",
              "      <th>3</th>\n",
              "      <td>18075.0</td>\n",
              "      <td>12</td>\n",
              "      <td>3</td>\n",
              "      <td>35</td>\n",
              "      <td>0</td>\n",
              "      <td>638.12</td>\n",
              "      <td>0</td>\n",
              "      <td>3</td>\n",
              "      <td>Valor-Medio</td>\n",
              "    </tr>\n",
              "    <tr>\n",
              "      <th>4</th>\n",
              "      <td>15241.0</td>\n",
              "      <td>0</td>\n",
              "      <td>3</td>\n",
              "      <td>64</td>\n",
              "      <td>0</td>\n",
              "      <td>947.55</td>\n",
              "      <td>0</td>\n",
              "      <td>3</td>\n",
              "      <td>Valor-Medio</td>\n",
              "    </tr>\n",
              "  </tbody>\n",
              "</table>\n",
              "</div>\n",
              "      <button class=\"colab-df-convert\" onclick=\"convertToInteractive('df-6b9bbafa-899d-4c16-a631-3f53f7c1c2b6')\"\n",
              "              title=\"Convert this dataframe to an interactive table.\"\n",
              "              style=\"display:none;\">\n",
              "        \n",
              "  <svg xmlns=\"http://www.w3.org/2000/svg\" height=\"24px\"viewBox=\"0 0 24 24\"\n",
              "       width=\"24px\">\n",
              "    <path d=\"M0 0h24v24H0V0z\" fill=\"none\"/>\n",
              "    <path d=\"M18.56 5.44l.94 2.06.94-2.06 2.06-.94-2.06-.94-.94-2.06-.94 2.06-2.06.94zm-11 1L8.5 8.5l.94-2.06 2.06-.94-2.06-.94L8.5 2.5l-.94 2.06-2.06.94zm10 10l.94 2.06.94-2.06 2.06-.94-2.06-.94-.94-2.06-.94 2.06-2.06.94z\"/><path d=\"M17.41 7.96l-1.37-1.37c-.4-.4-.92-.59-1.43-.59-.52 0-1.04.2-1.43.59L10.3 9.45l-7.72 7.72c-.78.78-.78 2.05 0 2.83L4 21.41c.39.39.9.59 1.41.59.51 0 1.02-.2 1.41-.59l7.78-7.78 2.81-2.81c.8-.78.8-2.07 0-2.86zM5.41 20L4 18.59l7.72-7.72 1.47 1.35L5.41 20z\"/>\n",
              "  </svg>\n",
              "      </button>\n",
              "      \n",
              "  <style>\n",
              "    .colab-df-container {\n",
              "      display:flex;\n",
              "      flex-wrap:wrap;\n",
              "      gap: 12px;\n",
              "    }\n",
              "\n",
              "    .colab-df-convert {\n",
              "      background-color: #E8F0FE;\n",
              "      border: none;\n",
              "      border-radius: 50%;\n",
              "      cursor: pointer;\n",
              "      display: none;\n",
              "      fill: #1967D2;\n",
              "      height: 32px;\n",
              "      padding: 0 0 0 0;\n",
              "      width: 32px;\n",
              "    }\n",
              "\n",
              "    .colab-df-convert:hover {\n",
              "      background-color: #E2EBFA;\n",
              "      box-shadow: 0px 1px 2px rgba(60, 64, 67, 0.3), 0px 1px 3px 1px rgba(60, 64, 67, 0.15);\n",
              "      fill: #174EA6;\n",
              "    }\n",
              "\n",
              "    [theme=dark] .colab-df-convert {\n",
              "      background-color: #3B4455;\n",
              "      fill: #D2E3FC;\n",
              "    }\n",
              "\n",
              "    [theme=dark] .colab-df-convert:hover {\n",
              "      background-color: #434B5C;\n",
              "      box-shadow: 0px 1px 3px 1px rgba(0, 0, 0, 0.15);\n",
              "      filter: drop-shadow(0px 1px 2px rgba(0, 0, 0, 0.3));\n",
              "      fill: #FFFFFF;\n",
              "    }\n",
              "  </style>\n",
              "\n",
              "      <script>\n",
              "        const buttonEl =\n",
              "          document.querySelector('#df-6b9bbafa-899d-4c16-a631-3f53f7c1c2b6 button.colab-df-convert');\n",
              "        buttonEl.style.display =\n",
              "          google.colab.kernel.accessAllowed ? 'block' : 'none';\n",
              "\n",
              "        async function convertToInteractive(key) {\n",
              "          const element = document.querySelector('#df-6b9bbafa-899d-4c16-a631-3f53f7c1c2b6');\n",
              "          const dataTable =\n",
              "            await google.colab.kernel.invokeFunction('convertToInteractive',\n",
              "                                                     [key], {});\n",
              "          if (!dataTable) return;\n",
              "\n",
              "          const docLinkHtml = 'Like what you see? Visit the ' +\n",
              "            '<a target=\"_blank\" href=https://colab.research.google.com/notebooks/data_table.ipynb>data table notebook</a>'\n",
              "            + ' to learn more about interactive tables.';\n",
              "          element.innerHTML = '';\n",
              "          dataTable['output_type'] = 'display_data';\n",
              "          await google.colab.output.renderOutput(dataTable, element);\n",
              "          const docLink = document.createElement('div');\n",
              "          docLink.innerHTML = docLinkHtml;\n",
              "          element.appendChild(docLink);\n",
              "        }\n",
              "      </script>\n",
              "    </div>\n",
              "  </div>\n",
              "  "
            ]
          },
          "metadata": {},
          "execution_count": 392
        }
      ],
      "source": [
        "# Se observa el encabezado del dataframe data_cliente:\n",
        "data_cliente.head()\n"
      ]
    },
    {
      "cell_type": "code",
      "execution_count": 393,
      "metadata": {
        "colab": {
          "base_uri": "https://localhost:8080/",
          "height": 206
        },
        "id": "7XL8a1x_uWsx",
        "outputId": "358c12a9-7494-47e3-8806-286ffee2f73d"
      },
      "outputs": [
        {
          "output_type": "execute_result",
          "data": {
            "text/plain": [
              "  N_Factura N_Stock                   Descripcion  Cantidad  \\\n",
              "0    555156   23299  FOOD COVER WITH BEADS SET 2          6   \n",
              "1    555156   22847   BREAD BIN DINER STYLE IVORY         1   \n",
              "2    555157   23075     PARLOUR CERAMIC WALL HOOK        16   \n",
              "3    555157  47590B   PINK HAPPY BIRTHDAY BUNTING         6   \n",
              "4    555157   22423      REGENCY CAKESTAND 3 TIER         4   \n",
              "\n",
              "            F_Factura  Precio  ID_Cliente            Pais  \n",
              "0 2011-06-01 07:37:00    3.75     15643.0  United Kingdom  \n",
              "1 2011-06-01 07:37:00   16.95     15643.0  United Kingdom  \n",
              "2 2011-06-01 07:38:00    4.15     15643.0  United Kingdom  \n",
              "3 2011-06-01 07:38:00    5.45     15643.0  United Kingdom  \n",
              "4 2011-06-01 07:38:00   12.75     15643.0  United Kingdom  "
            ],
            "text/html": [
              "\n",
              "  <div id=\"df-dcbaf01b-da93-49f3-ae44-b30eca7b196a\">\n",
              "    <div class=\"colab-df-container\">\n",
              "      <div>\n",
              "<style scoped>\n",
              "    .dataframe tbody tr th:only-of-type {\n",
              "        vertical-align: middle;\n",
              "    }\n",
              "\n",
              "    .dataframe tbody tr th {\n",
              "        vertical-align: top;\n",
              "    }\n",
              "\n",
              "    .dataframe thead th {\n",
              "        text-align: right;\n",
              "    }\n",
              "</style>\n",
              "<table border=\"1\" class=\"dataframe\">\n",
              "  <thead>\n",
              "    <tr style=\"text-align: right;\">\n",
              "      <th></th>\n",
              "      <th>N_Factura</th>\n",
              "      <th>N_Stock</th>\n",
              "      <th>Descripcion</th>\n",
              "      <th>Cantidad</th>\n",
              "      <th>F_Factura</th>\n",
              "      <th>Precio</th>\n",
              "      <th>ID_Cliente</th>\n",
              "      <th>Pais</th>\n",
              "    </tr>\n",
              "  </thead>\n",
              "  <tbody>\n",
              "    <tr>\n",
              "      <th>0</th>\n",
              "      <td>555156</td>\n",
              "      <td>23299</td>\n",
              "      <td>FOOD COVER WITH BEADS SET 2</td>\n",
              "      <td>6</td>\n",
              "      <td>2011-06-01 07:37:00</td>\n",
              "      <td>3.75</td>\n",
              "      <td>15643.0</td>\n",
              "      <td>United Kingdom</td>\n",
              "    </tr>\n",
              "    <tr>\n",
              "      <th>1</th>\n",
              "      <td>555156</td>\n",
              "      <td>22847</td>\n",
              "      <td>BREAD BIN DINER STYLE IVORY</td>\n",
              "      <td>1</td>\n",
              "      <td>2011-06-01 07:37:00</td>\n",
              "      <td>16.95</td>\n",
              "      <td>15643.0</td>\n",
              "      <td>United Kingdom</td>\n",
              "    </tr>\n",
              "    <tr>\n",
              "      <th>2</th>\n",
              "      <td>555157</td>\n",
              "      <td>23075</td>\n",
              "      <td>PARLOUR CERAMIC WALL HOOK</td>\n",
              "      <td>16</td>\n",
              "      <td>2011-06-01 07:38:00</td>\n",
              "      <td>4.15</td>\n",
              "      <td>15643.0</td>\n",
              "      <td>United Kingdom</td>\n",
              "    </tr>\n",
              "    <tr>\n",
              "      <th>3</th>\n",
              "      <td>555157</td>\n",
              "      <td>47590B</td>\n",
              "      <td>PINK HAPPY BIRTHDAY BUNTING</td>\n",
              "      <td>6</td>\n",
              "      <td>2011-06-01 07:38:00</td>\n",
              "      <td>5.45</td>\n",
              "      <td>15643.0</td>\n",
              "      <td>United Kingdom</td>\n",
              "    </tr>\n",
              "    <tr>\n",
              "      <th>4</th>\n",
              "      <td>555157</td>\n",
              "      <td>22423</td>\n",
              "      <td>REGENCY CAKESTAND 3 TIER</td>\n",
              "      <td>4</td>\n",
              "      <td>2011-06-01 07:38:00</td>\n",
              "      <td>12.75</td>\n",
              "      <td>15643.0</td>\n",
              "      <td>United Kingdom</td>\n",
              "    </tr>\n",
              "  </tbody>\n",
              "</table>\n",
              "</div>\n",
              "      <button class=\"colab-df-convert\" onclick=\"convertToInteractive('df-dcbaf01b-da93-49f3-ae44-b30eca7b196a')\"\n",
              "              title=\"Convert this dataframe to an interactive table.\"\n",
              "              style=\"display:none;\">\n",
              "        \n",
              "  <svg xmlns=\"http://www.w3.org/2000/svg\" height=\"24px\"viewBox=\"0 0 24 24\"\n",
              "       width=\"24px\">\n",
              "    <path d=\"M0 0h24v24H0V0z\" fill=\"none\"/>\n",
              "    <path d=\"M18.56 5.44l.94 2.06.94-2.06 2.06-.94-2.06-.94-.94-2.06-.94 2.06-2.06.94zm-11 1L8.5 8.5l.94-2.06 2.06-.94-2.06-.94L8.5 2.5l-.94 2.06-2.06.94zm10 10l.94 2.06.94-2.06 2.06-.94-2.06-.94-.94-2.06-.94 2.06-2.06.94z\"/><path d=\"M17.41 7.96l-1.37-1.37c-.4-.4-.92-.59-1.43-.59-.52 0-1.04.2-1.43.59L10.3 9.45l-7.72 7.72c-.78.78-.78 2.05 0 2.83L4 21.41c.39.39.9.59 1.41.59.51 0 1.02-.2 1.41-.59l7.78-7.78 2.81-2.81c.8-.78.8-2.07 0-2.86zM5.41 20L4 18.59l7.72-7.72 1.47 1.35L5.41 20z\"/>\n",
              "  </svg>\n",
              "      </button>\n",
              "      \n",
              "  <style>\n",
              "    .colab-df-container {\n",
              "      display:flex;\n",
              "      flex-wrap:wrap;\n",
              "      gap: 12px;\n",
              "    }\n",
              "\n",
              "    .colab-df-convert {\n",
              "      background-color: #E8F0FE;\n",
              "      border: none;\n",
              "      border-radius: 50%;\n",
              "      cursor: pointer;\n",
              "      display: none;\n",
              "      fill: #1967D2;\n",
              "      height: 32px;\n",
              "      padding: 0 0 0 0;\n",
              "      width: 32px;\n",
              "    }\n",
              "\n",
              "    .colab-df-convert:hover {\n",
              "      background-color: #E2EBFA;\n",
              "      box-shadow: 0px 1px 2px rgba(60, 64, 67, 0.3), 0px 1px 3px 1px rgba(60, 64, 67, 0.15);\n",
              "      fill: #174EA6;\n",
              "    }\n",
              "\n",
              "    [theme=dark] .colab-df-convert {\n",
              "      background-color: #3B4455;\n",
              "      fill: #D2E3FC;\n",
              "    }\n",
              "\n",
              "    [theme=dark] .colab-df-convert:hover {\n",
              "      background-color: #434B5C;\n",
              "      box-shadow: 0px 1px 3px 1px rgba(0, 0, 0, 0.15);\n",
              "      filter: drop-shadow(0px 1px 2px rgba(0, 0, 0, 0.3));\n",
              "      fill: #FFFFFF;\n",
              "    }\n",
              "  </style>\n",
              "\n",
              "      <script>\n",
              "        const buttonEl =\n",
              "          document.querySelector('#df-dcbaf01b-da93-49f3-ae44-b30eca7b196a button.colab-df-convert');\n",
              "        buttonEl.style.display =\n",
              "          google.colab.kernel.accessAllowed ? 'block' : 'none';\n",
              "\n",
              "        async function convertToInteractive(key) {\n",
              "          const element = document.querySelector('#df-dcbaf01b-da93-49f3-ae44-b30eca7b196a');\n",
              "          const dataTable =\n",
              "            await google.colab.kernel.invokeFunction('convertToInteractive',\n",
              "                                                     [key], {});\n",
              "          if (!dataTable) return;\n",
              "\n",
              "          const docLinkHtml = 'Like what you see? Visit the ' +\n",
              "            '<a target=\"_blank\" href=https://colab.research.google.com/notebooks/data_table.ipynb>data table notebook</a>'\n",
              "            + ' to learn more about interactive tables.';\n",
              "          element.innerHTML = '';\n",
              "          dataTable['output_type'] = 'display_data';\n",
              "          await google.colab.output.renderOutput(dataTable, element);\n",
              "          const docLink = document.createElement('div');\n",
              "          docLink.innerHTML = docLinkHtml;\n",
              "          element.appendChild(docLink);\n",
              "        }\n",
              "      </script>\n",
              "    </div>\n",
              "  </div>\n",
              "  "
            ]
          },
          "metadata": {},
          "execution_count": 393
        }
      ],
      "source": [
        "# Se observa el encabezado del dataframe de seis meses creado en el comienzo de este proyecto:\n",
        "data_6m.head()\n"
      ]
    },
    {
      "cell_type": "code",
      "execution_count": 394,
      "metadata": {
        "colab": {
          "base_uri": "https://localhost:8080/",
          "height": 206
        },
        "id": "kVFeT2mEucqe",
        "outputId": "14ab4aef-74e1-48ef-ea3f-64a9e770f965"
      },
      "outputs": [
        {
          "output_type": "execute_result",
          "data": {
            "text/plain": [
              "  N_Factura N_Stock                   Descripcion  Cantidad  \\\n",
              "0    555156   23299  FOOD COVER WITH BEADS SET 2          6   \n",
              "1    555156   22847   BREAD BIN DINER STYLE IVORY         1   \n",
              "2    555157   23075     PARLOUR CERAMIC WALL HOOK        16   \n",
              "3    555157  47590B   PINK HAPPY BIRTHDAY BUNTING         6   \n",
              "4    555157   22423      REGENCY CAKESTAND 3 TIER         4   \n",
              "\n",
              "            F_Factura  Precio  ID_Cliente            Pais  Ingreso_6m  \n",
              "0 2011-06-01 07:37:00    3.75     15643.0  United Kingdom       22.50  \n",
              "1 2011-06-01 07:37:00   16.95     15643.0  United Kingdom       16.95  \n",
              "2 2011-06-01 07:38:00    4.15     15643.0  United Kingdom       66.40  \n",
              "3 2011-06-01 07:38:00    5.45     15643.0  United Kingdom       32.70  \n",
              "4 2011-06-01 07:38:00   12.75     15643.0  United Kingdom       51.00  "
            ],
            "text/html": [
              "\n",
              "  <div id=\"df-cfe36708-6b8b-4f25-8e3a-118adedb33f4\">\n",
              "    <div class=\"colab-df-container\">\n",
              "      <div>\n",
              "<style scoped>\n",
              "    .dataframe tbody tr th:only-of-type {\n",
              "        vertical-align: middle;\n",
              "    }\n",
              "\n",
              "    .dataframe tbody tr th {\n",
              "        vertical-align: top;\n",
              "    }\n",
              "\n",
              "    .dataframe thead th {\n",
              "        text-align: right;\n",
              "    }\n",
              "</style>\n",
              "<table border=\"1\" class=\"dataframe\">\n",
              "  <thead>\n",
              "    <tr style=\"text-align: right;\">\n",
              "      <th></th>\n",
              "      <th>N_Factura</th>\n",
              "      <th>N_Stock</th>\n",
              "      <th>Descripcion</th>\n",
              "      <th>Cantidad</th>\n",
              "      <th>F_Factura</th>\n",
              "      <th>Precio</th>\n",
              "      <th>ID_Cliente</th>\n",
              "      <th>Pais</th>\n",
              "      <th>Ingreso_6m</th>\n",
              "    </tr>\n",
              "  </thead>\n",
              "  <tbody>\n",
              "    <tr>\n",
              "      <th>0</th>\n",
              "      <td>555156</td>\n",
              "      <td>23299</td>\n",
              "      <td>FOOD COVER WITH BEADS SET 2</td>\n",
              "      <td>6</td>\n",
              "      <td>2011-06-01 07:37:00</td>\n",
              "      <td>3.75</td>\n",
              "      <td>15643.0</td>\n",
              "      <td>United Kingdom</td>\n",
              "      <td>22.50</td>\n",
              "    </tr>\n",
              "    <tr>\n",
              "      <th>1</th>\n",
              "      <td>555156</td>\n",
              "      <td>22847</td>\n",
              "      <td>BREAD BIN DINER STYLE IVORY</td>\n",
              "      <td>1</td>\n",
              "      <td>2011-06-01 07:37:00</td>\n",
              "      <td>16.95</td>\n",
              "      <td>15643.0</td>\n",
              "      <td>United Kingdom</td>\n",
              "      <td>16.95</td>\n",
              "    </tr>\n",
              "    <tr>\n",
              "      <th>2</th>\n",
              "      <td>555157</td>\n",
              "      <td>23075</td>\n",
              "      <td>PARLOUR CERAMIC WALL HOOK</td>\n",
              "      <td>16</td>\n",
              "      <td>2011-06-01 07:38:00</td>\n",
              "      <td>4.15</td>\n",
              "      <td>15643.0</td>\n",
              "      <td>United Kingdom</td>\n",
              "      <td>66.40</td>\n",
              "    </tr>\n",
              "    <tr>\n",
              "      <th>3</th>\n",
              "      <td>555157</td>\n",
              "      <td>47590B</td>\n",
              "      <td>PINK HAPPY BIRTHDAY BUNTING</td>\n",
              "      <td>6</td>\n",
              "      <td>2011-06-01 07:38:00</td>\n",
              "      <td>5.45</td>\n",
              "      <td>15643.0</td>\n",
              "      <td>United Kingdom</td>\n",
              "      <td>32.70</td>\n",
              "    </tr>\n",
              "    <tr>\n",
              "      <th>4</th>\n",
              "      <td>555157</td>\n",
              "      <td>22423</td>\n",
              "      <td>REGENCY CAKESTAND 3 TIER</td>\n",
              "      <td>4</td>\n",
              "      <td>2011-06-01 07:38:00</td>\n",
              "      <td>12.75</td>\n",
              "      <td>15643.0</td>\n",
              "      <td>United Kingdom</td>\n",
              "      <td>51.00</td>\n",
              "    </tr>\n",
              "  </tbody>\n",
              "</table>\n",
              "</div>\n",
              "      <button class=\"colab-df-convert\" onclick=\"convertToInteractive('df-cfe36708-6b8b-4f25-8e3a-118adedb33f4')\"\n",
              "              title=\"Convert this dataframe to an interactive table.\"\n",
              "              style=\"display:none;\">\n",
              "        \n",
              "  <svg xmlns=\"http://www.w3.org/2000/svg\" height=\"24px\"viewBox=\"0 0 24 24\"\n",
              "       width=\"24px\">\n",
              "    <path d=\"M0 0h24v24H0V0z\" fill=\"none\"/>\n",
              "    <path d=\"M18.56 5.44l.94 2.06.94-2.06 2.06-.94-2.06-.94-.94-2.06-.94 2.06-2.06.94zm-11 1L8.5 8.5l.94-2.06 2.06-.94-2.06-.94L8.5 2.5l-.94 2.06-2.06.94zm10 10l.94 2.06.94-2.06 2.06-.94-2.06-.94-.94-2.06-.94 2.06-2.06.94z\"/><path d=\"M17.41 7.96l-1.37-1.37c-.4-.4-.92-.59-1.43-.59-.52 0-1.04.2-1.43.59L10.3 9.45l-7.72 7.72c-.78.78-.78 2.05 0 2.83L4 21.41c.39.39.9.59 1.41.59.51 0 1.02-.2 1.41-.59l7.78-7.78 2.81-2.81c.8-.78.8-2.07 0-2.86zM5.41 20L4 18.59l7.72-7.72 1.47 1.35L5.41 20z\"/>\n",
              "  </svg>\n",
              "      </button>\n",
              "      \n",
              "  <style>\n",
              "    .colab-df-container {\n",
              "      display:flex;\n",
              "      flex-wrap:wrap;\n",
              "      gap: 12px;\n",
              "    }\n",
              "\n",
              "    .colab-df-convert {\n",
              "      background-color: #E8F0FE;\n",
              "      border: none;\n",
              "      border-radius: 50%;\n",
              "      cursor: pointer;\n",
              "      display: none;\n",
              "      fill: #1967D2;\n",
              "      height: 32px;\n",
              "      padding: 0 0 0 0;\n",
              "      width: 32px;\n",
              "    }\n",
              "\n",
              "    .colab-df-convert:hover {\n",
              "      background-color: #E2EBFA;\n",
              "      box-shadow: 0px 1px 2px rgba(60, 64, 67, 0.3), 0px 1px 3px 1px rgba(60, 64, 67, 0.15);\n",
              "      fill: #174EA6;\n",
              "    }\n",
              "\n",
              "    [theme=dark] .colab-df-convert {\n",
              "      background-color: #3B4455;\n",
              "      fill: #D2E3FC;\n",
              "    }\n",
              "\n",
              "    [theme=dark] .colab-df-convert:hover {\n",
              "      background-color: #434B5C;\n",
              "      box-shadow: 0px 1px 3px 1px rgba(0, 0, 0, 0.15);\n",
              "      filter: drop-shadow(0px 1px 2px rgba(0, 0, 0, 0.3));\n",
              "      fill: #FFFFFF;\n",
              "    }\n",
              "  </style>\n",
              "\n",
              "      <script>\n",
              "        const buttonEl =\n",
              "          document.querySelector('#df-cfe36708-6b8b-4f25-8e3a-118adedb33f4 button.colab-df-convert');\n",
              "        buttonEl.style.display =\n",
              "          google.colab.kernel.accessAllowed ? 'block' : 'none';\n",
              "\n",
              "        async function convertToInteractive(key) {\n",
              "          const element = document.querySelector('#df-cfe36708-6b8b-4f25-8e3a-118adedb33f4');\n",
              "          const dataTable =\n",
              "            await google.colab.kernel.invokeFunction('convertToInteractive',\n",
              "                                                     [key], {});\n",
              "          if (!dataTable) return;\n",
              "\n",
              "          const docLinkHtml = 'Like what you see? Visit the ' +\n",
              "            '<a target=\"_blank\" href=https://colab.research.google.com/notebooks/data_table.ipynb>data table notebook</a>'\n",
              "            + ' to learn more about interactive tables.';\n",
              "          element.innerHTML = '';\n",
              "          dataTable['output_type'] = 'display_data';\n",
              "          await google.colab.output.renderOutput(dataTable, element);\n",
              "          const docLink = document.createElement('div');\n",
              "          docLink.innerHTML = docLinkHtml;\n",
              "          element.appendChild(docLink);\n",
              "        }\n",
              "      </script>\n",
              "    </div>\n",
              "  </div>\n",
              "  "
            ]
          },
          "metadata": {},
          "execution_count": 394
        }
      ],
      "source": [
        "# Se crea la columna \"Ingreso\" para este dataframe:\n",
        "data_6m[\"Ingreso_6m\"] = data_6m[\"Precio\"] * data_6m[\"Cantidad\"]\n",
        "data_6m.head()\n",
        "\n"
      ]
    },
    {
      "cell_type": "code",
      "execution_count": 395,
      "metadata": {
        "colab": {
          "base_uri": "https://localhost:8080/",
          "height": 424
        },
        "id": "bHStAZw3zhF5",
        "outputId": "520b692c-2ace-43ea-98a6-8979ec3ad0b4"
      },
      "outputs": [
        {
          "output_type": "execute_result",
          "data": {
            "text/plain": [
              "      ID_Cliente  Ingreso_6m\n",
              "0        12747.0     1666.11\n",
              "1        12748.0    18196.70\n",
              "2        12749.0     2323.04\n",
              "3        12820.0      561.53\n",
              "4        12822.0      918.98\n",
              "...          ...         ...\n",
              "3162     18278.0      173.90\n",
              "3163     18281.0       80.82\n",
              "3164     18282.0       98.76\n",
              "3165     18283.0     1322.01\n",
              "3166     18287.0     1072.00\n",
              "\n",
              "[3167 rows x 2 columns]"
            ],
            "text/html": [
              "\n",
              "  <div id=\"df-525fab70-2489-4d3e-9353-1a8cb042757b\">\n",
              "    <div class=\"colab-df-container\">\n",
              "      <div>\n",
              "<style scoped>\n",
              "    .dataframe tbody tr th:only-of-type {\n",
              "        vertical-align: middle;\n",
              "    }\n",
              "\n",
              "    .dataframe tbody tr th {\n",
              "        vertical-align: top;\n",
              "    }\n",
              "\n",
              "    .dataframe thead th {\n",
              "        text-align: right;\n",
              "    }\n",
              "</style>\n",
              "<table border=\"1\" class=\"dataframe\">\n",
              "  <thead>\n",
              "    <tr style=\"text-align: right;\">\n",
              "      <th></th>\n",
              "      <th>ID_Cliente</th>\n",
              "      <th>Ingreso_6m</th>\n",
              "    </tr>\n",
              "  </thead>\n",
              "  <tbody>\n",
              "    <tr>\n",
              "      <th>0</th>\n",
              "      <td>12747.0</td>\n",
              "      <td>1666.11</td>\n",
              "    </tr>\n",
              "    <tr>\n",
              "      <th>1</th>\n",
              "      <td>12748.0</td>\n",
              "      <td>18196.70</td>\n",
              "    </tr>\n",
              "    <tr>\n",
              "      <th>2</th>\n",
              "      <td>12749.0</td>\n",
              "      <td>2323.04</td>\n",
              "    </tr>\n",
              "    <tr>\n",
              "      <th>3</th>\n",
              "      <td>12820.0</td>\n",
              "      <td>561.53</td>\n",
              "    </tr>\n",
              "    <tr>\n",
              "      <th>4</th>\n",
              "      <td>12822.0</td>\n",
              "      <td>918.98</td>\n",
              "    </tr>\n",
              "    <tr>\n",
              "      <th>...</th>\n",
              "      <td>...</td>\n",
              "      <td>...</td>\n",
              "    </tr>\n",
              "    <tr>\n",
              "      <th>3162</th>\n",
              "      <td>18278.0</td>\n",
              "      <td>173.90</td>\n",
              "    </tr>\n",
              "    <tr>\n",
              "      <th>3163</th>\n",
              "      <td>18281.0</td>\n",
              "      <td>80.82</td>\n",
              "    </tr>\n",
              "    <tr>\n",
              "      <th>3164</th>\n",
              "      <td>18282.0</td>\n",
              "      <td>98.76</td>\n",
              "    </tr>\n",
              "    <tr>\n",
              "      <th>3165</th>\n",
              "      <td>18283.0</td>\n",
              "      <td>1322.01</td>\n",
              "    </tr>\n",
              "    <tr>\n",
              "      <th>3166</th>\n",
              "      <td>18287.0</td>\n",
              "      <td>1072.00</td>\n",
              "    </tr>\n",
              "  </tbody>\n",
              "</table>\n",
              "<p>3167 rows × 2 columns</p>\n",
              "</div>\n",
              "      <button class=\"colab-df-convert\" onclick=\"convertToInteractive('df-525fab70-2489-4d3e-9353-1a8cb042757b')\"\n",
              "              title=\"Convert this dataframe to an interactive table.\"\n",
              "              style=\"display:none;\">\n",
              "        \n",
              "  <svg xmlns=\"http://www.w3.org/2000/svg\" height=\"24px\"viewBox=\"0 0 24 24\"\n",
              "       width=\"24px\">\n",
              "    <path d=\"M0 0h24v24H0V0z\" fill=\"none\"/>\n",
              "    <path d=\"M18.56 5.44l.94 2.06.94-2.06 2.06-.94-2.06-.94-.94-2.06-.94 2.06-2.06.94zm-11 1L8.5 8.5l.94-2.06 2.06-.94-2.06-.94L8.5 2.5l-.94 2.06-2.06.94zm10 10l.94 2.06.94-2.06 2.06-.94-2.06-.94-.94-2.06-.94 2.06-2.06.94z\"/><path d=\"M17.41 7.96l-1.37-1.37c-.4-.4-.92-.59-1.43-.59-.52 0-1.04.2-1.43.59L10.3 9.45l-7.72 7.72c-.78.78-.78 2.05 0 2.83L4 21.41c.39.39.9.59 1.41.59.51 0 1.02-.2 1.41-.59l7.78-7.78 2.81-2.81c.8-.78.8-2.07 0-2.86zM5.41 20L4 18.59l7.72-7.72 1.47 1.35L5.41 20z\"/>\n",
              "  </svg>\n",
              "      </button>\n",
              "      \n",
              "  <style>\n",
              "    .colab-df-container {\n",
              "      display:flex;\n",
              "      flex-wrap:wrap;\n",
              "      gap: 12px;\n",
              "    }\n",
              "\n",
              "    .colab-df-convert {\n",
              "      background-color: #E8F0FE;\n",
              "      border: none;\n",
              "      border-radius: 50%;\n",
              "      cursor: pointer;\n",
              "      display: none;\n",
              "      fill: #1967D2;\n",
              "      height: 32px;\n",
              "      padding: 0 0 0 0;\n",
              "      width: 32px;\n",
              "    }\n",
              "\n",
              "    .colab-df-convert:hover {\n",
              "      background-color: #E2EBFA;\n",
              "      box-shadow: 0px 1px 2px rgba(60, 64, 67, 0.3), 0px 1px 3px 1px rgba(60, 64, 67, 0.15);\n",
              "      fill: #174EA6;\n",
              "    }\n",
              "\n",
              "    [theme=dark] .colab-df-convert {\n",
              "      background-color: #3B4455;\n",
              "      fill: #D2E3FC;\n",
              "    }\n",
              "\n",
              "    [theme=dark] .colab-df-convert:hover {\n",
              "      background-color: #434B5C;\n",
              "      box-shadow: 0px 1px 3px 1px rgba(0, 0, 0, 0.15);\n",
              "      filter: drop-shadow(0px 1px 2px rgba(0, 0, 0, 0.3));\n",
              "      fill: #FFFFFF;\n",
              "    }\n",
              "  </style>\n",
              "\n",
              "      <script>\n",
              "        const buttonEl =\n",
              "          document.querySelector('#df-525fab70-2489-4d3e-9353-1a8cb042757b button.colab-df-convert');\n",
              "        buttonEl.style.display =\n",
              "          google.colab.kernel.accessAllowed ? 'block' : 'none';\n",
              "\n",
              "        async function convertToInteractive(key) {\n",
              "          const element = document.querySelector('#df-525fab70-2489-4d3e-9353-1a8cb042757b');\n",
              "          const dataTable =\n",
              "            await google.colab.kernel.invokeFunction('convertToInteractive',\n",
              "                                                     [key], {});\n",
              "          if (!dataTable) return;\n",
              "\n",
              "          const docLinkHtml = 'Like what you see? Visit the ' +\n",
              "            '<a target=\"_blank\" href=https://colab.research.google.com/notebooks/data_table.ipynb>data table notebook</a>'\n",
              "            + ' to learn more about interactive tables.';\n",
              "          element.innerHTML = '';\n",
              "          dataTable['output_type'] = 'display_data';\n",
              "          await google.colab.output.renderOutput(dataTable, element);\n",
              "          const docLink = document.createElement('div');\n",
              "          docLink.innerHTML = docLinkHtml;\n",
              "          element.appendChild(docLink);\n",
              "        }\n",
              "      </script>\n",
              "    </div>\n",
              "  </div>\n",
              "  "
            ]
          },
          "metadata": {},
          "execution_count": 395
        }
      ],
      "source": [
        "# Se agrupa por \"ID_Cliente\" y se calcula el ingreso total de cada cliente_\n",
        "data_user_6m = data_6m.groupby(\"ID_Cliente\")[\"Ingreso_6m\"].sum().reset_index()\n",
        "data_user_6m"
      ]
    },
    {
      "cell_type": "markdown",
      "metadata": {
        "id": "MdWPTeLstFOC"
      },
      "source": [
        "Se puede ver el ingreso total generado por cada cliente en los 6 meses de análisis."
      ]
    },
    {
      "cell_type": "code",
      "execution_count": 396,
      "metadata": {
        "colab": {
          "base_uri": "https://localhost:8080/",
          "height": 542
        },
        "id": "cUseUY1DyOc3",
        "outputId": "8b11618a-26fe-45d4-c471-5303f813b8c7"
      },
      "outputs": [
        {
          "output_type": "display_data",
          "data": {
            "text/html": [
              "<html>\n",
              "<head><meta charset=\"utf-8\" /></head>\n",
              "<body>\n",
              "    <div>            <script src=\"https://cdnjs.cloudflare.com/ajax/libs/mathjax/2.7.5/MathJax.js?config=TeX-AMS-MML_SVG\"></script><script type=\"text/javascript\">if (window.MathJax) {MathJax.Hub.Config({SVG: {font: \"STIX-Web\"}});}</script>                <script type=\"text/javascript\">window.PlotlyConfig = {MathJaxConfig: 'local'};</script>\n",
              "        <script src=\"https://cdn.plot.ly/plotly-2.8.3.min.js\"></script>                <div id=\"90761b09-ceca-4f8d-a57d-3888091c3189\" class=\"plotly-graph-div\" style=\"height:525px; width:100%;\"></div>            <script type=\"text/javascript\">                                    window.PLOTLYENV=window.PLOTLYENV || {};                                    if (document.getElementById(\"90761b09-ceca-4f8d-a57d-3888091c3189\")) {                    Plotly.newPlot(                        \"90761b09-ceca-4f8d-a57d-3888091c3189\",                        [{\"x\":[1666.1100000000001,2323.04,561.53,918.98,765.0,397.12,628.42,318.7,661.3100000000001,6748.4,383.03,417.38,948.96,134.1,281.16,3443.14,1148.8,1754.89,808.26,1053.7,325.96000000000004,843.64,341.44,131.81,1019.1,505.88,1940.43,521.2,147.12,2237.6,248.06,248.64,49.470000000000006,754.07,-13.35,552.5699999999999,1463.04,703.47,309.05,1158.27,603.4,376.71999999999997,85.0,176.55,347.3,7946.900000000001,496.06,2919.81,318.0,628.06,1932.54,858.0600000000001,1082.14,164.0,693.37,594.0,1013.54,162.78,405.38,172.82,278.43,368.31,1282.66,-12.75,409.9,496.78,950.6899999999999,1012.9,1076.04,114.14,4353.48,862.44,279.08,317.56,536.82,1167.44,1916.52,311.6,113.4,1085.1100000000001,329.85,3229.62,2876.02,170.54000000000002,1226.18,769.8100000000001,160.18,135.95,6169.64,39.239999999999995,2595.4500000000003,372.21999999999997,97.5,754.38,240.7,3464.94,312.0,503.76,239.46,256.87,200.72,614.67,76.32000000000001,1883.96,90.0,3181.21,192.05,81.57,594.33,2119.6,2083.65,1576.6,789.89,3603.7400000000002,1541.0,689.9,491.90999999999997,3072.0,659.68,865.0,350.08,996.52,476.90999999999997,553.63,303.75,513.36,303.25,305.28000000000003,431.59,1425.42,865.99,502.90000000000003,2906.45,857.1,271.40000000000003,248.61,346.98,902.2900000000001,430.9,115.46000000000001,179.0,1236.38,919.61,7262.58,190.10000000000002,58.08,1653.45,192.39,137.98000000000002,5396.44,319.82,38.08,774.7800000000001,74.39999999999999,2892.86,207.35999999999999,2152.8,243.94,545.28,59.5,964.78,778.64,756.1800000000001,2324.44,2236.73,485.19,233.54,338.71000000000004,18.72,1239.86,632.83,259.17,64.0,1039.3,1250.88,1992.67,2710.52,575.54,3885.77,264.21,987.72,307.09,319.77000000000004,228.91,712.8000000000001,1746.6,1299.32,-611.86,402.56,1243.28,944.65,1088.69,91.8,386.6,666.84,791.33,346.53000000000003,207.68,108.81,307.26,708.76,481.49,282.45,3006.27,121.18,2001.64,892.64,1539.69,114.60000000000001,260.68,447.62,112.08,60.7,1285.65,1307.29,5421.98,870.09,703.75,250.26000000000002,505.69,3513.02,353.48,984.72,779.33,1103.15,133.62,62.63999999999999,259.6,2150.85,1358.76,358.0,557.73,653.45,300.88,727.27,589.6800000000001,221.24,166.4,121.74000000000001,430.5,270.28000000000003,501.12,465.68,419.57000000000005,553.92,173.81,0.0,473.96,283.18,557.62,3814.2,967.78,2278.86,1989.65,1356.21,2962.66,172.37,276.56,138.98,590.9300000000001,258.4,542.73,126.30000000000001,115.5,705.69,93.66,1535.85,361.11,329.37,390.09,87.4,1766.33,365.29,290.32,63.75,1147.45,15.0,552.66,675.27,314.38,490.11,945.58,407.04,4110.45,864.3000000000001,302.96,5918.6,1008.59,567.36,199.48000000000002,355.3,3306.66,675.3,2195.62,484.79999999999995,805.11,350.9,1865.13,795.12,431.82,7058.45,303.93,855.54,341.36,233.76,247.32,910.72,373.94,397.97999999999996,743.53,674.7,768.24,431.26,1509.21,992.5,0.0,1524.77,56.160000000000004,378.64,2324.55,772.9,249.76,572.56,2555.46,4122.28,627.15,540.07,544.08,1075.3700000000001,307.72,954.37,937.41,312.95,75.0,15.001,598.42,213.55,1000.5,712.5,2752.79,221.06,140.35,1008.67,2601.55,1222.64,1973.9,368.1,201.78,1006.8,648.6899999999999,1269.1,534.24,3356.34,3408.06,296.64,1104.23,2081.6800000000003,291.88,1365.1799999999998,1308.78,171.98,365.4,1530.16,3372.93,183.44,1445.0,-8.25,674.68,297.95,1071.91,1813.09,165.0,1546.4,181.38,153.3,385.87,938.55,810.57,140.34,1122.41,166.6,3388.08,213.84,184.19,659.8,152.32,692.37,1136.77,102.84,216.85,295.93,2022.79,231.6,1443.3,205.1,152.20000000000002,687.72,1243.41,2109.07,627.16,110.80000000000001,277.48,125.80000000000001,1386.14,520.98,345.9,1632.97,126.66000000000001,210.31,124.14999999999999,2745.32,2439.29,776.55,315.69,163.05,438.83,397.15,405.65,1700.74,2508.83,343.38,471.84000000000003,1196.06,777.53,-550.64,130.04,856.84,187.05,228.8,1696.34,258.48,732.0699999999999,3967.55,1301.55,302.34,781.03,347.0,2331.82,379.65,1064.09,340.9,42.45,1014.13,396.97,378.67,147.29,2795.37,320.12,428.89,164.34,30.119999999999997,675.51,731.16,837.65,1379.71,544.18,177.34,213.85,133.13,1018.1,4904.36,1047.16,1691.77,1503.99,949.75,1071.03,407.66999999999996,387.9,122.64,1033.34,519.44,2624.26,252.1,1215.58,1090.82,94.2,456.84000000000003,1534.49,549.32,216.95,229.8,1538.87,356.92,189.47,20.6,299.05,2134.37,218.55,349.7,387.44,178.38000000000002,232.6,692.45,827.83,59.5,1934.45,72.0,910.0,172.25,616.74,2218.65,151.29999999999998,308.58000000000004,1321.46,2130.63,204.54,5246.1,180.48,874.42,702.94,367.8,524.14,905.69,95.81,1079.6599999999999,333.48,522.21,752.6,491.86,1849.47,216.9,505.47,1472.84,711.2299999999999,263.2,291.54,367.4,958.46,450.71000000000004,126.6,1944.49,2895.11,839.03,659.4100000000001,151.70000000000002,1070.65,1689.46,1019.53,8910.04,1014.39,1166.85,894.21,345.0,178.7,116.28000000000002,547.56,1690.32,202.64000000000001,1047.68,120.95,347.15999999999997,324.8,943.36,1864.76,924.6,256.38,1518.5,115.49,468.38,957.66,465.96,174.65,409.8,209.49,1105.0,40.949999999999996,383.85,506.12,236.88,1557.15,361.62,312.98,201.13,320.0,1537.95,1586.81,2405.14,1090.14,2626.9,269.0,216.17,920.55,1344.6,378.26,145.67000000000002,866.24,507.54,1510.49,2054.47,3994.07,159.20000000000002,1103.11,122.7,117.24,1271.57,2193.14,938.2,931.7,344.25,107.65,243.56,366.11,416.90000000000003,1159.41,578.4499999999999,385.02000000000004,2588.12,311.16,90.02,8.5,2218.9,131.52,1538.44,877.0,626.45,272.04,1014.64,351.13,1379.68,616.65,223.85000000000002,348.99,464.57,429.79999999999995,337.34,852.72,608.7900000000001,361.28,158.85,71.66,384.05,839.14,2869.05,75.6,90.6,1909.09,549.25,158.4,1354.3600000000001,166.07999999999998,117.86,575.4,256.6,230.22,51.95,80.7,6376.54,1783.74,44.349999999999994,413.59000000000003,1507.23,196.79000000000002,869.87,200.14,957.31,1045.09,-229.20000000000002,6236.17,320.46,2749.37,369.40999999999997,847.54,76.8,1921.09,2158.04,1083.24,2618.44,721.19,529.73,3682.62,2687.56,300.1,354.52,505.18,917.34,1398.96,642.8,130.2,327.7,104.82,467.66,923.82,7459.18,1251.05,509.09,727.44,35.400000000000006,844.0600000000001,152.2,2049.11,475.98,408.0,321.54,2530.36,746.36,7813.71,225.36,260.25,92.46,725.6400000000001,4384.9,3541.43,2880.8,5630.22,482.28000000000003,374.7,926.18,139.54,317.56,118.67,299.81,465.39,375.1,45.599999999999994,59.45,1005.14,158.75,1920.82,433.86,147.35,1771.51,191.95000000000002,1817.4,941.8299999999999,216.20999999999998,-5.9,1228.15,594.16,80.2,3656.19,594.4,1704.67,931.27,1382.74,90.0,1994.14,419.58000000000004,2720.63,643.6300000000001,257.48,331.96,612.38,3265.0,287.64,2126.15,621.71,415.82,525.99,652.6800000000001,115.8,2019.6,1062.11,285.6,352.46000000000004,306.78000000000003,155.71,507.66,3970.44,111.68,1696.12,1631.77,303.59,363.79,336.8,134.46,2845.08,544.51,1181.79,701.57,1464.05,452.89,1281.71,2169.63,3829.54,430.85,7390.2300000000005,335.52,498.3,383.18,234.08,151.74,990.28,301.24,1327.46,1070.48,365.73,867.61,1252.74,1046.94,169.48000000000002,2563.87,683.17,686.23,517.66,522.7900000000001,924.59,785.0699999999999,227.86,1352.4,488.41,754.12,1829.31,301.56,1085.81,663.49,213.70000000000002,930.39,-4.12,1024.42,1228.83,2397.42,2467.13,5042.26,120.0,1163.45,2073.53,218.27,470.08,305.87,341.27,754.49,1562.46,578.45,1910.01,2545.73,-25.4,238.56,1537.0900000000001,1702.15,3313.75,231.39,166.20000000000002,1051.46,2040.01,43.2,632.04,1803.76,2083.42,1300.74,1026.78,1017.5699999999999,120.0,1926.58,508.58000000000004,1203.93,287.54,311.65,2807.2400000000002,462.65999999999997,840.21,351.45,873.98,500.52000000000004,-25.75,1463.83,358.96,244.05,108.97999999999999,759.14,133.5,51.0,233.64000000000001,87.78,666.9399999999999,225.12,882.58,2118.03,151.5,2600.15,5763.18,235.56,302.45,237.12,202.68,615.49,1247.69,202.11,1727.6,2039.65,1037.66,3554.04,1269.13,377.64,1917.77,559.7,3134.08,499.79999999999995,750.74,156.75,1138.1,1893.39,1393.3500000000001,-131.55,761.3299999999999,1267.93,2340.15,490.22,1039.9,744.65,385.87,357.93,3480.32,322.08,2447.57,363.34000000000003,681.13,2248.5,1372.8,89.06,-106.4,554.72,978.7,811.8,520.48,562.2,273.0,485.89,213.8,283.9,259.05,119.93,2620.8,1837.92,404.34,1326.83,1043.8700000000001,413.7,1236.75,464.56,163.55,596.91,149.34000000000003,537.71,514.82,1142.81,279.05,333.65,1784.71,-7.9,321.92,162.8,1040.3799999999999,1047.43,213.73,1847.14,139.56,123.8,1791.1,685.57,356.85,123.38000000000001,1348.49,2772.39,130.55,2658.07,1406.49,752.57,268.05,1267.4099999999999,148.95999999999998,138.24,587.09,1651.49,330.45,174.37,695.91,241.09,1090.1,2975.15,4073.57,364.21999999999997,578.61,1779.0,1379.12,2198.25,1978.8700000000001,355.56,281.75,537.48,756.76,447.9,103.25,1268.53,902.53,1144.52,3474.45,326.4,757.37,60.8,164.22,546.95,2279.4900000000002,126.2,0.0,911.33,1080.76,3514.0,1206.72,1524.46,1581.96,274.52,391.7,138.6,114.11,605.74,545.26,157.05,320.81,1116.19,557.94,277.56,1576.8,866.24,221.97,213.96,4683.07,1073.6,457.56,341.64,1157.2,320.58000000000004,674.12,225.85,-13.5,2191.62,340.38,583.38,376.90000000000003,309.66,443.6,1749.36,1645.35,110.46,96.12,335.87,592.96,356.99,313.06,238.28,114.18,1178.81,758.76,157.94,323.82,123.14,1195.5,285.74,107.95,229.09,636.24,544.52,195.25,5280.79,996.14,596.36,1399.72,105.0,31.200000000000003,708.07,628.38,1682.14,341.96,1674.73,111.25,899.08,1065.09,1473.55,785.74,1698.91,318.17,1493.96,282.12,3310.9,599.48,1403.47,917.07,1460.17,160.19,619.9300000000001,307.51,942.01,401.13,180.42000000000002,666.71,655.58,1140.08,129.0,1241.75,1641.18,2952.84,647.75,764.25,2059.7,-25.0,905.04,171.95,979.66,644.62,389.64,563.15,409.78,3147.77,738.96,420.5,277.12,298.6,158.4,250.55,254.11,884.64,139.5,4417.76,139.26,605.3399999999999,1120.98,396.81,447.68,175.31,77.4,368.45,197.64,592.9,0.0,228.99,421.61,131.45000000000002,4040.85,98.06,157.7,1139.99,189.34,114.76,437.15,193.39000000000001,2152.8,809.18,778.5,539.55,187.35,507.29,110.78,1127.71,1099.95,312.21999999999997,188.88,1469.11,102.44999999999999,1148.94,1513.91,2441.8,2315.26,309.4,5498.07,305.22,2346.29,261.3,1538.76,645.65,1290.53,1165.65,1056.88,170.32,125.79,841.1999999999999,266.76,96.14,2110.2200000000003,387.06,106.15,1090.6200000000001,624.35,561.39,255.4,589.7,446.08,765.3199999999999,1862.0,554.38,1237.8500000000001,655.75,6220.51,570.8199999999999,658.38,924.24,314.11,974.05,396.96,291.35,2043.05,277.8,279.06,611.6,116.55000000000001,969.79,1610.15,413.06,749.1,223.88,4558.22,100.9,290.82,788.17,371.2,311.69,4507.4800000000005,285.67,294.85,289.03,262.59,88.3,3865.02,1472.34,596.09,183.02,463.8,147.59,809.81,1097.98,114.77,659.85,89.94,279.94,340.6,394.14,202.37,163.2,112.67,540.98,231.23,490.52,494.17,1220.77,3596.44,480.38,156.91,1259.43,308.94,216.48,257.67,170.04,125.58,204.87,965.04,852.39,3213.79,955.84,361.96,238.22,412.03000000000003,326.46,365.52000000000004,341.78,1218.11,1612.08,252.73000000000002,429.56,264.23,6855.93,179.93,537.0,3169.05,346.76,2664.05,123.27,1682.77,1383.3600000000001,255.95,302.1,1372.68,763.75,277.64,173.82,1751.73,760.59,896.71,313.4,1109.53,393.40000000000003,612.43,735.67,773.03,880.85,5067.51,256.75,1140.27,2420.84,476.96,1200.34,594.2,219.39000000000001,649.5,410.48,703.36,-24.9,2298.93,629.28,812.0500000000001,1278.98,3339.5099999999998,2042.65,340.11,873.1,1237.73,244.8,343.82,162.57,701.07,184.19,3904.02,406.53,970.5,2327.02,330.11,488.06,324.52,1148.54,1025.55,1222.55,498.74,4359.5199999999995,312.34,492.94,301.29,520.8000000000001,4779.58,4684.24,329.25,224.73,317.8,383.58000000000004,401.40000000000003,149.47,461.35,106.56,721.75,224.14,747.58,389.47999999999996,252.37,402.2,310.62,411.41,3406.0,729.32,499.32,3232.2000000000003,306.36,193.64,611.55,337.35,1134.9,648.8299999999999,402.59999999999997,594.62,511.34000000000003,1017.75,656.79,96.6,3999.63,305.75,920.77,342.58,2472.11,612.06,235.07,1056.54,764.34,1077.47,791.04,316.68,333.63,1264.36,356.0,3824.44,6281.34,740.78,915.3,300.36,890.85,98.45,307.5,898.1700000000001,254.82,156.51,393.74,793.88,1717.36,408.8,1025.85,1544.4,721.94,383.99,609.19,128.63,255.89999999999998,113.12,376.84000000000003,240.55,485.24,682.52,559.65,4280.14,1980.01,1832.5,635.04,2223.44,1424.0,496.44,2903.7200000000003,303.65,1174.35,205.3,316.95,52.0,551.54,267.13,1504.01,602.97,161.74,208.75,1023.2,714.96,350.82,170.22,299.67,2020.52,391.76,364.5,373.28,367.69,158.04,463.90999999999997,1575.41,277.05,1556.37,3143.27,427.93,581.39,1121.8400000000001,496.97,461.40999999999997,446.94000000000005,-1592.49,1232.61,2007.3999999999999,878.63,168.0,579.19,440.18,1066.96,4352.59,338.84,316.88,394.14,500.0,892.14,107.76,747.1,288.18,1339.63,549.13,320.6,185.78,349.1,174.32,716.88,1649.95,1336.43,190.53,738.7,1699.94,508.8,135.86,211.0,43.5,757.4,1430.54,93.78,364.90000000000003,171.19,-115.43,583.62,149.29,583.65,156.57999999999998,257.88,2375.75,1411.21,626.95,429.84,291.48,1236.49,161.64,234.6,126.14,2102.71,334.53,511.88,439.71,504.5,371.56,1465.2,454.10999999999996,1399.92,5131.28,114.31,2884.96,1296.37,91.32000000000001,741.77,1445.93,659.4599999999999,1012.16,1280.58,291.6,6210.4,865.3000000000001,3321.5499999999997,52.83,3497.14,972.08,475.86,371.16,900.53,19.799999999999997,8603.26,1521.78,62.43,931.47,1031.87,397.99,412.01000000000005,440.0,193.76,148.44,1447.53,2004.59,949.22,1495.06,1147.08,746.92,125.01,110.92,213.3,85.13000000000001,1785.59,153.64000000000001,2008.81,751.16,295.38,436.06,428.93,3128.02,279.77,468.91,456.99,595.22,173.16,186.01,422.52,1087.21,1604.7,650.4300000000001,1464.9,591.1899999999999,112.1,921.37,229.23,127.1,132.25,2795.01,379.3,718.36,455.3,568.8000000000001,388.58,199.8,1503.87,16.9,315.71999999999997,235.68,312.90999999999997,2003.97,561.33,48.480000000000004,216.39,508.05,596.29,1093.68,270.03000000000003,112.46000000000001,1252.79,195.15,5652.18,747.031,336.40000000000003,670.34,966.0,1099.73,301.03,276.73,809.23,393.92,1971.68,789.49,1920.71,243.55,418.06,223.36,425.32,5474.0,581.82,310.3,380.35,612.01,107.60000000000001,418.98,337.74,877.4399999999999,922.53,441.64,30.0,7.5,306.45,858.09,138.14,386.43,765.79,301.32,478.89000000000004,1619.3600000000001,1030.19,1066.94,278.69,2446.69,657.23,352.7,781.28,854.79,600.6800000000001,193.75,1337.41,150.6,111.0,191.04,2930.74,1076.21,309.65,664.03,1210.06,1354.77,1001.8100000000001,916.98,1259.74,772.5600000000001,185.55,330.03000000000003,216.37,2599.55,598.73,471.40000000000003,1845.8100000000002,415.25,1928.09,-134.8,653.45,760.8000000000001,651.9300000000001,2199.38,449.12,154.88,775.96,34.8,782.89,182.96,946.64,144.36,1511.74,1575.47,363.87,1725.4,283.84,453.06,205.25,583.75,1048.67,2124.54,315.06,142.68,270.8,241.62,72.52,250.21,2593.94,246.3,984.3,4821.0,933.26,218.75,381.20000000000005,642.32,610.01,1245.1200000000001,367.2,563.92,452.39,1042.19,-451.42,415.82000000000005,2994.14,2931.14,484.22,903.9,15.899999999999997,291.31,917.88,1036.38,1919.23,706.52,728.3100000000001,570.96,532.94,929.36,889.1,636.14,547.7,484.7,827.38,465.78,117.47,391.98,1020.74,345.66,595.84,130.73999999999998,2164.71,208.59,234.88,57.5,110.8,1255.5500000000002,369.73,6082.46,297.0,611.35,544.9,2265.68,168.72,59.64,1541.2600000000002,581.2,211.89,1772.01,351.44,316.25,2194.4700000000003,239.31,143.76,364.35,181.09,141.27,148.0,179.17,337.28,351.73,4485.12,884.53,254.52,191.94,544.92,123.13,750.71,192.23,311.61,167.5,323.03000000000003,426.63,901.15,1107.46,145.35,69.28,1482.66,337.44,1708.24,644.24,364.72,1315.89,549.26,827.29,2944.19,428.89,104.35,470.76,652.6800000000001,235.78,447.9,3113.7,1868.66,371.01,217.65,1054.73,1098.78,1638.68,1786.28,326.75,1275.38,137.84,168.12,916.69,156.78,390.74,2513.18,414.27,389.51,1299.0,1554.3700000000001,423.79,1329.84,339.63,972.11,1975.7,1415.29,383.95,486.59999999999997,516.89,211.88,408.90000000000003,1296.74,851.01,219.12,251.03,439.65999999999997,236.09,417.95000000000005,242.27,5074.93,570.19,58.93,891.12,3166.4,1152.52,97.5,479.45,-12.75,1074.81,137.9,362.06,1511.95,783.9,650.75,1203.58,812.16,575.44,1521.04,852.15,326.24,1707.1,1352.0,86.9,2231.29,979.64,656.47,534.33,157.81,185.63,17.0,826.13,995.33,413.6,1245.96,1842.14,878.6800000000001,298.21,108.38,3204.1600000000003,816.1,642.77,59.599999999999994,161.38,135.75000000000003,1154.58,232.21,309.48,1294.14,568.72,434.58000000000004,307.78,5396.42,656.25,1491.92,1842.02,6914.64,334.56,550.08,495.61,579.63,620.4,375.19,2074.02,75.0,375.0,163.68,1025.19,1422.32,1664.44,644.24,1009.4499999999999,2857.61,802.53,2518.79,1483.95,1254.84,73.2,940.83,1406.57,1009.5500000000001,570.61,331.95,197.9,215.83,7472.05,305.54,4100.65,338.71000000000004,1007.32,194.41,2944.73,4276.6,416.09,215.48,215.08,2117.58,400.68100000000004,550.57,1312.12,274.6,384.18,757.63,248.31,394.38,166.67,1956.6700000000003,6893.6900000000005,542.77,192.19,159.0,313.08000000000004,242.35,1326.1100000000001,545.49,752.09,679.71,652.4,266.1,616.76,210.18,522.85,432.2,372.9,3701.46,1761.75,2638.05,409.1,907.23,114.56,152.94,779.54,1965.22,1547.63,46.95,4171.05,1035.45,476.02,2571.86,490.05,667.65,1250.47,411.7,810.6000000000001,537.83,1502.78,2062.06,1048.43,812.68,142.5,280.9,1110.75,1328.55,598.2,212.82,4478.65,361.21999999999997,1600.0,352.47,616.26,167.62,974.75,770.89,328.15,213.07999999999998,408.59000000000003,372.82000000000005,2216.1,1350.63,242.21,1450.5,151.05,214.79999999999998,534.31,1167.17,322.41,328.58,101.10000000000001,565.46,847.45,984.2,739.77,494.44,3926.4300000000003,395.8,520.98,1591.79,595.1800000000001,2592.22,891.21,627.29,109.36000000000001,705.79,1051.06,327.3,633.58,302.48,1190.96,1029.74,355.73,312.53000000000003,862.2,1730.26,1743.1499999999999,334.3,175.4,407.66,241.47,692.1,1836.98,804.5799999999999,1031.5,481.09999999999997,229.61,303.93,2091.86,443.05,154.35,1289.8899999999999,1219.42,83.15,135.99,262.2,75.45,200.27,1026.99,485.21,441.78,346.12,133.56,999.07,-2.95,284.55,300.85,287.4,184.26,795.08,648.54,2392.78,170.2,414.59,230.51,255.91,-33.0,311.92,266.97,6.9,707.4,581.76,2167.84,811.23,142.92,68.0,1069.28,1298.66,1274.44,74.9,357.12,407.11,98.3,1629.51,234.3,941.95,331.0,300.83,769.29,220.62,379.4,363.65,492.2,731.5,961.86,-37.3,1414.99,86.12,183.12,338.54,465.88,777.6,90.30000000000001,587.98,662.7900000000001,1004.8,101.69999999999999,293.62,111.38,413.7,5675.95,5015.26,290.36,228.06,455.25,759.76,4838.4,1014.19,538.17,119.62,339.3,3915.41,1242.61,611.05,988.64,522.99,285.89,1674.97,281.85,4270.08,484.33,264.96,1077.74,333.89,2202.37,947.05,657.12,366.03,451.44,70.44,313.62,324.14,459.24,213.5,2026.19,260.43,181.09,360.16,129.5,335.74,242.7,494.72999999999996,482.47,1616.61,3463.34,129.49,907.61,618.59,506.19,500.42,1206.3,322.78,384.14,3061.79,322.8,1470.13,408.63,2430.63,820.97,469.28000000000003,698.23,231.10000000000002,111.37,86.31,270.85999999999996,518.42,3647.04,1166.92,99.42,2977.27,5053.91,659.0,39.12,426.09,118.98,366.78,184.14,1344.88,2112.9900000000002,1692.27,4361.35,304.24,493.62,1425.74,183.7,894.5,917.14,324.24,1764.25,1115.16,303.26,122.13,324.45,99.0,1823.26,2811.71,7132.03,531.35,656.63,1045.28,839.16,756.63,2413.09,4277.65,301.71999999999997,2984.91,794.54,152.95,2751.05,576.4,581.58,721.35,4217.64,262.17,603.75,646.76,1174.59,417.59999999999997,312.55,0.0,1105.13,1291.91,3582.67,3355.21,826.96,605.7,505.23,1764.72,223.92000000000002,554.76,369.34000000000003,401.9,316.62,1207.24,-16.95,2550.03,2931.54,274.79,107.72,590.86,171.59,654.92,999.71,371.54,49.1,152.76,5795.88,260.35,919.8000000000001,107.6,299.92,1340.6200000000001,1122.53,243.84,1075.89,305.62,1162.65,140.85,332.3,418.94,245.82,365.53,469.76,121.92,571.61,314.77,1312.53,2310.34,91.61,336.47,2623.33,497.61,460.64,775.1800000000001,341.7,128.5,197.22,325.91,62.5,99.1,251.87,1356.24,7945.35,1138.12,739.87,6354.67,214.32,193.44,281.42,124.57,239.45999999999998,144.91000000000003,328.4,35.400000000000006,213.29999999999998,173.76,318.55,207.73999999999998,797.3199999999999,774.52,680.02,2022.18,1265.18,768.87,0.0,1491.43,432.0,489.41999999999996,144.45,429.84000000000003,272.46,192.32999999999998,421.72,383.27,202.27,388.95,621.88,187.6900000000001,1706.88,363.2,2069.58,1880.72,347.90000000000003,397.65,364.14,1323.26,1397.22,183.76,454.89000000000004,365.98,767.5600000000001,536.9,154.18,3854.76,722.64,201.6,1867.59,1089.45,378.89,2240.32,150.23000000000002,931.03,261.9,1285.2,2292.2,1310.25,2571.82,194.48,573.48,1006.56,208.96,167.61,20.8,762.48,163.69,292.34,117.35000000000001,305.52,234.17,110.55000000000001,608.27,319.02,253.31,650.41,357.21,344.33,1240.11,384.06,1283.53,4370.59,2548.7599999999998,1873.2,1180.07,1093.65,943.1600000000001,735.4300000000001,7.42,484.82,1779.95,494.26,1312.1399999999999,534.72,427.2,185.46,270.9,333.06,1838.6100000000001,3526.64,515.1,262.15,71.0,95.85,196.8,121.67999999999999,444.33,358.0,146.87,380.35,422.04,592.77,1253.22,112.4,449.73,766.99,427.43,1560.58,948.48,299.49,642.02,351.47,125.0,3669.33,1028.0,399.09,496.38,435.01,360.23,1582.72,1982.0,1113.82,711.5,-112.35,2195.2400000000002,1609.15,304.24,1617.3,1446.09,138.05,506.88,378.2,118.80000000000001,211.29999999999998,288.91,1366.91,409.76,2747.9900000000002,347.75,1590.22,975.1800000000001,1099.46,1983.24,1639.13,762.35,859.19,971.74,1621.73,346.38,6245.12,401.34000000000003,163.29999999999998,231.61,226.14,282.15000000000003,533.95,138.32,345.29999999999995,294.24,230.5,484.83,1395.8400000000001,3850.57,94.5,639.18,5877.17,595.89,185.9,741.48,124.88,213.78,329.34,251.70000000000002,149.01,568.42,1534.73,2312.96,887.9,293.1,1523.18,78.75,816.88,313.26,3198.45,911.86,223.48,231.17,84.39999999999999,2573.13,144.0,1049.79,157.18,54.740000000000016,1272.8,1674.46,1013.01,170.56,289.78,3560.08,305.55,384.08,204.24,1063.28,1844.28,362.15,899.7,114.23,1724.72,132.28,328.65,573.1700000000001,1218.51,318.76,1774.36,208.04,190.88,149.89000000000001,208.16,352.31,314.69,1737.23,1135.04,4809.77,954.9,280.09000000000003,318.65,348.91,178.26,169.06,183.22,112.10000000000001,213.28,298.0,550.01,113.06,317.2,487.15999999999997,739.1899999999999,107.82,187.82999999999998,961.56,713.23,151.37,548.72,753.93,922.77,348.83,1190.58,547.0,128.18,498.42,656.61,163.24,816.81,5421.87,82.75,828.39,644.3,2288.13,1738.21,3446.29,2524.02,290.52,615.91,608.42,284.25,279.75,363.9,175.2,494.25,24.0,2840.94,183.36,6355.49,265.68,157.62,394.31,1637.12,228.96,996.45,98.25,856.46,388.55,1740.0,1393.06,384.39,127.86,568.24,443.2,1684.72,2874.37,989.95,446.18,326.26,596.13,501.67,-27.6,97.35,2460.7,389.71999999999997,6146.139999999999,65.4,108.75,256.11,1697.3400000000001,746.81,496.36,508.8,6933.3,681.41,124.92999999999999,791.22,1562.68,263.92,818.82,32.65,511.3,912.3199999999999,493.36,361.84000000000003,778.0,507.84,3435.33,296.07,2165.92,467.98,1300.21,231.49,759.17,3086.71,100.8,9455.48,325.26,153.16,365.76,303.15999999999997,2012.08,53.65,1425.03,52.800000000000004,541.53,-4287.63,756.48,1354.77,486.71999999999997,340.06,316.5,657.3,-3.552713678800501e-15,735.82,199.53,935.1,289.96000000000004,763.28,137.0,1537.7,501.96000000000004,259.27,194.37,506.51,1076.94,414.04,168.07999999999998,1279.34,1909.16,342.59000000000003,272.22,1138.0,689.1,340.43,658.85,294.29,6069.24,308.48,1622.57,513.2,208.65,67.65,312.87,888.4200000000001,546.81,562.4,663.83,652.74,637.3100000000001,3358.0,786.83,293.45,223.36,76.5,266.92,98.42,310.1,642.32,148.86,611.4399999999999,1487.6,1714.15,284.86,541.46,368.90000000000003,165.12,1107.38,454.01,394.82,1730.49,1067.37,74.55,362.9,1776.5,-18.72,262.16,6548.17,734.45,595.15,843.0,1813.4,1147.09,576.4,2566.98,678.18,386.69,2061.43,161.67000000000002,3146.48,-609.4000000000001,191.99,574.53,1625.6299999999999,1360.14,1990.3100000000002,386.32,57.3,163.2,81.44,434.32,527.0500000000001,443.18,1478.3700000000001,75.75,868.48,168.1,113.95,1309.84,547.3,285.56,547.0600000000001,621.66,712.29,1589.5,133.06,682.16,861.74,166.08,3886.67,4104.89,1175.88,1036.24,1674.69,168.28,1898.62,178.75,1005.4100000000001,278.45,409.08,698.84,161.85,1795.72,601.9,1954.28,736.59,250.38,718.47,9313.18,1992.1100000000001,184.4,1351.92,239.41,1643.1100000000001,2073.34,2597.75,117.47999999999999,187.02,283.12,765.34,1712.16,1409.07,1368.07,798.74,497.90000000000003,1205.82,8432.68,68.7,156.48,137.45,164.57,522.91,4054.17,3702.19,663.56,680.46,2529.6000000000004,995.6500000000001,2154.5,1042.55,1927.8300000000002,3186.9900000000002,878.2,475.24,587.65,7197.41,337.49,168.24,1083.43,1715.28,52.54,303.06,64.65,305.51,1607.21,1208.78,2850.04,2356.32,819.96,115.05,712.78,541.88,109.33,271.2,1279.45,3043.32,130.01,173.45,608.79,647.56,633.92,86.02,171.06,131.94,163.5,149.02,1117.9,1067.29,106.1,300.34,187.14000000000001,75.9,780.43,1651.94,832.36,1151.64,512.31,546.04,1976.92,3410.4900000000002,506.51,1641.79,15.25,835.8499999999999,-7.1000000000000005,298.4,35.400000000000006,155.37,228.1,110.21000000000001,1508.38,612.4,318.15,2033.1,512.8299999999999,114.34,199.5,1772.14,1160.56,1788.1,354.0,6124.41,325.7,-7.780000000000012,117.22,1284.69,668.1800000000001,122.76,237.61,379.45,178.51999999999998,363.8,156.34,491.57,111.35,347.0,203.85999999999999,244.1,251.96,95.45,256.32,131.14,52.22,154.55,15.0,110.38,168.32,406.09000000000003,366.23,190.6,108.32,1304.04,2115.79,542.16,2446.15,185.56,134.28,399.5,1349.8799999999999,111.16000000000001,742.56,704.25,145.79,613.44,99.14,644.5,304.56,176.68,358.56000000000006,219.03,599.0400000000001,855.16,111.68,508.4599999999999,73.78,422.05,102.41,201.45,1275.41,951.43,103.0,337.04,539.92,1703.09,288.14,500.74,248.7,152.68,631.35,20.8,198.57,126.17999999999999,322.69,1503.09,190.05,415.13,132.07,444.68,50.78,187.29,162.22,1158.81,358.0,84.69,38.45,612.72,236.77999999999997,115.31,111.15,93.82000000000001,418.68,713.89,293.17,9.2,118.2,1545.76,165.04999999999998,107.7,991.5400000000001,178.34,297.07,2535.04,170.16,296.71,928.79,234.6,406.0,801.46,318.0,396.33,1325.33,-5.329070518200751e-15,3605.6600000000003,1322.75,1449.69,2000.32,390.0,343.45,680.84,90.47999999999999,608.0,166.03,4507.68,989.0,1240.1000000000001,849.06,524.69,168.31,222.4,754.64,113.48000000000002,4110.33,168.55,352.69,163.56,315.65,2303.4,653.3,1368.7,574.4399999999999,197.85,200.92000000000002,347.08,1059.39,681.9100000000001,183.48000000000002,8393.22,734.52,1000.16,1051.1,1837.77,83.7,179.33999999999997,62.400000000000006,339.0,340.8,220.48999999999998,233.89000000000001,488.76,451.75,319.51,1066.47,394.7,302.46000000000004,1365.71,115.15,202.65,676.1,761.77,3781.26,378.0,627.77,480.97,690.01,1533.02,366.85,49.8,1571.89,457.14,957.97,233.81,896.0,235.85,1590.15,150.35,160.42000000000002,1419.97,517.36,139.10000000000002,2301.08,462.17,299.34000000000003,481.75,621.75,865.09,798.84,443.0,3052.46,3457.21,2983.43,769.2,4418.2,1543.3000000000002,211.49,1366.02,759.04,861.35,422.58,1692.26,1538.41,366.52,363.2,783.02,95.34,4314.72,518.27,103.3,1603.23,1962.3000000000002,427.13,324.24,149.48,903.48,801.51,0.0,171.20000000000002,1730.16,102.0,1.7763568394002505e-15,323.36,110.38,173.9,80.82,98.76,1322.01,1072.0],\"type\":\"histogram\"}],                        {\"template\":{\"data\":{\"barpolar\":[{\"marker\":{\"line\":{\"color\":\"#E5ECF6\",\"width\":0.5},\"pattern\":{\"fillmode\":\"overlay\",\"size\":10,\"solidity\":0.2}},\"type\":\"barpolar\"}],\"bar\":[{\"error_x\":{\"color\":\"#2a3f5f\"},\"error_y\":{\"color\":\"#2a3f5f\"},\"marker\":{\"line\":{\"color\":\"#E5ECF6\",\"width\":0.5},\"pattern\":{\"fillmode\":\"overlay\",\"size\":10,\"solidity\":0.2}},\"type\":\"bar\"}],\"carpet\":[{\"aaxis\":{\"endlinecolor\":\"#2a3f5f\",\"gridcolor\":\"white\",\"linecolor\":\"white\",\"minorgridcolor\":\"white\",\"startlinecolor\":\"#2a3f5f\"},\"baxis\":{\"endlinecolor\":\"#2a3f5f\",\"gridcolor\":\"white\",\"linecolor\":\"white\",\"minorgridcolor\":\"white\",\"startlinecolor\":\"#2a3f5f\"},\"type\":\"carpet\"}],\"choropleth\":[{\"colorbar\":{\"outlinewidth\":0,\"ticks\":\"\"},\"type\":\"choropleth\"}],\"contourcarpet\":[{\"colorbar\":{\"outlinewidth\":0,\"ticks\":\"\"},\"type\":\"contourcarpet\"}],\"contour\":[{\"colorbar\":{\"outlinewidth\":0,\"ticks\":\"\"},\"colorscale\":[[0.0,\"#0d0887\"],[0.1111111111111111,\"#46039f\"],[0.2222222222222222,\"#7201a8\"],[0.3333333333333333,\"#9c179e\"],[0.4444444444444444,\"#bd3786\"],[0.5555555555555556,\"#d8576b\"],[0.6666666666666666,\"#ed7953\"],[0.7777777777777778,\"#fb9f3a\"],[0.8888888888888888,\"#fdca26\"],[1.0,\"#f0f921\"]],\"type\":\"contour\"}],\"heatmapgl\":[{\"colorbar\":{\"outlinewidth\":0,\"ticks\":\"\"},\"colorscale\":[[0.0,\"#0d0887\"],[0.1111111111111111,\"#46039f\"],[0.2222222222222222,\"#7201a8\"],[0.3333333333333333,\"#9c179e\"],[0.4444444444444444,\"#bd3786\"],[0.5555555555555556,\"#d8576b\"],[0.6666666666666666,\"#ed7953\"],[0.7777777777777778,\"#fb9f3a\"],[0.8888888888888888,\"#fdca26\"],[1.0,\"#f0f921\"]],\"type\":\"heatmapgl\"}],\"heatmap\":[{\"colorbar\":{\"outlinewidth\":0,\"ticks\":\"\"},\"colorscale\":[[0.0,\"#0d0887\"],[0.1111111111111111,\"#46039f\"],[0.2222222222222222,\"#7201a8\"],[0.3333333333333333,\"#9c179e\"],[0.4444444444444444,\"#bd3786\"],[0.5555555555555556,\"#d8576b\"],[0.6666666666666666,\"#ed7953\"],[0.7777777777777778,\"#fb9f3a\"],[0.8888888888888888,\"#fdca26\"],[1.0,\"#f0f921\"]],\"type\":\"heatmap\"}],\"histogram2dcontour\":[{\"colorbar\":{\"outlinewidth\":0,\"ticks\":\"\"},\"colorscale\":[[0.0,\"#0d0887\"],[0.1111111111111111,\"#46039f\"],[0.2222222222222222,\"#7201a8\"],[0.3333333333333333,\"#9c179e\"],[0.4444444444444444,\"#bd3786\"],[0.5555555555555556,\"#d8576b\"],[0.6666666666666666,\"#ed7953\"],[0.7777777777777778,\"#fb9f3a\"],[0.8888888888888888,\"#fdca26\"],[1.0,\"#f0f921\"]],\"type\":\"histogram2dcontour\"}],\"histogram2d\":[{\"colorbar\":{\"outlinewidth\":0,\"ticks\":\"\"},\"colorscale\":[[0.0,\"#0d0887\"],[0.1111111111111111,\"#46039f\"],[0.2222222222222222,\"#7201a8\"],[0.3333333333333333,\"#9c179e\"],[0.4444444444444444,\"#bd3786\"],[0.5555555555555556,\"#d8576b\"],[0.6666666666666666,\"#ed7953\"],[0.7777777777777778,\"#fb9f3a\"],[0.8888888888888888,\"#fdca26\"],[1.0,\"#f0f921\"]],\"type\":\"histogram2d\"}],\"histogram\":[{\"marker\":{\"pattern\":{\"fillmode\":\"overlay\",\"size\":10,\"solidity\":0.2}},\"type\":\"histogram\"}],\"mesh3d\":[{\"colorbar\":{\"outlinewidth\":0,\"ticks\":\"\"},\"type\":\"mesh3d\"}],\"parcoords\":[{\"line\":{\"colorbar\":{\"outlinewidth\":0,\"ticks\":\"\"}},\"type\":\"parcoords\"}],\"pie\":[{\"automargin\":true,\"type\":\"pie\"}],\"scatter3d\":[{\"line\":{\"colorbar\":{\"outlinewidth\":0,\"ticks\":\"\"}},\"marker\":{\"colorbar\":{\"outlinewidth\":0,\"ticks\":\"\"}},\"type\":\"scatter3d\"}],\"scattercarpet\":[{\"marker\":{\"colorbar\":{\"outlinewidth\":0,\"ticks\":\"\"}},\"type\":\"scattercarpet\"}],\"scattergeo\":[{\"marker\":{\"colorbar\":{\"outlinewidth\":0,\"ticks\":\"\"}},\"type\":\"scattergeo\"}],\"scattergl\":[{\"marker\":{\"colorbar\":{\"outlinewidth\":0,\"ticks\":\"\"}},\"type\":\"scattergl\"}],\"scattermapbox\":[{\"marker\":{\"colorbar\":{\"outlinewidth\":0,\"ticks\":\"\"}},\"type\":\"scattermapbox\"}],\"scatterpolargl\":[{\"marker\":{\"colorbar\":{\"outlinewidth\":0,\"ticks\":\"\"}},\"type\":\"scatterpolargl\"}],\"scatterpolar\":[{\"marker\":{\"colorbar\":{\"outlinewidth\":0,\"ticks\":\"\"}},\"type\":\"scatterpolar\"}],\"scatter\":[{\"marker\":{\"colorbar\":{\"outlinewidth\":0,\"ticks\":\"\"}},\"type\":\"scatter\"}],\"scatterternary\":[{\"marker\":{\"colorbar\":{\"outlinewidth\":0,\"ticks\":\"\"}},\"type\":\"scatterternary\"}],\"surface\":[{\"colorbar\":{\"outlinewidth\":0,\"ticks\":\"\"},\"colorscale\":[[0.0,\"#0d0887\"],[0.1111111111111111,\"#46039f\"],[0.2222222222222222,\"#7201a8\"],[0.3333333333333333,\"#9c179e\"],[0.4444444444444444,\"#bd3786\"],[0.5555555555555556,\"#d8576b\"],[0.6666666666666666,\"#ed7953\"],[0.7777777777777778,\"#fb9f3a\"],[0.8888888888888888,\"#fdca26\"],[1.0,\"#f0f921\"]],\"type\":\"surface\"}],\"table\":[{\"cells\":{\"fill\":{\"color\":\"#EBF0F8\"},\"line\":{\"color\":\"white\"}},\"header\":{\"fill\":{\"color\":\"#C8D4E3\"},\"line\":{\"color\":\"white\"}},\"type\":\"table\"}]},\"layout\":{\"annotationdefaults\":{\"arrowcolor\":\"#2a3f5f\",\"arrowhead\":0,\"arrowwidth\":1},\"autotypenumbers\":\"strict\",\"coloraxis\":{\"colorbar\":{\"outlinewidth\":0,\"ticks\":\"\"}},\"colorscale\":{\"diverging\":[[0,\"#8e0152\"],[0.1,\"#c51b7d\"],[0.2,\"#de77ae\"],[0.3,\"#f1b6da\"],[0.4,\"#fde0ef\"],[0.5,\"#f7f7f7\"],[0.6,\"#e6f5d0\"],[0.7,\"#b8e186\"],[0.8,\"#7fbc41\"],[0.9,\"#4d9221\"],[1,\"#276419\"]],\"sequential\":[[0.0,\"#0d0887\"],[0.1111111111111111,\"#46039f\"],[0.2222222222222222,\"#7201a8\"],[0.3333333333333333,\"#9c179e\"],[0.4444444444444444,\"#bd3786\"],[0.5555555555555556,\"#d8576b\"],[0.6666666666666666,\"#ed7953\"],[0.7777777777777778,\"#fb9f3a\"],[0.8888888888888888,\"#fdca26\"],[1.0,\"#f0f921\"]],\"sequentialminus\":[[0.0,\"#0d0887\"],[0.1111111111111111,\"#46039f\"],[0.2222222222222222,\"#7201a8\"],[0.3333333333333333,\"#9c179e\"],[0.4444444444444444,\"#bd3786\"],[0.5555555555555556,\"#d8576b\"],[0.6666666666666666,\"#ed7953\"],[0.7777777777777778,\"#fb9f3a\"],[0.8888888888888888,\"#fdca26\"],[1.0,\"#f0f921\"]]},\"colorway\":[\"#636efa\",\"#EF553B\",\"#00cc96\",\"#ab63fa\",\"#FFA15A\",\"#19d3f3\",\"#FF6692\",\"#B6E880\",\"#FF97FF\",\"#FECB52\"],\"font\":{\"color\":\"#2a3f5f\"},\"geo\":{\"bgcolor\":\"white\",\"lakecolor\":\"white\",\"landcolor\":\"#E5ECF6\",\"showlakes\":true,\"showland\":true,\"subunitcolor\":\"white\"},\"hoverlabel\":{\"align\":\"left\"},\"hovermode\":\"closest\",\"mapbox\":{\"style\":\"light\"},\"paper_bgcolor\":\"white\",\"plot_bgcolor\":\"#E5ECF6\",\"polar\":{\"angularaxis\":{\"gridcolor\":\"white\",\"linecolor\":\"white\",\"ticks\":\"\"},\"bgcolor\":\"#E5ECF6\",\"radialaxis\":{\"gridcolor\":\"white\",\"linecolor\":\"white\",\"ticks\":\"\"}},\"scene\":{\"xaxis\":{\"backgroundcolor\":\"#E5ECF6\",\"gridcolor\":\"white\",\"gridwidth\":2,\"linecolor\":\"white\",\"showbackground\":true,\"ticks\":\"\",\"zerolinecolor\":\"white\"},\"yaxis\":{\"backgroundcolor\":\"#E5ECF6\",\"gridcolor\":\"white\",\"gridwidth\":2,\"linecolor\":\"white\",\"showbackground\":true,\"ticks\":\"\",\"zerolinecolor\":\"white\"},\"zaxis\":{\"backgroundcolor\":\"#E5ECF6\",\"gridcolor\":\"white\",\"gridwidth\":2,\"linecolor\":\"white\",\"showbackground\":true,\"ticks\":\"\",\"zerolinecolor\":\"white\"}},\"shapedefaults\":{\"line\":{\"color\":\"#2a3f5f\"}},\"ternary\":{\"aaxis\":{\"gridcolor\":\"white\",\"linecolor\":\"white\",\"ticks\":\"\"},\"baxis\":{\"gridcolor\":\"white\",\"linecolor\":\"white\",\"ticks\":\"\"},\"bgcolor\":\"#E5ECF6\",\"caxis\":{\"gridcolor\":\"white\",\"linecolor\":\"white\",\"ticks\":\"\"}},\"title\":{\"x\":0.05},\"xaxis\":{\"automargin\":true,\"gridcolor\":\"white\",\"linecolor\":\"white\",\"ticks\":\"\",\"title\":{\"standoff\":15},\"zerolinecolor\":\"white\",\"zerolinewidth\":2},\"yaxis\":{\"automargin\":true,\"gridcolor\":\"white\",\"linecolor\":\"white\",\"ticks\":\"\",\"title\":{\"standoff\":15},\"zerolinecolor\":\"white\",\"zerolinewidth\":2}}},\"title\":{\"text\":\"CLV_6m\"}},                        {\"responsive\": true}                    ).then(function(){\n",
              "                            \n",
              "var gd = document.getElementById('90761b09-ceca-4f8d-a57d-3888091c3189');\n",
              "var x = new MutationObserver(function (mutations, observer) {{\n",
              "        var display = window.getComputedStyle(gd).display;\n",
              "        if (!display || display === 'none') {{\n",
              "            console.log([gd, 'removed!']);\n",
              "            Plotly.purge(gd);\n",
              "            observer.disconnect();\n",
              "        }}\n",
              "}});\n",
              "\n",
              "// Listen for the removal of the full notebook cells\n",
              "var notebookContainer = gd.closest('#notebook-container');\n",
              "if (notebookContainer) {{\n",
              "    x.observe(notebookContainer, {childList: true});\n",
              "}}\n",
              "\n",
              "// Listen for the clearing of the current output cell\n",
              "var outputEl = gd.closest('.output');\n",
              "if (outputEl) {{\n",
              "    x.observe(outputEl, {childList: true});\n",
              "}}\n",
              "\n",
              "                        })                };                            </script>        </div>\n",
              "</body>\n",
              "</html>"
            ]
          },
          "metadata": {}
        }
      ],
      "source": [
        "# Se grafica la distribución del \"CLV_6m\":\n",
        "plot_data = [\n",
        "    go.Histogram(\n",
        "        x=data_user_6m.query(\"Ingreso_6m < 10000\")[\"Ingreso_6m\"])]\n",
        "\n",
        "plot_layout = go.Layout(title=\"CLV_6m\" )\n",
        "fig = go.Figure(data=plot_data, layout=plot_layout)\n",
        "pyoff.iplot(fig)"
      ]
    },
    {
      "cell_type": "markdown",
      "metadata": {
        "id": "2XfoRLrJvS4E"
      },
      "source": [
        "El histograma muestra claramente que existen clientes con CLV negativo. También tenemos algunos valores atípicos. Filtrar los valores atípicos tiene sentido para tener un modelo de aprendizaje automático adecuado. \n"
      ]
    },
    {
      "cell_type": "markdown",
      "metadata": {
        "id": "_k-Wb4VBtXl4"
      },
      "source": [
        "El siguiente paso es fusionar el dataframe de 3 meses con el de 6 meses para ver las correlaciones entre CLV y el resto de características."
      ]
    },
    {
      "cell_type": "code",
      "execution_count": 397,
      "metadata": {
        "colab": {
          "base_uri": "https://localhost:8080/",
          "height": 206
        },
        "id": "bnemhyzj0_sN",
        "outputId": "93b3a21b-b76e-447d-91d1-3d76845ebe54"
      },
      "outputs": [
        {
          "output_type": "execute_result",
          "data": {
            "text/plain": [
              "   ID_Cliente  Recencia  Grupo_Recencia  Frecuencia  Grupo_Frecuencia  \\\n",
              "0     14620.0        12               3          30                 0   \n",
              "1     15194.0         6               3          64                 0   \n",
              "2     18044.0         5               3          57                 0   \n",
              "3     18075.0        12               3          35                 0   \n",
              "4     15241.0         0               3          64                 0   \n",
              "\n",
              "   Ingreso  Grupo_Ingreso  Puntaje     Segmento  Ingreso_6m  \n",
              "0   393.28              0        3  Valor-Medio        0.00  \n",
              "1  1439.02              0        3  Valor-Medio     3232.20  \n",
              "2   808.96              0        3  Valor-Medio      991.54  \n",
              "3   638.12              0        3  Valor-Medio     1322.75  \n",
              "4   947.55              0        3  Valor-Medio      791.04  "
            ],
            "text/html": [
              "\n",
              "  <div id=\"df-5d8ec2cf-ccf1-4ea9-acf8-a74ae2508fc6\">\n",
              "    <div class=\"colab-df-container\">\n",
              "      <div>\n",
              "<style scoped>\n",
              "    .dataframe tbody tr th:only-of-type {\n",
              "        vertical-align: middle;\n",
              "    }\n",
              "\n",
              "    .dataframe tbody tr th {\n",
              "        vertical-align: top;\n",
              "    }\n",
              "\n",
              "    .dataframe thead th {\n",
              "        text-align: right;\n",
              "    }\n",
              "</style>\n",
              "<table border=\"1\" class=\"dataframe\">\n",
              "  <thead>\n",
              "    <tr style=\"text-align: right;\">\n",
              "      <th></th>\n",
              "      <th>ID_Cliente</th>\n",
              "      <th>Recencia</th>\n",
              "      <th>Grupo_Recencia</th>\n",
              "      <th>Frecuencia</th>\n",
              "      <th>Grupo_Frecuencia</th>\n",
              "      <th>Ingreso</th>\n",
              "      <th>Grupo_Ingreso</th>\n",
              "      <th>Puntaje</th>\n",
              "      <th>Segmento</th>\n",
              "      <th>Ingreso_6m</th>\n",
              "    </tr>\n",
              "  </thead>\n",
              "  <tbody>\n",
              "    <tr>\n",
              "      <th>0</th>\n",
              "      <td>14620.0</td>\n",
              "      <td>12</td>\n",
              "      <td>3</td>\n",
              "      <td>30</td>\n",
              "      <td>0</td>\n",
              "      <td>393.28</td>\n",
              "      <td>0</td>\n",
              "      <td>3</td>\n",
              "      <td>Valor-Medio</td>\n",
              "      <td>0.00</td>\n",
              "    </tr>\n",
              "    <tr>\n",
              "      <th>1</th>\n",
              "      <td>15194.0</td>\n",
              "      <td>6</td>\n",
              "      <td>3</td>\n",
              "      <td>64</td>\n",
              "      <td>0</td>\n",
              "      <td>1439.02</td>\n",
              "      <td>0</td>\n",
              "      <td>3</td>\n",
              "      <td>Valor-Medio</td>\n",
              "      <td>3232.20</td>\n",
              "    </tr>\n",
              "    <tr>\n",
              "      <th>2</th>\n",
              "      <td>18044.0</td>\n",
              "      <td>5</td>\n",
              "      <td>3</td>\n",
              "      <td>57</td>\n",
              "      <td>0</td>\n",
              "      <td>808.96</td>\n",
              "      <td>0</td>\n",
              "      <td>3</td>\n",
              "      <td>Valor-Medio</td>\n",
              "      <td>991.54</td>\n",
              "    </tr>\n",
              "    <tr>\n",
              "      <th>3</th>\n",
              "      <td>18075.0</td>\n",
              "      <td>12</td>\n",
              "      <td>3</td>\n",
              "      <td>35</td>\n",
              "      <td>0</td>\n",
              "      <td>638.12</td>\n",
              "      <td>0</td>\n",
              "      <td>3</td>\n",
              "      <td>Valor-Medio</td>\n",
              "      <td>1322.75</td>\n",
              "    </tr>\n",
              "    <tr>\n",
              "      <th>4</th>\n",
              "      <td>15241.0</td>\n",
              "      <td>0</td>\n",
              "      <td>3</td>\n",
              "      <td>64</td>\n",
              "      <td>0</td>\n",
              "      <td>947.55</td>\n",
              "      <td>0</td>\n",
              "      <td>3</td>\n",
              "      <td>Valor-Medio</td>\n",
              "      <td>791.04</td>\n",
              "    </tr>\n",
              "  </tbody>\n",
              "</table>\n",
              "</div>\n",
              "      <button class=\"colab-df-convert\" onclick=\"convertToInteractive('df-5d8ec2cf-ccf1-4ea9-acf8-a74ae2508fc6')\"\n",
              "              title=\"Convert this dataframe to an interactive table.\"\n",
              "              style=\"display:none;\">\n",
              "        \n",
              "  <svg xmlns=\"http://www.w3.org/2000/svg\" height=\"24px\"viewBox=\"0 0 24 24\"\n",
              "       width=\"24px\">\n",
              "    <path d=\"M0 0h24v24H0V0z\" fill=\"none\"/>\n",
              "    <path d=\"M18.56 5.44l.94 2.06.94-2.06 2.06-.94-2.06-.94-.94-2.06-.94 2.06-2.06.94zm-11 1L8.5 8.5l.94-2.06 2.06-.94-2.06-.94L8.5 2.5l-.94 2.06-2.06.94zm10 10l.94 2.06.94-2.06 2.06-.94-2.06-.94-.94-2.06-.94 2.06-2.06.94z\"/><path d=\"M17.41 7.96l-1.37-1.37c-.4-.4-.92-.59-1.43-.59-.52 0-1.04.2-1.43.59L10.3 9.45l-7.72 7.72c-.78.78-.78 2.05 0 2.83L4 21.41c.39.39.9.59 1.41.59.51 0 1.02-.2 1.41-.59l7.78-7.78 2.81-2.81c.8-.78.8-2.07 0-2.86zM5.41 20L4 18.59l7.72-7.72 1.47 1.35L5.41 20z\"/>\n",
              "  </svg>\n",
              "      </button>\n",
              "      \n",
              "  <style>\n",
              "    .colab-df-container {\n",
              "      display:flex;\n",
              "      flex-wrap:wrap;\n",
              "      gap: 12px;\n",
              "    }\n",
              "\n",
              "    .colab-df-convert {\n",
              "      background-color: #E8F0FE;\n",
              "      border: none;\n",
              "      border-radius: 50%;\n",
              "      cursor: pointer;\n",
              "      display: none;\n",
              "      fill: #1967D2;\n",
              "      height: 32px;\n",
              "      padding: 0 0 0 0;\n",
              "      width: 32px;\n",
              "    }\n",
              "\n",
              "    .colab-df-convert:hover {\n",
              "      background-color: #E2EBFA;\n",
              "      box-shadow: 0px 1px 2px rgba(60, 64, 67, 0.3), 0px 1px 3px 1px rgba(60, 64, 67, 0.15);\n",
              "      fill: #174EA6;\n",
              "    }\n",
              "\n",
              "    [theme=dark] .colab-df-convert {\n",
              "      background-color: #3B4455;\n",
              "      fill: #D2E3FC;\n",
              "    }\n",
              "\n",
              "    [theme=dark] .colab-df-convert:hover {\n",
              "      background-color: #434B5C;\n",
              "      box-shadow: 0px 1px 3px 1px rgba(0, 0, 0, 0.15);\n",
              "      filter: drop-shadow(0px 1px 2px rgba(0, 0, 0, 0.3));\n",
              "      fill: #FFFFFF;\n",
              "    }\n",
              "  </style>\n",
              "\n",
              "      <script>\n",
              "        const buttonEl =\n",
              "          document.querySelector('#df-5d8ec2cf-ccf1-4ea9-acf8-a74ae2508fc6 button.colab-df-convert');\n",
              "        buttonEl.style.display =\n",
              "          google.colab.kernel.accessAllowed ? 'block' : 'none';\n",
              "\n",
              "        async function convertToInteractive(key) {\n",
              "          const element = document.querySelector('#df-5d8ec2cf-ccf1-4ea9-acf8-a74ae2508fc6');\n",
              "          const dataTable =\n",
              "            await google.colab.kernel.invokeFunction('convertToInteractive',\n",
              "                                                     [key], {});\n",
              "          if (!dataTable) return;\n",
              "\n",
              "          const docLinkHtml = 'Like what you see? Visit the ' +\n",
              "            '<a target=\"_blank\" href=https://colab.research.google.com/notebooks/data_table.ipynb>data table notebook</a>'\n",
              "            + ' to learn more about interactive tables.';\n",
              "          element.innerHTML = '';\n",
              "          dataTable['output_type'] = 'display_data';\n",
              "          await google.colab.output.renderOutput(dataTable, element);\n",
              "          const docLink = document.createElement('div');\n",
              "          docLink.innerHTML = docLinkHtml;\n",
              "          element.appendChild(docLink);\n",
              "        }\n",
              "      </script>\n",
              "    </div>\n",
              "  </div>\n",
              "  "
            ]
          },
          "metadata": {},
          "execution_count": 397
        }
      ],
      "source": [
        "# Se fusionan los dos dataframes:\n",
        "data_merge = pd.merge(data_cliente, data_user_6m, on=\"ID_Cliente\", how=\"left\")\n",
        "# Se reemplazan con cero los datos faltantes (Nan):\n",
        "data_merge = data_merge.fillna(0)\n",
        "# Se observa el encabezado del dataframe resultante:\n",
        "data_merge.head()"
      ]
    },
    {
      "cell_type": "code",
      "execution_count": 398,
      "metadata": {
        "colab": {
          "base_uri": "https://localhost:8080/",
          "height": 0
        },
        "id": "bgBrQ4Q21f59",
        "outputId": "5eb6ef3f-ffb5-4481-f652-0a275cc964c3"
      },
      "outputs": [
        {
          "output_type": "execute_result",
          "data": {
            "text/plain": [
              "Segmento\n",
              "Valor-Bajo       700.320392\n",
              "Valor-Medio     1715.260922\n",
              "Valor-Alto     17630.570851\n",
              "Name: Ingreso_6m, dtype: float64"
            ]
          },
          "metadata": {},
          "execution_count": 398
        }
      ],
      "source": [
        "# Se agrupa por segmento y se calcula la media de \"Ingreso_6m\":\n",
        "data_merge.groupby(\"Segmento\")[\"Ingreso_6m\"].mean().sort_values(ascending=True)\n"
      ]
    },
    {
      "cell_type": "markdown",
      "metadata": {
        "id": "G8SkkEBeuxAj"
      },
      "source": [
        "Los clientes que pertenecen al segmento Valor-Bajo generan en promedio 683 usd. "
      ]
    },
    {
      "cell_type": "code",
      "execution_count": 399,
      "metadata": {
        "colab": {
          "base_uri": "https://localhost:8080/",
          "height": 542
        },
        "id": "iBpX-Rqx2P4P",
        "outputId": "f132ee97-5fb4-4b45-f09f-43349c8423e8"
      },
      "outputs": [
        {
          "output_type": "display_data",
          "data": {
            "text/html": [
              "<html>\n",
              "<head><meta charset=\"utf-8\" /></head>\n",
              "<body>\n",
              "    <div>            <script src=\"https://cdnjs.cloudflare.com/ajax/libs/mathjax/2.7.5/MathJax.js?config=TeX-AMS-MML_SVG\"></script><script type=\"text/javascript\">if (window.MathJax) {MathJax.Hub.Config({SVG: {font: \"STIX-Web\"}});}</script>                <script type=\"text/javascript\">window.PlotlyConfig = {MathJaxConfig: 'local'};</script>\n",
              "        <script src=\"https://cdn.plot.ly/plotly-2.8.3.min.js\"></script>                <div id=\"2955efff-7128-486e-a69f-25092866a6a9\" class=\"plotly-graph-div\" style=\"height:525px; width:100%;\"></div>            <script type=\"text/javascript\">                                    window.PLOTLYENV=window.PLOTLYENV || {};                                    if (document.getElementById(\"2955efff-7128-486e-a69f-25092866a6a9\")) {                    Plotly.newPlot(                        \"2955efff-7128-486e-a69f-25092866a6a9\",                        [{\"marker\":{\"color\":\"blue\",\"line\":{\"width\":1},\"opacity\":0.8,\"size\":7},\"mode\":\"markers\",\"name\":\"Bajo\",\"x\":[2,2,2,2,2,2,2,2,2,2,2,2,2,2,2,2,2,2,2,2,2,2,2,2,2,2,2,2,2,2,2,2,2,2,2,2,2,2,2,2,2,2,2,2,2,2,2,2,2,2,2,2,2,2,2,2,2,2,2,2,2,2,2,2,2,2,2,2,2,2,2,2,2,2,2,2,2,2,2,2,2,2,2,2,2,2,2,2,2,2,2,2,2,2,2,2,2,2,2,2,2,2,2,2,2,2,2,2,2,2,2,2,2,2,2,2,2,2,2,2,2,2,2,2,2,2,2,2,2,2,2,2,2,2,2,2,2,2,2,2,2,2,2,2,2,2,2,2,2,2,2,2,2,2,2,2,2,2,2,2,2,2,2,2,2,2,2,2,2,2,2,2,2,2,2,2,2,2,2,2,2,2,2,2,2,2,2,2,2,2,2,2,2,2,2,2,2,2,2,2,2,2,2,2,2,2,2,2,2,2,2,2,2,2,2,2,2,2,2,2,2,2,2,2,2,2,2,2,2,2,2,2,2,2,2,2,2,2,2,2,2,2,2,2,2,2,2,2,2,2,2,2,2,2,2,2,2,2,2,2,2,2,2,2,2,2,2,2,2,2,2,2,2,2,2,2,2,2,2,2,2,2,2,2,2,2,2,2,2,2,2,2,2,2,2,2,2,2,2,2,2,2,2,2,2,2,2,2,2,2,2,2,2,2,2,2,2,2,2,2,2,2,2,2,2,2,2,2,2,2,2,2,2,2,2,2,2,2,2,2,2,2,2,2,2,2,2,2,2,2,2,2,2,2,2,2,2,2,2,2,2,2,2,2,2,2,2,2,2,2,2,2,2,2,2,2,2,2,2,2,2,2,2,2,2,2,2,0,0,0,0,0,0,0,0,0,0,0,0,0,0,0,0,0,0,0,0,0,0,0,0,0,0,0,0,0,0,0,0,0,0,0,0,0,0,0,0,0,0,0,0,0,0,0,0,0,0,0,0,0,0,0,0,0,0,0,0,0,0,0,0,0,0,0,0,0,0,0,0,0,0,0,0,0,0,0,0,0,0,0,0,0,0,0,0,0,0,0,0,0,0,0,0,0,0,0,0,0,0,0,0,0,0,0,0,0,0,0,0,0,0,0,0,0,0,0,0,0,0,0,0,0,0,0,0,0,0,0,0,0,0,0,0,0,0,0,0,0,0,0,0,0,0,0,0,0,0,0,0,0,0,0,0,0,0,0,0,0,0,0,0,0,0,0,0,0,0,0,0,0,0,0,0,0,0,0,0,0,0,0,0,0,0,0,0,0,0,0,0,0,0,0,0,0,0,0,0,0,0,0,0,0,0,0,0,0,0,0,0,0,0,0,0,0,0,0,0,0,0,0,0,0,0,0,0,0,0,0,0,0,0,0,0,0,0,0,0,0,0,0,0,0,0,0,0,0,0,0,0,0,0,0,0,0,0,0,0,0,0,0,0,0,0,0,0,0,0,0,0,0,0,0,0,0,0,0,0,0,0,0,0,0,0,0,0,0,0,0,0,0,0,0,0,0,0,0,0,0,0,0,0,0,0,0,0,0,0,0,0,0,0,0,0,0,0,0,0,0,0,0,0,0,0,0,0,0,0,0,0,0,0,1,1,1,1,1,1,1,1,1,1,1,1,1,1,1,1,1,1,1,1,1,1,1,1,1,1,1,1,1,1,1,1,1,1,1,1,1,1,1,1,1,1,1,1,1,1,1,1,1,1,1,1,1,1,1,1,1,1,1,1,1,1,1,1,1,1,1,1,1,1,1,1,1,1,1,1,1,1,1,1,1,1,1,1,1,1,1,1,1,1,1,1,1,1,1,1,1,1,1,1,1,1,1,1,1,1,1,1,1,1,1,1,1,1,1,1,1,1,1,1,1,1,1,1,1,1,1,1,1,1,1,1,1,1,1,1,1,1,1,1,1,1,1,1,1,1,1,1,1,1,1,1,1,1,1,1,1,1,1,1,1,1,1,1,1,1,1,1,1,1,1,1,1,1,1,1,1,1,1,1,1,1,1,1,1,1,1,1,1,1,1,1,1,1,1,1,1,1,1,1,1,1,1,1,1,1,1,1,1,1,1,1,1,1,1,1,1,1,1,1,1,1,1,1,1,1,1,1,1,1,1,1,1,1,1,1,1,1,1,1,1,1,1,1,1,1,1,1,1,1,1,1,1,1,1,1,1,1,1,1,1,1,1,1,1,1,1,1,1,1,1,1,1,1,1,1,1,1,1,1,1,1,1,1,1,1,1,1,1,1,1,1,1,1,1,1,1,1,1,1,1,1,1,1,1,1,1,1,1,1,1,1,1,1,1,1,1,1,1,1,1,1,1,1,1,1,1,1,1,1,1,1,1,1,1,1,1,1,1,1,1,1,1,1,1,1,1,1,1,1,1,1,1,1,1,1,1,1,1,1,1,1,1,1,1,1,1,1,1,1,1,1,1,1,1,1,1,1,1,1,1,1,1,1,1,1,1,1,1,1,1,1,1,1,1,1,1,1,1,1,1,1,1,1,1,1,1,1,1,1,1,1,1,1,1,1,1,1,2,2,2,2,2,2,2,2,2,2,2,2,2,2,2,2,2,2,2,2,2,2,2,2,2,2,2,2,2,2,2,1,2,2],\"y\":[2193.14,2446.69,1241.75,0.0,827.29,2595.4500000000003,1425.03,938.55,1690.32,303.65,0.0,901.15,0.0,2083.65,889.1,1521.78,1268.53,596.29,1076.21,233.54,322.78,3372.93,4485.12,38.08,1754.89,1868.66,2638.05,3310.9,0.0,5795.88,1538.44,752.57,491.90999999999997,2795.01,1354.3600000000001,1920.71,0.0,595.1800000000001,1538.76,482.28000000000003,1105.13,941.95,299.81,336.47,2807.2400000000002,62.400000000000006,832.36,1523.18,469.76,3926.4300000000003,692.37,629.28,1783.74,1051.1,0.0,248.06,2548.7599999999998,0.0,-3.552713678800501e-15,133.13,-115.43,1075.3700000000001,3656.19,1751.73,1167.44,0.0,95.81,6236.17,1053.7,1541.0,3999.63,1195.5,0.0,1122.53,1205.82,153.3,3967.55,298.0,1600.0,0.0,2571.86,4359.5199999999995,1829.31,2931.54,0.0,2167.84,706.52,2218.65,3885.77,1228.15,711.2299999999999,0.0,109.33,884.64,130.2,303.75,122.76,124.92999999999999,2327.02,884.53,0.0,2618.44,1771.51,878.63,573.48,1425.42,1786.28,481.09999999999997,2091.86,0.0,9.2,3781.26,892.64,1867.59,868.48,1795.72,0.0,491.57,2119.6,501.96000000000004,312.34,499.79999999999995,1730.16,0.0,0.0,3865.02,97.5,117.22,2042.65,1976.92,264.23,1609.15,416.09,0.0,447.9,341.27,2944.73,1148.54,0.0,5474.0,480.97,4904.36,2049.11,1019.1,498.3,1836.98,365.53,1240.1000000000001,1472.84,259.6,865.09,371.16,99.42,1470.13,987.72,536.82,0.0,878.6800000000001,1120.98,2191.62,282.15000000000003,0.0,0.0,0.0,581.76,1099.46,0.0,1310.25,4507.68,1645.35,0.0,0.0,274.6,199.5,117.47999999999999,0.0,465.39,0.0,1449.69,0.0,0.0,0.0,1535.85,387.9,554.76,2074.02,0.0,485.21,413.6,820.97,663.49,0.0,0.0,659.85,0.0,663.56,549.26,0.0,0.0,0.0,0.0,137.98000000000002,1029.74,2164.71,1259.74,0.0,290.32,0.0,579.19,716.88,758.76,0.0,234.6,0.0,0.0,1300.21,6893.6900000000005,85.0,123.27,705.69,441.64,2126.15,379.3,266.1,83.7,217.65,0.0,1300.74,4352.59,594.33,603.4,1447.53,801.46,539.92,2059.7,520.98,0.0,0.0,826.13,336.8,4171.05,788.17,948.96,108.75,96.14,0.0,159.20000000000002,0.0,0.0,325.26,0.0,417.95000000000005,546.95,0.0,2081.6800000000003,1651.49,0.0,0.0,595.84,366.11,0.0,0.0,0.0,866.24,443.18,0.0,-18.72,1692.26,1422.32,173.82,0.0,605.7,0.0,453.06,0.0,4558.22,1524.77,0.0,2019.6,312.87,1366.02,0.0,505.47,307.5,0.0,676.1,0.0,342.58,2687.56,494.26,456.99,262.59,734.52,0.0,763.75,1237.73,0.0,1354.77,945.58,211.0,616.76,517.66,931.47,608.42,1463.83,912.3199999999999,506.12,316.95,368.1,0.0,90.0,0.0,1281.71,1030.19,2392.78,2216.1,0.0,0.0,338.54,0.0,422.04,184.14,367.2,899.7,857.1,1138.12,1008.59,520.98,581.2,0.0,0.0,166.4,0.0,0.0,0.0,1116.19,0.0,166.6,375.19,1674.73,652.4,0.0,168.07999999999998,0.0,0.0,1992.67,111.37,1832.5,3406.0,0.0,0.0,278.45,0.0,347.0,313.06,644.62,0.0,0.0,446.08,0.0,366.52,0.0,488.41,105.0,357.93,0.0,0.0,741.77,0.0,1007.32,496.36,742.56,798.84,261.3,698.84,168.28,541.88,238.28,1785.59,320.12,0.0,0.0,426.09,929.36,254.52,0.0,1036.24,68.0,0.0,0.0,496.78,1406.49,0.0,192.19,0.0,444.33,157.94,344.25,0.0,756.1800000000001,0.0,1511.74,0.0,0.0,0.0,1082.14,905.69,125.0,896.71,1491.92,581.82,149.34000000000003,310.3,0.0,341.78,418.06,0.0,0.0,323.82,598.42,0.0,1113.82,1083.43,3086.71,366.03,1749.36,98.3,947.05,-7.9,0.0,255.95,754.49,0.0,0.0,171.95,0.0,2117.58,385.87,107.76,256.6,1252.79,1698.91,0.0,852.72,0.0,0.0,1236.75,343.38,0.0,0.0,112.67,75.45,600.6800000000001,278.69,1272.8,0.0,979.66,320.6,685.57,462.17,0.0,0.0,116.55000000000001,550.08,0.0,855.54,1067.37,679.71,365.73,0.0,1712.16,0.0,812.0500000000001,1954.28,0.0,0.0,0.0,1639.13,0.0,0.0,0.0,0.0,2124.54,484.22,0.0,0.0,201.6,2324.55,2447.57,0.0,999.07,0.0,402.59999999999997,354.52,356.99,393.40000000000003,545.49,0.0,354.0,0.0,3321.5499999999997,657.12,114.76,0.0,441.78,0.0,776.55,1051.46,102.84,90.02,0.0,0.0,0.0,0.0,1513.91,0.0,0.0,86.9,0.0,152.76,121.92,506.88,611.6,234.3,0.0,0.0,0.0,0.0,1017.5699999999999,0.0,0.0,322.69,388.55,4353.48,274.79,324.45,1283.53,0.0,192.23,0.0,0.0,0.0,423.79,1025.19,418.94,293.62,0.0,0.0,430.85,0.0,389.47999999999996,211.29999999999998,0.0,0.0,15.25,4779.58,0.0,656.79,0.0,256.87,0.0,1337.41,309.66,891.12,642.32,0.0,0.0,341.44,252.37,0.0,334.3,1772.14,365.52000000000004,457.14,727.44,0.0,0.0,0.0,124.14999999999999,545.28,0.0,-609.4000000000001,0.0,0.0,0.0,2301.08,3480.32,0.0,0.0,0.0,0.0,0.0,1643.1100000000001,587.98,736.59,0.0,0.0,114.31,3061.79,0.0,1926.58,542.16,0.0,0.0,0.0,1560.58,431.59,0.0,1014.13,0.0,94.5,187.14000000000001,0.0,0.0,1352.4,0.0,0.0,0.0,0.0,234.08,291.48,686.23,0.0,0.0,0.0,478.89000000000004,175.4,0.0,0.0,389.51,570.19,185.9,0.0,0.0,303.59,1844.28,595.15,0.0,0.0,1510.49,1779.0,1090.6200000000001,0.0,2223.44,0.0,0.0,302.45,312.53000000000003,1285.65,0.0,0.0,194.48,475.24,0.0,0.0,0.0,262.15,115.49,0.0,0.0,859.19,0.0,1326.83,0.0,213.29999999999998,1264.36,493.36,0.0,0.0,419.57000000000005,317.56,0.0,951.43,612.38,418.98,553.63,0.0,1909.16,0.0,0.0,0.0,0.0,1208.78,465.78,0.0,0.0,0.0,0.0,750.74,76.32000000000001,500.74,0.0,2195.62,989.95,2231.29,260.35,613.44,324.52,1103.11,102.0,0.0,596.91,49.1,221.24,0.0,757.4,456.84000000000003,0.0,573.1700000000001,0.0,0.0,257.48,0.0,151.70000000000002,305.51,313.4,2218.9,0.0,281.75,305.22,0.0,454.89000000000004,3113.7,1275.41,1275.38,0.0,227.86,930.39,1730.49,0.0,1047.16,0.0,4104.89,668.1800000000001,184.19,4809.77,469.28000000000003,238.22,887.9,1980.01,2165.92,229.09,3186.9900000000002,2460.7,632.83,967.78,0.0,233.64000000000001,1147.45,231.6,575.4,762.48,1619.3600000000001,1651.94,1653.45,313.08000000000004,735.4300000000001,1045.09,1581.96,5396.44,171.20000000000002,3850.57,-13.35,926.18,1063.28,1893.39,0.0,1424.0,305.55,1746.6,626.95,407.66999999999996,470.08,0.0,1880.72,0.0,346.76,1738.21,907.23,108.32,0.0,331.96,943.36,978.7,111.16000000000001,0.0,106.15,1965.22,0.0,1971.68,1975.7,2331.82,0.0,367.8,163.2,678.18,765.0,0.0,1062.11,1788.1,659.0,812.16,0.0,1296.74,399.5,690.01,0.0,4110.45,299.92,324.14,581.39,0.0,305.87,1973.9,1036.38,1638.68,0.0,0.0,0.0,975.1800000000001,0.0,0.0,592.9,0.0,241.47,539.55,138.05,1617.3,0.0,258.48,1160.56,0.0,1014.64,2975.15,335.74,0.0,86.02,1051.06,1066.47,0.0,204.87,0.0,-8.25,544.9,744.65,903.48,306.36,305.52,0.0,0.0,0.0,2346.29,809.81,508.05,747.58,207.68,0.0,0.0,5131.28,347.75,0.0,0.0,303.06,0.0,1307.29,0.0,0.0,-229.20000000000002,752.09,390.09,559.65,608.79,0.0,0.0,0.0,942.01,362.15,512.8299999999999,0.0,0.0,2061.43,0.0,0.0,1254.84,804.5799999999999,333.63,0.0,345.9,511.3,171.06,0.0,687.72,0.0,53.65,299.49,0.0,0.0,0.0,242.27,0.0,0.0,107.60000000000001,0.0,367.4,1004.8,949.22,549.25,578.4499999999999,485.89,1956.6700000000003,363.87,0.0,452.39,750.71,357.12,1547.63,0.0,192.05,0.0,134.28,476.02,363.8,0.0,1083.24,1509.21,0.0,1024.42,118.2,0.0,372.82000000000005,0.0,0.0,0.0,479.45,51.95,0.0,293.17,289.03,923.82,201.13,218.27,1196.06,0.0,487.15999999999997,397.15,0.0,30.119999999999997,596.13,213.8,1372.68,0.0,0.0,731.16,1503.99,0.0,72.52,1017.75,0.0,0.0,651.9300000000001,0.0,390.0,0.0,0.0,899.08,738.7,703.75,340.38,0.0,352.31,949.75,0.0,0.0,549.32,1077.47,1301.55,1282.66,594.4,0.0,940.83,0.0,505.88,1265.18,2315.26,0.0,0.0,1243.28,575.44,0.0,231.17,300.1,231.23,0.0,0.0,0.0,874.42,759.04,575.54,0.0,6.9,0.0,352.47,163.05,2073.53,1250.88,658.38,315.69,0.0,18.72,0.0,1469.11,5630.22,1983.24,0.0,497.90000000000003,681.13,0.0,1174.59,0.0,894.21,413.7,489.41999999999996,0.0,369.40999999999997,1349.8799999999999,0.0,0.0,1784.71,0.0,0.0,0.0,1025.85,0.0,1243.41,761.77,287.54,74.55,2000.32,1473.55,865.99,0.0,0.0,0.0,358.0,137.84,0.0,0.0,656.47,107.72,614.67,782.89,0.0,0.0,158.4,0.0,290.52,125.01,0.0,0.0,0.0,794.54,0.0,394.14,713.23,793.88,1242.61,611.55,0.0,0.0,229.61,674.12,1725.4,809.23,406.0,111.25,376.90000000000003,1215.58,1503.87,0.0,1026.78,0.0,1849.47,262.17,0.0,2430.63,0.0,547.56,0.0,397.65,306.78000000000003,995.33,0.0,587.65,291.35,0.0,935.1,2110.2200000000003,363.2,0.0,0.0,1562.68,0.0,386.6,129.49,123.13,721.19,568.42,843.0,298.6,391.7,194.41,540.07,113.95,0.0,168.1,0.0,659.8,401.34000000000003,0.0,223.48,505.23,0.0,1344.6,148.95999999999998,291.31,3514.0,0.0,3043.32,827.38,590.86,2265.68,1299.0,642.77,380.35,0.0,0.0,1478.3700000000001,0.0,3970.44,756.48,2112.9900000000002,1090.1,1612.08,785.74,1028.0,130.55,1464.9,1575.47,1140.08,1321.46,1348.49,1012.16,4054.17,721.35,4277.65,2892.86,2710.52,1239.86,163.56,1978.8700000000001,520.48,0.0,765.79,2545.73,1219.42,1813.4,984.2,-5.9,1325.33,583.65,7058.45,2102.71,3072.0],\"type\":\"scatter\"},{\"marker\":{\"color\":\"green\",\"line\":{\"width\":1},\"opacity\":0.5,\"size\":9},\"mode\":\"markers\",\"name\":\"Medio\",\"x\":[3,3,3,3,3,3,3,3,3,3,3,3,3,3,3,3,3,3,3,3,3,3,3,3,3,3,3,3,3,3,3,3,3,3,3,3,3,3,3,3,3,3,3,3,3,3,3,3,3,3,3,3,3,3,3,3,3,3,3,3,3,3,3,3,3,3,3,3,3,3,3,3,3,3,3,3,3,3,3,3,3,3,3,3,3,3,3,3,3,3,3,3,3,3,3,3,3,3,3,3,3,3,3,3,3,3,3,3,3,3,3,3,3,3,3,3,3,3,3,3,3,3,3,3,3,3,3,3,3,3,3,3,3,3,3,3,3,3,3,3,3,3,3,3,3,3,3,3,3,3,3,3,3,3,3,3,3,3,3,3,3,3,3,3,3,3,3,3,3,3,3,3,3,3,3,3,3,3,3,3,3,3,3,3,3,3,3,3,3,3,3,3,3,3,3,3,3,3,3,3,3,3,3,3,3,3,3,3,3,3,3,3,3,3,3,3,3,3,3,3,3,3,3,3,3,3,3,3,3,3,3,3,3,3,3,3,3,3,3,3,3,3,3,3,3,3,3,3,3,3,3,3,3,3,3,3,3,3,3,3,3,3,3,3,3,3,3,3,3,3,3,3,3,3,3,3,3,3,3,3,3,3,3,3,3,3,3,3,3,3,3,3,3,3,3,3,3,3,3,3,3,3,3,3,3,3,3,3,3,3,3,3,3,3,3,3,3,3,3,3,3,3,3,3,3,3,3,3,3,3,3,3,3,3,3,3,3,3,3,3,3,3,3,3,3,3,3,3,3,3,3,3,3,3,3,3,3,3,3,3,3,3,3,3,3,3,3,3,3,3,3,3,3,3,3,3,3,3,3,3,3,3,3,3,3,3,3,3,3,3,3,3,3,3,3,3,3,3,3,3,3,3,3,3,3,3,3,3,3,3,3,3,3,3,3,3,3,3,3,3,3,3,3,3,3,3,3,3,3,3,3,3,3,3,3,3,3,3,3,3,3,4,4,4,4,4,4,4,4,4,4,4,4,4,4,4,4,4,4,4,4,4,4,4,4,4,4,4,4,4,4,4,4,4,4,4,4,4,4,4,4,4,4,4,4,4,4,4,4,4,4,4,4,4,4,4,4,4,4,4,4,4,4,4,4,4,4,4,4,4,4,4,4,4,4,4,4,4,4,4,4,4,4,4,4,4,4,4,4,4,4,4,4,4,4,4,3,3,3,3,3,3,3,3,3,3,3,3,3,3,3,3,3,3,3,3,3,3,3,3,3,3,3,3,3,3,3,3,3,3,3,3,3,3,3,3,3,3,3,4,4,4,4,4,4,4,4,4,4,4,4,4,4,4,4,4,4,3,4,4,4,4,4,4,4,4,3],\"y\":[0.0,3232.2000000000003,991.5400000000001,1322.75,791.04,858.09,1399.72,1666.1100000000001,2795.37,911.33,692.1,422.05,3313.75,774.7800000000001,0.0,-24.9,1085.81,6354.67,2039.65,1045.28,3526.64,376.84000000000003,0.0,16.9,5421.98,3541.43,1409.07,1779.95,920.77,562.2,-33.0,3052.46,1603.23,0.0,3443.14,4280.14,0.0,917.88,0.0,919.8000000000001,644.5,1138.1,5421.87,500.52000000000004,1989.65,1251.05,278.43,1099.95,244.05,440.18,461.40999999999997,2571.82,1203.58,873.98,1327.46,0.0,378.0,340.6,2199.38,1200.34,1397.22,1557.15,1534.49,59.45,1703.09,1358.76,1641.18,2880.8,2202.37,1664.44,1110.75,2518.79,1920.82,2952.84,522.7900000000001,1414.99,2930.74,67.65,3229.62,75.6,2903.7200000000003,1090.82,3464.94,115.15,1076.04,576.4,1691.77,0.0,2154.5,1255.5500000000002,340.9,219.12,1562.46,4418.2,877.0,69.28,414.59,1046.94,42.45,682.52,1222.55,2597.75,369.73,50.78,0.0,8.5,3169.05,488.06,571.61,2906.45,7.5,1649.95,138.24,888.4200000000001,421.61,1622.57,1589.5,2001.64,990.28,277.12,356.92,1206.3,693.37,795.08,2811.71,216.37,624.35,754.07,3147.77,810.57,1700.74,276.73,2876.02,15.899999999999997,707.4,627.77,1014.39,1616.61,2169.63,1326.1100000000001,522.21,984.3,0.0,185.63,0.0,1696.34,628.06,4507.4800000000005,894.5,338.71000000000004,839.03,753.93,1543.3000000000002,2026.19,2003.97,548.72,340.06,0.0,682.16,6220.51,3181.21,226.14,113.4,5498.07,1928.09,347.90000000000003,99.0,2857.61,1351.92,337.35,427.43,544.92,450.71000000000004,1067.29,928.79,0.0,435.01,1674.97,2022.18,2944.19,0.0,6355.49,1289.8899999999999,405.65,465.96,1932.54,764.25,238.56,2664.05,835.8499999999999,505.69,608.27,570.61,1842.02,0.0,360.23,1604.7,1544.4,864.3000000000001,779.54,1064.09,1696.12,1921.09,412.03000000000003,2115.79,721.75,616.74,698.23,0.0,1005.4100000000001,0.0,249.76,702.94,383.18,898.1700000000001,0.0,493.62,0.0,75.0,2751.05,301.24,516.89,142.68,522.99,57.3,3829.54,670.34,0.0,970.5,916.69,1105.0,0.0,637.3100000000001,663.83,1365.1799999999998,231.49,62.5,1245.1200000000001,427.2,1360.14,2529.6000000000004,1538.41,1917.77,2323.04,0.0,129.0,183.48000000000002,0.0,2600.15,0.0,601.9,358.96,248.31,0.0,816.81,257.88,1274.44,1707.1,461.35,0.0,256.75,1048.43,0.0,0.0,768.87,239.46,1218.51,-37.3,0.0,248.64,844.0600000000001,0.0,0.0,54.740000000000016,1530.16,621.88,2555.46,52.22,0.0,0.0,495.61,741.48,2563.87,270.28000000000003,107.7,653.45,675.27,314.38,490.05,0.0,1368.07,658.85,2895.11,0.0,0.0,999.71,605.74,2623.33,0.0,0.0,0.0,1206.72,473.96,524.69,413.7,447.62,1180.07,0.0,351.47,0.0,873.1,1537.7,86.31,1018.1,789.49,0.0,1837.77,0.0,339.63,0.0,126.66000000000001,0.0,312.90999999999997,168.72,7.42,747.1,248.7,1056.88,1069.28,381.20000000000005,15.001,368.90000000000003,1538.87,0.0,60.8,701.07,78.75,185.56,1232.61,2535.04,0.0,4100.65,0.0,950.6899999999999,0.0,552.66,269.0,0.0,594.2,0.0,-7.780000000000012,1072.0,339.0,122.13,2508.83,58.93,44.349999999999994,0.0,197.85,1632.97,229.8,0.0,1148.94,31.200000000000003,413.06,1167.17,0.0,0.0,587.09,0.0,0.0,107.65,595.22,438.83,0.0,561.33,319.51,583.62,365.4,760.8000000000001,534.33,0.0,943.1600000000001,1898.62,321.54,0.0,1103.15,84.69,346.53000000000003,0.0,562.4,-27.6,0.0,521.2,157.81,2994.14,277.56,0.0,-25.4,-16.95,0.0,0.0,1134.9,695.91,0.0,545.26,0.0,279.08,240.7,0.0,57.5,384.14,211.49,3605.6600000000003,1715.28,1190.96,0.0,394.31,0.0,581.58,-25.75,185.78,0.0,361.84000000000003,-13.5,283.9,110.78,0.0,0.0,0.0,0.0,333.89,59.64,407.11,0.0,0.0,0.0,187.35,0.0,149.47,0.0,-25.0,2195.2400000000002,3410.4900000000002,1682.14,1425.74,1464.05,6124.41,557.73,4073.57,274.52,5067.51,2599.55,2850.04,6548.17,3446.29,3143.27,3854.76,974.05,5074.93,974.75,1813.09,728.3100000000001,839.16,2198.25,1704.67,1737.23,1005.14,924.59,2152.8,3994.07,4270.08,140.85,809.18,2008.81,1625.6299999999999,774.52,5918.6,1350.63,427.13,1772.01,0.0,2134.37,0.0,2658.07,5675.95,1356.21,3355.21,3457.21,-4.12,739.1899999999999,1990.3100000000002,1403.47,2745.32,1582.72,1236.38,1823.26,4110.33,2240.32,-131.55,2278.86,1218.11,2310.34,2983.43,3702.19,1684.72,2749.37,1724.72,2874.37,931.7,3463.34,2752.79,2356.32,1576.6,1144.52,536.9,1166.85,1356.24,3006.27,0.0,653.45,4276.6,1764.25,1637.12,3128.02,2840.94,2340.15,2931.14,786.83,1322.01,235.07,1312.53,2530.36,2073.34,1386.14,1419.97,1776.5,1545.76,4040.85,0.0,5877.17,547.3,1507.23,3213.79,2413.09,3669.33,2004.59,1702.15,1460.17,5280.79,320.81,1139.99,1269.13,855.16,1308.78,1043.8700000000001,6376.54,1154.58,2237.6,1774.36,965.04,2069.58,2194.4700000000003,1031.87,1066.94,791.22,1556.37,2962.66,24.0,283.84,1761.75,2312.96,3554.04,1445.93,3513.02,1148.8,568.72,708.07,1329.84,5015.26,1590.15,7813.71,6146.139999999999,2626.9,1482.66,988.64,7946.900000000001,4361.35,5053.91,1817.4,5042.26,9313.18,3306.66,6281.34,7132.03,1982.0,0.0,3647.04,9455.48,1883.96,6210.4,5763.18,3582.67,7197.41,7472.05,0.0,1699.94],\"type\":\"scatter\"},{\"marker\":{\"color\":\"red\",\"line\":{\"width\":1},\"opacity\":0.9,\"size\":11},\"mode\":\"markers\",\"name\":\"Alto\",\"x\":[5,5,5,5,5,5,5,5,5,5,5,5,5,5,5,5,5,5,5,5,5,5,6,6,6,6,6],\"y\":[2303.4,3596.44,6169.64,7945.35,1099.73,8910.04,3603.7400000000002,3435.33,2324.44,7459.18,6245.12,7262.58,8603.26,3904.02,7390.2300000000005,5652.18,3388.08,3824.44,6082.46,1916.52,6914.64,4217.64,4683.07,3814.2,6855.93,4384.9,4417.76],\"type\":\"scatter\"}],                        {\"template\":{\"data\":{\"barpolar\":[{\"marker\":{\"line\":{\"color\":\"#E5ECF6\",\"width\":0.5},\"pattern\":{\"fillmode\":\"overlay\",\"size\":10,\"solidity\":0.2}},\"type\":\"barpolar\"}],\"bar\":[{\"error_x\":{\"color\":\"#2a3f5f\"},\"error_y\":{\"color\":\"#2a3f5f\"},\"marker\":{\"line\":{\"color\":\"#E5ECF6\",\"width\":0.5},\"pattern\":{\"fillmode\":\"overlay\",\"size\":10,\"solidity\":0.2}},\"type\":\"bar\"}],\"carpet\":[{\"aaxis\":{\"endlinecolor\":\"#2a3f5f\",\"gridcolor\":\"white\",\"linecolor\":\"white\",\"minorgridcolor\":\"white\",\"startlinecolor\":\"#2a3f5f\"},\"baxis\":{\"endlinecolor\":\"#2a3f5f\",\"gridcolor\":\"white\",\"linecolor\":\"white\",\"minorgridcolor\":\"white\",\"startlinecolor\":\"#2a3f5f\"},\"type\":\"carpet\"}],\"choropleth\":[{\"colorbar\":{\"outlinewidth\":0,\"ticks\":\"\"},\"type\":\"choropleth\"}],\"contourcarpet\":[{\"colorbar\":{\"outlinewidth\":0,\"ticks\":\"\"},\"type\":\"contourcarpet\"}],\"contour\":[{\"colorbar\":{\"outlinewidth\":0,\"ticks\":\"\"},\"colorscale\":[[0.0,\"#0d0887\"],[0.1111111111111111,\"#46039f\"],[0.2222222222222222,\"#7201a8\"],[0.3333333333333333,\"#9c179e\"],[0.4444444444444444,\"#bd3786\"],[0.5555555555555556,\"#d8576b\"],[0.6666666666666666,\"#ed7953\"],[0.7777777777777778,\"#fb9f3a\"],[0.8888888888888888,\"#fdca26\"],[1.0,\"#f0f921\"]],\"type\":\"contour\"}],\"heatmapgl\":[{\"colorbar\":{\"outlinewidth\":0,\"ticks\":\"\"},\"colorscale\":[[0.0,\"#0d0887\"],[0.1111111111111111,\"#46039f\"],[0.2222222222222222,\"#7201a8\"],[0.3333333333333333,\"#9c179e\"],[0.4444444444444444,\"#bd3786\"],[0.5555555555555556,\"#d8576b\"],[0.6666666666666666,\"#ed7953\"],[0.7777777777777778,\"#fb9f3a\"],[0.8888888888888888,\"#fdca26\"],[1.0,\"#f0f921\"]],\"type\":\"heatmapgl\"}],\"heatmap\":[{\"colorbar\":{\"outlinewidth\":0,\"ticks\":\"\"},\"colorscale\":[[0.0,\"#0d0887\"],[0.1111111111111111,\"#46039f\"],[0.2222222222222222,\"#7201a8\"],[0.3333333333333333,\"#9c179e\"],[0.4444444444444444,\"#bd3786\"],[0.5555555555555556,\"#d8576b\"],[0.6666666666666666,\"#ed7953\"],[0.7777777777777778,\"#fb9f3a\"],[0.8888888888888888,\"#fdca26\"],[1.0,\"#f0f921\"]],\"type\":\"heatmap\"}],\"histogram2dcontour\":[{\"colorbar\":{\"outlinewidth\":0,\"ticks\":\"\"},\"colorscale\":[[0.0,\"#0d0887\"],[0.1111111111111111,\"#46039f\"],[0.2222222222222222,\"#7201a8\"],[0.3333333333333333,\"#9c179e\"],[0.4444444444444444,\"#bd3786\"],[0.5555555555555556,\"#d8576b\"],[0.6666666666666666,\"#ed7953\"],[0.7777777777777778,\"#fb9f3a\"],[0.8888888888888888,\"#fdca26\"],[1.0,\"#f0f921\"]],\"type\":\"histogram2dcontour\"}],\"histogram2d\":[{\"colorbar\":{\"outlinewidth\":0,\"ticks\":\"\"},\"colorscale\":[[0.0,\"#0d0887\"],[0.1111111111111111,\"#46039f\"],[0.2222222222222222,\"#7201a8\"],[0.3333333333333333,\"#9c179e\"],[0.4444444444444444,\"#bd3786\"],[0.5555555555555556,\"#d8576b\"],[0.6666666666666666,\"#ed7953\"],[0.7777777777777778,\"#fb9f3a\"],[0.8888888888888888,\"#fdca26\"],[1.0,\"#f0f921\"]],\"type\":\"histogram2d\"}],\"histogram\":[{\"marker\":{\"pattern\":{\"fillmode\":\"overlay\",\"size\":10,\"solidity\":0.2}},\"type\":\"histogram\"}],\"mesh3d\":[{\"colorbar\":{\"outlinewidth\":0,\"ticks\":\"\"},\"type\":\"mesh3d\"}],\"parcoords\":[{\"line\":{\"colorbar\":{\"outlinewidth\":0,\"ticks\":\"\"}},\"type\":\"parcoords\"}],\"pie\":[{\"automargin\":true,\"type\":\"pie\"}],\"scatter3d\":[{\"line\":{\"colorbar\":{\"outlinewidth\":0,\"ticks\":\"\"}},\"marker\":{\"colorbar\":{\"outlinewidth\":0,\"ticks\":\"\"}},\"type\":\"scatter3d\"}],\"scattercarpet\":[{\"marker\":{\"colorbar\":{\"outlinewidth\":0,\"ticks\":\"\"}},\"type\":\"scattercarpet\"}],\"scattergeo\":[{\"marker\":{\"colorbar\":{\"outlinewidth\":0,\"ticks\":\"\"}},\"type\":\"scattergeo\"}],\"scattergl\":[{\"marker\":{\"colorbar\":{\"outlinewidth\":0,\"ticks\":\"\"}},\"type\":\"scattergl\"}],\"scattermapbox\":[{\"marker\":{\"colorbar\":{\"outlinewidth\":0,\"ticks\":\"\"}},\"type\":\"scattermapbox\"}],\"scatterpolargl\":[{\"marker\":{\"colorbar\":{\"outlinewidth\":0,\"ticks\":\"\"}},\"type\":\"scatterpolargl\"}],\"scatterpolar\":[{\"marker\":{\"colorbar\":{\"outlinewidth\":0,\"ticks\":\"\"}},\"type\":\"scatterpolar\"}],\"scatter\":[{\"marker\":{\"colorbar\":{\"outlinewidth\":0,\"ticks\":\"\"}},\"type\":\"scatter\"}],\"scatterternary\":[{\"marker\":{\"colorbar\":{\"outlinewidth\":0,\"ticks\":\"\"}},\"type\":\"scatterternary\"}],\"surface\":[{\"colorbar\":{\"outlinewidth\":0,\"ticks\":\"\"},\"colorscale\":[[0.0,\"#0d0887\"],[0.1111111111111111,\"#46039f\"],[0.2222222222222222,\"#7201a8\"],[0.3333333333333333,\"#9c179e\"],[0.4444444444444444,\"#bd3786\"],[0.5555555555555556,\"#d8576b\"],[0.6666666666666666,\"#ed7953\"],[0.7777777777777778,\"#fb9f3a\"],[0.8888888888888888,\"#fdca26\"],[1.0,\"#f0f921\"]],\"type\":\"surface\"}],\"table\":[{\"cells\":{\"fill\":{\"color\":\"#EBF0F8\"},\"line\":{\"color\":\"white\"}},\"header\":{\"fill\":{\"color\":\"#C8D4E3\"},\"line\":{\"color\":\"white\"}},\"type\":\"table\"}]},\"layout\":{\"annotationdefaults\":{\"arrowcolor\":\"#2a3f5f\",\"arrowhead\":0,\"arrowwidth\":1},\"autotypenumbers\":\"strict\",\"coloraxis\":{\"colorbar\":{\"outlinewidth\":0,\"ticks\":\"\"}},\"colorscale\":{\"diverging\":[[0,\"#8e0152\"],[0.1,\"#c51b7d\"],[0.2,\"#de77ae\"],[0.3,\"#f1b6da\"],[0.4,\"#fde0ef\"],[0.5,\"#f7f7f7\"],[0.6,\"#e6f5d0\"],[0.7,\"#b8e186\"],[0.8,\"#7fbc41\"],[0.9,\"#4d9221\"],[1,\"#276419\"]],\"sequential\":[[0.0,\"#0d0887\"],[0.1111111111111111,\"#46039f\"],[0.2222222222222222,\"#7201a8\"],[0.3333333333333333,\"#9c179e\"],[0.4444444444444444,\"#bd3786\"],[0.5555555555555556,\"#d8576b\"],[0.6666666666666666,\"#ed7953\"],[0.7777777777777778,\"#fb9f3a\"],[0.8888888888888888,\"#fdca26\"],[1.0,\"#f0f921\"]],\"sequentialminus\":[[0.0,\"#0d0887\"],[0.1111111111111111,\"#46039f\"],[0.2222222222222222,\"#7201a8\"],[0.3333333333333333,\"#9c179e\"],[0.4444444444444444,\"#bd3786\"],[0.5555555555555556,\"#d8576b\"],[0.6666666666666666,\"#ed7953\"],[0.7777777777777778,\"#fb9f3a\"],[0.8888888888888888,\"#fdca26\"],[1.0,\"#f0f921\"]]},\"colorway\":[\"#636efa\",\"#EF553B\",\"#00cc96\",\"#ab63fa\",\"#FFA15A\",\"#19d3f3\",\"#FF6692\",\"#B6E880\",\"#FF97FF\",\"#FECB52\"],\"font\":{\"color\":\"#2a3f5f\"},\"geo\":{\"bgcolor\":\"white\",\"lakecolor\":\"white\",\"landcolor\":\"#E5ECF6\",\"showlakes\":true,\"showland\":true,\"subunitcolor\":\"white\"},\"hoverlabel\":{\"align\":\"left\"},\"hovermode\":\"closest\",\"mapbox\":{\"style\":\"light\"},\"paper_bgcolor\":\"white\",\"plot_bgcolor\":\"#E5ECF6\",\"polar\":{\"angularaxis\":{\"gridcolor\":\"white\",\"linecolor\":\"white\",\"ticks\":\"\"},\"bgcolor\":\"#E5ECF6\",\"radialaxis\":{\"gridcolor\":\"white\",\"linecolor\":\"white\",\"ticks\":\"\"}},\"scene\":{\"xaxis\":{\"backgroundcolor\":\"#E5ECF6\",\"gridcolor\":\"white\",\"gridwidth\":2,\"linecolor\":\"white\",\"showbackground\":true,\"ticks\":\"\",\"zerolinecolor\":\"white\"},\"yaxis\":{\"backgroundcolor\":\"#E5ECF6\",\"gridcolor\":\"white\",\"gridwidth\":2,\"linecolor\":\"white\",\"showbackground\":true,\"ticks\":\"\",\"zerolinecolor\":\"white\"},\"zaxis\":{\"backgroundcolor\":\"#E5ECF6\",\"gridcolor\":\"white\",\"gridwidth\":2,\"linecolor\":\"white\",\"showbackground\":true,\"ticks\":\"\",\"zerolinecolor\":\"white\"}},\"shapedefaults\":{\"line\":{\"color\":\"#2a3f5f\"}},\"ternary\":{\"aaxis\":{\"gridcolor\":\"white\",\"linecolor\":\"white\",\"ticks\":\"\"},\"baxis\":{\"gridcolor\":\"white\",\"linecolor\":\"white\",\"ticks\":\"\"},\"bgcolor\":\"#E5ECF6\",\"caxis\":{\"gridcolor\":\"white\",\"linecolor\":\"white\",\"ticks\":\"\"}},\"title\":{\"x\":0.05},\"xaxis\":{\"automargin\":true,\"gridcolor\":\"white\",\"linecolor\":\"white\",\"ticks\":\"\",\"title\":{\"standoff\":15},\"zerolinecolor\":\"white\",\"zerolinewidth\":2},\"yaxis\":{\"automargin\":true,\"gridcolor\":\"white\",\"linecolor\":\"white\",\"ticks\":\"\",\"title\":{\"standoff\":15},\"zerolinecolor\":\"white\",\"zerolinewidth\":2}}},\"title\":{\"text\":\"CLV\"},\"xaxis\":{\"title\":{\"text\":\"Puntaje\"}},\"yaxis\":{\"title\":{\"text\":\"CLV_6m\"}}},                        {\"responsive\": true}                    ).then(function(){\n",
              "                            \n",
              "var gd = document.getElementById('2955efff-7128-486e-a69f-25092866a6a9');\n",
              "var x = new MutationObserver(function (mutations, observer) {{\n",
              "        var display = window.getComputedStyle(gd).display;\n",
              "        if (!display || display === 'none') {{\n",
              "            console.log([gd, 'removed!']);\n",
              "            Plotly.purge(gd);\n",
              "            observer.disconnect();\n",
              "        }}\n",
              "}});\n",
              "\n",
              "// Listen for the removal of the full notebook cells\n",
              "var notebookContainer = gd.closest('#notebook-container');\n",
              "if (notebookContainer) {{\n",
              "    x.observe(notebookContainer, {childList: true});\n",
              "}}\n",
              "\n",
              "// Listen for the clearing of the current output cell\n",
              "var outputEl = gd.closest('.output');\n",
              "if (outputEl) {{\n",
              "    x.observe(outputEl, {childList: true});\n",
              "}}\n",
              "\n",
              "                        })                };                            </script>        </div>\n",
              "</body>\n",
              "</html>"
            ]
          },
          "metadata": {}
        }
      ],
      "source": [
        "# Se grafica la relación entre puntaje e ingreso_6m:\n",
        "tx_graph = data_merge.query(\"Ingreso_6m < 10000\")  \n",
        "\n",
        "plot_data = [\n",
        "    go.Scatter(\n",
        "        x=tx_graph.query(\"Segmento == 'Valor-Bajo'\")[\"Puntaje\"],\n",
        "        y=tx_graph.query(\"Segmento == 'Valor-Bajo'\")[\"Ingreso_6m\"],\n",
        "        mode=\"markers\",\n",
        "        name=\"Bajo\",\n",
        "        marker= dict(size= 7,\n",
        "            line= dict(width=1),\n",
        "            color= \"blue\",\n",
        "            opacity= 0.8)),\n",
        "        go.Scatter(\n",
        "        x=tx_graph.query(\"Segmento == 'Valor-Medio'\")[\"Puntaje\"],\n",
        "        y=tx_graph.query(\"Segmento == 'Valor-Medio'\")[\"Ingreso_6m\"],\n",
        "        mode=\"markers\",\n",
        "        name=\"Medio\",\n",
        "        marker= dict(size= 9,\n",
        "            line= dict(width=1),\n",
        "            color= \"green\",\n",
        "            opacity= 0.5 )),\n",
        "        go.Scatter(\n",
        "        x=tx_graph.query(\"Segmento == 'Valor-Alto'\")[\"Puntaje\"],\n",
        "        y=tx_graph.query(\"Segmento == 'Valor-Alto'\")[\"Ingreso_6m\"],\n",
        "        mode=\"markers\",\n",
        "        name=\"Alto\",\n",
        "        marker= dict(size= 11,\n",
        "            line= dict(width=1),\n",
        "            color= \"red\",\n",
        "            opacity= 0.9)),]\n",
        "\n",
        "plot_layout = go.Layout(\n",
        "        yaxis= {\"title\": \"CLV_6m\"},\n",
        "        xaxis= {\"title\": \"Puntaje\"},\n",
        "        title=\"CLV\")\n",
        "fig = go.Figure(data=plot_data, layout=plot_layout)\n",
        "pyoff.iplot(fig)"
      ]
    },
    {
      "cell_type": "markdown",
      "metadata": {
        "id": "MSuWdd_PvlUQ"
      },
      "source": [
        "Existe una correlación positiva bastante visible, un puntaje alto significa un CLV_6m alto.\n",
        "Es importante tener en cuenta que el valor de vida de los clientes es en principio un problema de regresión (por ejemplo, predecir el valor en dólares del CLV), sin embargo en este proyecto se pretende clasificar segmentos de CLV dado que de esta manera será más fácil el proceso de comunicación de resultados. Por lo cual antes de pasar a los modelos de clasificación (aprendizaje supervisado) se realizará una agrupación con K-means (aprendizaje no supervisado) para identificar tres segmentos de valor de los clientes en base al CLV:\n",
        "\n",
        "* CLV Bajo\n",
        "\n",
        "* CLV Medio\n",
        "\n",
        "* CLV Alto"
      ]
    },
    {
      "cell_type": "code",
      "execution_count": 400,
      "metadata": {
        "id": "BUTfmRdXnuSF"
      },
      "outputs": [],
      "source": [
        "# Primero se quitan los outliers de la columna \"Ingreso_6m\":\n",
        "data_merge = data_merge[data_merge[\"Ingreso_6m\"]<data_merge[\"Ingreso_6m\"].quantile(0.99)]\n",
        "\n",
        "\n"
      ]
    },
    {
      "cell_type": "code",
      "execution_count": 401,
      "metadata": {
        "id": "XPn7M8zlnygX"
      },
      "outputs": [],
      "source": [
        "# Se crean tres grupos:\n",
        "kmeans = KMeans(n_clusters=3)\n",
        "kmeans.fit(data_merge[[\"Ingreso_6m\"]])\n",
        "data_merge[\"CLV_Grupo\"] = kmeans.predict(data_merge[[\"Ingreso_6m\"]])\n",
        "\n"
      ]
    },
    {
      "cell_type": "code",
      "execution_count": 402,
      "metadata": {
        "id": "QAYgGyNLoIoo"
      },
      "outputs": [],
      "source": [
        "# Se ordena el número de grupos basado en LTV:\n",
        "data_merge = grupo_ordenado(\"CLV_Grupo\", \"Ingreso_6m\",data_merge,True)\n"
      ]
    },
    {
      "cell_type": "code",
      "execution_count": 403,
      "metadata": {
        "colab": {
          "base_uri": "https://localhost:8080/",
          "height": 206
        },
        "id": "HKqe6_4roTbm",
        "outputId": "23ea11cd-fa42-4bf0-cd7a-0746e8db6011"
      },
      "outputs": [
        {
          "output_type": "execute_result",
          "data": {
            "text/plain": [
              "   ID_Cliente  Recencia  Grupo_Recencia  Frecuencia  Grupo_Frecuencia  \\\n",
              "0     14620.0        12               3          30                 0   \n",
              "1     18044.0         5               3          57                 0   \n",
              "2     18075.0        12               3          35                 0   \n",
              "3     15241.0         0               3          64                 0   \n",
              "4     15660.0         4               3          34                 0   \n",
              "\n",
              "   Ingreso  Grupo_Ingreso  Puntaje     Segmento  Ingreso_6m  CLV_Grupo  \n",
              "0   393.28              0        3  Valor-Medio        0.00          0  \n",
              "1   808.96              0        3  Valor-Medio      991.54          0  \n",
              "2   638.12              0        3  Valor-Medio     1322.75          0  \n",
              "3   947.55              0        3  Valor-Medio      791.04          0  \n",
              "4   484.62              0        3  Valor-Medio      858.09          0  "
            ],
            "text/html": [
              "\n",
              "  <div id=\"df-7cf8b38b-7f83-4187-b8c7-e45a473625b5\">\n",
              "    <div class=\"colab-df-container\">\n",
              "      <div>\n",
              "<style scoped>\n",
              "    .dataframe tbody tr th:only-of-type {\n",
              "        vertical-align: middle;\n",
              "    }\n",
              "\n",
              "    .dataframe tbody tr th {\n",
              "        vertical-align: top;\n",
              "    }\n",
              "\n",
              "    .dataframe thead th {\n",
              "        text-align: right;\n",
              "    }\n",
              "</style>\n",
              "<table border=\"1\" class=\"dataframe\">\n",
              "  <thead>\n",
              "    <tr style=\"text-align: right;\">\n",
              "      <th></th>\n",
              "      <th>ID_Cliente</th>\n",
              "      <th>Recencia</th>\n",
              "      <th>Grupo_Recencia</th>\n",
              "      <th>Frecuencia</th>\n",
              "      <th>Grupo_Frecuencia</th>\n",
              "      <th>Ingreso</th>\n",
              "      <th>Grupo_Ingreso</th>\n",
              "      <th>Puntaje</th>\n",
              "      <th>Segmento</th>\n",
              "      <th>Ingreso_6m</th>\n",
              "      <th>CLV_Grupo</th>\n",
              "    </tr>\n",
              "  </thead>\n",
              "  <tbody>\n",
              "    <tr>\n",
              "      <th>0</th>\n",
              "      <td>14620.0</td>\n",
              "      <td>12</td>\n",
              "      <td>3</td>\n",
              "      <td>30</td>\n",
              "      <td>0</td>\n",
              "      <td>393.28</td>\n",
              "      <td>0</td>\n",
              "      <td>3</td>\n",
              "      <td>Valor-Medio</td>\n",
              "      <td>0.00</td>\n",
              "      <td>0</td>\n",
              "    </tr>\n",
              "    <tr>\n",
              "      <th>1</th>\n",
              "      <td>18044.0</td>\n",
              "      <td>5</td>\n",
              "      <td>3</td>\n",
              "      <td>57</td>\n",
              "      <td>0</td>\n",
              "      <td>808.96</td>\n",
              "      <td>0</td>\n",
              "      <td>3</td>\n",
              "      <td>Valor-Medio</td>\n",
              "      <td>991.54</td>\n",
              "      <td>0</td>\n",
              "    </tr>\n",
              "    <tr>\n",
              "      <th>2</th>\n",
              "      <td>18075.0</td>\n",
              "      <td>12</td>\n",
              "      <td>3</td>\n",
              "      <td>35</td>\n",
              "      <td>0</td>\n",
              "      <td>638.12</td>\n",
              "      <td>0</td>\n",
              "      <td>3</td>\n",
              "      <td>Valor-Medio</td>\n",
              "      <td>1322.75</td>\n",
              "      <td>0</td>\n",
              "    </tr>\n",
              "    <tr>\n",
              "      <th>3</th>\n",
              "      <td>15241.0</td>\n",
              "      <td>0</td>\n",
              "      <td>3</td>\n",
              "      <td>64</td>\n",
              "      <td>0</td>\n",
              "      <td>947.55</td>\n",
              "      <td>0</td>\n",
              "      <td>3</td>\n",
              "      <td>Valor-Medio</td>\n",
              "      <td>791.04</td>\n",
              "      <td>0</td>\n",
              "    </tr>\n",
              "    <tr>\n",
              "      <th>4</th>\n",
              "      <td>15660.0</td>\n",
              "      <td>4</td>\n",
              "      <td>3</td>\n",
              "      <td>34</td>\n",
              "      <td>0</td>\n",
              "      <td>484.62</td>\n",
              "      <td>0</td>\n",
              "      <td>3</td>\n",
              "      <td>Valor-Medio</td>\n",
              "      <td>858.09</td>\n",
              "      <td>0</td>\n",
              "    </tr>\n",
              "  </tbody>\n",
              "</table>\n",
              "</div>\n",
              "      <button class=\"colab-df-convert\" onclick=\"convertToInteractive('df-7cf8b38b-7f83-4187-b8c7-e45a473625b5')\"\n",
              "              title=\"Convert this dataframe to an interactive table.\"\n",
              "              style=\"display:none;\">\n",
              "        \n",
              "  <svg xmlns=\"http://www.w3.org/2000/svg\" height=\"24px\"viewBox=\"0 0 24 24\"\n",
              "       width=\"24px\">\n",
              "    <path d=\"M0 0h24v24H0V0z\" fill=\"none\"/>\n",
              "    <path d=\"M18.56 5.44l.94 2.06.94-2.06 2.06-.94-2.06-.94-.94-2.06-.94 2.06-2.06.94zm-11 1L8.5 8.5l.94-2.06 2.06-.94-2.06-.94L8.5 2.5l-.94 2.06-2.06.94zm10 10l.94 2.06.94-2.06 2.06-.94-2.06-.94-.94-2.06-.94 2.06-2.06.94z\"/><path d=\"M17.41 7.96l-1.37-1.37c-.4-.4-.92-.59-1.43-.59-.52 0-1.04.2-1.43.59L10.3 9.45l-7.72 7.72c-.78.78-.78 2.05 0 2.83L4 21.41c.39.39.9.59 1.41.59.51 0 1.02-.2 1.41-.59l7.78-7.78 2.81-2.81c.8-.78.8-2.07 0-2.86zM5.41 20L4 18.59l7.72-7.72 1.47 1.35L5.41 20z\"/>\n",
              "  </svg>\n",
              "      </button>\n",
              "      \n",
              "  <style>\n",
              "    .colab-df-container {\n",
              "      display:flex;\n",
              "      flex-wrap:wrap;\n",
              "      gap: 12px;\n",
              "    }\n",
              "\n",
              "    .colab-df-convert {\n",
              "      background-color: #E8F0FE;\n",
              "      border: none;\n",
              "      border-radius: 50%;\n",
              "      cursor: pointer;\n",
              "      display: none;\n",
              "      fill: #1967D2;\n",
              "      height: 32px;\n",
              "      padding: 0 0 0 0;\n",
              "      width: 32px;\n",
              "    }\n",
              "\n",
              "    .colab-df-convert:hover {\n",
              "      background-color: #E2EBFA;\n",
              "      box-shadow: 0px 1px 2px rgba(60, 64, 67, 0.3), 0px 1px 3px 1px rgba(60, 64, 67, 0.15);\n",
              "      fill: #174EA6;\n",
              "    }\n",
              "\n",
              "    [theme=dark] .colab-df-convert {\n",
              "      background-color: #3B4455;\n",
              "      fill: #D2E3FC;\n",
              "    }\n",
              "\n",
              "    [theme=dark] .colab-df-convert:hover {\n",
              "      background-color: #434B5C;\n",
              "      box-shadow: 0px 1px 3px 1px rgba(0, 0, 0, 0.15);\n",
              "      filter: drop-shadow(0px 1px 2px rgba(0, 0, 0, 0.3));\n",
              "      fill: #FFFFFF;\n",
              "    }\n",
              "  </style>\n",
              "\n",
              "      <script>\n",
              "        const buttonEl =\n",
              "          document.querySelector('#df-7cf8b38b-7f83-4187-b8c7-e45a473625b5 button.colab-df-convert');\n",
              "        buttonEl.style.display =\n",
              "          google.colab.kernel.accessAllowed ? 'block' : 'none';\n",
              "\n",
              "        async function convertToInteractive(key) {\n",
              "          const element = document.querySelector('#df-7cf8b38b-7f83-4187-b8c7-e45a473625b5');\n",
              "          const dataTable =\n",
              "            await google.colab.kernel.invokeFunction('convertToInteractive',\n",
              "                                                     [key], {});\n",
              "          if (!dataTable) return;\n",
              "\n",
              "          const docLinkHtml = 'Like what you see? Visit the ' +\n",
              "            '<a target=\"_blank\" href=https://colab.research.google.com/notebooks/data_table.ipynb>data table notebook</a>'\n",
              "            + ' to learn more about interactive tables.';\n",
              "          element.innerHTML = '';\n",
              "          dataTable['output_type'] = 'display_data';\n",
              "          await google.colab.output.renderOutput(dataTable, element);\n",
              "          const docLink = document.createElement('div');\n",
              "          docLink.innerHTML = docLinkHtml;\n",
              "          element.appendChild(docLink);\n",
              "        }\n",
              "      </script>\n",
              "    </div>\n",
              "  </div>\n",
              "  "
            ]
          },
          "metadata": {},
          "execution_count": 403
        }
      ],
      "source": [
        "# Se crea un nuevo dataframe data_cluster como copia de data_merge:\n",
        "data_grupo = data_merge.copy()\n",
        "# Se observa el encabezado del dataframe creado:\n",
        "data_grupo.head()\n",
        "\n"
      ]
    },
    {
      "cell_type": "code",
      "execution_count": 404,
      "metadata": {
        "colab": {
          "base_uri": "https://localhost:8080/",
          "height": 175
        },
        "id": "4fAD0LhHpDcJ",
        "outputId": "a2d3f9da-b246-4bc7-9ded-d720410a5e4d"
      },
      "outputs": [
        {
          "output_type": "execute_result",
          "data": {
            "text/plain": [
              "            count         mean          std      min        25%       50%  \\\n",
              "CLV_Grupo                                                                   \n",
              "0          1395.0   394.904775   418.582038  -609.40     0.0000   293.170   \n",
              "1           370.0  2487.413838   934.635654  1445.93  1732.1750  2159.605   \n",
              "2            56.0  8211.598750  2981.433603  5396.44  6140.7075  6986.545   \n",
              "\n",
              "                 75%       max  \n",
              "CLV_Grupo                       \n",
              "0           680.4200   1425.74  \n",
              "1          3034.0575   5280.79  \n",
              "2          9607.3225  16756.31  "
            ],
            "text/html": [
              "\n",
              "  <div id=\"df-82c36828-ef5c-4341-a712-2cab997a90d1\">\n",
              "    <div class=\"colab-df-container\">\n",
              "      <div>\n",
              "<style scoped>\n",
              "    .dataframe tbody tr th:only-of-type {\n",
              "        vertical-align: middle;\n",
              "    }\n",
              "\n",
              "    .dataframe tbody tr th {\n",
              "        vertical-align: top;\n",
              "    }\n",
              "\n",
              "    .dataframe thead th {\n",
              "        text-align: right;\n",
              "    }\n",
              "</style>\n",
              "<table border=\"1\" class=\"dataframe\">\n",
              "  <thead>\n",
              "    <tr style=\"text-align: right;\">\n",
              "      <th></th>\n",
              "      <th>count</th>\n",
              "      <th>mean</th>\n",
              "      <th>std</th>\n",
              "      <th>min</th>\n",
              "      <th>25%</th>\n",
              "      <th>50%</th>\n",
              "      <th>75%</th>\n",
              "      <th>max</th>\n",
              "    </tr>\n",
              "    <tr>\n",
              "      <th>CLV_Grupo</th>\n",
              "      <th></th>\n",
              "      <th></th>\n",
              "      <th></th>\n",
              "      <th></th>\n",
              "      <th></th>\n",
              "      <th></th>\n",
              "      <th></th>\n",
              "      <th></th>\n",
              "    </tr>\n",
              "  </thead>\n",
              "  <tbody>\n",
              "    <tr>\n",
              "      <th>0</th>\n",
              "      <td>1395.0</td>\n",
              "      <td>394.904775</td>\n",
              "      <td>418.582038</td>\n",
              "      <td>-609.40</td>\n",
              "      <td>0.0000</td>\n",
              "      <td>293.170</td>\n",
              "      <td>680.4200</td>\n",
              "      <td>1425.74</td>\n",
              "    </tr>\n",
              "    <tr>\n",
              "      <th>1</th>\n",
              "      <td>370.0</td>\n",
              "      <td>2487.413838</td>\n",
              "      <td>934.635654</td>\n",
              "      <td>1445.93</td>\n",
              "      <td>1732.1750</td>\n",
              "      <td>2159.605</td>\n",
              "      <td>3034.0575</td>\n",
              "      <td>5280.79</td>\n",
              "    </tr>\n",
              "    <tr>\n",
              "      <th>2</th>\n",
              "      <td>56.0</td>\n",
              "      <td>8211.598750</td>\n",
              "      <td>2981.433603</td>\n",
              "      <td>5396.44</td>\n",
              "      <td>6140.7075</td>\n",
              "      <td>6986.545</td>\n",
              "      <td>9607.3225</td>\n",
              "      <td>16756.31</td>\n",
              "    </tr>\n",
              "  </tbody>\n",
              "</table>\n",
              "</div>\n",
              "      <button class=\"colab-df-convert\" onclick=\"convertToInteractive('df-82c36828-ef5c-4341-a712-2cab997a90d1')\"\n",
              "              title=\"Convert this dataframe to an interactive table.\"\n",
              "              style=\"display:none;\">\n",
              "        \n",
              "  <svg xmlns=\"http://www.w3.org/2000/svg\" height=\"24px\"viewBox=\"0 0 24 24\"\n",
              "       width=\"24px\">\n",
              "    <path d=\"M0 0h24v24H0V0z\" fill=\"none\"/>\n",
              "    <path d=\"M18.56 5.44l.94 2.06.94-2.06 2.06-.94-2.06-.94-.94-2.06-.94 2.06-2.06.94zm-11 1L8.5 8.5l.94-2.06 2.06-.94-2.06-.94L8.5 2.5l-.94 2.06-2.06.94zm10 10l.94 2.06.94-2.06 2.06-.94-2.06-.94-.94-2.06-.94 2.06-2.06.94z\"/><path d=\"M17.41 7.96l-1.37-1.37c-.4-.4-.92-.59-1.43-.59-.52 0-1.04.2-1.43.59L10.3 9.45l-7.72 7.72c-.78.78-.78 2.05 0 2.83L4 21.41c.39.39.9.59 1.41.59.51 0 1.02-.2 1.41-.59l7.78-7.78 2.81-2.81c.8-.78.8-2.07 0-2.86zM5.41 20L4 18.59l7.72-7.72 1.47 1.35L5.41 20z\"/>\n",
              "  </svg>\n",
              "      </button>\n",
              "      \n",
              "  <style>\n",
              "    .colab-df-container {\n",
              "      display:flex;\n",
              "      flex-wrap:wrap;\n",
              "      gap: 12px;\n",
              "    }\n",
              "\n",
              "    .colab-df-convert {\n",
              "      background-color: #E8F0FE;\n",
              "      border: none;\n",
              "      border-radius: 50%;\n",
              "      cursor: pointer;\n",
              "      display: none;\n",
              "      fill: #1967D2;\n",
              "      height: 32px;\n",
              "      padding: 0 0 0 0;\n",
              "      width: 32px;\n",
              "    }\n",
              "\n",
              "    .colab-df-convert:hover {\n",
              "      background-color: #E2EBFA;\n",
              "      box-shadow: 0px 1px 2px rgba(60, 64, 67, 0.3), 0px 1px 3px 1px rgba(60, 64, 67, 0.15);\n",
              "      fill: #174EA6;\n",
              "    }\n",
              "\n",
              "    [theme=dark] .colab-df-convert {\n",
              "      background-color: #3B4455;\n",
              "      fill: #D2E3FC;\n",
              "    }\n",
              "\n",
              "    [theme=dark] .colab-df-convert:hover {\n",
              "      background-color: #434B5C;\n",
              "      box-shadow: 0px 1px 3px 1px rgba(0, 0, 0, 0.15);\n",
              "      filter: drop-shadow(0px 1px 2px rgba(0, 0, 0, 0.3));\n",
              "      fill: #FFFFFF;\n",
              "    }\n",
              "  </style>\n",
              "\n",
              "      <script>\n",
              "        const buttonEl =\n",
              "          document.querySelector('#df-82c36828-ef5c-4341-a712-2cab997a90d1 button.colab-df-convert');\n",
              "        buttonEl.style.display =\n",
              "          google.colab.kernel.accessAllowed ? 'block' : 'none';\n",
              "\n",
              "        async function convertToInteractive(key) {\n",
              "          const element = document.querySelector('#df-82c36828-ef5c-4341-a712-2cab997a90d1');\n",
              "          const dataTable =\n",
              "            await google.colab.kernel.invokeFunction('convertToInteractive',\n",
              "                                                     [key], {});\n",
              "          if (!dataTable) return;\n",
              "\n",
              "          const docLinkHtml = 'Like what you see? Visit the ' +\n",
              "            '<a target=\"_blank\" href=https://colab.research.google.com/notebooks/data_table.ipynb>data table notebook</a>'\n",
              "            + ' to learn more about interactive tables.';\n",
              "          element.innerHTML = '';\n",
              "          dataTable['output_type'] = 'display_data';\n",
              "          await google.colab.output.renderOutput(dataTable, element);\n",
              "          const docLink = document.createElement('div');\n",
              "          docLink.innerHTML = docLinkHtml;\n",
              "          element.appendChild(docLink);\n",
              "        }\n",
              "      </script>\n",
              "    </div>\n",
              "  </div>\n",
              "  "
            ]
          },
          "metadata": {},
          "execution_count": 404
        }
      ],
      "source": [
        "# Se observa los distintos grupos de CLTV ordenados:\n",
        "data_grupo.groupby(\"CLV_Grupo\")[\"Ingreso_6m\"].describe()"
      ]
    },
    {
      "cell_type": "markdown",
      "metadata": {
        "id": "uDfv70dyBexw"
      },
      "source": [
        "Finalmente se puede observar como quedan conformados los grupos en base al promedio de CLV. Es evidente que no se quieren perder los clientes pertenecientes al grupo 2."
      ]
    },
    {
      "cell_type": "markdown",
      "metadata": {
        "id": "G9afklHEB18L"
      },
      "source": [
        "**12) Pre-procesamiento de datos**"
      ]
    },
    {
      "cell_type": "markdown",
      "metadata": {
        "id": "N218JmQ0B44L"
      },
      "source": [
        "Quedan algunos pasos más antes de entrenar el modelo de clasificación: "
      ]
    },
    {
      "cell_type": "markdown",
      "metadata": {
        "id": "eoukdIFDOm5c"
      },
      "source": [
        "Antes de llevar a cabo los modelos de clasificación es necesario realizar una serie de transformaciones (transformación de variables cualitativas en cuantitativas, escalado de datos, etc.) que forman parte de la etapa de preprocesamiento de datos, que se detalla a continuación. "
      ]
    },
    {
      "cell_type": "markdown",
      "metadata": {
        "id": "WwsWDg6PxnPx"
      },
      "source": [
        "**a) Transformación de variables cualitativas en variables dummies**"
      ]
    },
    {
      "cell_type": "code",
      "execution_count": 405,
      "metadata": {
        "colab": {
          "base_uri": "https://localhost:8080/",
          "height": 0
        },
        "id": "93LxcCrYCbSV",
        "outputId": "ce990538-7414-4391-9a4b-08f1093e9ba6"
      },
      "outputs": [
        {
          "output_type": "stream",
          "name": "stdout",
          "text": [
            "<class 'pandas.core.frame.DataFrame'>\n",
            "Int64Index: 1821 entries, 0 to 1820\n",
            "Data columns (total 11 columns):\n",
            " #   Column            Non-Null Count  Dtype  \n",
            "---  ------            --------------  -----  \n",
            " 0   ID_Cliente        1821 non-null   float64\n",
            " 1   Recencia          1821 non-null   int64  \n",
            " 2   Grupo_Recencia    1821 non-null   int64  \n",
            " 3   Frecuencia        1821 non-null   int64  \n",
            " 4   Grupo_Frecuencia  1821 non-null   int64  \n",
            " 5   Ingreso           1821 non-null   float64\n",
            " 6   Grupo_Ingreso     1821 non-null   int64  \n",
            " 7   Puntaje           1821 non-null   int64  \n",
            " 8   Segmento          1821 non-null   object \n",
            " 9   Ingreso_6m        1821 non-null   float64\n",
            " 10  CLV_Grupo         1821 non-null   int64  \n",
            "dtypes: float64(3), int64(7), object(1)\n",
            "memory usage: 170.7+ KB\n"
          ]
        }
      ],
      "source": [
        "# Se observa en detalle el tipo de columnas del dataframe:\n",
        "data_grupo.info()"
      ]
    },
    {
      "cell_type": "markdown",
      "metadata": {
        "id": "G4jhYCrOCpu5"
      },
      "source": [
        "La columna \"Segmento\" es la única columna cualitatitiva del dataframe."
      ]
    },
    {
      "cell_type": "code",
      "execution_count": 406,
      "metadata": {
        "colab": {
          "base_uri": "https://localhost:8080/",
          "height": 288
        },
        "id": "Od4kF000sIci",
        "outputId": "96fb5288-a4b5-42c3-ec94-e740858f14a7"
      },
      "outputs": [
        {
          "output_type": "execute_result",
          "data": {
            "text/plain": [
              "   ID_Cliente  Recencia  Grupo_Recencia  Frecuencia  Grupo_Frecuencia  \\\n",
              "0     14620.0        12               3          30                 0   \n",
              "1     18044.0         5               3          57                 0   \n",
              "2     18075.0        12               3          35                 0   \n",
              "3     15241.0         0               3          64                 0   \n",
              "4     15660.0         4               3          34                 0   \n",
              "\n",
              "   Ingreso  Grupo_Ingreso  Puntaje  Ingreso_6m  CLV_Grupo  \\\n",
              "0   393.28              0        3        0.00          0   \n",
              "1   808.96              0        3      991.54          0   \n",
              "2   638.12              0        3     1322.75          0   \n",
              "3   947.55              0        3      791.04          0   \n",
              "4   484.62              0        3      858.09          0   \n",
              "\n",
              "   Segmento_Valor-Alto  Segmento_Valor-Bajo  Segmento_Valor-Medio  \n",
              "0                    0                    0                     1  \n",
              "1                    0                    0                     1  \n",
              "2                    0                    0                     1  \n",
              "3                    0                    0                     1  \n",
              "4                    0                    0                     1  "
            ],
            "text/html": [
              "\n",
              "  <div id=\"df-822afda2-bd14-44fb-84db-1d299f6a9ada\">\n",
              "    <div class=\"colab-df-container\">\n",
              "      <div>\n",
              "<style scoped>\n",
              "    .dataframe tbody tr th:only-of-type {\n",
              "        vertical-align: middle;\n",
              "    }\n",
              "\n",
              "    .dataframe tbody tr th {\n",
              "        vertical-align: top;\n",
              "    }\n",
              "\n",
              "    .dataframe thead th {\n",
              "        text-align: right;\n",
              "    }\n",
              "</style>\n",
              "<table border=\"1\" class=\"dataframe\">\n",
              "  <thead>\n",
              "    <tr style=\"text-align: right;\">\n",
              "      <th></th>\n",
              "      <th>ID_Cliente</th>\n",
              "      <th>Recencia</th>\n",
              "      <th>Grupo_Recencia</th>\n",
              "      <th>Frecuencia</th>\n",
              "      <th>Grupo_Frecuencia</th>\n",
              "      <th>Ingreso</th>\n",
              "      <th>Grupo_Ingreso</th>\n",
              "      <th>Puntaje</th>\n",
              "      <th>Ingreso_6m</th>\n",
              "      <th>CLV_Grupo</th>\n",
              "      <th>Segmento_Valor-Alto</th>\n",
              "      <th>Segmento_Valor-Bajo</th>\n",
              "      <th>Segmento_Valor-Medio</th>\n",
              "    </tr>\n",
              "  </thead>\n",
              "  <tbody>\n",
              "    <tr>\n",
              "      <th>0</th>\n",
              "      <td>14620.0</td>\n",
              "      <td>12</td>\n",
              "      <td>3</td>\n",
              "      <td>30</td>\n",
              "      <td>0</td>\n",
              "      <td>393.28</td>\n",
              "      <td>0</td>\n",
              "      <td>3</td>\n",
              "      <td>0.00</td>\n",
              "      <td>0</td>\n",
              "      <td>0</td>\n",
              "      <td>0</td>\n",
              "      <td>1</td>\n",
              "    </tr>\n",
              "    <tr>\n",
              "      <th>1</th>\n",
              "      <td>18044.0</td>\n",
              "      <td>5</td>\n",
              "      <td>3</td>\n",
              "      <td>57</td>\n",
              "      <td>0</td>\n",
              "      <td>808.96</td>\n",
              "      <td>0</td>\n",
              "      <td>3</td>\n",
              "      <td>991.54</td>\n",
              "      <td>0</td>\n",
              "      <td>0</td>\n",
              "      <td>0</td>\n",
              "      <td>1</td>\n",
              "    </tr>\n",
              "    <tr>\n",
              "      <th>2</th>\n",
              "      <td>18075.0</td>\n",
              "      <td>12</td>\n",
              "      <td>3</td>\n",
              "      <td>35</td>\n",
              "      <td>0</td>\n",
              "      <td>638.12</td>\n",
              "      <td>0</td>\n",
              "      <td>3</td>\n",
              "      <td>1322.75</td>\n",
              "      <td>0</td>\n",
              "      <td>0</td>\n",
              "      <td>0</td>\n",
              "      <td>1</td>\n",
              "    </tr>\n",
              "    <tr>\n",
              "      <th>3</th>\n",
              "      <td>15241.0</td>\n",
              "      <td>0</td>\n",
              "      <td>3</td>\n",
              "      <td>64</td>\n",
              "      <td>0</td>\n",
              "      <td>947.55</td>\n",
              "      <td>0</td>\n",
              "      <td>3</td>\n",
              "      <td>791.04</td>\n",
              "      <td>0</td>\n",
              "      <td>0</td>\n",
              "      <td>0</td>\n",
              "      <td>1</td>\n",
              "    </tr>\n",
              "    <tr>\n",
              "      <th>4</th>\n",
              "      <td>15660.0</td>\n",
              "      <td>4</td>\n",
              "      <td>3</td>\n",
              "      <td>34</td>\n",
              "      <td>0</td>\n",
              "      <td>484.62</td>\n",
              "      <td>0</td>\n",
              "      <td>3</td>\n",
              "      <td>858.09</td>\n",
              "      <td>0</td>\n",
              "      <td>0</td>\n",
              "      <td>0</td>\n",
              "      <td>1</td>\n",
              "    </tr>\n",
              "  </tbody>\n",
              "</table>\n",
              "</div>\n",
              "      <button class=\"colab-df-convert\" onclick=\"convertToInteractive('df-822afda2-bd14-44fb-84db-1d299f6a9ada')\"\n",
              "              title=\"Convert this dataframe to an interactive table.\"\n",
              "              style=\"display:none;\">\n",
              "        \n",
              "  <svg xmlns=\"http://www.w3.org/2000/svg\" height=\"24px\"viewBox=\"0 0 24 24\"\n",
              "       width=\"24px\">\n",
              "    <path d=\"M0 0h24v24H0V0z\" fill=\"none\"/>\n",
              "    <path d=\"M18.56 5.44l.94 2.06.94-2.06 2.06-.94-2.06-.94-.94-2.06-.94 2.06-2.06.94zm-11 1L8.5 8.5l.94-2.06 2.06-.94-2.06-.94L8.5 2.5l-.94 2.06-2.06.94zm10 10l.94 2.06.94-2.06 2.06-.94-2.06-.94-.94-2.06-.94 2.06-2.06.94z\"/><path d=\"M17.41 7.96l-1.37-1.37c-.4-.4-.92-.59-1.43-.59-.52 0-1.04.2-1.43.59L10.3 9.45l-7.72 7.72c-.78.78-.78 2.05 0 2.83L4 21.41c.39.39.9.59 1.41.59.51 0 1.02-.2 1.41-.59l7.78-7.78 2.81-2.81c.8-.78.8-2.07 0-2.86zM5.41 20L4 18.59l7.72-7.72 1.47 1.35L5.41 20z\"/>\n",
              "  </svg>\n",
              "      </button>\n",
              "      \n",
              "  <style>\n",
              "    .colab-df-container {\n",
              "      display:flex;\n",
              "      flex-wrap:wrap;\n",
              "      gap: 12px;\n",
              "    }\n",
              "\n",
              "    .colab-df-convert {\n",
              "      background-color: #E8F0FE;\n",
              "      border: none;\n",
              "      border-radius: 50%;\n",
              "      cursor: pointer;\n",
              "      display: none;\n",
              "      fill: #1967D2;\n",
              "      height: 32px;\n",
              "      padding: 0 0 0 0;\n",
              "      width: 32px;\n",
              "    }\n",
              "\n",
              "    .colab-df-convert:hover {\n",
              "      background-color: #E2EBFA;\n",
              "      box-shadow: 0px 1px 2px rgba(60, 64, 67, 0.3), 0px 1px 3px 1px rgba(60, 64, 67, 0.15);\n",
              "      fill: #174EA6;\n",
              "    }\n",
              "\n",
              "    [theme=dark] .colab-df-convert {\n",
              "      background-color: #3B4455;\n",
              "      fill: #D2E3FC;\n",
              "    }\n",
              "\n",
              "    [theme=dark] .colab-df-convert:hover {\n",
              "      background-color: #434B5C;\n",
              "      box-shadow: 0px 1px 3px 1px rgba(0, 0, 0, 0.15);\n",
              "      filter: drop-shadow(0px 1px 2px rgba(0, 0, 0, 0.3));\n",
              "      fill: #FFFFFF;\n",
              "    }\n",
              "  </style>\n",
              "\n",
              "      <script>\n",
              "        const buttonEl =\n",
              "          document.querySelector('#df-822afda2-bd14-44fb-84db-1d299f6a9ada button.colab-df-convert');\n",
              "        buttonEl.style.display =\n",
              "          google.colab.kernel.accessAllowed ? 'block' : 'none';\n",
              "\n",
              "        async function convertToInteractive(key) {\n",
              "          const element = document.querySelector('#df-822afda2-bd14-44fb-84db-1d299f6a9ada');\n",
              "          const dataTable =\n",
              "            await google.colab.kernel.invokeFunction('convertToInteractive',\n",
              "                                                     [key], {});\n",
              "          if (!dataTable) return;\n",
              "\n",
              "          const docLinkHtml = 'Like what you see? Visit the ' +\n",
              "            '<a target=\"_blank\" href=https://colab.research.google.com/notebooks/data_table.ipynb>data table notebook</a>'\n",
              "            + ' to learn more about interactive tables.';\n",
              "          element.innerHTML = '';\n",
              "          dataTable['output_type'] = 'display_data';\n",
              "          await google.colab.output.renderOutput(dataTable, element);\n",
              "          const docLink = document.createElement('div');\n",
              "          docLink.innerHTML = docLinkHtml;\n",
              "          element.appendChild(docLink);\n",
              "        }\n",
              "      </script>\n",
              "    </div>\n",
              "  </div>\n",
              "  "
            ]
          },
          "metadata": {},
          "execution_count": 406
        }
      ],
      "source": [
        "# Se convierte la columna cualitativa \"Segmento\" en columna cuantitativa a través del método de pandas .get_dummies()\n",
        "data_class = pd.get_dummies(data_grupo)\n",
        "data_class.head()\n"
      ]
    },
    {
      "cell_type": "markdown",
      "metadata": {
        "id": "L_8LYMi2C2tS"
      },
      "source": [
        "La columna \"Segmento\" original desaparece y se convierte en 3 columnas, en la que el valor 1 significa que la observación pertenece a dicha columna, y cero en caso contrario."
      ]
    },
    {
      "cell_type": "markdown",
      "metadata": {
        "id": "4AbzqooQyFSq"
      },
      "source": [
        "**b) Análisis de correlaciones entre las variables:**"
      ]
    },
    {
      "cell_type": "markdown",
      "source": [
        "Se realiza un análisis de la correlación de las variables con el fin de hacer una selección de características."
      ],
      "metadata": {
        "id": "-IpKJfMMBAGg"
      }
    },
    {
      "cell_type": "code",
      "execution_count": 407,
      "metadata": {
        "colab": {
          "base_uri": "https://localhost:8080/",
          "height": 590
        },
        "id": "M14hs_Q8DURw",
        "outputId": "ad8bf91d-955d-4a81-b49b-d7f232ac2038"
      },
      "outputs": [
        {
          "output_type": "execute_result",
          "data": {
            "text/plain": [
              "                      ID_Cliente  Recencia  Grupo_Recencia  Frecuencia  \\\n",
              "ID_Cliente              1.000000 -0.002528        0.006726   -0.043206   \n",
              "Recencia               -0.002528  1.000000       -0.965208   -0.258467   \n",
              "Grupo_Recencia          0.006726 -0.965208        1.000000    0.253213   \n",
              "Frecuencia             -0.043206 -0.258467        0.253213    1.000000   \n",
              "Grupo_Frecuencia       -0.003763 -0.219647        0.210686    0.788143   \n",
              "Ingreso                -0.060141 -0.310746        0.313185    0.495718   \n",
              "Grupo_Ingreso          -0.047238 -0.179093        0.176243    0.345826   \n",
              "Puntaje                -0.002568 -0.914367        0.941395    0.480448   \n",
              "Ingreso_6m             -0.039394 -0.251255        0.250802    0.377413   \n",
              "CLV_Grupo              -0.027707 -0.239670        0.238673    0.363728   \n",
              "Segmento_Valor-Alto    -0.056361 -0.156301        0.163127    0.472283   \n",
              "Segmento_Valor-Bajo     0.005218  0.731302       -0.807441   -0.336724   \n",
              "Segmento_Valor-Medio    0.011095 -0.695528        0.770688    0.203896   \n",
              "\n",
              "                      Grupo_Frecuencia   Ingreso  Grupo_Ingreso   Puntaje  \\\n",
              "ID_Cliente                   -0.003763 -0.060141      -0.047238 -0.002568   \n",
              "Recencia                     -0.219647 -0.310746      -0.179093 -0.914367   \n",
              "Grupo_Recencia                0.210686  0.313185       0.176243  0.941395   \n",
              "Frecuencia                    0.788143  0.495718       0.345826  0.480448   \n",
              "Grupo_Frecuencia              1.000000  0.456113       0.314361  0.495373   \n",
              "Ingreso                       0.456113  1.000000       0.785019  0.511903   \n",
              "Grupo_Ingreso                 0.314361  0.785019       1.000000  0.390133   \n",
              "Puntaje                       0.495373  0.511903       0.390133  1.000000   \n",
              "Ingreso_6m                    0.376595  0.739007       0.621158  0.411785   \n",
              "CLV_Grupo                     0.365490  0.601148       0.468671  0.374736   \n",
              "Segmento_Valor-Alto           0.422974  0.575432       0.686128  0.358978   \n",
              "Segmento_Valor-Bajo          -0.352889 -0.364409      -0.243081 -0.824351   \n",
              "Segmento_Valor-Medio          0.234607  0.201965       0.046861  0.730896   \n",
              "\n",
              "                      Ingreso_6m  CLV_Grupo  Segmento_Valor-Alto  \\\n",
              "ID_Cliente             -0.039394  -0.027707            -0.056361   \n",
              "Recencia               -0.251255  -0.239670            -0.156301   \n",
              "Grupo_Recencia          0.250802   0.238673             0.163127   \n",
              "Frecuencia              0.377413   0.363728             0.472283   \n",
              "Grupo_Frecuencia        0.376595   0.365490             0.422974   \n",
              "Ingreso                 0.739007   0.601148             0.575432   \n",
              "Grupo_Ingreso           0.621158   0.468671             0.686128   \n",
              "Puntaje                 0.411785   0.374736             0.358978   \n",
              "Ingreso_6m              1.000000   0.845968             0.474895   \n",
              "CLV_Grupo               0.845968   1.000000             0.353547   \n",
              "Segmento_Valor-Alto     0.474895   0.353547             1.000000   \n",
              "Segmento_Valor-Bajo    -0.284609  -0.266947            -0.188571   \n",
              "Segmento_Valor-Medio    0.150333   0.167710            -0.099599   \n",
              "\n",
              "                      Segmento_Valor-Bajo  Segmento_Valor-Medio  \n",
              "ID_Cliente                       0.005218              0.011095  \n",
              "Recencia                         0.731302             -0.695528  \n",
              "Grupo_Recencia                  -0.807441              0.770688  \n",
              "Frecuencia                      -0.336724              0.203896  \n",
              "Grupo_Frecuencia                -0.352889              0.234607  \n",
              "Ingreso                         -0.364409              0.201965  \n",
              "Grupo_Ingreso                   -0.243081              0.046861  \n",
              "Puntaje                         -0.824351              0.730896  \n",
              "Ingreso_6m                      -0.284609              0.150333  \n",
              "CLV_Grupo                       -0.266947              0.167710  \n",
              "Segmento_Valor-Alto             -0.188571             -0.099599  \n",
              "Segmento_Valor-Bajo              1.000000             -0.958395  \n",
              "Segmento_Valor-Medio            -0.958395              1.000000  "
            ],
            "text/html": [
              "\n",
              "  <div id=\"df-33d54a79-8069-4314-a4a8-ff349b7f20be\">\n",
              "    <div class=\"colab-df-container\">\n",
              "      <div>\n",
              "<style scoped>\n",
              "    .dataframe tbody tr th:only-of-type {\n",
              "        vertical-align: middle;\n",
              "    }\n",
              "\n",
              "    .dataframe tbody tr th {\n",
              "        vertical-align: top;\n",
              "    }\n",
              "\n",
              "    .dataframe thead th {\n",
              "        text-align: right;\n",
              "    }\n",
              "</style>\n",
              "<table border=\"1\" class=\"dataframe\">\n",
              "  <thead>\n",
              "    <tr style=\"text-align: right;\">\n",
              "      <th></th>\n",
              "      <th>ID_Cliente</th>\n",
              "      <th>Recencia</th>\n",
              "      <th>Grupo_Recencia</th>\n",
              "      <th>Frecuencia</th>\n",
              "      <th>Grupo_Frecuencia</th>\n",
              "      <th>Ingreso</th>\n",
              "      <th>Grupo_Ingreso</th>\n",
              "      <th>Puntaje</th>\n",
              "      <th>Ingreso_6m</th>\n",
              "      <th>CLV_Grupo</th>\n",
              "      <th>Segmento_Valor-Alto</th>\n",
              "      <th>Segmento_Valor-Bajo</th>\n",
              "      <th>Segmento_Valor-Medio</th>\n",
              "    </tr>\n",
              "  </thead>\n",
              "  <tbody>\n",
              "    <tr>\n",
              "      <th>ID_Cliente</th>\n",
              "      <td>1.000000</td>\n",
              "      <td>-0.002528</td>\n",
              "      <td>0.006726</td>\n",
              "      <td>-0.043206</td>\n",
              "      <td>-0.003763</td>\n",
              "      <td>-0.060141</td>\n",
              "      <td>-0.047238</td>\n",
              "      <td>-0.002568</td>\n",
              "      <td>-0.039394</td>\n",
              "      <td>-0.027707</td>\n",
              "      <td>-0.056361</td>\n",
              "      <td>0.005218</td>\n",
              "      <td>0.011095</td>\n",
              "    </tr>\n",
              "    <tr>\n",
              "      <th>Recencia</th>\n",
              "      <td>-0.002528</td>\n",
              "      <td>1.000000</td>\n",
              "      <td>-0.965208</td>\n",
              "      <td>-0.258467</td>\n",
              "      <td>-0.219647</td>\n",
              "      <td>-0.310746</td>\n",
              "      <td>-0.179093</td>\n",
              "      <td>-0.914367</td>\n",
              "      <td>-0.251255</td>\n",
              "      <td>-0.239670</td>\n",
              "      <td>-0.156301</td>\n",
              "      <td>0.731302</td>\n",
              "      <td>-0.695528</td>\n",
              "    </tr>\n",
              "    <tr>\n",
              "      <th>Grupo_Recencia</th>\n",
              "      <td>0.006726</td>\n",
              "      <td>-0.965208</td>\n",
              "      <td>1.000000</td>\n",
              "      <td>0.253213</td>\n",
              "      <td>0.210686</td>\n",
              "      <td>0.313185</td>\n",
              "      <td>0.176243</td>\n",
              "      <td>0.941395</td>\n",
              "      <td>0.250802</td>\n",
              "      <td>0.238673</td>\n",
              "      <td>0.163127</td>\n",
              "      <td>-0.807441</td>\n",
              "      <td>0.770688</td>\n",
              "    </tr>\n",
              "    <tr>\n",
              "      <th>Frecuencia</th>\n",
              "      <td>-0.043206</td>\n",
              "      <td>-0.258467</td>\n",
              "      <td>0.253213</td>\n",
              "      <td>1.000000</td>\n",
              "      <td>0.788143</td>\n",
              "      <td>0.495718</td>\n",
              "      <td>0.345826</td>\n",
              "      <td>0.480448</td>\n",
              "      <td>0.377413</td>\n",
              "      <td>0.363728</td>\n",
              "      <td>0.472283</td>\n",
              "      <td>-0.336724</td>\n",
              "      <td>0.203896</td>\n",
              "    </tr>\n",
              "    <tr>\n",
              "      <th>Grupo_Frecuencia</th>\n",
              "      <td>-0.003763</td>\n",
              "      <td>-0.219647</td>\n",
              "      <td>0.210686</td>\n",
              "      <td>0.788143</td>\n",
              "      <td>1.000000</td>\n",
              "      <td>0.456113</td>\n",
              "      <td>0.314361</td>\n",
              "      <td>0.495373</td>\n",
              "      <td>0.376595</td>\n",
              "      <td>0.365490</td>\n",
              "      <td>0.422974</td>\n",
              "      <td>-0.352889</td>\n",
              "      <td>0.234607</td>\n",
              "    </tr>\n",
              "    <tr>\n",
              "      <th>Ingreso</th>\n",
              "      <td>-0.060141</td>\n",
              "      <td>-0.310746</td>\n",
              "      <td>0.313185</td>\n",
              "      <td>0.495718</td>\n",
              "      <td>0.456113</td>\n",
              "      <td>1.000000</td>\n",
              "      <td>0.785019</td>\n",
              "      <td>0.511903</td>\n",
              "      <td>0.739007</td>\n",
              "      <td>0.601148</td>\n",
              "      <td>0.575432</td>\n",
              "      <td>-0.364409</td>\n",
              "      <td>0.201965</td>\n",
              "    </tr>\n",
              "    <tr>\n",
              "      <th>Grupo_Ingreso</th>\n",
              "      <td>-0.047238</td>\n",
              "      <td>-0.179093</td>\n",
              "      <td>0.176243</td>\n",
              "      <td>0.345826</td>\n",
              "      <td>0.314361</td>\n",
              "      <td>0.785019</td>\n",
              "      <td>1.000000</td>\n",
              "      <td>0.390133</td>\n",
              "      <td>0.621158</td>\n",
              "      <td>0.468671</td>\n",
              "      <td>0.686128</td>\n",
              "      <td>-0.243081</td>\n",
              "      <td>0.046861</td>\n",
              "    </tr>\n",
              "    <tr>\n",
              "      <th>Puntaje</th>\n",
              "      <td>-0.002568</td>\n",
              "      <td>-0.914367</td>\n",
              "      <td>0.941395</td>\n",
              "      <td>0.480448</td>\n",
              "      <td>0.495373</td>\n",
              "      <td>0.511903</td>\n",
              "      <td>0.390133</td>\n",
              "      <td>1.000000</td>\n",
              "      <td>0.411785</td>\n",
              "      <td>0.374736</td>\n",
              "      <td>0.358978</td>\n",
              "      <td>-0.824351</td>\n",
              "      <td>0.730896</td>\n",
              "    </tr>\n",
              "    <tr>\n",
              "      <th>Ingreso_6m</th>\n",
              "      <td>-0.039394</td>\n",
              "      <td>-0.251255</td>\n",
              "      <td>0.250802</td>\n",
              "      <td>0.377413</td>\n",
              "      <td>0.376595</td>\n",
              "      <td>0.739007</td>\n",
              "      <td>0.621158</td>\n",
              "      <td>0.411785</td>\n",
              "      <td>1.000000</td>\n",
              "      <td>0.845968</td>\n",
              "      <td>0.474895</td>\n",
              "      <td>-0.284609</td>\n",
              "      <td>0.150333</td>\n",
              "    </tr>\n",
              "    <tr>\n",
              "      <th>CLV_Grupo</th>\n",
              "      <td>-0.027707</td>\n",
              "      <td>-0.239670</td>\n",
              "      <td>0.238673</td>\n",
              "      <td>0.363728</td>\n",
              "      <td>0.365490</td>\n",
              "      <td>0.601148</td>\n",
              "      <td>0.468671</td>\n",
              "      <td>0.374736</td>\n",
              "      <td>0.845968</td>\n",
              "      <td>1.000000</td>\n",
              "      <td>0.353547</td>\n",
              "      <td>-0.266947</td>\n",
              "      <td>0.167710</td>\n",
              "    </tr>\n",
              "    <tr>\n",
              "      <th>Segmento_Valor-Alto</th>\n",
              "      <td>-0.056361</td>\n",
              "      <td>-0.156301</td>\n",
              "      <td>0.163127</td>\n",
              "      <td>0.472283</td>\n",
              "      <td>0.422974</td>\n",
              "      <td>0.575432</td>\n",
              "      <td>0.686128</td>\n",
              "      <td>0.358978</td>\n",
              "      <td>0.474895</td>\n",
              "      <td>0.353547</td>\n",
              "      <td>1.000000</td>\n",
              "      <td>-0.188571</td>\n",
              "      <td>-0.099599</td>\n",
              "    </tr>\n",
              "    <tr>\n",
              "      <th>Segmento_Valor-Bajo</th>\n",
              "      <td>0.005218</td>\n",
              "      <td>0.731302</td>\n",
              "      <td>-0.807441</td>\n",
              "      <td>-0.336724</td>\n",
              "      <td>-0.352889</td>\n",
              "      <td>-0.364409</td>\n",
              "      <td>-0.243081</td>\n",
              "      <td>-0.824351</td>\n",
              "      <td>-0.284609</td>\n",
              "      <td>-0.266947</td>\n",
              "      <td>-0.188571</td>\n",
              "      <td>1.000000</td>\n",
              "      <td>-0.958395</td>\n",
              "    </tr>\n",
              "    <tr>\n",
              "      <th>Segmento_Valor-Medio</th>\n",
              "      <td>0.011095</td>\n",
              "      <td>-0.695528</td>\n",
              "      <td>0.770688</td>\n",
              "      <td>0.203896</td>\n",
              "      <td>0.234607</td>\n",
              "      <td>0.201965</td>\n",
              "      <td>0.046861</td>\n",
              "      <td>0.730896</td>\n",
              "      <td>0.150333</td>\n",
              "      <td>0.167710</td>\n",
              "      <td>-0.099599</td>\n",
              "      <td>-0.958395</td>\n",
              "      <td>1.000000</td>\n",
              "    </tr>\n",
              "  </tbody>\n",
              "</table>\n",
              "</div>\n",
              "      <button class=\"colab-df-convert\" onclick=\"convertToInteractive('df-33d54a79-8069-4314-a4a8-ff349b7f20be')\"\n",
              "              title=\"Convert this dataframe to an interactive table.\"\n",
              "              style=\"display:none;\">\n",
              "        \n",
              "  <svg xmlns=\"http://www.w3.org/2000/svg\" height=\"24px\"viewBox=\"0 0 24 24\"\n",
              "       width=\"24px\">\n",
              "    <path d=\"M0 0h24v24H0V0z\" fill=\"none\"/>\n",
              "    <path d=\"M18.56 5.44l.94 2.06.94-2.06 2.06-.94-2.06-.94-.94-2.06-.94 2.06-2.06.94zm-11 1L8.5 8.5l.94-2.06 2.06-.94-2.06-.94L8.5 2.5l-.94 2.06-2.06.94zm10 10l.94 2.06.94-2.06 2.06-.94-2.06-.94-.94-2.06-.94 2.06-2.06.94z\"/><path d=\"M17.41 7.96l-1.37-1.37c-.4-.4-.92-.59-1.43-.59-.52 0-1.04.2-1.43.59L10.3 9.45l-7.72 7.72c-.78.78-.78 2.05 0 2.83L4 21.41c.39.39.9.59 1.41.59.51 0 1.02-.2 1.41-.59l7.78-7.78 2.81-2.81c.8-.78.8-2.07 0-2.86zM5.41 20L4 18.59l7.72-7.72 1.47 1.35L5.41 20z\"/>\n",
              "  </svg>\n",
              "      </button>\n",
              "      \n",
              "  <style>\n",
              "    .colab-df-container {\n",
              "      display:flex;\n",
              "      flex-wrap:wrap;\n",
              "      gap: 12px;\n",
              "    }\n",
              "\n",
              "    .colab-df-convert {\n",
              "      background-color: #E8F0FE;\n",
              "      border: none;\n",
              "      border-radius: 50%;\n",
              "      cursor: pointer;\n",
              "      display: none;\n",
              "      fill: #1967D2;\n",
              "      height: 32px;\n",
              "      padding: 0 0 0 0;\n",
              "      width: 32px;\n",
              "    }\n",
              "\n",
              "    .colab-df-convert:hover {\n",
              "      background-color: #E2EBFA;\n",
              "      box-shadow: 0px 1px 2px rgba(60, 64, 67, 0.3), 0px 1px 3px 1px rgba(60, 64, 67, 0.15);\n",
              "      fill: #174EA6;\n",
              "    }\n",
              "\n",
              "    [theme=dark] .colab-df-convert {\n",
              "      background-color: #3B4455;\n",
              "      fill: #D2E3FC;\n",
              "    }\n",
              "\n",
              "    [theme=dark] .colab-df-convert:hover {\n",
              "      background-color: #434B5C;\n",
              "      box-shadow: 0px 1px 3px 1px rgba(0, 0, 0, 0.15);\n",
              "      filter: drop-shadow(0px 1px 2px rgba(0, 0, 0, 0.3));\n",
              "      fill: #FFFFFF;\n",
              "    }\n",
              "  </style>\n",
              "\n",
              "      <script>\n",
              "        const buttonEl =\n",
              "          document.querySelector('#df-33d54a79-8069-4314-a4a8-ff349b7f20be button.colab-df-convert');\n",
              "        buttonEl.style.display =\n",
              "          google.colab.kernel.accessAllowed ? 'block' : 'none';\n",
              "\n",
              "        async function convertToInteractive(key) {\n",
              "          const element = document.querySelector('#df-33d54a79-8069-4314-a4a8-ff349b7f20be');\n",
              "          const dataTable =\n",
              "            await google.colab.kernel.invokeFunction('convertToInteractive',\n",
              "                                                     [key], {});\n",
              "          if (!dataTable) return;\n",
              "\n",
              "          const docLinkHtml = 'Like what you see? Visit the ' +\n",
              "            '<a target=\"_blank\" href=https://colab.research.google.com/notebooks/data_table.ipynb>data table notebook</a>'\n",
              "            + ' to learn more about interactive tables.';\n",
              "          element.innerHTML = '';\n",
              "          dataTable['output_type'] = 'display_data';\n",
              "          await google.colab.output.renderOutput(dataTable, element);\n",
              "          const docLink = document.createElement('div');\n",
              "          docLink.innerHTML = docLinkHtml;\n",
              "          element.appendChild(docLink);\n",
              "        }\n",
              "      </script>\n",
              "    </div>\n",
              "  </div>\n",
              "  "
            ]
          },
          "metadata": {},
          "execution_count": 407
        }
      ],
      "source": [
        "# Se observan las correlaciones entre las columnas:\n",
        "corr_matrix = data_class.corr()\n",
        "corr_matrix"
      ]
    },
    {
      "cell_type": "code",
      "execution_count": 408,
      "metadata": {
        "colab": {
          "base_uri": "https://localhost:8080/",
          "height": 0
        },
        "id": "AFyoCd_msOCA",
        "outputId": "a59024b5-8103-4928-8b37-9cacdc6b7c45"
      },
      "outputs": [
        {
          "output_type": "execute_result",
          "data": {
            "text/plain": [
              "CLV_Grupo               1.000000\n",
              "Ingreso_6m              0.845968\n",
              "Ingreso                 0.601148\n",
              "Grupo_Ingreso           0.468671\n",
              "Puntaje                 0.374736\n",
              "Grupo_Frecuencia        0.365490\n",
              "Frecuencia              0.363728\n",
              "Segmento_Valor-Alto     0.353547\n",
              "Grupo_Recencia          0.238673\n",
              "Segmento_Valor-Medio    0.167710\n",
              "ID_Cliente             -0.027707\n",
              "Recencia               -0.239670\n",
              "Segmento_Valor-Bajo    -0.266947\n",
              "Name: CLV_Grupo, dtype: float64"
            ]
          },
          "metadata": {},
          "execution_count": 408
        }
      ],
      "source": [
        "# Se analiza en detalle la correlación de \"CLV_Cluster\" con el resto de variables:\n",
        "corr_matrix[\"CLV_Grupo\"].sort_values(ascending=False)\n",
        "\n"
      ]
    },
    {
      "cell_type": "markdown",
      "metadata": {
        "id": "rXF2c-txTBFT"
      },
      "source": [
        "La columna \"CLV_grupo\" es la variable target y no se incluirá en los modelos a la columna \"Ingreso_6m\" por estar altamente correlacionada con ésta. El resto de características serán utilizadas como variables predictoras."
      ]
    },
    {
      "cell_type": "markdown",
      "metadata": {
        "id": "z3caT2PzyOAh"
      },
      "source": [
        "**c) Separación de datos en las variables X e y**"
      ]
    },
    {
      "cell_type": "markdown",
      "source": [
        "Se dividen los datos en dos variables, X e y, las cuales serán utilizadas en los algoritmos de clasificación. "
      ],
      "metadata": {
        "id": "rH9i1ZoNCupT"
      }
    },
    {
      "cell_type": "code",
      "execution_count": 409,
      "metadata": {
        "id": "EwvW5nAWsY5u"
      },
      "outputs": [],
      "source": [
        "# Se crean las variables X e y:\n",
        "X = data_class.drop([\"CLV_Grupo\",\"Ingreso_6m\"],axis=1)\n",
        "y = data_class[\"CLV_Grupo\"]\n",
        "\n"
      ]
    },
    {
      "cell_type": "markdown",
      "metadata": {
        "id": "WmQT7Oxr2-D9"
      },
      "source": [
        "**d) Separación de los datos de entrenamiento y testeo**"
      ]
    },
    {
      "cell_type": "markdown",
      "source": [
        "Se lleva a cabo una separación de los datos, dividiéndolos en 80% de entrenamiento y 20% de testeo, con el fin de reservar una parte de los datos los cuales serán desconocidos para los modelos, y evitar un sobreajuste de los modelos."
      ],
      "metadata": {
        "id": "H2H32BwPBZJC"
      }
    },
    {
      "cell_type": "code",
      "execution_count": 410,
      "metadata": {
        "id": "gU6p8RB4svwv"
      },
      "outputs": [],
      "source": [
        "# Se realiza la división entre datos de entrenamiento y datos de testeo:\n",
        "X_train, X_test, y_train, y_test = train_test_split(X, y, test_size=0.2, random_state=56)"
      ]
    },
    {
      "cell_type": "markdown",
      "metadata": {
        "id": "46mAlC3jguJb"
      },
      "source": [
        "**e) Escalado de los datos**"
      ]
    },
    {
      "cell_type": "markdown",
      "source": [
        "El escalado de los datos es importante para unificar las escalas de las característivas, dado que si algunas de éstas cuentan con escalas mucho más grandes que otras pueden influir desproporcionadamente en los modelos. En este caso se utiliza la estandarización a través del método StandardScaler(), que reajusta los datos para que tengan una media de 0 y una desviación estándar de 1."
      ],
      "metadata": {
        "id": "ZhY-RuwxCsBk"
      }
    },
    {
      "cell_type": "code",
      "execution_count": 411,
      "metadata": {
        "id": "SBxUBIkwd4Nd"
      },
      "outputs": [],
      "source": [
        "# Se realiza la Estandarización de los datos de X:\n",
        "# La división de datos se realiza antes de la estandarización para evitar la fuga de datos\n",
        "scaler = StandardScaler() # se crea la instancia de un objeto StandarScaler\n",
        "X_train= scaler.fit_transform(X_train) # se llama al método fit_transform pasandole como argumento las características de entrenamiento\n",
        "X_test= scaler.transform(X_test) # se llama al método transform pasandole como argumento las características de testeo"
      ]
    },
    {
      "cell_type": "markdown",
      "metadata": {
        "id": "EGG7_qji5Q9j"
      },
      "source": [
        "**13) Desarrollo de Modelos de Clasificación**"
      ]
    },
    {
      "cell_type": "markdown",
      "metadata": {
        "id": "KJApTnEyw-Nf"
      },
      "source": [
        "A continuación se llevarán a cabo una serie de modelos de machine learning con el fin de realizar una clasificación multiclase de los grupos de CLV. En algunos de ellos se incluirá validación cruzada para obtener los mejores hiperparámetros, y también se desarrollarán modelos de ensamble.\n"
      ]
    },
    {
      "cell_type": "markdown",
      "metadata": {
        "id": "n36OHZdU5dIY"
      },
      "source": [
        "**a) Regresión Logística**"
      ]
    },
    {
      "cell_type": "code",
      "execution_count": 412,
      "metadata": {
        "id": "lHPKlsVC8mII"
      },
      "outputs": [],
      "source": [
        "# Se lleva a cabo un modelo de Regresión Logística:\n",
        "# Se instancia el clasificador:\n",
        "l_g = LogisticRegression()\n",
        "# Se entrena el calsificador:\n",
        "l_g.fit(X_train, y_train)\n",
        "# Se realiza predicción en los datos de testeo:\n",
        "y_pred = l_g.predict(X_test)"
      ]
    },
    {
      "cell_type": "code",
      "execution_count": 413,
      "metadata": {
        "colab": {
          "base_uri": "https://localhost:8080/",
          "height": 0
        },
        "id": "po4bzmdp0nR3",
        "outputId": "c9ae4313-55bd-42e5-b86f-e24e0aa10e62"
      },
      "outputs": [
        {
          "output_type": "stream",
          "name": "stdout",
          "text": [
            "Exactitud del clasificador en el conjunto de entrenamiento: 0.81\n",
            "Exactitud del clasificador en el conjunto de testeo: 0.82\n"
          ]
        }
      ],
      "source": [
        "# Se calcula la exactitud del clasificador tanto en el conjunto de entrenamiento como de testeo:\n",
        "print(\"Exactitud del clasificador en el conjunto de entrenamiento: {:.2f}\"\n",
        "       .format(l_g.score(X_train, y_train)))\n",
        "print(\"Exactitud del clasificador en el conjunto de testeo: {:.2f}\"\n",
        "       .format(l_g.score(X_test, y_test)))"
      ]
    },
    {
      "cell_type": "markdown",
      "metadata": {
        "id": "fYen_E_8FqfG"
      },
      "source": [
        "El clasificador de regresión logística tiene un accuracy (exactitud) del 81% en el conjunto de datos de entrenamiento y del 82% en el conjunto de datos de testeo. Esta última es la métrica mas importante ya que se calcula sobre un conjunto de datos desconocido."
      ]
    },
    {
      "cell_type": "code",
      "execution_count": 462,
      "metadata": {
        "colab": {
          "base_uri": "https://localhost:8080/",
          "height": 0
        },
        "id": "rjpzCd1X3bx_",
        "outputId": "b1f3d45d-3d3f-4b54-d4d8-32a8df9add9a"
      },
      "outputs": [
        {
          "output_type": "execute_result",
          "data": {
            "text/plain": [
              "CLV_Grupo\n",
              "0    77.0\n",
              "1    20.0\n",
              "2     3.0\n",
              "Name: ID_Cliente, dtype: float64"
            ]
          },
          "metadata": {},
          "execution_count": 462
        }
      ],
      "source": [
        "# Se observa la composición porcentual de cada uno de los grupos de CLV anteriormente confeccionados:\n",
        "porcentaje = data_class.groupby(\"CLV_Grupo\").ID_Cliente.count()/data_class.ID_Cliente.count()\n",
        "porcentaje = porcentaje * 100\n",
        "porcentaje.round()\n"
      ]
    },
    {
      "cell_type": "markdown",
      "metadata": {
        "id": "J60Uish6i591"
      },
      "source": [
        "La exactitud en el conjunto de testeo es del 82%. En principio parece un buen porcentaje, pero es importante compararlo con un punto de referencia. El grupo más grande es el cero, que constituye el 77 % de la base total. Si se supone ciegamente que todos los clientes pertenecen al grupo 0, entonces la exactitud sería del 77 %.\n",
        "El 82% frente al porcentaje anterior nos dice que el modelo de aprendizaje automático es útil, sin embargo se pueden aplicar mejoras para lograr un mejor rendimiento. "
      ]
    },
    {
      "cell_type": "code",
      "execution_count": 415,
      "metadata": {
        "colab": {
          "base_uri": "https://localhost:8080/",
          "height": 0
        },
        "id": "by23lsOcJa7K",
        "outputId": "b1933113-2c37-4fda-8d79-6c0c2a25c32d"
      },
      "outputs": [
        {
          "output_type": "execute_result",
          "data": {
            "text/plain": [
              "array([[262,   9,   1],\n",
              "       [ 48,  27,   2],\n",
              "       [  1,   6,   9]])"
            ]
          },
          "metadata": {},
          "execution_count": 415
        }
      ],
      "source": [
        "# Se calcula la Matriz de Confusión:\n",
        "cm = confusion_matrix(y_test, y_pred) # y_test(etiquetas reales), y_pred(etiquetas predichas)\n",
        "cm"
      ]
    },
    {
      "cell_type": "markdown",
      "source": [
        "En el caso de un problema de clasificación multiclase, como este, no se puede hablar de \"positivos\" y \"negativos\", dado que hay más de dos categorías, por lo que simplemente se hablará de \"aciertos\" y \"desaciertos\", los primeros estarán en la diagonal principal de la matriz mientras que por fuera de ella estarán las clasificaciones erróneas. \n",
        " Se observa que 262 clientes fueron clasificados correctamente en el grupo 0 (CLV bajo), 27 en el grupo 1 (CLV intermedio), y 9 en el grupo 2 (CLV alto), es decir 298 clasificaciones correctas en total, lo que corrobora el 82% de exactitud."
      ],
      "metadata": {
        "id": "oa6iyNcPZDsm"
      }
    },
    {
      "cell_type": "code",
      "execution_count": 416,
      "metadata": {
        "colab": {
          "base_uri": "https://localhost:8080/",
          "height": 0
        },
        "id": "AIjyV6zYJa7L",
        "outputId": "41eaa2f3-f459-483b-b049-d959e28a0aa2"
      },
      "outputs": [
        {
          "output_type": "stream",
          "name": "stdout",
          "text": [
            "              precision    recall  f1-score   support\n",
            "\n",
            "           0       0.84      0.96      0.90       272\n",
            "           1       0.64      0.35      0.45        77\n",
            "           2       0.75      0.56      0.64        16\n",
            "\n",
            "    accuracy                           0.82       365\n",
            "   macro avg       0.75      0.63      0.67       365\n",
            "weighted avg       0.80      0.82      0.79       365\n",
            "\n"
          ]
        }
      ],
      "source": [
        "# Se calculan las métricas de rendimiento del modelo:\n",
        "print(classification_report(y_test, y_pred))\n"
      ]
    },
    {
      "cell_type": "markdown",
      "source": [
        "La precisión y la sensibilidad (recall) son aceptables para la clase 0. La precisión establece que de 100 clientes clasificados en la clase 0, 84 fueron clasificados correctamente, es decir, 14 clientes fueron falsos positivos., y el modelo identifica con éxito al 96% de los clientes reales de la clase 0 (hay un 4% de falsos negativos, es decir, clientes que si pertenecian a la clase 0 pero fueron clasificados en otras clases). Se observa que es necesario mejorar el modelo para las otras clases (1 y 2)., por ejemplo el modelo solo detecta el 35% de los clientes reales de la clase 1 (CLV medio)."
      ],
      "metadata": {
        "id": "xaAWdCqSQQo5"
      }
    },
    {
      "cell_type": "markdown",
      "metadata": {
        "id": "tMlMh3gX-9BP"
      },
      "source": [
        "**b) Modelo Árboles de Decisión Clasificación**"
      ]
    },
    {
      "cell_type": "code",
      "execution_count": 417,
      "metadata": {
        "colab": {
          "base_uri": "https://localhost:8080/",
          "height": 0
        },
        "id": "qfxqX5Gr_E-_",
        "outputId": "f4113773-13b1-4f53-97cd-b4fcfcdbb2e8"
      },
      "outputs": [
        {
          "output_type": "stream",
          "name": "stdout",
          "text": [
            "Fitting 5 folds for each of 25 candidates, totalling 125 fits\n"
          ]
        },
        {
          "output_type": "execute_result",
          "data": {
            "text/plain": [
              "GridSearchCV(estimator=DecisionTreeClassifier(random_state=10), n_jobs=-1,\n",
              "             param_grid={'max_depth': [2, 3, 4, 6, 8],\n",
              "                         'min_samples_leaf': [0.12, 0.14, 0.16, 0.18, 0.2]},\n",
              "             scoring='accuracy', verbose=1)"
            ]
          },
          "metadata": {},
          "execution_count": 417
        }
      ],
      "source": [
        "# Se lleva a cabo un modelo de Árbol de Decisión con ajuste de hiperparámetros a través de la validación cruzada Grid Search:\n",
        "# Se instancia el modelo de Árbol de Decisión:\n",
        "decision_tree = DecisionTreeClassifier(random_state=10) \n",
        "# Se crea un diccionario con alternativas para los hiperparámetros:\n",
        "parameters = {\n",
        "             \"max_depth\": [2, 3, 4, 6, 8],\n",
        "             \"min_samples_leaf\": [0.12, 0.14, 0.16, 0.18, 0.20] # porcentaje de datos de entrenamiento en cada hoja\n",
        "            }\n",
        "# Se crea una instancia de validación cruzada Grid Search para diferentes valores de los hiperparámetros:\n",
        "cv = GridSearchCV(estimator=decision_tree, \n",
        "                  param_grid=parameters, \n",
        "                  scoring=\"accuracy\",  \n",
        "                  verbose = 1, # Muestra el resultado en pantalla\n",
        "                  n_jobs = -1) # Ejecución en paralelo\n",
        "# Se ajusta el modelo con los datos de entrenamiento:\n",
        "cv.fit(X_train, y_train)"
      ]
    },
    {
      "cell_type": "code",
      "execution_count": 418,
      "metadata": {
        "colab": {
          "base_uri": "https://localhost:8080/",
          "height": 0
        },
        "id": "g4mjoSPS_Ld6",
        "outputId": "03ff7797-0575-4b23-9a80-422ef9cc3323"
      },
      "outputs": [
        {
          "output_type": "execute_result",
          "data": {
            "text/plain": [
              "DecisionTreeClassifier(max_depth=2, min_samples_leaf=0.12, random_state=10)"
            ]
          },
          "metadata": {},
          "execution_count": 418
        }
      ],
      "source": [
        "# Se establece el mejor modelo:\n",
        "best_model = cv.best_estimator_\n",
        "best_model"
      ]
    },
    {
      "cell_type": "code",
      "execution_count": 419,
      "metadata": {
        "colab": {
          "base_uri": "https://localhost:8080/",
          "height": 0
        },
        "id": "nZRrCOCH_Ld7",
        "outputId": "26f9ae6c-f625-4326-c6c0-4c9ca6a60256"
      },
      "outputs": [
        {
          "output_type": "execute_result",
          "data": {
            "text/plain": [
              "0.7835616438356164"
            ]
          },
          "metadata": {},
          "execution_count": 419
        }
      ],
      "source": [
        "# Se evalúa la exactitud (accuracy) en el set de testeo:\n",
        "test_acc = best_model.score(X_test, y_test)\n",
        "test_acc"
      ]
    },
    {
      "cell_type": "code",
      "execution_count": 420,
      "metadata": {
        "id": "-nq-6uhqK5PS"
      },
      "outputs": [],
      "source": [
        "# Se utiliza el método predict para realizar una predicción con los datos de testeo, con el mejor modelo\n",
        "# y_pred = cv.predict(X_test_scaled)\n",
        "y_pred = cv.best_estimator_.predict(X_test)"
      ]
    },
    {
      "cell_type": "code",
      "execution_count": 421,
      "metadata": {
        "colab": {
          "base_uri": "https://localhost:8080/",
          "height": 0
        },
        "id": "febdWj7OK5PU",
        "outputId": "1a04eac0-880b-4233-edaa-14bf0f0b2085"
      },
      "outputs": [
        {
          "output_type": "execute_result",
          "data": {
            "text/plain": [
              "array([[261,  11,   0],\n",
              "       [ 52,  25,   0],\n",
              "       [  1,  15,   0]])"
            ]
          },
          "metadata": {},
          "execution_count": 421
        }
      ],
      "source": [
        "# Se calcula la Matriz de Confusión\n",
        "cm = confusion_matrix(y_test, y_pred) # y_test(etiquetas reales), y_pred(etiquetas predichas)\n",
        "cm"
      ]
    },
    {
      "cell_type": "markdown",
      "source": [
        "Con este algoritmo 261 clientes fueron clasificados correctamente en el grupo 0 (CLV bajo), 25 en el grupo 1 (CLV intermedio), y ninguno en el grupo 2 (CLV alto), es decir 286 clasificaciones correctas en total, lo que corrobora el 78% de exactitud."
      ],
      "metadata": {
        "id": "jNmLcv7MdfcG"
      }
    },
    {
      "cell_type": "code",
      "execution_count": 422,
      "metadata": {
        "colab": {
          "base_uri": "https://localhost:8080/",
          "height": 0
        },
        "id": "fSLebr7iK5PU",
        "outputId": "69eea7ae-160e-4ff0-f8d8-f96c4d74f0cd"
      },
      "outputs": [
        {
          "output_type": "stream",
          "name": "stdout",
          "text": [
            "              precision    recall  f1-score   support\n",
            "\n",
            "           0       0.83      0.96      0.89       272\n",
            "           1       0.49      0.32      0.39        77\n",
            "           2       0.00      0.00      0.00        16\n",
            "\n",
            "    accuracy                           0.78       365\n",
            "   macro avg       0.44      0.43      0.43       365\n",
            "weighted avg       0.72      0.78      0.75       365\n",
            "\n"
          ]
        }
      ],
      "source": [
        "# Se calculan las métricas de rendimiento del modelo:\n",
        "print(classification_report(y_test, y_pred))\n"
      ]
    },
    {
      "cell_type": "markdown",
      "metadata": {
        "id": "EGZuLHRgK5PV"
      },
      "source": [
        "La precisión y la sensibilidad (recall) son aceptables para la clase 0. La precisión establece que de 100 clientes clasificados en la clase 0, 83 fueron clasificados correctamente, es decir, 17 clientes fueron falsos positivos., y el modelo identifica con éxito al 96% de los clientes reales de la clase 0 (hay un 4% de falsos negativos, es decir, clientes que si pertenecian a la clase 0 pero fueron clasificados en otras clases). Se observa que es necesario mejorar el modelo para las otras clases, sobretodo la clase 2, ya que no detecta ninguno de los clientes reales de esta clase."
      ]
    },
    {
      "cell_type": "markdown",
      "source": [
        "Los métodos basados ​​en árboles, permiten calcular la importancia de las características, en base a puntuaciones que representan cuánto contribuye cada característica a la clasificación de clases. Esto permite saber que características son importantes para el modelo y cuales es conveniente eliminar. "
      ],
      "metadata": {
        "id": "Tf3rQ2U2jThY"
      }
    },
    {
      "cell_type": "code",
      "source": [
        "# Se evalúa la importancia de las características midiendo cuanto usan los nodos del árbol una variable en particular para reducir la \"impureza\"\n",
        "# La importancia de una variable se expresa como un porcentaje que indica el peso de la misma en el entrenamiento y en la predicción:\n",
        "# Se crea una serie con las características y su nivel de importancia:\n",
        "X_series = pd.DataFrame(X)\n",
        "importances = pd.Series(best_model.feature_importances_, index=X_series.columns)\n",
        "# Se ordena la serie:\n",
        "sorted_importances = importances.sort_values()\n",
        "# Se realiza un gráfico de barras horizontal:\n",
        "sorted_importances.plot(kind=\"barh\")\n",
        "plt.title(\"Importancia de las Variables Predictoras\")\n",
        "plt.show()"
      ],
      "metadata": {
        "colab": {
          "base_uri": "https://localhost:8080/",
          "height": 281
        },
        "id": "N1sBUhtTlLrD",
        "outputId": "726de422-802f-4a7a-cb22-356ea53fda65"
      },
      "execution_count": 464,
      "outputs": [
        {
          "output_type": "display_data",
          "data": {
            "text/plain": [
              "<Figure size 432x288 with 1 Axes>"
            ],
            "image/png": "[encoded data removed]"
          },
          "metadata": {
            "needs_background": "light"
          }
        }
      ]
    },
    {
      "cell_type": "markdown",
      "source": [
        "Se observa que las características mas importantes detectadas por el modelo son \"Ingreso\", \"Frecuencia\", \"ID_Cliente\" y \"Recencia\", lo cual será de utilidad en el proceso de mejora de los modelos del presente proyecto."
      ],
      "metadata": {
        "id": "l64p5V2pOvpt"
      }
    },
    {
      "cell_type": "markdown",
      "metadata": {
        "id": "y8XPMdii_e2U"
      },
      "source": [
        "**c) Modelo Naive Bayes**"
      ]
    },
    {
      "cell_type": "code",
      "execution_count": 424,
      "metadata": {
        "colab": {
          "base_uri": "https://localhost:8080/",
          "height": 0
        },
        "id": "88DqZVtR_irJ",
        "outputId": "9e4402d9-10a6-4059-9054-c03446cedc2b"
      },
      "outputs": [
        {
          "output_type": "stream",
          "name": "stdout",
          "text": [
            "Fitting 5 folds for each of 50 candidates, totalling 250 fits\n"
          ]
        },
        {
          "output_type": "execute_result",
          "data": {
            "text/plain": [
              "GridSearchCV(estimator=GaussianNB(), n_jobs=-1,\n",
              "             param_grid={'var_smoothing': array([1.00000000e+00, 6.55128557e-01, 4.29193426e-01, 2.81176870e-01,\n",
              "       1.84206997e-01, 1.20679264e-01, 7.90604321e-02, 5.17947468e-02,\n",
              "       3.39322177e-02, 2.22299648e-02, 1.45634848e-02, 9.54095476e-03,\n",
              "       6.25055193e-03, 4.09491506e-03, 2.68269580e-03, 1.75751062e-03,\n",
              "       1.15139540e-03, 7.54312006e-04...\n",
              "       7.19685673e-06, 4.71486636e-06, 3.08884360e-06, 2.02358965e-06,\n",
              "       1.32571137e-06, 8.68511374e-07, 5.68986603e-07, 3.72759372e-07,\n",
              "       2.44205309e-07, 1.59985872e-07, 1.04811313e-07, 6.86648845e-08,\n",
              "       4.49843267e-08, 2.94705170e-08, 1.93069773e-08, 1.26485522e-08,\n",
              "       8.28642773e-09, 5.42867544e-09, 3.55648031e-09, 2.32995181e-09,\n",
              "       1.52641797e-09, 1.00000000e-09])},\n",
              "             scoring='accuracy', verbose=1)"
            ]
          },
          "metadata": {},
          "execution_count": 424
        }
      ],
      "source": [
        "# Se lleva a cabo un modelo de Naive Bayes con ajuste de hiperparámetros a través de la validación cruzada Grid Search:\n",
        "# Se instancia el modelo:\n",
        "naive_bayes = GaussianNB()  \n",
        "# Se crea un diccionario con alternativas para el hiperparámetro var_smoothing:\n",
        "parameters = {\"var_smoothing\": np.logspace(0,-9, num=50)}\n",
        "# Se crea una instancia de validación cruzada Grid Search para diferentes valores del hiperparámetro: \n",
        "cv = GridSearchCV(estimator=naive_bayes, \n",
        "                  param_grid=parameters, \n",
        "                  scoring=\"accuracy\",  \n",
        "                  verbose = 1, # Muestra el resultado en pantalla\n",
        "                  n_jobs = -1) # Ejecución en paralelo\n",
        "# Se ajusta el modelo con los datos de entrenamiento:\n",
        "cv.fit(X_train, y_train)"
      ]
    },
    {
      "cell_type": "code",
      "execution_count": 425,
      "metadata": {
        "colab": {
          "base_uri": "https://localhost:8080/",
          "height": 0
        },
        "id": "OrXO25PT_qeV",
        "outputId": "2f4325a8-6b63-4ac0-9252-b129cb13ba0e"
      },
      "outputs": [
        {
          "output_type": "execute_result",
          "data": {
            "text/plain": [
              "GaussianNB(var_smoothing=1.0)"
            ]
          },
          "metadata": {},
          "execution_count": 425
        }
      ],
      "source": [
        "# Se establece el mejor modelo:\n",
        "best_model = cv.best_estimator_\n",
        "best_model"
      ]
    },
    {
      "cell_type": "code",
      "execution_count": 426,
      "metadata": {
        "colab": {
          "base_uri": "https://localhost:8080/",
          "height": 0
        },
        "id": "85M7ZRuE_qeW",
        "outputId": "66a709e6-7947-4bc7-8663-438ef84062cc"
      },
      "outputs": [
        {
          "output_type": "execute_result",
          "data": {
            "text/plain": [
              "0.7945205479452054"
            ]
          },
          "metadata": {},
          "execution_count": 426
        }
      ],
      "source": [
        "# Se evalúa la exactitud (accuracy) en el set de testeo:\n",
        "test_acc = best_model.score(X_test, y_test)\n",
        "test_acc"
      ]
    },
    {
      "cell_type": "code",
      "execution_count": 427,
      "metadata": {
        "id": "FjXdfJ-QLFRC"
      },
      "outputs": [],
      "source": [
        "# Se utiliza el método predict para realizar una predicción con los datos de testeo, con el mejor modelo\n",
        "# y_pred = cv.predict(X_test_scaled)\n",
        "y_pred = cv.best_estimator_.predict(X_test)"
      ]
    },
    {
      "cell_type": "code",
      "execution_count": 428,
      "metadata": {
        "colab": {
          "base_uri": "https://localhost:8080/",
          "height": 0
        },
        "id": "3NEtOlukLFRD",
        "outputId": "3adc5f34-f50c-4847-fcc9-5aa39652d6c3"
      },
      "outputs": [
        {
          "output_type": "execute_result",
          "data": {
            "text/plain": [
              "array([[263,   8,   1],\n",
              "       [ 57,  15,   5],\n",
              "       [  4,   0,  12]])"
            ]
          },
          "metadata": {},
          "execution_count": 428
        }
      ],
      "source": [
        "# Se calcula la Matriz de Confusión:\n",
        "cm = confusion_matrix(y_test, y_pred) # y_test(etiquetas reales), y_pred(etiquetas predichas)\n",
        "cm"
      ]
    },
    {
      "cell_type": "markdown",
      "source": [
        "Con este algoritmo 263 clientes fueron clasificados correctamente en el grupo 0 (CLV bajo), 15 en el grupo 1 (CLV intermedio), y 12 en el grupo 2 (CLV alto), es decir 290 clasificaciones correctas en total, lo que corrobora el 79% de exactitud."
      ],
      "metadata": {
        "id": "ZnrUHNlodw9X"
      }
    },
    {
      "cell_type": "code",
      "execution_count": 429,
      "metadata": {
        "colab": {
          "base_uri": "https://localhost:8080/",
          "height": 0
        },
        "id": "lwtxFBFALFRD",
        "outputId": "853c9dbc-eeb9-4245-d07c-5d430621ed42"
      },
      "outputs": [
        {
          "output_type": "stream",
          "name": "stdout",
          "text": [
            "              precision    recall  f1-score   support\n",
            "\n",
            "           0       0.81      0.97      0.88       272\n",
            "           1       0.65      0.19      0.30        77\n",
            "           2       0.67      0.75      0.71        16\n",
            "\n",
            "    accuracy                           0.79       365\n",
            "   macro avg       0.71      0.64      0.63       365\n",
            "weighted avg       0.77      0.79      0.75       365\n",
            "\n"
          ]
        }
      ],
      "source": [
        "# Se calculan las métricas de rendimiento del modelo:\n",
        "print(classification_report(y_test, y_pred))\n"
      ]
    },
    {
      "cell_type": "markdown",
      "metadata": {
        "id": "GNL4wyvqLFRE"
      },
      "source": [
        "La precisión y la sensibilidad (recall) son aceptables para la clase 0. La precisión establece que de 100 clientes clasificados en la clase 0, 81 fueron clasificados correctamente, es decir, 19 clientes fueron falsos positivos., y el modelo identifica con éxito al 97% de los clientes reales de la clase 0 (hay un 3% de falsos negativos, es decir, clientes que si pertenecian a la clase 0 pero fueron clasificados en otras clases). Se observa que es necesario mejorar el modelo para las otras clases, especialmente para la clase 1., por ejemplo el modelo solo detecta el 19% de los clientes reales de la clase 1 (CLV medio)."
      ]
    },
    {
      "cell_type": "markdown",
      "metadata": {
        "id": "8vqF_soh_2Cc"
      },
      "source": [
        "**d) Modelo K Vecinos más cercanos**"
      ]
    },
    {
      "cell_type": "code",
      "execution_count": 430,
      "metadata": {
        "colab": {
          "base_uri": "https://localhost:8080/",
          "height": 0
        },
        "id": "Yk6l1kNm_6X_",
        "outputId": "a9523f1a-3037-4855-d8a8-026ba280343a"
      },
      "outputs": [
        {
          "output_type": "stream",
          "name": "stdout",
          "text": [
            "Fitting 5 folds for each of 9 candidates, totalling 45 fits\n"
          ]
        },
        {
          "output_type": "execute_result",
          "data": {
            "text/plain": [
              "GridSearchCV(estimator=KNeighborsClassifier(), n_jobs=-1,\n",
              "             param_grid={'n_neighbors': [1, 2, 3, 4, 5, 6, 7, 8, 9]},\n",
              "             scoring='accuracy', verbose=1)"
            ]
          },
          "metadata": {},
          "execution_count": 430
        }
      ],
      "source": [
        "# Se lleva a cabo un modelo de K Vecinos más cercanos con ajuste de hiperparámetros a través de la validación cruzada Grid Search:\n",
        "# Se instancia el modelo:\n",
        "knn = KNeighborsClassifier()  \n",
        "# Se crea un diccionario con alternativas para el hiperparámetro n_neighbors:\n",
        "parameters = {\"n_neighbors\": list(range(1, 10))}\n",
        "# Se crea una instancia de validación cruzada Grid Search para diferentes valores del hiperparámetro:\n",
        "cv = GridSearchCV(estimator=knn, \n",
        "                  param_grid=parameters, \n",
        "                  scoring=\"accuracy\",  \n",
        "                  verbose = 1, # Muestra el resultado en pantalla\n",
        "                  n_jobs = -1) # Ejecución en paralelo\n",
        "# Se ajusta el modelo con los datos de entrenamiento:\n",
        "cv.fit(X_train, y_train)"
      ]
    },
    {
      "cell_type": "code",
      "execution_count": 431,
      "metadata": {
        "colab": {
          "base_uri": "https://localhost:8080/",
          "height": 0
        },
        "id": "z1M7p6Hg__PM",
        "outputId": "7caf318f-516b-4c0c-fbcc-fddb41786af1"
      },
      "outputs": [
        {
          "output_type": "execute_result",
          "data": {
            "text/plain": [
              "KNeighborsClassifier(n_neighbors=8)"
            ]
          },
          "metadata": {},
          "execution_count": 431
        }
      ],
      "source": [
        "# Se establece el mejor modelo:\n",
        "best_model = cv.best_estimator_\n",
        "best_model"
      ]
    },
    {
      "cell_type": "code",
      "execution_count": 432,
      "metadata": {
        "colab": {
          "base_uri": "https://localhost:8080/",
          "height": 0
        },
        "id": "rxCRIIYD__PN",
        "outputId": "6a2f47b6-59ee-43fa-92ca-9e4633e00a66"
      },
      "outputs": [
        {
          "output_type": "execute_result",
          "data": {
            "text/plain": [
              "0.8"
            ]
          },
          "metadata": {},
          "execution_count": 432
        }
      ],
      "source": [
        "# Se evalúa la exactitud (accuracy) en el set de testeo:\n",
        "test_acc = best_model.score(X_test, y_test)\n",
        "test_acc"
      ]
    },
    {
      "cell_type": "code",
      "execution_count": 433,
      "metadata": {
        "id": "sBbTChr6LISW"
      },
      "outputs": [],
      "source": [
        "# Se utiliza el método predict para realizar una predicción con los datos de testeo, con el mejor modelo:\n",
        "# y_pred = cv.predict(X_test_scaled)\n",
        "y_pred = cv.best_estimator_.predict(X_test)"
      ]
    },
    {
      "cell_type": "code",
      "execution_count": 434,
      "metadata": {
        "colab": {
          "base_uri": "https://localhost:8080/",
          "height": 0
        },
        "id": "cRdlqjFZLISW",
        "outputId": "2a61792b-ddf4-4f62-cd3a-55b24abdfb0f"
      },
      "outputs": [
        {
          "output_type": "execute_result",
          "data": {
            "text/plain": [
              "array([[263,   8,   1],\n",
              "       [ 56,  20,   1],\n",
              "       [  3,   4,   9]])"
            ]
          },
          "metadata": {},
          "execution_count": 434
        }
      ],
      "source": [
        "# Se crea la  Matriz de Confusión:\n",
        "cm = confusion_matrix(y_test, y_pred) # y_test(etiquetas reales), y_pred(etiquetas predichas)\n",
        "cm"
      ]
    },
    {
      "cell_type": "markdown",
      "source": [
        "Con este algoritmo 263 clientes fueron clasificados correctamente en el grupo 0 (CLV bajo), 20 en el grupo 1 (CLV intermedio), y 9 en el grupo 2 (CLV alto), es decir 292 clasificaciones correctas en total, lo que corrobora el 80% de exactitud."
      ],
      "metadata": {
        "id": "jUKsI1hTeG3s"
      }
    },
    {
      "cell_type": "code",
      "execution_count": 435,
      "metadata": {
        "colab": {
          "base_uri": "https://localhost:8080/",
          "height": 0
        },
        "id": "Il12BNGTLISX",
        "outputId": "10e62fdf-c853-45c8-f0ed-fa81e122241d"
      },
      "outputs": [
        {
          "output_type": "stream",
          "name": "stdout",
          "text": [
            "              precision    recall  f1-score   support\n",
            "\n",
            "           0       0.82      0.97      0.89       272\n",
            "           1       0.62      0.26      0.37        77\n",
            "           2       0.82      0.56      0.67        16\n",
            "\n",
            "    accuracy                           0.80       365\n",
            "   macro avg       0.75      0.60      0.64       365\n",
            "weighted avg       0.78      0.80      0.77       365\n",
            "\n"
          ]
        }
      ],
      "source": [
        "# Se calculan las métricas de rendimiento del modelo:\n",
        "print(classification_report(y_test, y_pred))\n"
      ]
    },
    {
      "cell_type": "markdown",
      "metadata": {
        "id": "UacLf6SRLISX"
      },
      "source": [
        "La precisión es aceptable para la clase 2. La precisión establece que de 100 clientes clasificados en la clase 2, 82 fueron clasificados correctamente, es decir, 18 clientes fueron falsos positivos., a su vez el modelo identifica con éxito al 56% de los clientes reales de la clase 2 (hay un 44% de falsos negativos, es decir, clientes que si pertenecian a la clase 0 pero fueron clasificados en otras clases), por lo que es necesario mejorar esta métrica."
      ]
    },
    {
      "cell_type": "markdown",
      "metadata": {
        "id": "701OW8cuAOr1"
      },
      "source": [
        "**e) Modelo Bosques Aleatorios Clasificación**"
      ]
    },
    {
      "cell_type": "code",
      "execution_count": 442,
      "metadata": {
        "colab": {
          "base_uri": "https://localhost:8080/",
          "height": 0
        },
        "id": "HZ5uDUSpAVBq",
        "outputId": "d4d85fd2-6bc5-464d-e364-8e9657c14a0b"
      },
      "outputs": [
        {
          "output_type": "stream",
          "name": "stdout",
          "text": [
            "Fitting 2 folds for each of 4 candidates, totalling 8 fits\n"
          ]
        },
        {
          "output_type": "execute_result",
          "data": {
            "text/plain": [
              "GridSearchCV(cv=2, estimator=RandomForestClassifier(random_state=13), n_jobs=-1,\n",
              "             param_grid={'max_features': ['log2', 'sqrt'],\n",
              "                         'n_estimators': [100, 300]},\n",
              "             scoring='accuracy', verbose=1)"
            ]
          },
          "metadata": {},
          "execution_count": 442
        }
      ],
      "source": [
        "# Se lleva a cabo un modelo de Bosques Aleatorios con ajuste de hiperparámetros a través de la validación cruzada Grid Search:\n",
        "# Se instancia el modelo Random Forest\n",
        "bosque_aleatorio = RandomForestClassifier(random_state=13) \n",
        "# Se crea un diccionario con alternativas para los hiperparámetros: \n",
        "parameters = {\n",
        "    'n_estimators' : [100, 300],\n",
        "    'max_features': [\"log2\",\"sqrt\"]}\n",
        "# Se realiza una validación cruzada Grid Search para diferentes valores de los hiperparámetros:\n",
        "cv = GridSearchCV(estimator = bosque_aleatorio,\n",
        "                  param_grid = parameters,\n",
        "                  scoring=\"accuracy\",\n",
        "                  cv = 2,  \n",
        "                  verbose = 1, #Muestra el resultado en pantalla\n",
        "                  n_jobs = -1) # Se ejecuta en paralelo\n",
        "# Se ajusta el modelo con los datos de entrenamiento:\n",
        "cv.fit(X_train, y_train)"
      ]
    },
    {
      "cell_type": "code",
      "execution_count": 443,
      "metadata": {
        "colab": {
          "base_uri": "https://localhost:8080/",
          "height": 0
        },
        "id": "5x03CgOLAaBL",
        "outputId": "8670bbcd-072d-40f1-f475-fbfec95c2d28"
      },
      "outputs": [
        {
          "output_type": "execute_result",
          "data": {
            "text/plain": [
              "RandomForestClassifier(max_features='log2', n_estimators=300, random_state=13)"
            ]
          },
          "metadata": {},
          "execution_count": 443
        }
      ],
      "source": [
        "# Se establece el mejor modelo:\n",
        "best_model = cv.best_estimator_\n",
        "best_model"
      ]
    },
    {
      "cell_type": "code",
      "execution_count": 444,
      "metadata": {
        "colab": {
          "base_uri": "https://localhost:8080/",
          "height": 0
        },
        "id": "BNPJAg_pAaBL",
        "outputId": "8e4e80c9-439e-416d-e3e5-6376a5c9e39a"
      },
      "outputs": [
        {
          "output_type": "execute_result",
          "data": {
            "text/plain": [
              "0.8027397260273973"
            ]
          },
          "metadata": {},
          "execution_count": 444
        }
      ],
      "source": [
        "# Se evalúa la exactitud (accuracy) en el set de testeo:\n",
        "test_acc = best_model.score(X_test, y_test)\n",
        "test_acc"
      ]
    },
    {
      "cell_type": "code",
      "execution_count": 445,
      "metadata": {
        "id": "CwAPg0kbLPCy"
      },
      "outputs": [],
      "source": [
        "# Se utiliza el método predict para realizar una predicción con los datos de testeo, con el mejor modelo\n",
        "# y_pred = cv.predict(X_test_scaled)\n",
        "y_pred = cv.best_estimator_.predict(X_test)"
      ]
    },
    {
      "cell_type": "code",
      "execution_count": 446,
      "metadata": {
        "colab": {
          "base_uri": "https://localhost:8080/",
          "height": 0
        },
        "id": "_jcQH5zlLPCy",
        "outputId": "8f1d1c51-04af-4197-9017-4ebcba468b9b"
      },
      "outputs": [
        {
          "output_type": "execute_result",
          "data": {
            "text/plain": [
              "array([[259,  12,   1],\n",
              "       [ 49,  26,   2],\n",
              "       [  1,   7,   8]])"
            ]
          },
          "metadata": {},
          "execution_count": 446
        }
      ],
      "source": [
        "# Se crea la Matriz de Confusión:\n",
        "cm = confusion_matrix(y_test, y_pred) # y_test(etiquetas reales), y_pred(etiquetas predichas)\n",
        "cm"
      ]
    },
    {
      "cell_type": "markdown",
      "source": [
        "Con este algoritmo 259 clientes fueron clasificados correctamente en el grupo 0 (CLV bajo), 26 en el grupo 1 (CLV intermedio), y 8 en el grupo 2 (CLV alto), es decir 293 clasificaciones correctas en total, lo que corrobora el 80% de exactitud."
      ],
      "metadata": {
        "id": "8bnU4-u-eiAG"
      }
    },
    {
      "cell_type": "code",
      "execution_count": 447,
      "metadata": {
        "colab": {
          "base_uri": "https://localhost:8080/",
          "height": 0
        },
        "id": "s0duF78LEri9",
        "outputId": "ae58402d-6e10-4e88-88c0-8420a667f7fe"
      },
      "outputs": [
        {
          "output_type": "stream",
          "name": "stdout",
          "text": [
            "              precision    recall  f1-score   support\n",
            "\n",
            "           0       0.84      0.95      0.89       272\n",
            "           1       0.58      0.34      0.43        77\n",
            "           2       0.73      0.50      0.59        16\n",
            "\n",
            "    accuracy                           0.80       365\n",
            "   macro avg       0.71      0.60      0.64       365\n",
            "weighted avg       0.78      0.80      0.78       365\n",
            "\n"
          ]
        }
      ],
      "source": [
        "# Se calculan las métricas de rendimiento del modelo:\n",
        "print(classification_report(y_test, y_pred))"
      ]
    },
    {
      "cell_type": "markdown",
      "metadata": {
        "id": "CVHzRqcnLPCz"
      },
      "source": [
        "La precisión y la sensibilidad (recall) son bajas para la clase 1. La precisión establece que de 100 clientes clasificados en la clase 1, solo 58 fueron clasificados correctamente, es decir, 42 clientes fueron falsos positivos., y el modelo solo identifica con éxito al 34% de los clientes reales de la clase 1."
      ]
    },
    {
      "cell_type": "markdown",
      "metadata": {
        "id": "3BoOk_IgAmLR"
      },
      "source": [
        "**f) Modelo de Ensamble Voting Clasiffier**"
      ]
    },
    {
      "cell_type": "code",
      "execution_count": 448,
      "metadata": {
        "id": "Gop8-Bf3Ar-3"
      },
      "outputs": [],
      "source": [
        "# Método de ensamble Voting Clasiffier:\n",
        "# Se crean las instancias de cada clasificador:\n",
        "Seed=1 # se coloca una semilla igual para algoritmo\n",
        "# Se instancia el Modelo de Regresión Logística:\n",
        "regresion_logistica = LogisticRegression(random_state = Seed)\n",
        "# Se instancia el Modelo de XGboost:\n",
        "xg_b = xgb.XGBClassifier(max_depth=2, learning_rate=0.1, objective= \"multi:softprob\", n_jobs=-1, random_state = Seed)\n",
        "# Se instancia el Modelo de Naive Bayes:\n",
        "naive_bayes = GaussianNB(var_smoothing=1.0)  \n",
        "# Se instancia el Modelo de Árboles de Decisión:\n",
        "arbol_de_decision = DecisionTreeClassifier(max_depth=2, min_samples_leaf=0.12, random_state = Seed) \n",
        "# Se instancia el Modelo de Máquinas de Vectores de Soporte:\n",
        "svc = SVC(C=1, gamma=0.5)\n",
        "# Se instancia el Modelo de Bosques Aleatorios: \n",
        "bosque_aleatorio = RandomForestClassifier(random_state = Seed) \n",
        "# Se instancia el Modelo de K-Vecinos mas Cercanos:\n",
        "knn = KNeighborsClassifier(n_neighbors=4) \n",
        "# Se define una lista con los clasificadores:\n",
        "classifiers = [(\"Regresión Logística\", regresion_logistica ), (\"Naive Bayes\", naive_bayes),\n",
        "               (\"Árbol de Decisión\", arbol_de_decision),(\"Bosque Aleatorio\", bosque_aleatorio),\n",
        "               (\"K Vecinos mas Cercanos\", knn)]"
      ]
    },
    {
      "cell_type": "code",
      "execution_count": 449,
      "metadata": {
        "colab": {
          "base_uri": "https://localhost:8080/",
          "height": 0
        },
        "id": "VQeOAM9wAzpt",
        "outputId": "a0bcf07a-0b6a-4743-a094-bdb28c352645"
      },
      "outputs": [
        {
          "output_type": "stream",
          "name": "stdout",
          "text": [
            "Regresión Logística : 0.816\n",
            "XGboost : 0.797\n",
            "Naive Bayes : 0.795\n",
            "Árbol de Decisión : 0.784\n",
            "Máquinas de Vectores : 0.795\n",
            "Bosque Aleatorio : 0.800\n",
            "K Vecinos mas Cercanos : 0.789\n"
          ]
        }
      ],
      "source": [
        "# Se evalúa el rendimiento de los modelos de clasificación:\n",
        "# Se hace una iteración sobre la lista de clasificadores:\n",
        "for clf_name, clf in classifiers:    \n",
        "  # Se ajusta clf a los datos de entrenamiento\n",
        "  clf.fit(X_train, y_train)    \n",
        "  # Se predice sobre los datos de testeo\n",
        "  y_pred_test = clf.predict(X_test)\n",
        "  # Se calcula el accuracy\n",
        "  accuracy = accuracy_score(y_test, y_pred_test)\n",
        "  # Se evalúa la precisión de clf en el conjunto de testeo\n",
        "  print('{:s} : {:.3f}'.format(clf_name, accuracy))"
      ]
    },
    {
      "cell_type": "code",
      "execution_count": 450,
      "metadata": {
        "colab": {
          "base_uri": "https://localhost:8080/",
          "height": 0
        },
        "id": "2xzfytiCBDdY",
        "outputId": "a1c3d788-3c92-4dfd-d453-1ce968ef8b5d"
      },
      "outputs": [
        {
          "output_type": "stream",
          "name": "stdout",
          "text": [
            "Voting Classifier: 0.803\n"
          ]
        }
      ],
      "source": [
        "# Por último se crea una instancia del clasificador de votación configurando el parámetro estimators=classifiers\n",
        "# Se evalua el rendimiento de un clasificador de votación que toma los resultados de los modelos definidos en los clasificadores de lista y asigna etiquetas por votación mayoritaria\n",
        "# Se crea una instancia de VotingClassifier:  \n",
        "vc = VotingClassifier(estimators=classifiers)     \n",
        "# Se entrena vc con los datos de entrenamiento:\n",
        "vc.fit(X_train, y_train)   \n",
        "# Se predice sobre los datos de testeo:\n",
        "y_pred_test = vc.predict(X_test)\n",
        "# Se calcula la precisión del modelo:\n",
        "accuracy = accuracy_score(y_test, y_pred_test)\n",
        "print('Voting Classifier: {:.3f}'.format(accuracy))"
      ]
    },
    {
      "cell_type": "markdown",
      "source": [
        "La exactitud del modelo Ensamble Voting Clasiffier es del 80%."
      ],
      "metadata": {
        "id": "dYTXj9X6WgkC"
      }
    },
    {
      "cell_type": "code",
      "execution_count": 451,
      "metadata": {
        "colab": {
          "base_uri": "https://localhost:8080/",
          "height": 0
        },
        "id": "vO6CN4qDUiJ7",
        "outputId": "893ca636-913c-4d1a-b385-22e5de10b74c"
      },
      "outputs": [
        {
          "output_type": "execute_result",
          "data": {
            "text/plain": [
              "array([[262,   9,   1],\n",
              "       [ 51,  25,   1],\n",
              "       [  3,   7,   6]])"
            ]
          },
          "metadata": {},
          "execution_count": 451
        }
      ],
      "source": [
        "# Se calcula la Matriz de Confusión:\n",
        "cm = confusion_matrix(y_test, y_pred_test) # y_test(etiquetas reales), y_pred_test(etiquetas predichas)\n",
        "cm"
      ]
    },
    {
      "cell_type": "markdown",
      "metadata": {
        "id": "fFSQlKTzUiJ9"
      },
      "source": [
        "Con este método de ensamble 262 clientes fueron clasificados correctamente en el grupo 0 (CLV bajo), 25 en el grupo 1 (CLV intermedio), y 6 en el grupo 2 (CLV alto), es decir 290 clasificaciones correctas en total, lo que corrobora el 80% de exactitud."
      ]
    },
    {
      "cell_type": "code",
      "execution_count": 452,
      "metadata": {
        "colab": {
          "base_uri": "https://localhost:8080/",
          "height": 0
        },
        "id": "CYrAeX0GUiJ-",
        "outputId": "d6ddf81b-0fca-48d1-fa5f-bb0a99bd7e3d"
      },
      "outputs": [
        {
          "output_type": "stream",
          "name": "stdout",
          "text": [
            "              precision    recall  f1-score   support\n",
            "\n",
            "           0       0.83      0.96      0.89       272\n",
            "           1       0.61      0.32      0.42        77\n",
            "           2       0.75      0.38      0.50        16\n",
            "\n",
            "    accuracy                           0.80       365\n",
            "   macro avg       0.73      0.55      0.60       365\n",
            "weighted avg       0.78      0.80      0.78       365\n",
            "\n"
          ]
        }
      ],
      "source": [
        "# Se calculan las métricas de rendimiento del modelo:\n",
        "print(classification_report(y_test, y_pred_test))\n"
      ]
    },
    {
      "cell_type": "markdown",
      "metadata": {
        "id": "Cu_OnMaMU5Y7"
      },
      "source": [
        "La precisión y la sensibilidad (recall) son aceptables para la clase 0. La precisión establece que de 100 clientes clasificados en la clase 0, 83 fueron clasificados correctamente, es decir, 17 clientes fueron falsos positivos., y el modelo identifica con éxito al 96% de los clientes reales de la clase 0 (hay un 4% de falsos negativos, es decir, clientes que si pertenecian a la clase 0 pero fueron clasificados en otras clases). Se observa que es necesario mejorar el modelo para las otras clases."
      ]
    },
    {
      "cell_type": "markdown",
      "metadata": {
        "id": "UdmDwMlVBQU0"
      },
      "source": [
        "**g) Modelo de Ensamble Bagging**"
      ]
    },
    {
      "cell_type": "code",
      "execution_count": 468,
      "metadata": {
        "colab": {
          "base_uri": "https://localhost:8080/",
          "height": 0
        },
        "id": "aH7rND1uBVEf",
        "outputId": "28cfb8ef-b759-450d-971e-87241aaecb35"
      },
      "outputs": [
        {
          "output_type": "stream",
          "name": "stdout",
          "text": [
            "Exactitud de bc en el conjunto de testeo: 0.81\n",
            "Exactitud OOB de bc: 0.79\n"
          ]
        }
      ],
      "source": [
        "# Método de ensamble Bagging (también llamado Agregation Boostrap) utilizando un algoritmo de Arbol de Decisión:\n",
        "Seed = 1\n",
        "# Se instancia el modelo \n",
        "arbol_de_decision = DecisionTreeClassifier(max_depth=2, min_samples_leaf= 0.12, random_state = Seed) \n",
        "# Se instancia el clasificador Bagging. Se coloca el parámetro oob_score=True para evaluar la precisión de OOB de bc después del entrenamiento:\n",
        "bc = BaggingClassifier(base_estimator=arbol_de_decision, n_estimators=100, oob_score=True, n_jobs=-1, random_state=Seed) # Se toman 100 árboles\n",
        "# Se entrena bc con los datos de entrenamiento:\n",
        "bc.fit(X_train, y_train)\n",
        "# Se predice con los datos de testeo:\n",
        "y_pred_test = bc.predict(X_test)\n",
        "# Se evalúa el rendimiento en los datos de testeo:\n",
        "acc_test = accuracy_score(y_test, y_pred_test)\n",
        "print(\"Exactitud de bc en el conjunto de testeo: {:.2f}\".format(acc_test))\n",
        "# Se extrae el 0BB accuracy de bc:\n",
        "oob_accuracy = bc.oob_score_\n",
        "print(\"Exactitud OOB de bc: {:.2f}\".format(oob_accuracy))"
      ]
    },
    {
      "cell_type": "markdown",
      "source": [
        "La exactitud del modelo de ensamble Bagging en el conjunto de testeo es del 81%, y en las instancias que quedaron fuera del Bagginf es de 79%."
      ],
      "metadata": {
        "id": "CiBM3L0qW2as"
      }
    },
    {
      "cell_type": "code",
      "execution_count": 454,
      "metadata": {
        "colab": {
          "base_uri": "https://localhost:8080/",
          "height": 0
        },
        "id": "w9fSbZFSVCkn",
        "outputId": "aaf3746e-7547-453e-9984-f238ae85d67d"
      },
      "outputs": [
        {
          "output_type": "execute_result",
          "data": {
            "text/plain": [
              "array([[250,  22,   0],\n",
              "       [ 32,  45,   0],\n",
              "       [  1,  15,   0]])"
            ]
          },
          "metadata": {},
          "execution_count": 454
        }
      ],
      "source": [
        "# Se calcula la Matriz de Confusión:\n",
        "cm = confusion_matrix(y_test, y_pred_test) # y_test(etiquetas reales), y_pred_test(etiquetas predichas)\n",
        "cm"
      ]
    },
    {
      "cell_type": "markdown",
      "metadata": {
        "id": "KF5bm6NbVCko"
      },
      "source": [
        "Con este método de ensamble 250 clientes fueron clasificados correctamente en el grupo 0 (CLV bajo), 45 en el grupo 1 (CLV intermedio), y ninguno en el grupo 2 (CLV alto), es decir 295 clasificaciones correctas en total, lo que corrobora el 81% de exactitud."
      ]
    },
    {
      "cell_type": "code",
      "execution_count": 455,
      "metadata": {
        "colab": {
          "base_uri": "https://localhost:8080/",
          "height": 0
        },
        "id": "ykwSCrkwVCkp",
        "outputId": "5f4c9ded-1b2f-4610-dcc1-7784f08d497a"
      },
      "outputs": [
        {
          "output_type": "stream",
          "name": "stdout",
          "text": [
            "              precision    recall  f1-score   support\n",
            "\n",
            "           0       0.88      0.92      0.90       272\n",
            "           1       0.55      0.58      0.57        77\n",
            "           2       0.00      0.00      0.00        16\n",
            "\n",
            "    accuracy                           0.81       365\n",
            "   macro avg       0.48      0.50      0.49       365\n",
            "weighted avg       0.77      0.81      0.79       365\n",
            "\n"
          ]
        }
      ],
      "source": [
        "# Se calculan las métricas de rendimiento del modelo:\n",
        "print(classification_report(y_test, y_pred_test))\n"
      ]
    },
    {
      "cell_type": "markdown",
      "metadata": {
        "id": "IbWI4zxYVCkp"
      },
      "source": [
        "Par este modelo a precisión y la sensibilidad (recall) son nulas para la clase 2. "
      ]
    },
    {
      "cell_type": "markdown",
      "metadata": {
        "id": "xfun_LcVBfkV"
      },
      "source": [
        "**h) Modelo de Ensamble AdaBoost**"
      ]
    },
    {
      "cell_type": "code",
      "execution_count": 456,
      "metadata": {
        "colab": {
          "base_uri": "https://localhost:8080/",
          "height": 0
        },
        "id": "I8PINmOVBkFj",
        "outputId": "3fe1d96b-9dcf-4468-c18f-ab09764414e3"
      },
      "outputs": [
        {
          "output_type": "stream",
          "name": "stdout",
          "text": [
            "Exactitud de ada en el conjunto de testeo: 0.72\n"
          ]
        }
      ],
      "source": [
        "# Boosting 1 \n",
        "# Se lleva a cabo un Clasificador AdaBoost con el algoritmo de Arbol de Decisión:\n",
        "Seed = 12\n",
        "# Se instancia el algoritmo de Arbol de Decisión:\n",
        "dt = DecisionTreeClassifier()\n",
        "# Se instancia el Clasificador AdaBoost:\n",
        "ada = AdaBoostClassifier(base_estimator=dt, n_estimators=180, random_state=Seed)\n",
        "# Se ajuste ada a los datos de entrenamiento:\n",
        "ada.fit(X_train, y_train)\n",
        "# Se predice con los datos de testeo:\n",
        "y_pred_test = ada.predict(X_test)\n",
        "# Se evalúa el rendimiento en los datos de testeo:\n",
        "acc_test = accuracy_score(y_test, y_pred_test)\n",
        "print(\"Exactitud de ada en el conjunto de testeo: {:.2f}\".format(acc_test))"
      ]
    },
    {
      "cell_type": "code",
      "execution_count": 457,
      "metadata": {
        "colab": {
          "base_uri": "https://localhost:8080/",
          "height": 0
        },
        "id": "yM2XhhIIVVwN",
        "outputId": "cc59f8ab-b98d-4986-9259-cb57c7005862"
      },
      "outputs": [
        {
          "output_type": "execute_result",
          "data": {
            "text/plain": [
              "array([[222,  49,   1],\n",
              "       [ 39,  35,   3],\n",
              "       [  2,   8,   6]])"
            ]
          },
          "metadata": {},
          "execution_count": 457
        }
      ],
      "source": [
        "# Se calcula la Matriz de Confusión:\n",
        "cm = confusion_matrix(y_test, y_pred_test) # y_test(etiquetas reales), y_pred_test(etiquetas predichas)\n",
        "cm"
      ]
    },
    {
      "cell_type": "markdown",
      "metadata": {
        "id": "WZ0F-696VVwO"
      },
      "source": [
        "Con este método de ensamble 222 clientes fueron clasificados correctamente en el grupo 0 (CLV bajo), 35 en el grupo 1 (CLV intermedio), y 6 en el grupo 2 (CLV alto), es decir 263 clasificaciones correctas en total, lo que corrobora el 72% de exactitud."
      ]
    },
    {
      "cell_type": "code",
      "execution_count": 458,
      "metadata": {
        "colab": {
          "base_uri": "https://localhost:8080/",
          "height": 0
        },
        "id": "Rvmg5DmPVVwP",
        "outputId": "90bb74e2-2c6b-4366-ec89-8156dff46a76"
      },
      "outputs": [
        {
          "output_type": "stream",
          "name": "stdout",
          "text": [
            "              precision    recall  f1-score   support\n",
            "\n",
            "           0       0.84      0.82      0.83       272\n",
            "           1       0.38      0.45      0.41        77\n",
            "           2       0.60      0.38      0.46        16\n",
            "\n",
            "    accuracy                           0.72       365\n",
            "   macro avg       0.61      0.55      0.57       365\n",
            "weighted avg       0.74      0.72      0.73       365\n",
            "\n"
          ]
        }
      ],
      "source": [
        "# Se calculan las métricas de rendimiento del modelo:\n",
        "print(classification_report(y_test, y_pred_test))\n"
      ]
    },
    {
      "cell_type": "markdown",
      "metadata": {
        "id": "PNgsY4hNVVwP"
      },
      "source": [
        "La precisión es aceptable para la clase 0. La precisión establece que de 100 clientes clasificados en la clase 0, 84 fueron clasificados correctamente, es decir, 16 clientes fueron falsos positivos. Se observa que es necesario mejorar el modelo para las otras clases."
      ]
    },
    {
      "cell_type": "markdown",
      "metadata": {
        "id": "Wg0vleWnM3PE"
      },
      "source": [
        "**i) Modelo de Ensamble Stochastic Gradient Boosting**"
      ]
    },
    {
      "cell_type": "code",
      "execution_count": 459,
      "metadata": {
        "colab": {
          "base_uri": "https://localhost:8080/",
          "height": 0
        },
        "id": "cf2FA7wfB1bd",
        "outputId": "cc43a35c-4a97-4fb4-cdce-14713664c553"
      },
      "outputs": [
        {
          "output_type": "stream",
          "name": "stdout",
          "text": [
            "Exactitud de sgbt en el conjunto de testeo: 0.79\n"
          ]
        }
      ],
      "source": [
        "# Boosting 2\n",
        "# Se lleva a cabo un Clasificador Stochastic Gradient Boosting:\n",
        "Seed=12\n",
        "# Se instancia el Clasificador Stochastic Gradient Boosting:\n",
        "sgbt = GradientBoostingClassifier(max_depth=2, \n",
        "                                 subsample=0.8, # la submuestra se estableció en 0.8 para que cada árbol muestree el 80% de los datos de entrnamiento\n",
        "                                 max_features=0.3, # este parámetro se establecio en 0.3 para que cada árbol utilice el 30% de las características disponibles para realizar la mejor divión \n",
        "                                 n_estimators=100,\n",
        "                                 random_state=Seed)\n",
        "# Se ajusta sgbr a los datos de entrenamiento:\n",
        "sgbt.fit(X_train, y_train)\n",
        "# Se predice con los datos de testeo:\n",
        "y_pred_test = sgbt.predict(X_test)\n",
        "# Se evalúa el rendimiento en los datos de testeo:\n",
        "acc_test = accuracy_score(y_test, y_pred_test)\n",
        "print(\"Exactitud de sgbt en el conjunto de testeo: {:.2f}\".format(acc_test))\n"
      ]
    },
    {
      "cell_type": "markdown",
      "source": [
        "La exactitud del modelo del modelo de Ensamble Stochastic Gradient Boosting es del 79%."
      ],
      "metadata": {
        "id": "e2tHJT1sXQ-O"
      }
    },
    {
      "cell_type": "code",
      "execution_count": 460,
      "metadata": {
        "colab": {
          "base_uri": "https://localhost:8080/",
          "height": 0
        },
        "id": "375szAZRVksZ",
        "outputId": "64941612-ed85-4933-b8db-0cf7007e11ab"
      },
      "outputs": [
        {
          "output_type": "execute_result",
          "data": {
            "text/plain": [
              "array([[258,  13,   1],\n",
              "       [ 52,  23,   2],\n",
              "       [  2,   7,   7]])"
            ]
          },
          "metadata": {},
          "execution_count": 460
        }
      ],
      "source": [
        "# Se calcula la Matriz de Confusión:\n",
        "cm = confusion_matrix(y_test, y_pred_test) # y_test(etiquetas reales), y_pred_test(etiquetas predichas)\n",
        "cm"
      ]
    },
    {
      "cell_type": "markdown",
      "metadata": {
        "id": "mEnsMAvcVksb"
      },
      "source": [
        "Con este método de ensamble 258 clientes fueron clasificados correctamente en el grupo 0 (CLV bajo), 23 en el grupo 1 (CLV intermedio), y 7 en el grupo 2 (CLV alto), es decir 288 clasificaciones correctas en total, lo que corrobora el 79% de exactitud."
      ]
    },
    {
      "cell_type": "code",
      "execution_count": 461,
      "metadata": {
        "colab": {
          "base_uri": "https://localhost:8080/",
          "height": 0
        },
        "id": "t1lYLieOVksc",
        "outputId": "29ada645-b675-4ee5-d63e-406dc8765bfc"
      },
      "outputs": [
        {
          "output_type": "stream",
          "name": "stdout",
          "text": [
            "              precision    recall  f1-score   support\n",
            "\n",
            "           0       0.83      0.95      0.88       272\n",
            "           1       0.53      0.30      0.38        77\n",
            "           2       0.70      0.44      0.54        16\n",
            "\n",
            "    accuracy                           0.79       365\n",
            "   macro avg       0.69      0.56      0.60       365\n",
            "weighted avg       0.76      0.79      0.76       365\n",
            "\n"
          ]
        }
      ],
      "source": [
        "# Se calculan las métricas de rendimiento del modelo:\n",
        "print(classification_report(y_test, y_pred_test))\n"
      ]
    },
    {
      "cell_type": "markdown",
      "metadata": {
        "id": "HL9m1YNfVksd"
      },
      "source": [
        "La precisión y la sensibilidad (recall) son aceptables para la clase 0. La precisión establece que de 100 clientes clasificados en la clase 0, 83 fueron clasificados correctamente, es decir, 17 clientes fueron falsos positivos., y el modelo identifica con éxito al 95% de los clientes reales de la clase 0 (hay un 5% de falsos negativos, es decir, clientes que si pertenecian a la clase 0 pero fueron clasificados en otras clases). Se observa que es necesario mejorar el modelo para las otras clases, sobretodo la clase 1."
      ]
    },
    {
      "cell_type": "markdown",
      "source": [
        "**14) Conclusión**"
      ],
      "metadata": {
        "id": "sHnUzj8GfXAP"
      }
    },
    {
      "cell_type": "markdown",
      "metadata": {
        "id": "-IdrbE2o5mRF"
      },
      "source": [
        " Se han creado nueve modelos de clasificación para predecir los futuros segmentos de CLV de los clientes, en base a la recencia, frecuencia e ingresos generados calculados inicialmente. Si bien hay modelos con un buen porcentaje de exactitud, como la Regresión Lineal y el modelo de Ensamble Bagging, es necesario mejorar el rendimiento de la clasificación, sobretodo para la predicción de las clases 1 y 2 (CLV intermedio y alto).\n",
        "\n",
        "Algunas acciones posibles para mejorar el rendimiento de los modelos, son:\n",
        "\n",
        "- Utilizar técnicas de submuestro y sobremuestreo\n",
        "- Agregar más variables y mejorar la ingeniería de las mismas\n",
        "- Agregar más datos al modelo\n",
        "- Aplicar otras técnicas de selección de características\n",
        "- Hacer un re-ajuste de los hiperparámetros de los algoritmos\n",
        "- Analizar el rendimiento de otros modelos de clasificación\n"
      ]
    }
  ],
  "metadata": {
    "colab": {
      "provenance": []
    },
    "kernelspec": {
      "display_name": "Python 3",
      "name": "python3"
    },
    "language_info": {
      "name": "python"
    }
  },
  "nbformat": 4,
  "nbformat_minor": 0
}